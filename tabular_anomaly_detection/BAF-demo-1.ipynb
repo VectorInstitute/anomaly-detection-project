{
 "cells": [
  {
   "cell_type": "markdown",
   "id": "5744b134",
   "metadata": {},
   "source": [
    "<div align=\"center\">\n",
    "    <br><b><font size=\"6\">Unmasking Fraud in Bank Account Openings - Demo 1</font></b><br><br>\n",
    "</div>"
   ]
  },
  {
   "cell_type": "markdown",
   "id": "132aa7f5",
   "metadata": {},
   "source": [
    "Welcome to this notebook where we embark on a comprehensive analysis of the BAF dataset and explore fraud detection in online bank account openings. First, we will delve into a detailed description of the BAF dataset, which centers around detecting fraudulent applications in a large consumer bank. Next, we will dive into the key performance metrics used for evaluating the effectiveness of methods on this dataset. Moreover, we will emphasize the significance of fairness metrics to ensure unbiased decision-making in the high-stakes banking domain. Subsequently, we will introduce some **machine learning-based methods** employed to address fraud detection, taking into account both performance aspects and fairness considerations."
   ]
  },
  {
   "cell_type": "markdown",
   "id": "13667c93",
   "metadata": {},
   "source": [
    "# Outline:\n",
    "<br>\n",
    "<ul>\n",
    "    <li><b>Bank Account Fraud (BAF) Dataset</b></li><br>\n",
    "    <li><b>Dataset Preparation</b></li><br>\n",
    "    <li><b>Metrics</b></li><br>\n",
    "    <li><b>Methods</b></li>\n",
    "    <ul>\n",
    "        <li><b>Logistic Regression</b></li>\n",
    "        <li><b>Random Forest</b></li>\n",
    "        <li><b>XGBoost</b></li>\n",
    "        <li><b>CatBoost</b></li>\n",
    "        <li><b>Light GBM</b></li>\n",
    "        <li><b>Isolation Forest</b></li>\n",
    "    </ul>\n",
    "    <br>\n",
    "    <li><b>Results</b></li><br>\n",
    "    <li><b>Hyperparameter Tuning</b></li><br>\n",
    "    <li><b>Fraud Detection on Other Variants of BAF Dataset</b></li><br>\n",
    "</ul>"
   ]
  },
  {
   "cell_type": "markdown",
   "id": "9619c778",
   "metadata": {},
   "source": [
    "# Bank Account Fraud (BAF) Dataset"
   ]
  },
  {
   "cell_type": "markdown",
   "id": "def179e6",
   "metadata": {},
   "source": [
    "![BAF Description](figures/baf_description.png)"
   ]
  },
  {
   "cell_type": "markdown",
   "id": "5686307d",
   "metadata": {},
   "source": [
    "The **[BAF dataset](https://arxiv.org/pdf/2211.13358.pdf)** focuses on detecting **fraudulent online bank account opening applications** in a large consumer bank. The scenario involves fraudsters attempting to **impersonate someone or create fictional individuals** to gain access to banking services and carry out illicit activities. The costs incurred by the bank due to these fraudulent activities cannot be traced back to the true identity of the fraudsters. This dataset was accepted at **NeurIPS 2022**.\n",
    "\n",
    "\n",
    "The use case of **fraud detection in the banking domain** is considered **high-stakes**, as positive predictions (flagged as fraudulent) result in the **rejection of customer bank account applications**, while negative predictions grant access to new bank accounts and associated credit cards. As holding a bank account is a basic right in the European Union, fraud detection in this context is of great societal importance. Due to the risk of unfair decision-making using machine learning systems, banks and merchants are at the forefront of adopting fair machine learning methods.\n",
    "\n",
    "The dataset consists of **individual applications**, with each row representing an application made on an online platform. The label indicating fraud or legitimacy is stored in the \"**is_fraud**\" column, where a positive instance represents a fraudulent attempt and a negative instance represents a legitimate application. The dataset spans **eight months** from February to September, with varying **fraud prevalence figures** ranging from **0.85% to 1.5%** across different months. The distribution of applications also varies from month to month, ranging from **9.5% to 15%**.\n",
    "\n",
    "To produce the dataset, a **generative model** is trained with some of original features in the dataset. These features are the top thirty most important features selected from the top-performing LightGBM models, considering expressiveness, interpretability, and redundancy. **Differential privacy** is enforced by perturbing each column in the original dataset using a Laplacian noise mechanism. Additional obfuscation measures are applied to certain applicant data, such as age and income categorization, to enhance privacy.\n",
    "\n",
    "The **CTGAN models** are trained on the perturbed dataset with the selected features, and the dataset is augmented with a column representing the month of application to incorporate temporal information. A total of **70 trained CTGAN models** are created, and the generative models are evaluated based on **predictive performance metrics** and **statistical similarity** between the real and generated data. The goal is to ensure that models trained on the generated datasets are effective at the task and that the generated distribution remains realistic and faithful to the original data.\n",
    "\n",
    "The **performance metric** focuses on defining a relevant threshold and metric for fraud detection, specifically targeting a **5% false positive rate (FPR)** and measuring the **true positive rate (TPR)** at that point. This metric strikes a balance between detecting fraud and minimizing customer attrition. The **fairness metric** aims to ensure that the probability of a legitimate application being wrongly classified as fraudulent is independent of the sensitive attribute value. The **fairness ratio** is calculated by comparing the FPRs of different groups, emphasizing predictive equality."
   ]
  },
  {
   "cell_type": "markdown",
   "id": "ee18857c",
   "metadata": {},
   "source": [
    "![BAF Variants](figures/baf_variants.png)"
   ]
  },
  {
   "cell_type": "markdown",
   "id": "b94cbe29",
   "metadata": {},
   "source": [
    "The BAF dataset includes **six dataset variants**, each with pre-determined and controllable bias patterns. These variants introduce disparities in group sizes, prevalence, and separability to stress test predictive performance and fairness. The base dataset and its variants are derived from the same underlying distribution, with biases present in the base dataset also present in the variants. The goal is to provide a diverse set of algorithmic fairness challenges for evaluating and improving models' performance and fairness.\n",
    "\n",
    "Overall, the BAF dataset serves as a valuable resource for studying fraud detection in the banking domain, addressing privacy concerns, and exploring the challenges of fairness in machine learning applications."
   ]
  },
  {
   "cell_type": "markdown",
   "id": "82e919d4",
   "metadata": {},
   "source": [
    "If you want to know more about the dataset, you can read the data sheet available [here](https://github.com/feedzai/bank-account-fraud/blob/main/documents/datasheet.pdf)."
   ]
  },
  {
   "cell_type": "markdown",
   "id": "c4e040f2",
   "metadata": {},
   "source": [
    "# Dataset Preparation\n",
    "\n",
    "<p>Now, we want to introduce the <code>BAFDataset</code> class provides a convenient way to load, preprocess, and split the BAF dataset for use in machine learning experiments. The class contains three primary functions that work together to load the data, split it into train and test sets, and preprocess the categorical features via one-hot encoding.</p>\n",
    "\n",
    "<p>Here's a summary of each function within the BAFDataset class:</p>\n",
    "\n",
    "<ul>\n",
    "    <li><code>load_baf(file_path)</code>: This function loads the specified subset of the BAF dataset as a pandas DataFrame. The available subsets are 'Base', 'Variant I', 'Variant II', 'Variant III', 'Variant IV', and 'Variant V'. The function reads the data from a CSV file and drops the 'device_fraud_count' column as it is not needed for further processing.</li>\n",
    "    <li><code>train_test_split(df, month)</code>: This function splits the BAF dataset into train and test sets based on the specified month. The month-based split is inspired by the method proposed in the original paper. Months 0-5 are assigned to the train set, and months 6-7 are assigned to the test set. The function returns a tuple containing the train and test sets.</li>\n",
    "    <li><code>one_hot_encode_categorical(X_train, X_test)</code>: This function preprocesses the categorical features in the BAF dataset by one-hot encoding them. One-hot encoding is a technique that converts categorical features into binary columns for each category/label, making it easier for machine learning models to process the data. The function identifies the categorical features in the dataset, applies one-hot encoding separately for the train and test sets to avoid data leakage, and then combines the transformed data with the numerical features to form the final one-hot encoded train and test sets.</li>\n",
    "\n",
    "</ul>\n",
    "\n",
    "<p>The BAFDataset class streamlines the process of preparing the BAF dataset for machine learning experiments, handling loading, train-test splitting, and preprocessing tasks in a clear and organized manner.</p>\n"
   ]
  },
  {
   "cell_type": "code",
   "execution_count": 1,
   "id": "f44294a8",
   "metadata": {},
   "outputs": [
    {
     "name": "stdout",
     "output_type": "stream",
     "text": [
      "environ({'SLURM_MPI_TYPE': 'pmi2', 'CONDA_SHLVL': '0', 'LD_LIBRARY_PATH': '/scratch/ssd001/pkgs/cudnn-11.4-v8.2.4.15/lib64:/scratch/ssd001/pkgs/cuda-11.6/targets/x86_64-linux/lib', 'CONDA_EXE': '/h/vkhazaie/anaconda3/bin/conda', 'SRUN_DEBUG': '3', 'SLURM_STEP_ID': '0', 'SLURM_STEP_GPUS': '2', 'SLURM_NODEID': '0', 'SLURM_TASK_PID': '4505', 'SSH_CONNECTION': '97.108.101.79 51253 172.17.15.236 22', 'SLURM_PRIO_PROCESS': '0', 'LANG': 'en_US.UTF-8', 'SLURM_SUBMIT_DIR': '/fs01/home/vkhazaie', 'PMI_SIZE': '1', 'OLDPWD': '/h/vkhazaie', 'SLURM_STEPID': '0', 'SLURM_SRUN_COMM_HOST': '172.17.15.236', 'SLURM_DISTRIBUTION': 'cyclic,pack', 'ROCR_VISIBLE_DEVICES': '0', 'SLURM_PROCID': '0', 'SLURM_JOB_GID': '11114', 'SLURMD_NODENAME': 'gpu097', 'VIRTUAL_ENV': '/ssd003/projects/aieng/public/anomaly_detection_environment', 'SLURM_TASKS_PER_NODE': '1', 'S_COLORS': 'auto', '_CE_M': '', 'XDG_SESSION_ID': '45822', 'SLURM_NNODES': '1', 'USER': 'vkhazaie', 'SLURM_LAUNCH_NODE_IPADDR': '172.17.15.236', 'SLURM_STEP_TASKS_PER_NODE': '1', 'PWD': '/h/vkhazaie/anomaly-detection-project', 'SLURM_JOB_NODELIST': 'gpu097', 'HOME': '/h/vkhazaie', 'PMI_FD': '11', 'SLURM_CLUSTER_NAME': 'vaughan2', 'CONDA_PYTHON_EXE': '/h/vkhazaie/anaconda3/bin/python', 'SLURM_NODELIST': 'gpu097', 'SLURM_GPUS_ON_NODE': '1', 'SSH_CLIENT': '97.108.101.79 51253 22', 'LMOD_VERSION': '8.2.4', 'SLURM_NTASKS': '1', 'SLURM_UMASK': '0002', 'SLURM_JOB_CPUS_PER_NODE': '2', 'BASH_ENV': '/opt/lmod/lmod/init/bash', 'SLURM_TOPOLOGY_ADDR': 'gpu097', '_CE_CONDA': '', 'SLURM_WORKING_CLUSTER': 'vaughan2:vremote2:6817:9728:109', 'SLURM_STEP_NODELIST': 'gpu097', 'SLURM_JOB_NAME': 'bash', 'SLURM_SRUN_COMM_PORT': '36779', 'TMPDIR': '/tmp', 'LMOD_sys': 'Linux', 'SLURM_JOBID': '10715756', 'SLURM_CONF': '/opt/slurm-22.05.3/etc/slurm.conf', 'SLURM_JOB_QOS': 'high', 'LMOD_ROOT': '/opt/lmod', 'SLURM_TOPOLOGY_ADDR_PATTERN': 'node', 'SSH_TTY': '/dev/pts/316', 'MAIL': '/var/mail/vkhazaie', 'ZE_AFFINITY_MASK': '0', 'SLURM_CPUS_ON_NODE': '2', 'SLURM_JOB_NUM_NODES': '1', 'SHELL': '/bin/bash', 'TERM': 'xterm-color', 'SLURM_JOB_UID': '11070', 'SLURM_JOB_PARTITION': 't4v2', 'SLURM_SCRIPT_CONTEXT': 'prolog_task', 'SLURM_PTY_WIN_ROW': '54', 'SLURM_JOB_USER': 'vkhazaie', 'CUDA_VISIBLE_DEVICES': '0', 'SLURM_PTY_WIN_COL': '209', 'PMI_JOBID': '10715756.0', 'SLURM_NPROCS': '1', 'SHLVL': '2', 'SLURM_SUBMIT_HOST': 'v3', 'SLURM_JOB_ACCOUNT': 'affiliate', 'MANPATH': '/opt/lmod/lmod/share/man:', 'SLURM_STEP_LAUNCHER_PORT': '36779', 'MODULEPATH': '/opt/modulefiles:/pkgs/modulefiles:/pkgs/environment-modules', 'SLURM_PTY_PORT': '41001', 'SLURM_GTIDS': '0', 'LOGNAME': 'vkhazaie', 'DBUS_SESSION_BUS_ADDRESS': 'unix:path=/run/user/11070/bus', 'XDG_RUNTIME_DIR': '/run/user/11070', 'MODULEPATH_ROOT': '/opt/modulefiles', 'PATH': '/ssd003/projects/aieng/public/anomaly_detection_environment/bin:/ssd003/projects/aieng/public/anomaly_detection_environment/bin:/pkgs/cuda-11.6/bin:/h/vkhazaie/anaconda3/condabin:/opt/slurm/bin:/usr/local/sbin:/usr/local/bin:/usr/sbin:/usr/bin:/sbin:/bin:/usr/games:/usr/local/games:/snap/bin', 'SLURM_JOB_ID': '10715756', 'PS1': '(anomaly_detection_environment) ${debian_chroot:+($debian_chroot)}\\\\u@\\\\h:\\\\w\\\\$ ', 'SLURM_STEP_NUM_TASKS': '1', 'MODULESHOME': '/opt/lmod/lmod', 'LMOD_SETTARG_FULL_SUPPORT': 'no', 'LMOD_PKG': '/opt/lmod/lmod', 'SLURM_STEP_NUM_NODES': '1', 'PMI_RANK': '0', 'LMOD_CMD': '/opt/lmod/lmod/libexec/lmod', 'SLURM_LOCALID': '0', 'GPU_DEVICE_ORDINAL': '0', 'LMOD_DIR': '/opt/lmod/lmod/libexec', 'BASH_FUNC_module%%': '() {  eval $($LMOD_CMD bash \"$@\") && eval $(${LMOD_SETTARG_CMD:-:} -s sh)\\n}', 'BASH_FUNC_ml%%': '() {  eval $($LMOD_DIR/ml_cmd \"$@\")\\n}', '_': '/ssd003/projects/aieng/public/anomaly_detection_environment/bin/jupyter', 'PYDEVD_USE_FRAME_EVAL': 'NO', 'JPY_PARENT_PID': '10964', 'CLICOLOR': '1', 'PAGER': 'cat', 'GIT_PAGER': 'cat', 'MPLBACKEND': 'module://matplotlib_inline.backend_inline', 'KMP_DUPLICATE_LIB_OK': 'True', 'KMP_INIT_AT_FORK': 'FALSE'})\n"
     ]
    }
   ],
   "source": [
    "# Import the necessary packages and libraries\n",
    "import pandas as pd\n",
    "import lightgbm as lgbm\n",
    "from sklearn.ensemble import RandomForestClassifier\n",
    "from sklearn.linear_model import LogisticRegression\n",
    "import xgboost as xgb\n",
    "import catboost as cb\n",
    "import matplotlib.pyplot as plt\n",
    "from baf import BAFDataset\n",
    "from metrics import calculate_tpr_at_fpr, calculate_fairness_metrics\n",
    "import os\n",
    "import joblib\n",
    "import time\n",
    "import numpy as np\n",
    "import random\n",
    "\n",
    "print(os.environ)\n",
    "seed = 100\n",
    "np.random.seed(seed)\n",
    "random.seed(seed)"
   ]
  },
  {
   "cell_type": "code",
   "execution_count": 2,
   "id": "065efc54",
   "metadata": {},
   "outputs": [],
   "source": [
    "# Instantiate the BAF class\n",
    "ds = BAFDataset()"
   ]
  },
  {
   "cell_type": "code",
   "execution_count": 3,
   "id": "21f6d243",
   "metadata": {},
   "outputs": [],
   "source": [
    "# set the path to the dataset and models\n",
    "\n",
    "base_path = \"/ssd003/projects/aieng/public/anomaly_detection_datasets/BAF\"\n",
    "model_path = \"/ssd003/projects/aieng/public/anomaly_detection_models/BAF\"\n",
    "\n",
    "variant = \"Base.csv\""
   ]
  },
  {
   "cell_type": "code",
   "execution_count": 4,
   "id": "99e9556c",
   "metadata": {},
   "outputs": [],
   "source": [
    "# Add file to path\n",
    "file_path = os.path.join(base_path, variant)\n",
    "\n",
    "# Load the dataset\n",
    "df = ds.load_data(file_path)"
   ]
  },
  {
   "cell_type": "code",
   "execution_count": 5,
   "id": "a6682e22",
   "metadata": {},
   "outputs": [],
   "source": [
    "# Split the dataset into train and test sets\n",
    "(X_train, y_train), (X_test, y_test) = ds.train_test_split(df, month=6)"
   ]
  },
  {
   "cell_type": "code",
   "execution_count": 6,
   "id": "77b38c51",
   "metadata": {},
   "outputs": [
    {
     "data": {
      "text/html": [
       "<div>\n",
       "<style scoped>\n",
       "    .dataframe tbody tr th:only-of-type {\n",
       "        vertical-align: middle;\n",
       "    }\n",
       "\n",
       "    .dataframe tbody tr th {\n",
       "        vertical-align: top;\n",
       "    }\n",
       "\n",
       "    .dataframe thead th {\n",
       "        text-align: right;\n",
       "    }\n",
       "</style>\n",
       "<table border=\"1\" class=\"dataframe\">\n",
       "  <thead>\n",
       "    <tr style=\"text-align: right;\">\n",
       "      <th></th>\n",
       "      <th>income</th>\n",
       "      <th>name_email_similarity</th>\n",
       "      <th>prev_address_months_count</th>\n",
       "      <th>current_address_months_count</th>\n",
       "      <th>customer_age</th>\n",
       "      <th>days_since_request</th>\n",
       "      <th>intended_balcon_amount</th>\n",
       "      <th>payment_type</th>\n",
       "      <th>zip_count_4w</th>\n",
       "      <th>velocity_6h</th>\n",
       "      <th>...</th>\n",
       "      <th>phone_mobile_valid</th>\n",
       "      <th>bank_months_count</th>\n",
       "      <th>has_other_cards</th>\n",
       "      <th>proposed_credit_limit</th>\n",
       "      <th>foreign_request</th>\n",
       "      <th>source</th>\n",
       "      <th>session_length_in_minutes</th>\n",
       "      <th>device_os</th>\n",
       "      <th>keep_alive_session</th>\n",
       "      <th>device_distinct_emails_8w</th>\n",
       "    </tr>\n",
       "  </thead>\n",
       "  <tbody>\n",
       "    <tr>\n",
       "      <th>96843</th>\n",
       "      <td>0.8</td>\n",
       "      <td>0.153411</td>\n",
       "      <td>-1</td>\n",
       "      <td>105</td>\n",
       "      <td>30</td>\n",
       "      <td>0.003467</td>\n",
       "      <td>-0.906840</td>\n",
       "      <td>AC</td>\n",
       "      <td>1779</td>\n",
       "      <td>1147.615990</td>\n",
       "      <td>...</td>\n",
       "      <td>1</td>\n",
       "      <td>-1</td>\n",
       "      <td>0</td>\n",
       "      <td>200.0</td>\n",
       "      <td>0</td>\n",
       "      <td>INTERNET</td>\n",
       "      <td>3.911696</td>\n",
       "      <td>linux</td>\n",
       "      <td>0</td>\n",
       "      <td>1</td>\n",
       "    </tr>\n",
       "    <tr>\n",
       "      <th>96844</th>\n",
       "      <td>0.8</td>\n",
       "      <td>0.442439</td>\n",
       "      <td>-1</td>\n",
       "      <td>107</td>\n",
       "      <td>40</td>\n",
       "      <td>0.021131</td>\n",
       "      <td>-1.553115</td>\n",
       "      <td>AC</td>\n",
       "      <td>1195</td>\n",
       "      <td>10788.642570</td>\n",
       "      <td>...</td>\n",
       "      <td>1</td>\n",
       "      <td>-1</td>\n",
       "      <td>0</td>\n",
       "      <td>200.0</td>\n",
       "      <td>0</td>\n",
       "      <td>INTERNET</td>\n",
       "      <td>23.696737</td>\n",
       "      <td>other</td>\n",
       "      <td>0</td>\n",
       "      <td>2</td>\n",
       "    </tr>\n",
       "    <tr>\n",
       "      <th>96845</th>\n",
       "      <td>0.9</td>\n",
       "      <td>0.328328</td>\n",
       "      <td>-1</td>\n",
       "      <td>79</td>\n",
       "      <td>70</td>\n",
       "      <td>0.009110</td>\n",
       "      <td>-0.801146</td>\n",
       "      <td>AC</td>\n",
       "      <td>845</td>\n",
       "      <td>8504.451753</td>\n",
       "      <td>...</td>\n",
       "      <td>1</td>\n",
       "      <td>-1</td>\n",
       "      <td>0</td>\n",
       "      <td>2000.0</td>\n",
       "      <td>0</td>\n",
       "      <td>INTERNET</td>\n",
       "      <td>2.803927</td>\n",
       "      <td>windows</td>\n",
       "      <td>0</td>\n",
       "      <td>1</td>\n",
       "    </tr>\n",
       "    <tr>\n",
       "      <th>96846</th>\n",
       "      <td>0.7</td>\n",
       "      <td>0.033834</td>\n",
       "      <td>-1</td>\n",
       "      <td>28</td>\n",
       "      <td>30</td>\n",
       "      <td>0.004707</td>\n",
       "      <td>-1.171706</td>\n",
       "      <td>AB</td>\n",
       "      <td>1697</td>\n",
       "      <td>6011.217859</td>\n",
       "      <td>...</td>\n",
       "      <td>1</td>\n",
       "      <td>28</td>\n",
       "      <td>0</td>\n",
       "      <td>1000.0</td>\n",
       "      <td>0</td>\n",
       "      <td>INTERNET</td>\n",
       "      <td>5.262441</td>\n",
       "      <td>windows</td>\n",
       "      <td>1</td>\n",
       "      <td>2</td>\n",
       "    </tr>\n",
       "    <tr>\n",
       "      <th>96847</th>\n",
       "      <td>0.9</td>\n",
       "      <td>0.150643</td>\n",
       "      <td>-1</td>\n",
       "      <td>164</td>\n",
       "      <td>40</td>\n",
       "      <td>0.012221</td>\n",
       "      <td>-0.227823</td>\n",
       "      <td>AB</td>\n",
       "      <td>1474</td>\n",
       "      <td>8378.324044</td>\n",
       "      <td>...</td>\n",
       "      <td>1</td>\n",
       "      <td>5</td>\n",
       "      <td>0</td>\n",
       "      <td>1500.0</td>\n",
       "      <td>0</td>\n",
       "      <td>INTERNET</td>\n",
       "      <td>5.728984</td>\n",
       "      <td>windows</td>\n",
       "      <td>0</td>\n",
       "      <td>1</td>\n",
       "    </tr>\n",
       "  </tbody>\n",
       "</table>\n",
       "<p>5 rows × 29 columns</p>\n",
       "</div>"
      ],
      "text/plain": [
       "       income  name_email_similarity  prev_address_months_count  \\\n",
       "96843     0.8               0.153411                         -1   \n",
       "96844     0.8               0.442439                         -1   \n",
       "96845     0.9               0.328328                         -1   \n",
       "96846     0.7               0.033834                         -1   \n",
       "96847     0.9               0.150643                         -1   \n",
       "\n",
       "       current_address_months_count  customer_age  days_since_request  \\\n",
       "96843                           105            30            0.003467   \n",
       "96844                           107            40            0.021131   \n",
       "96845                            79            70            0.009110   \n",
       "96846                            28            30            0.004707   \n",
       "96847                           164            40            0.012221   \n",
       "\n",
       "       intended_balcon_amount payment_type  zip_count_4w   velocity_6h  ...  \\\n",
       "96843               -0.906840           AC          1779   1147.615990  ...   \n",
       "96844               -1.553115           AC          1195  10788.642570  ...   \n",
       "96845               -0.801146           AC           845   8504.451753  ...   \n",
       "96846               -1.171706           AB          1697   6011.217859  ...   \n",
       "96847               -0.227823           AB          1474   8378.324044  ...   \n",
       "\n",
       "       phone_mobile_valid  bank_months_count  has_other_cards  \\\n",
       "96843                   1                 -1                0   \n",
       "96844                   1                 -1                0   \n",
       "96845                   1                 -1                0   \n",
       "96846                   1                 28                0   \n",
       "96847                   1                  5                0   \n",
       "\n",
       "       proposed_credit_limit foreign_request    source  \\\n",
       "96843                  200.0               0  INTERNET   \n",
       "96844                  200.0               0  INTERNET   \n",
       "96845                 2000.0               0  INTERNET   \n",
       "96846                 1000.0               0  INTERNET   \n",
       "96847                 1500.0               0  INTERNET   \n",
       "\n",
       "       session_length_in_minutes device_os  keep_alive_session  \\\n",
       "96843                   3.911696     linux                   0   \n",
       "96844                  23.696737     other                   0   \n",
       "96845                   2.803927   windows                   0   \n",
       "96846                   5.262441   windows                   1   \n",
       "96847                   5.728984   windows                   0   \n",
       "\n",
       "       device_distinct_emails_8w  \n",
       "96843                          1  \n",
       "96844                          2  \n",
       "96845                          1  \n",
       "96846                          2  \n",
       "96847                          1  \n",
       "\n",
       "[5 rows x 29 columns]"
      ]
     },
     "execution_count": 6,
     "metadata": {},
     "output_type": "execute_result"
    }
   ],
   "source": [
    "X_train.head()"
   ]
  },
  {
   "cell_type": "code",
   "execution_count": 7,
   "id": "e9f5f1db",
   "metadata": {},
   "outputs": [],
   "source": [
    "# One-hot encode the categorical features in the dataset\n",
    "X_train, X_test = ds.one_hot_encode_categorical(X_train, X_test)"
   ]
  },
  {
   "cell_type": "code",
   "execution_count": 8,
   "id": "4116c3a2",
   "metadata": {},
   "outputs": [
    {
     "data": {
      "text/html": [
       "<div>\n",
       "<style scoped>\n",
       "    .dataframe tbody tr th:only-of-type {\n",
       "        vertical-align: middle;\n",
       "    }\n",
       "\n",
       "    .dataframe tbody tr th {\n",
       "        vertical-align: top;\n",
       "    }\n",
       "\n",
       "    .dataframe thead th {\n",
       "        text-align: right;\n",
       "    }\n",
       "</style>\n",
       "<table border=\"1\" class=\"dataframe\">\n",
       "  <thead>\n",
       "    <tr style=\"text-align: right;\">\n",
       "      <th></th>\n",
       "      <th>income</th>\n",
       "      <th>name_email_similarity</th>\n",
       "      <th>prev_address_months_count</th>\n",
       "      <th>current_address_months_count</th>\n",
       "      <th>customer_age</th>\n",
       "      <th>days_since_request</th>\n",
       "      <th>intended_balcon_amount</th>\n",
       "      <th>zip_count_4w</th>\n",
       "      <th>velocity_6h</th>\n",
       "      <th>velocity_24h</th>\n",
       "      <th>...</th>\n",
       "      <th>16</th>\n",
       "      <th>17</th>\n",
       "      <th>18</th>\n",
       "      <th>19</th>\n",
       "      <th>20</th>\n",
       "      <th>21</th>\n",
       "      <th>22</th>\n",
       "      <th>23</th>\n",
       "      <th>24</th>\n",
       "      <th>25</th>\n",
       "    </tr>\n",
       "  </thead>\n",
       "  <tbody>\n",
       "    <tr>\n",
       "      <th>96843</th>\n",
       "      <td>0.8</td>\n",
       "      <td>0.153411</td>\n",
       "      <td>-1</td>\n",
       "      <td>105</td>\n",
       "      <td>30</td>\n",
       "      <td>0.003467</td>\n",
       "      <td>-0.906840</td>\n",
       "      <td>1779</td>\n",
       "      <td>1147.615990</td>\n",
       "      <td>3076.384487</td>\n",
       "      <td>...</td>\n",
       "      <td>0.0</td>\n",
       "      <td>0.0</td>\n",
       "      <td>0.0</td>\n",
       "      <td>1.0</td>\n",
       "      <td>0.0</td>\n",
       "      <td>1.0</td>\n",
       "      <td>0.0</td>\n",
       "      <td>0.0</td>\n",
       "      <td>0.0</td>\n",
       "      <td>0.0</td>\n",
       "    </tr>\n",
       "    <tr>\n",
       "      <th>96844</th>\n",
       "      <td>0.8</td>\n",
       "      <td>0.442439</td>\n",
       "      <td>-1</td>\n",
       "      <td>107</td>\n",
       "      <td>40</td>\n",
       "      <td>0.021131</td>\n",
       "      <td>-1.553115</td>\n",
       "      <td>1195</td>\n",
       "      <td>10788.642570</td>\n",
       "      <td>5790.128646</td>\n",
       "      <td>...</td>\n",
       "      <td>0.0</td>\n",
       "      <td>0.0</td>\n",
       "      <td>0.0</td>\n",
       "      <td>1.0</td>\n",
       "      <td>0.0</td>\n",
       "      <td>0.0</td>\n",
       "      <td>0.0</td>\n",
       "      <td>1.0</td>\n",
       "      <td>0.0</td>\n",
       "      <td>0.0</td>\n",
       "    </tr>\n",
       "    <tr>\n",
       "      <th>96845</th>\n",
       "      <td>0.9</td>\n",
       "      <td>0.328328</td>\n",
       "      <td>-1</td>\n",
       "      <td>79</td>\n",
       "      <td>70</td>\n",
       "      <td>0.009110</td>\n",
       "      <td>-0.801146</td>\n",
       "      <td>845</td>\n",
       "      <td>8504.451753</td>\n",
       "      <td>5912.163054</td>\n",
       "      <td>...</td>\n",
       "      <td>0.0</td>\n",
       "      <td>0.0</td>\n",
       "      <td>0.0</td>\n",
       "      <td>1.0</td>\n",
       "      <td>0.0</td>\n",
       "      <td>0.0</td>\n",
       "      <td>0.0</td>\n",
       "      <td>0.0</td>\n",
       "      <td>1.0</td>\n",
       "      <td>0.0</td>\n",
       "    </tr>\n",
       "    <tr>\n",
       "      <th>96846</th>\n",
       "      <td>0.7</td>\n",
       "      <td>0.033834</td>\n",
       "      <td>-1</td>\n",
       "      <td>28</td>\n",
       "      <td>30</td>\n",
       "      <td>0.004707</td>\n",
       "      <td>-1.171706</td>\n",
       "      <td>1697</td>\n",
       "      <td>6011.217859</td>\n",
       "      <td>5505.127811</td>\n",
       "      <td>...</td>\n",
       "      <td>0.0</td>\n",
       "      <td>0.0</td>\n",
       "      <td>0.0</td>\n",
       "      <td>1.0</td>\n",
       "      <td>0.0</td>\n",
       "      <td>0.0</td>\n",
       "      <td>0.0</td>\n",
       "      <td>0.0</td>\n",
       "      <td>1.0</td>\n",
       "      <td>0.0</td>\n",
       "    </tr>\n",
       "    <tr>\n",
       "      <th>96847</th>\n",
       "      <td>0.9</td>\n",
       "      <td>0.150643</td>\n",
       "      <td>-1</td>\n",
       "      <td>164</td>\n",
       "      <td>40</td>\n",
       "      <td>0.012221</td>\n",
       "      <td>-0.227823</td>\n",
       "      <td>1474</td>\n",
       "      <td>8378.324044</td>\n",
       "      <td>4930.672316</td>\n",
       "      <td>...</td>\n",
       "      <td>0.0</td>\n",
       "      <td>0.0</td>\n",
       "      <td>0.0</td>\n",
       "      <td>1.0</td>\n",
       "      <td>0.0</td>\n",
       "      <td>0.0</td>\n",
       "      <td>0.0</td>\n",
       "      <td>0.0</td>\n",
       "      <td>1.0</td>\n",
       "      <td>0.0</td>\n",
       "    </tr>\n",
       "  </tbody>\n",
       "</table>\n",
       "<p>5 rows × 50 columns</p>\n",
       "</div>"
      ],
      "text/plain": [
       "       income  name_email_similarity  prev_address_months_count  \\\n",
       "96843     0.8               0.153411                         -1   \n",
       "96844     0.8               0.442439                         -1   \n",
       "96845     0.9               0.328328                         -1   \n",
       "96846     0.7               0.033834                         -1   \n",
       "96847     0.9               0.150643                         -1   \n",
       "\n",
       "       current_address_months_count  customer_age  days_since_request  \\\n",
       "96843                           105            30            0.003467   \n",
       "96844                           107            40            0.021131   \n",
       "96845                            79            70            0.009110   \n",
       "96846                            28            30            0.004707   \n",
       "96847                           164            40            0.012221   \n",
       "\n",
       "       intended_balcon_amount  zip_count_4w   velocity_6h  velocity_24h  ...  \\\n",
       "96843               -0.906840          1779   1147.615990   3076.384487  ...   \n",
       "96844               -1.553115          1195  10788.642570   5790.128646  ...   \n",
       "96845               -0.801146           845   8504.451753   5912.163054  ...   \n",
       "96846               -1.171706          1697   6011.217859   5505.127811  ...   \n",
       "96847               -0.227823          1474   8378.324044   4930.672316  ...   \n",
       "\n",
       "        16   17   18   19   20   21   22   23   24   25  \n",
       "96843  0.0  0.0  0.0  1.0  0.0  1.0  0.0  0.0  0.0  0.0  \n",
       "96844  0.0  0.0  0.0  1.0  0.0  0.0  0.0  1.0  0.0  0.0  \n",
       "96845  0.0  0.0  0.0  1.0  0.0  0.0  0.0  0.0  1.0  0.0  \n",
       "96846  0.0  0.0  0.0  1.0  0.0  0.0  0.0  0.0  1.0  0.0  \n",
       "96847  0.0  0.0  0.0  1.0  0.0  0.0  0.0  0.0  1.0  0.0  \n",
       "\n",
       "[5 rows x 50 columns]"
      ]
     },
     "execution_count": 8,
     "metadata": {},
     "output_type": "execute_result"
    }
   ],
   "source": [
    "X_train.head()"
   ]
  },
  {
   "cell_type": "markdown",
   "id": "6c45d407",
   "metadata": {},
   "source": [
    "# Metrics\n",
    "\n",
    "\n",
    "\n",
    "![BAF Metrics](figures/baf_metrics.png)"
   ]
  },
  {
   "cell_type": "markdown",
   "id": "f8041915",
   "metadata": {},
   "source": [
    "Now we want to discuss the metrics we used in evaluating the performance and fairness of the models. The metrics play a crucial role in assessing the effectiveness of the models in detecting fraud and maintaining fairness in the decision-making process.\n",
    "\n",
    "#### `calculate_tpr_at_fpr()`\n",
    "\n",
    "This function calculates the true positive rate (TPR), false positive rate (FPR), and threshold based on a given FPR limit. It takes the predicted scores on the test set, the test set target variable, and the FPR limit as inputs. The function then calculates the ROC curve points and obtains the **threshold and TPR based on the FPR limit**. The TPR represents the proportion of actual positives correctly classified, while the FPR represents the proportion of actual negatives incorrectly classified as positives. These metrics are commonly used in fraud detection to strike a balance between detecting fraud and minimizing customer attrition. The function stores the calculated metrics in a dictionary and returns it.\n",
    "\n",
    "#### `calculate_fairness_metrics()`\n",
    "\n",
    "This function calculates fairness metrics on the predicted scores. It takes the predicted scores on the test set, the test set target variable, and the test set features as inputs. The function initializes a fairness evaluator and calculates the ROC curve points to obtain the threshold. It then creates a dataframe with the scores, labels, and age, and calculates the fairness metrics. The fairness metric in this scenario focuses on ensuring that the probability of a legitimate applicant being wrongly classified as fraudulent is independent of their sensitive attribute value. To assess this, the function calculates the ratio between false positive rates (FPRs) across different groups, referred to as predictive equality. The fairness ratio is obtained by **dividing the FPR of the group with the lowest observed FPR by the FPR of the group with the highest FPR**. This metric helps evaluate and mitigate potential biases in the model's predictions related to sensitive attributes. The function returns the fairness ratio as a measure of fairness.\n"
   ]
  },
  {
   "cell_type": "code",
   "execution_count": 9,
   "id": "b3586836",
   "metadata": {},
   "outputs": [],
   "source": [
    "# define these dictionaries for storing the results\n",
    "performance_results = {}\n",
    "fairness_results = {}\n",
    "\n",
    "# Dictionaries to store training and inference times\n",
    "training_times_dict = {}\n",
    "inference_times_dict = {}"
   ]
  },
  {
   "cell_type": "markdown",
   "id": "5eda7b1b",
   "metadata": {},
   "source": [
    "# Methods\n",
    "\n",
    "Now, let's delve into the methods employed to analyze the BAF dataset. The following section will outline the approaches and techniques used to address fraud detection in this high-stakes banking context."
   ]
  },
  {
   "cell_type": "markdown",
   "id": "660644a5",
   "metadata": {},
   "source": [
    "## Logistic Regression\n",
    "\n",
    "Logistic regression is a popular statistical model used for **binary classification tasks**. It is particularly useful when the **outcome variable is categorical**, with two possible values such as \"yes\" or \"no,\" \"true\" or \"false,\" or **\"normal\"** or **\"anomaly\"**. The goal of logistic regression is to **estimate the probability** that an observation belongs to a certain class based on a set of input features. Mathematically, logistic regression applies the logistic function (also known as the sigmoid function) to a linear combination of input features. This is expressed as:\n",
    "\n",
    "<p align=\"center\">\\[ p(x) = \\frac{1}{1 + e^{-z}} \\]</p>\n",
    "\n",
    "<p>where p(x) is the probability of belonging to a certain class, \\( e \\) is the base of the natural logarithm, and \\( z \\) is the linear combination of input features and their respective coefficients:</p>\n",
    "\n",
    "<p align=\"center\">\\[ z = \\beta_0 + \\beta_1x_1 + \\beta_2x_2 + ... + \\beta_nx_n \\]</p>\n",
    "\n",
    "Here, β₀, β₁, β₂, ..., βₙ are the **coefficients** (also known as weights) associated with each input feature x₁, x₂, ..., xₙ. The logistic regression model learns the optimal values of these coefficients by minimizing a cost function, typically the log loss or cross-entropy loss. This process is done through techniques like maximum likelihood estimation or gradient descent. The coefficients obtained from logistic regression represent the **impact of each feature** on the probability of the outcome class. Logistic regression is widely used in various domains, including medicine, finance, and marketing, for tasks such as predicting disease presence, credit risk assessment, and customer churn prediction."
   ]
  },
  {
   "cell_type": "markdown",
   "id": "bb4b6806",
   "metadata": {},
   "source": [
    "Here, we apply Logistic Regression on the data:"
   ]
  },
  {
   "cell_type": "markdown",
   "id": "f88608c6-375d-4a64-b8ed-1b7c234c93d3",
   "metadata": {},
   "source": [
    "Uncomment and run this section and skip the next two cells if you don't want to train the model from scratch:"
   ]
  },
  {
   "cell_type": "code",
   "execution_count": 10,
   "id": "63c4048f",
   "metadata": {},
   "outputs": [],
   "source": [
    "# Load the saved Logistic Regression model\n",
    "# lr_model_path = os.path.join(model_path, f\"{variant.split('.')[0]}_lr_model.joblib\")\n",
    "# lr_model = joblib.load(lr_model_path)"
   ]
  },
  {
   "cell_type": "code",
   "execution_count": 11,
   "id": "525e86b2",
   "metadata": {},
   "outputs": [],
   "source": [
    "lr_model = LogisticRegression(n_jobs=-1)"
   ]
  },
  {
   "cell_type": "markdown",
   "id": "8f0bc076",
   "metadata": {},
   "source": [
    "<code>class_weight</code> is set to <code>None</code> by default. Try setting it to some weights or <code>balanced</code> mode and see how the performance changes.\n",
    "\n",
    "\n",
    "To calculate class weights, you can use this formula:\n",
    "\n",
    "```python\n",
    "weight_for_class_i = total_samples / (num_samples_in_class_i * num_classes)\n",
    "\n",
    "weight_for_class_0 = len(X_train) / (len(X_train[y_train == 0]) * 2)\n",
    "weight_for_class_1 = len(X_train) / (len(X_train[y_train == 1]) * 2)\n",
    "```\n",
    "\n",
    "Or directly use scikit-learn for this purpose:\n",
    "\n",
    "```python\n",
    "sklearn.utils.class_weight.compute_class_weight(class_weight, classes, y)\n",
    "```\n",
    "\n",
    "After calculating the weights for each class, you can pass them as dictionary to model's fit function."
   ]
  },
  {
   "cell_type": "code",
   "execution_count": 12,
   "id": "0d30b9a6",
   "metadata": {},
   "outputs": [
    {
     "name": "stdout",
     "output_type": "stream",
     "text": [
      "Training Time: 127.76907396316528 seconds\n"
     ]
    }
   ],
   "source": [
    "# Start measuring training time\n",
    "start_time = time.time()\n",
    "\n",
    "# Training the model\n",
    "lr_model.fit(X_train, y_train)\n",
    "\n",
    "# End measuring training time\n",
    "end_time = time.time()\n",
    "\n",
    "# Storing and printing the time\n",
    "lr_training_time = end_time - start_time\n",
    "print(f\"Training Time: {lr_training_time} seconds\")\n",
    "training_times_dict[(variant.split('.')[0], \"Logistic Regression\")] = {\"Training Time\":lr_training_time}"
   ]
  },
  {
   "cell_type": "code",
   "execution_count": 13,
   "id": "ca0180af",
   "metadata": {},
   "outputs": [
    {
     "name": "stdout",
     "output_type": "stream",
     "text": [
      "Inference Time: 0.13019323348999023 seconds\n"
     ]
    }
   ],
   "source": [
    "# Start measuring inference time\n",
    "start_time = time.time()\n",
    "\n",
    "# predict on the test set\n",
    "lr_scored_test = lr_model.predict_proba(X_test)[:, 1]\n",
    "\n",
    "# End measuring inference time\n",
    "end_time = time.time()\n",
    "\n",
    "# Storing and printing the time\n",
    "lr_inference_time = end_time - start_time\n",
    "print(f\"Inference Time: {lr_inference_time} seconds\")\n",
    "inference_times_dict[(variant.split('.')[0], \"Logistic Regression\")] = {\"Inference Time\":lr_inference_time}"
   ]
  },
  {
   "cell_type": "markdown",
   "id": "c004749e",
   "metadata": {},
   "source": [
    "If you want to save the model, you can use:\n",
    "\n",
    "```python\n",
    "import joblib\n",
    "joblib.dump(model, \"PATH_TO_SAVE_MODEL\")\n",
    "```"
   ]
  },
  {
   "cell_type": "code",
   "execution_count": 14,
   "id": "03d30dbc",
   "metadata": {},
   "outputs": [
    {
     "name": "stdout",
     "output_type": "stream",
     "text": [
      "Model TPR: 0.2057, Model FPR: 0.0499, Model Threshold: 0.1125, Model AUROC: 0.6797\n"
     ]
    }
   ],
   "source": [
    "# Calculate the TPR@5%FPR on the test set\n",
    "metrics_dict = calculate_tpr_at_fpr(y_test, lr_scored_test, fpr_lim=0.05)\n",
    "print(f\"Model TPR: {metrics_dict['TPR']}, Model FPR: {metrics_dict['FPR']}, Model Threshold: {metrics_dict['Threshold']}, Model AUROC: {metrics_dict['AUROC']}\")\n",
    "performance_results[(variant.split('.')[0], 'Logistic Regression')] = metrics_dict"
   ]
  },
  {
   "cell_type": "code",
   "execution_count": 15,
   "id": "63460e94",
   "metadata": {},
   "outputs": [
    {
     "name": "stdout",
     "output_type": "stream",
     "text": [
      "Fairness Ratio: 0.3622\n"
     ]
    }
   ],
   "source": [
    "# Calculate the fairness metrics on the test set\n",
    "fairness_ratio = calculate_fairness_metrics(y_test, lr_scored_test, X_test, fpr_lim=0.05)\n",
    "fairness_results[(variant.split('.')[0], 'Logistic Regression')] = {\"Fairness Ratio\":fairness_ratio}\n",
    "print(f\"Fairness Ratio: {fairness_ratio}\")"
   ]
  },
  {
   "cell_type": "markdown",
   "id": "4b10847e",
   "metadata": {},
   "source": [
    "## Random Forest\n",
    "\n",
    "Random forest is a powerful ensemble learning algorithm used for both **classification** and **regression** tasks. It combines multiple **decision trees** to make predictions. The 'forest' in random forest refers to a collection of decision trees. Each decision tree in the random forest is built on a random subset of the training data and a random subset of the input features. This randomness helps to create diverse and uncorrelated trees.\n",
    "\n",
    "A decision tree is a popular supervised learning algorithm used for both classification and regression tasks. It creates a flowchart-like model where **each internal node represents a feature**, **each branch represents a decision rule**, and **each leaf node represents the outcome or prediction**.  The decision tree algorithm builds the tree by recursively partitioning the data based on the values of the input features. It selects the best feature and the optimal split point at each step, aiming to maximize the homogeneity of the target variable within each partition. The homogeneity is typically measured using metrics such as **Gini impurity** or information gain. To make a **prediction** using a decision tree, we traverse the tree from the root node to a leaf node based on the feature values of the instance being classified or predicted. The outcome or prediction associated with that leaf node is then assigned to the instance.\n",
    "\n",
    "To make a prediction using a random forest, let's assume we have a random forest with \\(N\\) decision trees. For **classification**, each tree independently predicts the class label using its corresponding subset of features and training samples. The final prediction is determined by **majority voting**, where the class label with the highest count across all trees is selected. For **regression**, each tree independently predicts the target variable, and the final prediction is obtained by **averaging** the predictions of all the trees.\n",
    "\n",
    "<p>Mathematically, let's denote the random forest prediction as \\(y_{\\text{RF}}\\). For classification, the prediction is given by:</p>\n",
    "\n",
    "<p align=\"center\">\\[y_{\\text{RF}} = \\text{argmax}\\left(\\sum_{i=1}^{N} \\mathbb{F}(y_i = c)\\right)\\]</p>\n",
    "\n",
    "<p>where \\(y_i\\) represents the predicted class label of the \\(i\\)th tree, \\(\\mathbb{F}\\) is the indicator function, and \\(c\\) is the class label being considered. For regression, the prediction is given by:</p>\n",
    "\n",
    "<p align=\"center\">\\[y_{\\text{RF}} = \\frac{1}{N}\\sum_{i=1}^{N} y_i\\]</p>\n",
    "\n",
    "<p>where \\(y_i\\) represents the predicted target value of the \\(i\\)th tree.</p>\n",
    "\n",
    "One of the key advantages of random forest is its ability to handle **high-dimensional data** with many input features. It can capture **complex relationships** between features and target variables, handle **missing values** and **outliers**, and provide measures of **feature importance**.\n",
    "\n",
    "The random forest algorithm also addresses the problem of **overfitting**, which can occur with individual decision trees. By combining multiple trees, random forest reduces overfitting and improves generalization performance. Additionally, random forest has mechanisms to estimate the **out-of-bag (OOB) error**, which provides an unbiased estimate of the model's performance without the need for a separate validation set.\n",
    "\n",
    "Random forest has a wide range of applications, including but not limited to, **fraud detection**, **sentiment analysis**, **customer churn prediction**, and **medical diagnosis**. It is a popular and versatile algorithm in machine learning due to its **robustness**, **accuracy**, and **interpretability**."
   ]
  },
  {
   "cell_type": "markdown",
   "id": "ca53916b",
   "metadata": {},
   "source": [
    "Uncomment and run this section and skip the next two cells if you don't want to train the model from scratch:"
   ]
  },
  {
   "cell_type": "code",
   "execution_count": 16,
   "id": "869da34c",
   "metadata": {},
   "outputs": [],
   "source": [
    "# Load the saved Random Forest model\n",
    "# rf_model_path = os.path.join(model_path, f\"{variant.split('.')[0]}_rf_model.joblib\")\n",
    "# rf_model = joblib.load(rf_model_path)"
   ]
  },
  {
   "cell_type": "code",
   "execution_count": 17,
   "id": "663ce063",
   "metadata": {},
   "outputs": [],
   "source": [
    "rf_model = RandomForestClassifier(n_jobs=-1)"
   ]
  },
  {
   "cell_type": "markdown",
   "id": "1f7256cf-7933-4d86-be1f-9bb600669915",
   "metadata": {},
   "source": [
    "<code>class_weight</code> is set to <code>None</code> by default. Try setting it to some weights or <code>balanced</code> mode and see how the performance changes.\n",
    "\n",
    "You can either use from sklearn.utils import class_weight"
   ]
  },
  {
   "cell_type": "code",
   "execution_count": 18,
   "id": "0baa8b98",
   "metadata": {},
   "outputs": [
    {
     "name": "stdout",
     "output_type": "stream",
     "text": [
      "Training Time: 264.5109226703644 seconds\n"
     ]
    }
   ],
   "source": [
    "# Start measuring training time\n",
    "start_time = time.time()\n",
    "\n",
    "# Training the model\n",
    "rf_model.fit(X_train, y_train)\n",
    "\n",
    "# End measuring training time\n",
    "end_time = time.time()\n",
    "\n",
    "# Storing and printing the time\n",
    "rf_training_time = end_time - start_time\n",
    "print(f\"Training Time: {rf_training_time} seconds\")\n",
    "training_times_dict[(variant.split('.')[0], \"Random Forest\")] = {\"Training Time\":rf_training_time}"
   ]
  },
  {
   "cell_type": "code",
   "execution_count": 19,
   "id": "f677d4f0",
   "metadata": {},
   "outputs": [
    {
     "name": "stdout",
     "output_type": "stream",
     "text": [
      "Inference Time: 3.9969682693481445 seconds\n"
     ]
    }
   ],
   "source": [
    "# Start measuring inference time\n",
    "start_time = time.time()\n",
    "\n",
    "# predict on the test set\n",
    "rf_scored_test = rf_model.predict_proba(X_test)[:, 1]\n",
    "\n",
    "# End measuring inference time\n",
    "end_time = time.time()\n",
    "\n",
    "# Storing and printing the time\n",
    "rf_inference_time = end_time - start_time\n",
    "print(f\"Inference Time: {rf_inference_time} seconds\")\n",
    "inference_times_dict[(variant.split('.')[0], \"Random Forest\")] = {\"Inference Time\":rf_inference_time}"
   ]
  },
  {
   "cell_type": "code",
   "execution_count": 20,
   "id": "b0943857",
   "metadata": {},
   "outputs": [
    {
     "name": "stdout",
     "output_type": "stream",
     "text": [
      "Model TPR: 0.4288, Model FPR: 0.0415, Model Threshold: 0.09, Model AUROC: 0.8398\n"
     ]
    }
   ],
   "source": [
    "# Calculate the TPR@5%FPR on the test set\n",
    "metrics_dict = calculate_tpr_at_fpr(y_test, rf_scored_test, fpr_lim=0.05)\n",
    "performance_results[(variant.split('.')[0], 'Random Forest')] = metrics_dict\n",
    "print(f\"Model TPR: {metrics_dict['TPR']}, Model FPR: {metrics_dict['FPR']}, Model Threshold: {metrics_dict['Threshold']}, Model AUROC: {metrics_dict['AUROC']}\")"
   ]
  },
  {
   "cell_type": "code",
   "execution_count": 21,
   "id": "f4bf0674",
   "metadata": {},
   "outputs": [
    {
     "name": "stdout",
     "output_type": "stream",
     "text": [
      "Fairness Ratio: 0.3007\n"
     ]
    }
   ],
   "source": [
    "# Calculate the fairness metrics on the test set\n",
    "fairness_ratio = calculate_fairness_metrics(y_test, rf_scored_test, X_test, fpr_lim=0.05)\n",
    "fairness_results[(variant.split('.')[0], 'Random Forest')] = {\"Fairness Ratio\":fairness_ratio}\n",
    "print(f\"Fairness Ratio: {fairness_ratio}\")"
   ]
  },
  {
   "cell_type": "markdown",
   "id": "c275a86b",
   "metadata": {},
   "source": [
    "## Gradient Boosting \n",
    "\n",
    "Gradient boosting is a powerful machine learning technique used for both regression and classification tasks. It is an ensemble method that combines multiple weak prediction models, typically decision trees, to create a strong predictive model. Unlike random forest, which builds independent trees, gradient boosting builds trees in a sequential manner.\n",
    "\n",
    "The gradient boosting algorithm works by iteratively adding new trees to the model, each one trained to correct the mistakes of the previous trees. At each iteration, the algorithm calculates the gradients of a specified loss function with respect to the predictions made by the existing ensemble. The new tree is then built to minimize this gradient, effectively fitting the residual errors.\n",
    "\n",
    "<p>To make predictions using a gradient boosting model, let's assume we have a gradient boosting model with \\(N\\) trees. The prediction \\(y_{\\text{GB}}\\) is obtained by summing the predictions of all the trees, with each tree weighted by a learning rate \\(\\eta\\):</p>\n",
    "\n",
    "<p align=\"center\">\\[y_{\\text{GB}} = \\sum_{i=1}^{N} \\eta \\cdot h_i(x)\\]</p>\n",
    "\n",
    "<p>where \\(h_i(x)\\) represents the prediction made by the \\(i\\)th tree.</p>\n",
    "\n",
    "One of the key advantages of gradient boosting is its ability to handle complex and nonlinear relationships in the data. It can automatically capture interactions between features and handle missing values. Gradient boosting is also known for its robustness against outliers and its capability to handle high-dimensional data.\n",
    "\n",
    "However, gradient boosting is prone to overfitting if the model becomes too complex or if the learning rate is set too high. Regularization techniques such as limiting the maximum depth of the trees or using early stopping can be employed to prevent overfitting.\n",
    "\n",
    "Gradient boosting has become widely popular and has numerous applications in various domains, including but not limited to, web search ranking, anomaly detection, recommendation systems, and healthcare analytics. It consistently delivers state-of-the-art performance and is favored by many data scientists for its effectiveness and flexibility.\n"
   ]
  },
  {
   "cell_type": "markdown",
   "id": "751cc685",
   "metadata": {},
   "source": [
    "### XGBoost\n",
    "\n",
    "**XGBoost** (Extreme Gradient Boosting) is an advanced implementation of gradient boosting, known for its exceptional performance and efficiency. It is widely used in machine learning competitions and has become a popular choice in various data science projects.\n",
    "\n",
    "XGBoost builds upon the principles of gradient boosting and introduces several enhancements to improve the model's predictive power and speed. One of the key innovations is its handling of regularization techniques such as **L1 and L2 regularization**, which help control model complexity and prevent overfitting. By incorporating regularization, XGBoost can effectively handle high-dimensional datasets with many features.\n",
    "\n",
    "Furthermore, XGBoost employs a technique called \"column block\" for parallel computing, making it significantly faster than traditional gradient boosting implementations. It optimizes the computation by dividing the dataset into column blocks, allowing for efficient parallel processing.\n",
    "\n",
    "XGBoost supports both **classification and regression** tasks. For classification, it uses a variant of gradient boosting called \"gradient boosted trees,\" where each tree predicts the class probabilities using a softmax transformation. For regression, XGBoost builds a regression tree ensemble.\n",
    "\n",
    "One of the distinguishing features of XGBoost is its ability to handle **missing values** by automatically learning the best direction to handle them during tree construction. This eliminates the need for imputing missing values before training the model.\n",
    "\n",
    "XGBoost also provides **interpretable model outputs** by ranking the importance of each feature. It calculates feature importance based on the number of times a feature is used in the tree ensemble and the average gain achieved by splits involving that feature.\n",
    "\n",
    "Due to its exceptional performance, scalability, and robustness, XGBoost has gained popularity across various domains, including finance, healthcare, e-commerce, and recommendation systems. It is implemented in multiple programming languages, including Python, R, Java, and Scala, making it easily accessible to data scientists and machine learning practitioners."
   ]
  },
  {
   "cell_type": "markdown",
   "id": "b1d83675",
   "metadata": {},
   "source": [
    "Uncomment and run this section and skip the next two cells if you don't want to train the model from scratch:"
   ]
  },
  {
   "cell_type": "code",
   "execution_count": 22,
   "id": "215b4348",
   "metadata": {},
   "outputs": [],
   "source": [
    "# Load the saved XGBoost model\n",
    "# xgb_model_path = os.path.join(model_path, f\"{variant.split('.')[0]}_xgb_model.joblib\")\n",
    "# xgb_model = joblib.load(xgb_model_path)"
   ]
  },
  {
   "cell_type": "code",
   "execution_count": 23,
   "id": "2e8a78a4",
   "metadata": {},
   "outputs": [],
   "source": [
    "# XGBoost model\n",
    "xgb_model = xgb.XGBClassifier()"
   ]
  },
  {
   "cell_type": "markdown",
   "id": "cd236744-a5b2-49d6-9181-1a28053b4a93",
   "metadata": {},
   "source": [
    "One hyperparameter in XGBoost for imbalance classfication is `scale_pos_weight`.\n",
    "\n",
    "By default, `scale_pos_weight` is set to **1.0, which balances positive and negative examples**. XGBoost **minimizes a loss function during training, with gradients reflecting the error magnitude**. A low gradient signifies a small error, and vice versa.\n",
    "\n",
    "The `scale_pos_weight` hyperparameter **scales the gradient related to the positive (minority) class**. This encourages the model to **rectify positive class errors more assertively, potentially enhancing predictions**. However, **excessive scaling can result in overfitting the positive class**, harming performance on both classes.\n",
    "\n",
    "A reasonable default is **the inverse of the class distribution**. For instance, if the minority:majority class ratio is **1:100, setting `scale_pos_weight` to 100 amplifies the impact of minority class errors during training**.\n",
    "\n",
    "Try different values and see how the performance changes.\n"
   ]
  },
  {
   "cell_type": "code",
   "execution_count": 24,
   "id": "bd30cd48",
   "metadata": {},
   "outputs": [
    {
     "name": "stderr",
     "output_type": "stream",
     "text": [
      "/ssd003/projects/aieng/public/anomaly_detection_environment/lib/python3.7/site-packages/sklearn/linear_model/_logistic.py:818: ConvergenceWarning: lbfgs failed to converge (status=1):\n",
      "STOP: TOTAL NO. of ITERATIONS REACHED LIMIT.\n",
      "\n",
      "Increase the number of iterations (max_iter) or scale the data as shown in:\n",
      "    https://scikit-learn.org/stable/modules/preprocessing.html\n",
      "Please also refer to the documentation for alternative solver options:\n",
      "    https://scikit-learn.org/stable/modules/linear_model.html#logistic-regression\n",
      "  extra_warning_msg=_LOGISTIC_SOLVER_CONVERGENCE_MSG,\n"
     ]
    },
    {
     "name": "stdout",
     "output_type": "stream",
     "text": [
      "Training Time: 337.9378924369812 seconds\n"
     ]
    }
   ],
   "source": [
    "# Start measuring training time\n",
    "start_time = time.time()\n",
    "\n",
    "# Training the model\n",
    "xgb_model.fit(X_train, y_train)\n",
    "\n",
    "# End measuring training time\n",
    "end_time = time.time()\n",
    "\n",
    "# Storing and printing the time\n",
    "xgb_training_time = end_time - start_time\n",
    "print(f\"Training Time: {xgb_training_time} seconds\")\n",
    "training_times_dict[(variant.split('.')[0], \"XGBoost\")] = {\"Training Time\":xgb_training_time}"
   ]
  },
  {
   "cell_type": "code",
   "execution_count": 25,
   "id": "a88e1ef4",
   "metadata": {},
   "outputs": [
    {
     "name": "stdout",
     "output_type": "stream",
     "text": [
      "Inference Time: 0.6083838939666748 seconds\n"
     ]
    }
   ],
   "source": [
    "# Start measuring inference time\n",
    "start_time = time.time()\n",
    "\n",
    "# predict on the test set\n",
    "xgb_scored_test = xgb_model.predict_proba(X_test)[:, 1]\n",
    "\n",
    "# End measuring inference time\n",
    "end_time = time.time()\n",
    "\n",
    "# Storing and printing the time\n",
    "xgb_inference_time = end_time - start_time\n",
    "print(f\"Inference Time: {xgb_inference_time} seconds\")\n",
    "inference_times_dict[(variant.split('.')[0], \"XGBoost\")] = {\"Inference Time\":xgb_inference_time}"
   ]
  },
  {
   "cell_type": "code",
   "execution_count": 26,
   "id": "40500131",
   "metadata": {},
   "outputs": [
    {
     "name": "stdout",
     "output_type": "stream",
     "text": [
      "Model TPR: 0.5049, Model FPR: 0.0498, Model Threshold: 0.041099999099969864, Model AUROC: 0.8787\n"
     ]
    }
   ],
   "source": [
    "# Calculate the TPR@5%FPR on the test set\n",
    "metrics_dict = calculate_tpr_at_fpr(y_test, xgb_scored_test, fpr_lim=0.05)\n",
    "performance_results[(variant.split('.')[0], 'XGBoost')] = metrics_dict\n",
    "print(f\"Model TPR: {metrics_dict['TPR']}, Model FPR: {metrics_dict['FPR']}, Model Threshold: {metrics_dict['Threshold']}, Model AUROC: {metrics_dict['AUROC']}\")"
   ]
  },
  {
   "cell_type": "code",
   "execution_count": 27,
   "id": "3baf2148",
   "metadata": {},
   "outputs": [
    {
     "name": "stdout",
     "output_type": "stream",
     "text": [
      "Fairness Ratio: 0.3233\n"
     ]
    }
   ],
   "source": [
    "# Calculate the fairness metrics on the test set\n",
    "fairness_ratio = calculate_fairness_metrics(y_test, xgb_scored_test, X_test, fpr_lim=0.05)\n",
    "fairness_results[(variant.split('.')[0], 'XGBoost')] = {\"Fairness Ratio\":fairness_ratio}\n",
    "print(f\"Fairness Ratio: {fairness_ratio}\")"
   ]
  },
  {
   "cell_type": "markdown",
   "id": "003a8f1f",
   "metadata": {},
   "source": [
    "### CatBoost\n",
    "\n",
    "**CatBoost** is a powerful gradient boosting framework developed by Yandex that is particularly well-suited for working with **categorical features**. It is designed to handle the inherent challenges posed by categorical variables, such as high cardinality and missing values.\n",
    "\n",
    "One of the key advantages of CatBoost is its ability to automatically handle categorical features without requiring explicit preprocessing. It employs an innovative technique called **ordered boosting**, which utilizes a novel algorithm to process categorical variables directly, eliminating the need for one-hot encoding or label encoding. This simplifies the feature engineering process and helps capture valuable information present in categorical features.\n",
    "\n",
    "Additionally, CatBoost implements **gradient-based optimization** to handle numerical features effectively. It leverages the power of gradient boosting to learn complex non-linear relationships and interactions between features, resulting in accurate predictions.\n",
    "\n",
    "CatBoost also includes built-in **robustness** mechanisms to handle missing data in both categorical and numerical features. It can automatically handle missing values during training, reducing the need for imputation.\n",
    "\n",
    "The framework supports various advanced features, such as **regularization**, **cross-validation**, and **early stopping**, which enhance model generalization and prevent overfitting. CatBoost also provides **interpretability** by offering feature importance analysis and visualization tools to understand the impact of different features on the predictions.\n",
    "\n",
    "Furthermore, CatBoost is known for its high performance and scalability. It implements **optimized algorithms** to process large datasets efficiently, making it suitable for both small-scale and large-scale applications.\n",
    "\n",
    "CatBoost is available in multiple programming languages, including Python, R, and Julia, making it accessible to a wide range of users. It integrates well with popular data science libraries and frameworks, enabling seamless integration into existing workflows.\n",
    "\n",
    "Due to its unique handling of categorical features, robustness, and performance, CatBoost has gained popularity in various domains, including advertising, recommendation systems, and fraud detection. It is widely used by data scientists and machine learning practitioners to achieve accurate predictions with minimal feature engineering efforts."
   ]
  },
  {
   "cell_type": "markdown",
   "id": "2e884c58",
   "metadata": {},
   "source": [
    "Uncomment and run this section and skip the next two cells if you don't want to train the model from scratch:"
   ]
  },
  {
   "cell_type": "code",
   "execution_count": 28,
   "id": "0d663390",
   "metadata": {},
   "outputs": [],
   "source": [
    "# Load the saved CatBoost model\n",
    "# cb_model_path = os.path.join(model_path, f\"{variant.split('.')[0]}_cb_model.joblib\")\n",
    "# cb_model = joblib.load(cb_model_path)"
   ]
  },
  {
   "cell_type": "code",
   "execution_count": 29,
   "id": "7e91e8af",
   "metadata": {},
   "outputs": [],
   "source": [
    "# CatBoost model\n",
    "cb_model = cb.CatBoostClassifier(verbose=False)"
   ]
  },
  {
   "cell_type": "markdown",
   "id": "e65f045d-0bc7-4007-a395-74ea1fb48c60",
   "metadata": {},
   "source": [
    "CatBoost offers two options, `scale_pos_weight` and `class_weights`, to handle imbalanced classification. You have the choice to utilize either of them. Experiment with various values for these options to observe the resulting performance changes.\n"
   ]
  },
  {
   "cell_type": "code",
   "execution_count": 30,
   "id": "9bf57c84",
   "metadata": {},
   "outputs": [
    {
     "name": "stderr",
     "output_type": "stream",
     "text": [
      "TBB Warning: The number of workers is currently limited to 1. The request for 31 workers is ignored. Further requests for more workers will be silently ignored until the limit changes.\n",
      "\n"
     ]
    },
    {
     "name": "stdout",
     "output_type": "stream",
     "text": [
      "Training Time: 211.4759864807129 seconds\n"
     ]
    }
   ],
   "source": [
    "# Start measuring training time\n",
    "start_time = time.time()\n",
    "\n",
    "# Training the model\n",
    "cb_model.fit(X_train, y_train)\n",
    "\n",
    "# End measuring training time\n",
    "end_time = time.time()\n",
    "\n",
    "# Storing and printing the time\n",
    "cb_training_time = end_time - start_time\n",
    "print(f\"Training Time: {cb_training_time} seconds\")\n",
    "training_times_dict[(variant.split('.')[0], \"CatBoost\")] = {\"Training Time\":cb_training_time}"
   ]
  },
  {
   "cell_type": "code",
   "execution_count": 31,
   "id": "7c6f462b",
   "metadata": {},
   "outputs": [
    {
     "name": "stdout",
     "output_type": "stream",
     "text": [
      "Inference Time: 0.38869214057922363 seconds\n"
     ]
    }
   ],
   "source": [
    "# Start measuring inference time\n",
    "start_time = time.time()\n",
    "\n",
    "# predict on the test set\n",
    "cb_scored_test = cb_model.predict_proba(X_test)[:, 1]\n",
    "\n",
    "# End measuring inference time\n",
    "end_time = time.time()\n",
    "\n",
    "# Storing and printing the time\n",
    "cb_inference_time = end_time - start_time\n",
    "print(f\"Inference Time: {cb_inference_time} seconds\")\n",
    "inference_times_dict[(variant.split('.')[0], \"CatBoost\")] = {\"Inference Time\":cb_inference_time}"
   ]
  },
  {
   "cell_type": "code",
   "execution_count": 32,
   "id": "98fdb28b",
   "metadata": {},
   "outputs": [
    {
     "name": "stdout",
     "output_type": "stream",
     "text": [
      "Model TPR: 0.5101, Model FPR: 0.0499, Model Threshold: 0.0373, Model AUROC: 0.8836\n"
     ]
    }
   ],
   "source": [
    "# Calculate the TPR@5%FPR on the test set\n",
    "metrics_dict = calculate_tpr_at_fpr(y_test, cb_scored_test, fpr_lim=0.05)\n",
    "performance_results[(variant.split('.')[0], 'CatBoost')] = metrics_dict\n",
    "print(f\"Model TPR: {metrics_dict['TPR']}, Model FPR: {metrics_dict['FPR']}, Model Threshold: {metrics_dict['Threshold']}, Model AUROC: {metrics_dict['AUROC']}\")"
   ]
  },
  {
   "cell_type": "code",
   "execution_count": 33,
   "id": "208d83ff",
   "metadata": {},
   "outputs": [
    {
     "name": "stdout",
     "output_type": "stream",
     "text": [
      "Fairness Ratio: 0.2992\n"
     ]
    }
   ],
   "source": [
    "# Calculate the fairness metrics on the test set\n",
    "fairness_ratio = calculate_fairness_metrics(y_test, cb_scored_test, X_test, fpr_lim=0.05)\n",
    "fairness_results[(variant.split('.')[0], 'CatBoost')] = {\"Fairness Ratio\":fairness_ratio}\n",
    "print(f\"Fairness Ratio: {fairness_ratio}\")"
   ]
  },
  {
   "cell_type": "markdown",
   "id": "1b1bf41e-97d3-4149-b8e1-4a8388054831",
   "metadata": {},
   "source": [
    "### LightGBM\n",
    "\n",
    "**Light GBM** (Light Gradient Boosting Machine) is a gradient boosting framework that offers high performance and efficiency for machine learning tasks. It is designed to handle large-scale datasets and has gained popularity for its speed and accuracy.\n",
    "\n",
    "Light GBM leverages a unique approach to gradient boosting by using a technique called **gradient-based one-sided sampling**. This approach selects only the most informative data instances for building each tree, reducing the computational resources required while maintaining predictive accuracy.\n",
    "\n",
    "Another important feature of Light GBM is its ability to handle **categorical features** directly. It converts categorical variables into numerical values, which improves the model's performance and reduces the need for manual feature engineering.\n",
    "\n",
    "Light GBM employs a **leaf-wise tree growth** strategy, where each tree is grown leaf-wise instead of level-wise. This strategy focuses on growing the leaves that contribute the most to the overall objective function, leading to faster convergence and improved efficiency.\n",
    "\n",
    "The framework also supports various advanced techniques, such as **regularization** (e.g., L1 and L2 regularization), **early stopping**, and **data parallelism**. These techniques enhance model generalization, prevent overfitting, and enable efficient distributed training.\n",
    "\n",
    "Light GBM is implemented in multiple programming languages, including Python, R, and C++. It provides a user-friendly interface and is compatible with popular machine learning libraries like scikit-learn.\n",
    "\n",
    "Due to its speed, scalability, and performance, Light GBM is widely used in various domains, including online advertising, recommendation systems, and fraud detection. It has become a go-to choice for data scientists and machine learning practitioners when working with large datasets and requiring fast and accurate models."
   ]
  },
  {
   "cell_type": "markdown",
   "id": "b302e7e5-284a-447f-88f8-d8b7f2d4752d",
   "metadata": {},
   "source": [
    "Uncomment and run this section and skip the next two cells if you don't want to train the model from scratch:"
   ]
  },
  {
   "cell_type": "code",
   "execution_count": 34,
   "id": "8a76c4e1",
   "metadata": {},
   "outputs": [],
   "source": [
    "# Load the saved Light GBM model\n",
    "# lgbm_model_path = os.path.join(model_path, f\"{variant.split('.')[0]}_lgbm_model.joblib\")\n",
    "# lgbm_model = joblib.load(lgbm_model_path)"
   ]
  },
  {
   "cell_type": "code",
   "execution_count": 35,
   "id": "9af11e1d",
   "metadata": {},
   "outputs": [],
   "source": [
    "# Train a model on the data\n",
    "lgbm_model = lgbm.LGBMClassifier()"
   ]
  },
  {
   "cell_type": "markdown",
   "id": "46b5d80b-405e-49d0-a60b-e2aa89994c13",
   "metadata": {},
   "source": [
    "<code>class_weight</code> is set to <code>None</code> by default. Try setting it to some weights or <code>balanced</code> mode and see how the performance changes."
   ]
  },
  {
   "cell_type": "code",
   "execution_count": 36,
   "id": "e0d3ce11",
   "metadata": {},
   "outputs": [
    {
     "name": "stdout",
     "output_type": "stream",
     "text": [
      "Training Time: 14.779574394226074 seconds\n"
     ]
    }
   ],
   "source": [
    "# Start measuring training time\n",
    "start_time = time.time()\n",
    "\n",
    "# Training the model\n",
    "lgbm_model.fit(X_train, y_train)\n",
    "\n",
    "# End measuring training time\n",
    "end_time = time.time()\n",
    "\n",
    "# Storing and printing the time\n",
    "lgbm_training_time = end_time - start_time\n",
    "print(f\"Training Time: {lgbm_training_time} seconds\")\n",
    "training_times_dict[(variant.split('.')[0], \"Light GBM\")] = {\"Training Time\":lgbm_training_time}"
   ]
  },
  {
   "cell_type": "code",
   "execution_count": 37,
   "id": "b688f2bf",
   "metadata": {},
   "outputs": [
    {
     "name": "stdout",
     "output_type": "stream",
     "text": [
      "Inference Time: 1.1169602870941162 seconds\n"
     ]
    }
   ],
   "source": [
    "# Start measuring inference time\n",
    "start_time = time.time()\n",
    "\n",
    "# predict on the test set\n",
    "lgbm_scored_test = lgbm_model.predict_proba(X_test)[:,1]\n",
    "\n",
    "# End measuring inference time\n",
    "end_time = time.time()\n",
    "\n",
    "# Storing and printing the time\n",
    "lgbm_inference_time = end_time - start_time\n",
    "print(f\"Inference Time: {lgbm_inference_time} seconds\")\n",
    "inference_times_dict[(variant.split('.')[0], \"Light GBM\")] = {\"Inference Time\":lgbm_inference_time}"
   ]
  },
  {
   "cell_type": "code",
   "execution_count": 38,
   "id": "95c9dbf5",
   "metadata": {
    "scrolled": true
   },
   "outputs": [
    {
     "name": "stdout",
     "output_type": "stream",
     "text": [
      "Model TPR: 0.5302, Model FPR: 0.05, Model Threshold: 0.0404, Model AUROC: 0.8898\n"
     ]
    }
   ],
   "source": [
    "# Calculate the  TPR@5%FPR on the test set\n",
    "metrics_dict = calculate_tpr_at_fpr(y_test, lgbm_scored_test, fpr_lim=0.05)\n",
    "performance_results[(variant.split('.')[0], 'Light GBM')] = metrics_dict\n",
    "print(f\"Model TPR: {metrics_dict['TPR']}, Model FPR: {metrics_dict['FPR']}, Model Threshold: {metrics_dict['Threshold']}, Model AUROC: {metrics_dict['AUROC']}\")"
   ]
  },
  {
   "cell_type": "code",
   "execution_count": 39,
   "id": "1d899670",
   "metadata": {},
   "outputs": [
    {
     "name": "stdout",
     "output_type": "stream",
     "text": [
      "Fairness Ratio: 0.3017\n"
     ]
    }
   ],
   "source": [
    "# Calculate the fairness metrics on the test set\n",
    "fairness_ratio = calculate_fairness_metrics(y_test, lgbm_scored_test, X_test, fpr_lim=0.05)\n",
    "fairness_results[(variant.split('.')[0], 'Light GBM')] = {\"Fairness Ratio\":fairness_ratio}\n",
    "print(f\"Fairness Ratio: {fairness_ratio}\")"
   ]
  },
  {
   "cell_type": "markdown",
   "id": "defa525d",
   "metadata": {},
   "source": [
    "## Comparison of Different Gradient Boosting Libraries (XGBoost, CatBoost and Light GBM)\n",
    "\n",
    "### Differences:\n",
    "- **Feature Handling**: XGBoost requires explicit preprocessing of categorical features, while CatBoost natively handles them, and LightGBM uses binning techniques for efficient categorical feature handling.\n",
    "- **Performance and Efficiency**: XGBoost is known for its scalability and optimization, CatBoost emphasizes memory efficiency, and LightGBM offers faster training speed and lower memory usage.\n",
    "- **Parallelization and Distributed Computing**: All three frameworks support parallelization, but XGBoost and CatBoost also provide options for distributed computing.\n",
    "- **Implementation and Community Support**: XGBoost has a longer history, a mature implementation, and a large user community. CatBoost and LightGBM are newer but gaining popularity, with active development communities and good documentation.\n",
    "\n",
    "### Similarities:\n",
    "- **Gradient Boosting**: All three frameworks are based on the gradient boosting technique.\n",
    "- **Ensemble Learning**: They create ensembles by combining multiple weak models (decision trees) for improved predictive power.\n",
    "- **Anomaly Detection**: All three can be used for anomaly detection tasks.\n",
    "- **Widely Used**: XGBoost, CatBoost, and LightGBM are widely used in various domains and have demonstrated success in many machine learning applications.\n"
   ]
  },
  {
   "cell_type": "markdown",
   "id": "0ce58ae6",
   "metadata": {},
   "source": [
    "## Isolation Forest\n",
    "\n",
    "The Isolation Forest (iForest) is an **unsupervised method** for **spotting anomalies** within datasets. It constructs a **forest of isolation trees** where data points are partitioned based on **random feature choices and values**. Anomalies are identified as points that require **fewer splits to become isolated**, assuming they are **distinct from the majority of data points**. This approach is **effective for simple anomalies** but **struggles when anomalies are complex, high-dimensional, or situated in non-linear data configurations**.\n",
    "\n",
    "In this cell, we utilize Scikit-learn's Isolation Forest algorithm for anomaly detection. The Isolation Forest algorithm excels in identifying anomalies by isolating them within a tree-based structure. The `IsolationForest` class is imported from the `ensemble` module.\n",
    "\n",
    "We set the `n_jobs` parameter to -1, which enables the algorithm to leverage all available CPU cores for parallel computations, potentially accelerating the training process. Additionally, we establish a specific random seed, denoted as `seed`, to ensure the reproducibility of results.\n",
    "\n",
    "The Isolation Forest is trained on the `X_train` dataset, containing the feature values of the training instances. Once trained, we compute anomaly scores for the test data using the `decision_function` method. These scores quantify the extent to which each test instance deviates from the norm, where higher scores indicate a higher probability of being an anomaly."
   ]
  },
  {
   "cell_type": "code",
   "execution_count": 40,
   "id": "c72f620d",
   "metadata": {},
   "outputs": [
    {
     "name": "stdout",
     "output_type": "stream",
     "text": [
      "Training Time: 22.956743001937866 seconds\n",
      "Inference Time: 12.167293310165405 seconds\n"
     ]
    }
   ],
   "source": [
    "from sklearn.ensemble import IsolationForest\n",
    "\n",
    "# Train Isolation Forest\n",
    "isolation_forest = IsolationForest(n_jobs=-1, random_state=seed)\n",
    "\n",
    "\n",
    "# Start measuring training time\n",
    "start_time = time.time()\n",
    "\n",
    "# Train\n",
    "isolation_forest.fit(X_train)\n",
    "\n",
    "# End measuring training time\n",
    "end_time = time.time()\n",
    "\n",
    "# Storing and printing the time\n",
    "if_training_time = end_time - start_time\n",
    "print(f\"Training Time: {if_training_time} seconds\")\n",
    "training_times_dict[(variant.split('.')[0], \"IF\")] = {\"Training Time\":if_training_time}\n",
    "\n",
    "\n",
    "# Start measuring inference time\n",
    "start_time = time.time()\n",
    "\n",
    "# Predict\n",
    "isolation_scores = isolation_forest.decision_function(X_test)\n",
    "\n",
    "# End measuring inference time\n",
    "end_time = time.time()\n",
    "\n",
    "# Storing and printing the time\n",
    "if_inference_time = end_time - start_time\n",
    "print(f\"Inference Time: {if_inference_time} seconds\")\n",
    "inference_times_dict[(variant.split('.')[0], \"IF\")] = {\"Inference Time\":if_inference_time}"
   ]
  },
  {
   "cell_type": "markdown",
   "id": "8bde13fc",
   "metadata": {},
   "source": [
    "This cell assesses the performance of the trained Isolation Forest model for anomaly detection. The objective is to gauge its capacity to accurately detect anomalies while managing false positives.\n",
    "\n",
    "In Isolation Forest, the anomaly scores provided by the decision_function method are calculated as the average path length of an instance in the isolation tree forest. An instance with a shorter average path length is considered more anomalous. However, in terms of interpreting the scores, lower values are more indicative of anomalies. Anomalies are expected to have fewer average path lengths due to their isolated nature.\n",
    "\n",
    "By negating the scores, you effectively transform the interpretation so that higher negated scores represent higher anomaly likelihood. This aligns better with the common understanding that higher scores indicate higher degrees of anomalous behavior."
   ]
  },
  {
   "cell_type": "code",
   "execution_count": 41,
   "id": "8c96e285",
   "metadata": {},
   "outputs": [
    {
     "name": "stdout",
     "output_type": "stream",
     "text": [
      "Model TPR: 0.0806, Model FPR: 0.0499, Model Threshold: 0.0155, Model AUROC: 0.5816\n",
      "Fairness Ratio: 0.2516 \n",
      "\n"
     ]
    }
   ],
   "source": [
    "# Calculate TPR@5%FPR for Isolation Forest\n",
    "metrics_dict = calculate_tpr_at_fpr(y_test.values, -isolation_scores, fpr_lim=0.05)\n",
    "performance_results[(variant.split('.')[0], 'IF')] = metrics_dict\n",
    "print(f\"Model TPR: {metrics_dict['TPR']}, Model FPR: {metrics_dict['FPR']}, Model Threshold: {metrics_dict['Threshold']}, Model AUROC: {metrics_dict['AUROC']}\")\n",
    "\n",
    "# Calculate fairness metrics for Isolation Forest\n",
    "fairness_ratio = calculate_fairness_metrics(y_test.values, -isolation_scores, X_test, fpr_lim=0.05)\n",
    "fairness_results[(variant.split('.')[0], 'IF')] = {\"Fairness Ratio\":fairness_ratio}\n",
    "print(f\"Fairness Ratio: {fairness_ratio}\", \"\\n\")"
   ]
  },
  {
   "cell_type": "markdown",
   "id": "3cf3796e",
   "metadata": {},
   "source": [
    "# Results\n",
    "\n",
    "In the forthcoming section, we will present the results obtained from our comprehensive analysis. We will showcase the performance metrics of the evaluated models on the BAF dataset, delving into their effectiveness in detecting fraudulent online bank account opening applications. Moreover, we will explore the fairness metrics, ensuring unbiased decision-making in the context of different user groups. To assess the real-world applicability of the models, we will provide insights into their training and inference times, offering valuable insights into their efficiency and suitability for practical use."
   ]
  },
  {
   "cell_type": "markdown",
   "id": "2458ac75",
   "metadata": {},
   "source": [
    "## Table\n",
    "\n",
    "Below you can see all the result in one table:"
   ]
  },
  {
   "cell_type": "code",
   "execution_count": 42,
   "id": "08effeef",
   "metadata": {},
   "outputs": [],
   "source": [
    "# Create a DataFrame from all results\n",
    "df_performance_results = pd.DataFrame(performance_results).transpose()\n",
    "df_fairness_results = pd.DataFrame(fairness_results).transpose()\n",
    "df_training_times_dict = pd.DataFrame(training_times_dict).transpose()\n",
    "df_inference_times_dict = pd.DataFrame(inference_times_dict).transpose()"
   ]
  },
  {
   "cell_type": "code",
   "execution_count": 43,
   "id": "1c5ad1a8",
   "metadata": {},
   "outputs": [],
   "source": [
    "# concatenate all results together\n",
    "all_results = pd.concat([df_performance_results, df_fairness_results, df_training_times_dict, df_inference_times_dict], axis=1)"
   ]
  },
  {
   "cell_type": "code",
   "execution_count": 44,
   "id": "96344431",
   "metadata": {},
   "outputs": [
    {
     "data": {
      "text/html": [
       "<div>\n",
       "<style scoped>\n",
       "    .dataframe tbody tr th:only-of-type {\n",
       "        vertical-align: middle;\n",
       "    }\n",
       "\n",
       "    .dataframe tbody tr th {\n",
       "        vertical-align: top;\n",
       "    }\n",
       "\n",
       "    .dataframe thead th {\n",
       "        text-align: right;\n",
       "    }\n",
       "</style>\n",
       "<table border=\"1\" class=\"dataframe\">\n",
       "  <thead>\n",
       "    <tr style=\"text-align: right;\">\n",
       "      <th></th>\n",
       "      <th></th>\n",
       "      <th>TPR</th>\n",
       "      <th>FPR</th>\n",
       "      <th>Threshold</th>\n",
       "      <th>AUROC</th>\n",
       "      <th>Fairness Ratio</th>\n",
       "      <th>Training Time</th>\n",
       "      <th>Inference Time</th>\n",
       "    </tr>\n",
       "  </thead>\n",
       "  <tbody>\n",
       "    <tr>\n",
       "      <th rowspan=\"6\" valign=\"top\">Base</th>\n",
       "      <th>Logistic Regression</th>\n",
       "      <td>0.2057</td>\n",
       "      <td>0.0499</td>\n",
       "      <td>0.1125</td>\n",
       "      <td>0.6797</td>\n",
       "      <td>0.3622</td>\n",
       "      <td>127.769074</td>\n",
       "      <td>0.130193</td>\n",
       "    </tr>\n",
       "    <tr>\n",
       "      <th>Random Forest</th>\n",
       "      <td>0.4288</td>\n",
       "      <td>0.0415</td>\n",
       "      <td>0.0900</td>\n",
       "      <td>0.8398</td>\n",
       "      <td>0.3007</td>\n",
       "      <td>264.510923</td>\n",
       "      <td>3.996968</td>\n",
       "    </tr>\n",
       "    <tr>\n",
       "      <th>XGBoost</th>\n",
       "      <td>0.5049</td>\n",
       "      <td>0.0498</td>\n",
       "      <td>0.0411</td>\n",
       "      <td>0.8787</td>\n",
       "      <td>0.3233</td>\n",
       "      <td>337.937892</td>\n",
       "      <td>0.608384</td>\n",
       "    </tr>\n",
       "    <tr>\n",
       "      <th>CatBoost</th>\n",
       "      <td>0.5101</td>\n",
       "      <td>0.0499</td>\n",
       "      <td>0.0373</td>\n",
       "      <td>0.8836</td>\n",
       "      <td>0.2992</td>\n",
       "      <td>211.475986</td>\n",
       "      <td>0.388692</td>\n",
       "    </tr>\n",
       "    <tr>\n",
       "      <th>Light GBM</th>\n",
       "      <td>0.5302</td>\n",
       "      <td>0.0500</td>\n",
       "      <td>0.0404</td>\n",
       "      <td>0.8898</td>\n",
       "      <td>0.3017</td>\n",
       "      <td>14.779574</td>\n",
       "      <td>1.116960</td>\n",
       "    </tr>\n",
       "    <tr>\n",
       "      <th>IF</th>\n",
       "      <td>0.0806</td>\n",
       "      <td>0.0499</td>\n",
       "      <td>0.0155</td>\n",
       "      <td>0.5816</td>\n",
       "      <td>0.2516</td>\n",
       "      <td>22.956743</td>\n",
       "      <td>12.167293</td>\n",
       "    </tr>\n",
       "  </tbody>\n",
       "</table>\n",
       "</div>"
      ],
      "text/plain": [
       "                             TPR     FPR  Threshold   AUROC  Fairness Ratio  \\\n",
       "Base Logistic Regression  0.2057  0.0499     0.1125  0.6797          0.3622   \n",
       "     Random Forest        0.4288  0.0415     0.0900  0.8398          0.3007   \n",
       "     XGBoost              0.5049  0.0498     0.0411  0.8787          0.3233   \n",
       "     CatBoost             0.5101  0.0499     0.0373  0.8836          0.2992   \n",
       "     Light GBM            0.5302  0.0500     0.0404  0.8898          0.3017   \n",
       "     IF                   0.0806  0.0499     0.0155  0.5816          0.2516   \n",
       "\n",
       "                          Training Time  Inference Time  \n",
       "Base Logistic Regression     127.769074        0.130193  \n",
       "     Random Forest           264.510923        3.996968  \n",
       "     XGBoost                 337.937892        0.608384  \n",
       "     CatBoost                211.475986        0.388692  \n",
       "     Light GBM                14.779574        1.116960  \n",
       "     IF                       22.956743       12.167293  "
      ]
     },
     "execution_count": 44,
     "metadata": {},
     "output_type": "execute_result"
    }
   ],
   "source": [
    "all_results"
   ]
  },
  {
   "cell_type": "markdown",
   "id": "258e057a",
   "metadata": {},
   "source": [
    "## Plots\n",
    "\n",
    "The following is 4 plots demonstrating all results for all models:"
   ]
  },
  {
   "cell_type": "code",
   "execution_count": 45,
   "id": "27fdb0db",
   "metadata": {},
   "outputs": [],
   "source": [
    "# Extract TPR values\n",
    "lr_tpr = df_performance_results.loc[(variant.split('.')[0], 'Logistic Regression'), 'TPR']\n",
    "rf_tpr = df_performance_results.loc[(variant.split('.')[0], 'Random Forest'), 'TPR']\n",
    "xgb_tpr = df_performance_results.loc[(variant.split('.')[0], 'XGBoost'), 'TPR']\n",
    "cb_tpr = df_performance_results.loc[(variant.split('.')[0], 'CatBoost'), 'TPR']\n",
    "lgbm_tpr = df_performance_results.loc[(variant.split('.')[0], 'Light GBM'), 'TPR']\n",
    "if_tpr = df_performance_results.loc[(variant.split('.')[0], 'IF'), 'TPR']\n",
    "tpr_values = [lr_tpr, rf_tpr, xgb_tpr, cb_tpr, lgbm_tpr, if_tpr]"
   ]
  },
  {
   "cell_type": "code",
   "execution_count": 46,
   "id": "e3d13940",
   "metadata": {},
   "outputs": [],
   "source": [
    "# Extract Fairness Ratio values\n",
    "lr_fn = df_fairness_results.loc[(variant.split('.')[0], 'Logistic Regression'), 'Fairness Ratio']\n",
    "rf_fn = df_fairness_results.loc[(variant.split('.')[0], 'Random Forest'), 'Fairness Ratio']\n",
    "xgb_fn = df_fairness_results.loc[(variant.split('.')[0], 'XGBoost'), 'Fairness Ratio']\n",
    "cb_fn = df_fairness_results.loc[(variant.split('.')[0], 'CatBoost'), 'Fairness Ratio']\n",
    "lgbm_fn = df_fairness_results.loc[(variant.split('.')[0], 'Light GBM'), 'Fairness Ratio']\n",
    "if_fn = df_fairness_results.loc[(variant.split('.')[0], 'IF'), 'Fairness Ratio']\n",
    "fn_values = [lr_fn, rf_fn, xgb_fn, cb_fn, lgbm_fn, if_fn]"
   ]
  },
  {
   "cell_type": "code",
   "execution_count": 47,
   "id": "1a79ed11",
   "metadata": {},
   "outputs": [],
   "source": [
    "# Extract Training Time values\n",
    "lr_tnt = df_training_times_dict.loc[(variant.split('.')[0], 'Logistic Regression'), 'Training Time']\n",
    "rf_tnt = df_training_times_dict.loc[(variant.split('.')[0], 'Random Forest'), 'Training Time']\n",
    "xgb_tnt = df_training_times_dict.loc[(variant.split('.')[0], 'XGBoost'), 'Training Time']\n",
    "cb_tnt = df_training_times_dict.loc[(variant.split('.')[0], 'CatBoost'), 'Training Time']\n",
    "lgbm_tnt = df_training_times_dict.loc[(variant.split('.')[0], 'Light GBM'), 'Training Time']\n",
    "if_tnt = df_training_times_dict.loc[(variant.split('.')[0], 'IF'), 'Training Time']\n",
    "tnt_values = [lr_tnt, rf_tnt, xgb_tnt, cb_tnt, lgbm_tnt, if_tnt]"
   ]
  },
  {
   "cell_type": "code",
   "execution_count": 48,
   "id": "29e6f720",
   "metadata": {},
   "outputs": [],
   "source": [
    "# Extract Inference Time values\n",
    "lr_inf = df_inference_times_dict.loc[(variant.split('.')[0], 'Logistic Regression'), 'Inference Time']\n",
    "rf_inf = df_inference_times_dict.loc[(variant.split('.')[0], 'Random Forest'), 'Inference Time']\n",
    "xgb_inf = df_inference_times_dict.loc[(variant.split('.')[0], 'XGBoost'), 'Inference Time']\n",
    "cb_inf = df_inference_times_dict.loc[(variant.split('.')[0], 'CatBoost'), 'Inference Time']\n",
    "lgbm_inf = df_inference_times_dict.loc[(variant.split('.')[0], 'Light GBM'), 'Inference Time']\n",
    "if_inf = df_inference_times_dict.loc[(variant.split('.')[0], 'IF'), 'Inference Time']\n",
    "inf_values = [lr_inf, rf_inf, xgb_inf, cb_inf, lgbm_inf, if_inf]"
   ]
  },
  {
   "cell_type": "code",
   "execution_count": 49,
   "id": "9f69d9d2",
   "metadata": {},
   "outputs": [
    {
     "data": {
      "image/png": "[encoded data removed]",
      "text/plain": [
       "<Figure size 1200x1000 with 4 Axes>"
      ]
     },
     "metadata": {},
     "output_type": "display_data"
    }
   ],
   "source": [
    "# Create a 2x2 grid of subplots\n",
    "fig, axs = plt.subplots(2, 2, figsize=(12, 10))\n",
    "\n",
    "models = ['LR', 'RF', 'XGB', 'CB', 'LGBM', 'IF']\n",
    "\n",
    "# Plot TPR values\n",
    "axs[0, 0].bar(models, tpr_values)\n",
    "axs[0, 0].set_xlabel('Models')\n",
    "axs[0, 0].set_ylabel('TPR@5%FPR')\n",
    "axs[0, 0].set_title('Performance')\n",
    "\n",
    "# Plot Fairness Ratio values\n",
    "axs[0, 1].bar(models, fn_values)\n",
    "axs[0, 1].set_xlabel('Models')\n",
    "axs[0, 1].set_ylabel('Fairness Ratio')\n",
    "axs[0, 1].set_title('Fairness')\n",
    "\n",
    "# Plot Training Time values\n",
    "axs[1, 0].bar(models, tnt_values)\n",
    "axs[1, 0].set_xlabel('Models')\n",
    "axs[1, 0].set_ylabel('Training Time')\n",
    "axs[1, 0].set_title('Time')\n",
    "\n",
    "# Plot Inference Time values\n",
    "axs[1, 1].bar(models, inf_values)\n",
    "axs[1, 1].set_xlabel('Models')\n",
    "axs[1, 1].set_ylabel('Inference Time')\n",
    "axs[1, 1].set_title('Time')\n",
    "\n",
    "# Adjust layout\n",
    "plt.tight_layout()\n",
    "\n",
    "# Show the combined plot\n",
    "plt.show()"
   ]
  },
  {
   "cell_type": "code",
   "execution_count": 50,
   "id": "5d1ad3b6",
   "metadata": {},
   "outputs": [
    {
     "data": {
      "image/png": "[encoded data removed]",
      "text/plain": [
       "<Figure size 1000x600 with 1 Axes>"
      ]
     },
     "metadata": {},
     "output_type": "display_data"
    }
   ],
   "source": [
    "# Define the list of model names and their corresponding y_scores\n",
    "model_names = ['LR', 'RF', 'XGB', 'CB', 'LGBM', 'IF']\n",
    "y_scores_dict = {\n",
    "    'LR': lr_scored_test,\n",
    "    'RF': rf_scored_test,\n",
    "    'XGB': xgb_scored_test,\n",
    "    'CB': cb_scored_test,\n",
    "    'LGBM': lgbm_scored_test,\n",
    "    'IF': -isolation_scores,\n",
    "}\n",
    "\n",
    "# Generate FPR values from 5% to 40%\n",
    "fpr_values = np.logspace(np.log10(0.05), np.log10(0.4), num=100)\n",
    "\n",
    "# Initialize a dictionary to store interpolated TPR values for each model\n",
    "interpolated_tpr = {}\n",
    "\n",
    "# Calculate TPR values for each model at the desired FPR points\n",
    "for model_name in model_names:\n",
    "    scored_test = y_scores_dict[model_name]\n",
    "    tpr_list = [calculate_tpr_at_fpr(y_test, scored_test, fpr_lim=i)['TPR'] for i in fpr_values]\n",
    "    interpolated_tpr[model_name] = tpr_list\n",
    "\n",
    "# Plotting\n",
    "plt.figure(figsize=(10, 6))\n",
    "for model_name, model_tpr_interp in interpolated_tpr.items():\n",
    "    plt.plot(fpr_values, model_tpr_interp, label=model_name)\n",
    "\n",
    "plt.xscale('log')\n",
    "plt.xlabel('False Positive Rate (FPR)')\n",
    "plt.ylabel('True Positive Rate (TPR)')\n",
    "plt.title('TPR vs. FPR for Different Models')\n",
    "plt.legend()\n",
    "plt.grid(True)\n",
    "plt.show()"
   ]
  },
  {
   "cell_type": "markdown",
   "id": "0fa77ba0",
   "metadata": {},
   "source": [
    "# Hyperparameter Tuning\n",
    "\n",
    "Hyperparameter tuning is the process of finding the best set of hyperparameters for a machine learning model to achieve optimal performance. Hyperparameters are configuration settings for a model that cannot be learned directly from the data and need to be set before training the model. They control various aspects of the learning process and can significantly impact the model's performance.\n",
    "\n",
    "The provided code performs hyperparameter tuning for LightGBM on BAF dataset using the GridSearchCV method from scikit-learn. \n",
    "\n",
    "The code defines a custom metric function 'TPR_at_05FPR', which calculates the True Positive Rate (TPR) when the False Positive Rate (FPR) is at 5%. This custom metric will be used during the hyperparameter tuning process to optimize for TPR@5%FPR.\n",
    "\n",
    "Hyperparameter grids for each model are defined in the 'param_grids' dictionary. Each model has different hyperparameters, and their possible values are specified in the dictionary. The hyperparameter tuning is performed within a loop that iterates over each model in the 'models' dictionary. For each model, GridSearchCV is used to find the best combination of hyperparameters from the corresponding 'param_grids' using the custom metric 'TPR_at_05FPR' as the scoring metric. The hyperparameter tuning is performed using 5-fold cross-validation.\n",
    "\n",
    "After finding the best hyperparameters, the code trains the model on the training data using these optimized hyperparameters. Then, it predicts the target variable on the test data and evaluates the model's performance, which computes various metrics."
   ]
  },
  {
   "cell_type": "code",
   "execution_count": 51,
   "id": "22f56afc",
   "metadata": {
    "scrolled": true
   },
   "outputs": [
    {
     "name": "stdout",
     "output_type": "stream",
     "text": [
      "Hyperparameter tuning for LightGBM on Base...\n",
      "[LightGBM] [Warning] min_data_in_leaf is set=10, min_child_samples=20 will be ignored. Current value: min_data_in_leaf=10\n",
      "[LightGBM] [Warning] min_data_in_leaf is set=10, min_child_samples=20 will be ignored. Current value: min_data_in_leaf=10\n",
      "[LightGBM] [Warning] min_data_in_leaf is set=10, min_child_samples=20 will be ignored. Current value: min_data_in_leaf=10\n",
      "[LightGBM] [Warning] min_data_in_leaf is set=10, min_child_samples=20 will be ignored. Current value: min_data_in_leaf=10\n",
      "[LightGBM] [Warning] min_data_in_leaf is set=10, min_child_samples=20 will be ignored. Current value: min_data_in_leaf=10\n",
      "[LightGBM] [Warning] min_data_in_leaf is set=10, min_child_samples=20 will be ignored. Current value: min_data_in_leaf=10\n",
      "[LightGBM] [Warning] min_data_in_leaf is set=10, min_child_samples=20 will be ignored. Current value: min_data_in_leaf=10\n",
      "[LightGBM] [Warning] min_data_in_leaf is set=10, min_child_samples=20 will be ignored. Current value: min_data_in_leaf=10\n",
      "[LightGBM] [Warning] min_data_in_leaf is set=10, min_child_samples=20 will be ignored. Current value: min_data_in_leaf=10\n",
      "[LightGBM] [Warning] min_data_in_leaf is set=10, min_child_samples=20 will be ignored. Current value: min_data_in_leaf=10\n",
      "[LightGBM] [Warning] min_data_in_leaf is set=10, min_child_samples=20 will be ignored. Current value: min_data_in_leaf=10\n",
      "[LightGBM] [Warning] min_data_in_leaf is set=10, min_child_samples=20 will be ignored. Current value: min_data_in_leaf=10\n",
      "[LightGBM] [Warning] min_data_in_leaf is set=10, min_child_samples=20 will be ignored. Current value: min_data_in_leaf=10\n",
      "[LightGBM] [Warning] min_data_in_leaf is set=10, min_child_samples=20 will be ignored. Current value: min_data_in_leaf=10\n",
      "[LightGBM] [Warning] min_data_in_leaf is set=10, min_child_samples=20 will be ignored. Current value: min_data_in_leaf=10\n",
      "[LightGBM] [Warning] min_data_in_leaf is set=10, min_child_samples=20 will be ignored. Current value: min_data_in_leaf=10\n",
      "[LightGBM] [Warning] min_data_in_leaf is set=10, min_child_samples=20 will be ignored. Current value: min_data_in_leaf=10\n",
      "[LightGBM] [Warning] min_data_in_leaf is set=10, min_child_samples=20 will be ignored. Current value: min_data_in_leaf=10\n",
      "[LightGBM] [Warning] min_data_in_leaf is set=10, min_child_samples=20 will be ignored. Current value: min_data_in_leaf=10\n",
      "[LightGBM] [Warning] min_data_in_leaf is set=10, min_child_samples=20 will be ignored. Current value: min_data_in_leaf=10\n",
      "[LightGBM] [Warning] min_data_in_leaf is set=10, min_child_samples=20 will be ignored. Current value: min_data_in_leaf=10\n",
      "[LightGBM] [Warning] min_data_in_leaf is set=10, min_child_samples=20 will be ignored. Current value: min_data_in_leaf=10\n",
      "[LightGBM] [Warning] min_data_in_leaf is set=10, min_child_samples=20 will be ignored. Current value: min_data_in_leaf=10\n",
      "[LightGBM] [Warning] min_data_in_leaf is set=10, min_child_samples=20 will be ignored. Current value: min_data_in_leaf=10\n",
      "[LightGBM] [Warning] min_data_in_leaf is set=10, min_child_samples=20 will be ignored. Current value: min_data_in_leaf=10\n",
      "[LightGBM] [Warning] min_data_in_leaf is set=10, min_child_samples=20 will be ignored. Current value: min_data_in_leaf=10\n",
      "[LightGBM] [Warning] min_data_in_leaf is set=10, min_child_samples=20 will be ignored. Current value: min_data_in_leaf=10\n",
      "[LightGBM] [Warning] min_data_in_leaf is set=10, min_child_samples=20 will be ignored. Current value: min_data_in_leaf=10\n",
      "[LightGBM] [Warning] min_data_in_leaf is set=10, min_child_samples=20 will be ignored. Current value: min_data_in_leaf=10\n",
      "[LightGBM] [Warning] min_data_in_leaf is set=10, min_child_samples=20 will be ignored. Current value: min_data_in_leaf=10\n",
      "[LightGBM] [Warning] min_data_in_leaf is set=10, min_child_samples=20 will be ignored. Current value: min_data_in_leaf=10\n",
      "[LightGBM] [Warning] min_data_in_leaf is set=10, min_child_samples=20 will be ignored. Current value: min_data_in_leaf=10\n",
      "[LightGBM] [Warning] min_data_in_leaf is set=10, min_child_samples=20 will be ignored. Current value: min_data_in_leaf=10\n",
      "[LightGBM] [Warning] min_data_in_leaf is set=10, min_child_samples=20 will be ignored. Current value: min_data_in_leaf=10\n",
      "[LightGBM] [Warning] min_data_in_leaf is set=10, min_child_samples=20 will be ignored. Current value: min_data_in_leaf=10\n",
      "[LightGBM] [Warning] min_data_in_leaf is set=10, min_child_samples=20 will be ignored. Current value: min_data_in_leaf=10\n",
      "[LightGBM] [Warning] min_data_in_leaf is set=10, min_child_samples=20 will be ignored. Current value: min_data_in_leaf=10\n",
      "[LightGBM] [Warning] min_data_in_leaf is set=10, min_child_samples=20 will be ignored. Current value: min_data_in_leaf=10\n",
      "[LightGBM] [Warning] min_data_in_leaf is set=10, min_child_samples=20 will be ignored. Current value: min_data_in_leaf=10\n",
      "[LightGBM] [Warning] min_data_in_leaf is set=10, min_child_samples=20 will be ignored. Current value: min_data_in_leaf=10\n",
      "[LightGBM] [Warning] min_data_in_leaf is set=10, min_child_samples=20 will be ignored. Current value: min_data_in_leaf=10\n",
      "[LightGBM] [Warning] min_data_in_leaf is set=10, min_child_samples=20 will be ignored. Current value: min_data_in_leaf=10\n",
      "[LightGBM] [Warning] min_data_in_leaf is set=10, min_child_samples=20 will be ignored. Current value: min_data_in_leaf=10\n",
      "[LightGBM] [Warning] min_data_in_leaf is set=10, min_child_samples=20 will be ignored. Current value: min_data_in_leaf=10\n",
      "[LightGBM] [Warning] min_data_in_leaf is set=10, min_child_samples=20 will be ignored. Current value: min_data_in_leaf=10\n",
      "[LightGBM] [Warning] min_data_in_leaf is set=25, min_child_samples=20 will be ignored. Current value: min_data_in_leaf=25\n",
      "[LightGBM] [Warning] min_data_in_leaf is set=25, min_child_samples=20 will be ignored. Current value: min_data_in_leaf=25\n",
      "[LightGBM] [Warning] min_data_in_leaf is set=25, min_child_samples=20 will be ignored. Current value: min_data_in_leaf=25\n",
      "[LightGBM] [Warning] min_data_in_leaf is set=25, min_child_samples=20 will be ignored. Current value: min_data_in_leaf=25\n",
      "[LightGBM] [Warning] min_data_in_leaf is set=25, min_child_samples=20 will be ignored. Current value: min_data_in_leaf=25\n",
      "[LightGBM] [Warning] min_data_in_leaf is set=25, min_child_samples=20 will be ignored. Current value: min_data_in_leaf=25\n",
      "[LightGBM] [Warning] min_data_in_leaf is set=25, min_child_samples=20 will be ignored. Current value: min_data_in_leaf=25\n",
      "[LightGBM] [Warning] min_data_in_leaf is set=25, min_child_samples=20 will be ignored. Current value: min_data_in_leaf=25\n",
      "[LightGBM] [Warning] min_data_in_leaf is set=25, min_child_samples=20 will be ignored. Current value: min_data_in_leaf=25\n",
      "[LightGBM] [Warning] min_data_in_leaf is set=25, min_child_samples=20 will be ignored. Current value: min_data_in_leaf=25\n",
      "[LightGBM] [Warning] min_data_in_leaf is set=25, min_child_samples=20 will be ignored. Current value: min_data_in_leaf=25\n",
      "[LightGBM] [Warning] min_data_in_leaf is set=25, min_child_samples=20 will be ignored. Current value: min_data_in_leaf=25\n",
      "[LightGBM] [Warning] min_data_in_leaf is set=25, min_child_samples=20 will be ignored. Current value: min_data_in_leaf=25\n",
      "[LightGBM] [Warning] min_data_in_leaf is set=25, min_child_samples=20 will be ignored. Current value: min_data_in_leaf=25\n",
      "[LightGBM] [Warning] min_data_in_leaf is set=25, min_child_samples=20 will be ignored. Current value: min_data_in_leaf=25\n",
      "[LightGBM] [Warning] min_data_in_leaf is set=25, min_child_samples=20 will be ignored. Current value: min_data_in_leaf=25\n",
      "[LightGBM] [Warning] min_data_in_leaf is set=25, min_child_samples=20 will be ignored. Current value: min_data_in_leaf=25\n",
      "[LightGBM] [Warning] min_data_in_leaf is set=25, min_child_samples=20 will be ignored. Current value: min_data_in_leaf=25\n",
      "[LightGBM] [Warning] min_data_in_leaf is set=25, min_child_samples=20 will be ignored. Current value: min_data_in_leaf=25\n",
      "[LightGBM] [Warning] min_data_in_leaf is set=25, min_child_samples=20 will be ignored. Current value: min_data_in_leaf=25\n",
      "[LightGBM] [Warning] min_data_in_leaf is set=25, min_child_samples=20 will be ignored. Current value: min_data_in_leaf=25\n",
      "[LightGBM] [Warning] min_data_in_leaf is set=25, min_child_samples=20 will be ignored. Current value: min_data_in_leaf=25\n"
     ]
    },
    {
     "name": "stdout",
     "output_type": "stream",
     "text": [
      "[LightGBM] [Warning] min_data_in_leaf is set=25, min_child_samples=20 will be ignored. Current value: min_data_in_leaf=25\n",
      "[LightGBM] [Warning] min_data_in_leaf is set=25, min_child_samples=20 will be ignored. Current value: min_data_in_leaf=25\n",
      "[LightGBM] [Warning] min_data_in_leaf is set=25, min_child_samples=20 will be ignored. Current value: min_data_in_leaf=25\n",
      "[LightGBM] [Warning] min_data_in_leaf is set=25, min_child_samples=20 will be ignored. Current value: min_data_in_leaf=25\n",
      "[LightGBM] [Warning] min_data_in_leaf is set=25, min_child_samples=20 will be ignored. Current value: min_data_in_leaf=25\n",
      "[LightGBM] [Warning] min_data_in_leaf is set=25, min_child_samples=20 will be ignored. Current value: min_data_in_leaf=25\n",
      "[LightGBM] [Warning] min_data_in_leaf is set=25, min_child_samples=20 will be ignored. Current value: min_data_in_leaf=25\n",
      "[LightGBM] [Warning] min_data_in_leaf is set=25, min_child_samples=20 will be ignored. Current value: min_data_in_leaf=25\n",
      "[LightGBM] [Warning] min_data_in_leaf is set=25, min_child_samples=20 will be ignored. Current value: min_data_in_leaf=25\n",
      "[LightGBM] [Warning] min_data_in_leaf is set=25, min_child_samples=20 will be ignored. Current value: min_data_in_leaf=25\n",
      "[LightGBM] [Warning] min_data_in_leaf is set=25, min_child_samples=20 will be ignored. Current value: min_data_in_leaf=25\n",
      "[LightGBM] [Warning] min_data_in_leaf is set=25, min_child_samples=20 will be ignored. Current value: min_data_in_leaf=25\n",
      "[LightGBM] [Warning] min_data_in_leaf is set=25, min_child_samples=20 will be ignored. Current value: min_data_in_leaf=25\n",
      "[LightGBM] [Warning] min_data_in_leaf is set=25, min_child_samples=20 will be ignored. Current value: min_data_in_leaf=25\n",
      "[LightGBM] [Warning] min_data_in_leaf is set=25, min_child_samples=20 will be ignored. Current value: min_data_in_leaf=25\n",
      "[LightGBM] [Warning] min_data_in_leaf is set=25, min_child_samples=20 will be ignored. Current value: min_data_in_leaf=25\n",
      "[LightGBM] [Warning] min_data_in_leaf is set=25, min_child_samples=20 will be ignored. Current value: min_data_in_leaf=25\n",
      "[LightGBM] [Warning] min_data_in_leaf is set=25, min_child_samples=20 will be ignored. Current value: min_data_in_leaf=25\n",
      "[LightGBM] [Warning] min_data_in_leaf is set=25, min_child_samples=20 will be ignored. Current value: min_data_in_leaf=25\n",
      "[LightGBM] [Warning] min_data_in_leaf is set=25, min_child_samples=20 will be ignored. Current value: min_data_in_leaf=25\n",
      "[LightGBM] [Warning] min_data_in_leaf is set=25, min_child_samples=20 will be ignored. Current value: min_data_in_leaf=25\n",
      "[LightGBM] [Warning] min_data_in_leaf is set=25, min_child_samples=20 will be ignored. Current value: min_data_in_leaf=25\n",
      "[LightGBM] [Warning] min_data_in_leaf is set=25, min_child_samples=20 will be ignored. Current value: min_data_in_leaf=25\n",
      "[LightGBM] [Warning] min_data_in_leaf is set=50, min_child_samples=20 will be ignored. Current value: min_data_in_leaf=50\n",
      "[LightGBM] [Warning] min_data_in_leaf is set=50, min_child_samples=20 will be ignored. Current value: min_data_in_leaf=50\n",
      "[LightGBM] [Warning] min_data_in_leaf is set=50, min_child_samples=20 will be ignored. Current value: min_data_in_leaf=50\n",
      "[LightGBM] [Warning] min_data_in_leaf is set=50, min_child_samples=20 will be ignored. Current value: min_data_in_leaf=50\n",
      "[LightGBM] [Warning] min_data_in_leaf is set=50, min_child_samples=20 will be ignored. Current value: min_data_in_leaf=50\n",
      "[LightGBM] [Warning] min_data_in_leaf is set=50, min_child_samples=20 will be ignored. Current value: min_data_in_leaf=50\n",
      "[LightGBM] [Warning] min_data_in_leaf is set=50, min_child_samples=20 will be ignored. Current value: min_data_in_leaf=50\n",
      "[LightGBM] [Warning] min_data_in_leaf is set=50, min_child_samples=20 will be ignored. Current value: min_data_in_leaf=50\n",
      "[LightGBM] [Warning] min_data_in_leaf is set=50, min_child_samples=20 will be ignored. Current value: min_data_in_leaf=50\n",
      "[LightGBM] [Warning] min_data_in_leaf is set=50, min_child_samples=20 will be ignored. Current value: min_data_in_leaf=50\n",
      "[LightGBM] [Warning] min_data_in_leaf is set=50, min_child_samples=20 will be ignored. Current value: min_data_in_leaf=50\n",
      "[LightGBM] [Warning] min_data_in_leaf is set=50, min_child_samples=20 will be ignored. Current value: min_data_in_leaf=50\n",
      "[LightGBM] [Warning] min_data_in_leaf is set=50, min_child_samples=20 will be ignored. Current value: min_data_in_leaf=50\n",
      "[LightGBM] [Warning] min_data_in_leaf is set=50, min_child_samples=20 will be ignored. Current value: min_data_in_leaf=50\n",
      "[LightGBM] [Warning] min_data_in_leaf is set=50, min_child_samples=20 will be ignored. Current value: min_data_in_leaf=50\n",
      "[LightGBM] [Warning] min_data_in_leaf is set=50, min_child_samples=20 will be ignored. Current value: min_data_in_leaf=50\n",
      "[LightGBM] [Warning] min_data_in_leaf is set=50, min_child_samples=20 will be ignored. Current value: min_data_in_leaf=50\n",
      "[LightGBM] [Warning] min_data_in_leaf is set=50, min_child_samples=20 will be ignored. Current value: min_data_in_leaf=50\n",
      "[LightGBM] [Warning] min_data_in_leaf is set=50, min_child_samples=20 will be ignored. Current value: min_data_in_leaf=50\n",
      "[LightGBM] [Warning] min_data_in_leaf is set=50, min_child_samples=20 will be ignored. Current value: min_data_in_leaf=50\n",
      "[LightGBM] [Warning] min_data_in_leaf is set=50, min_child_samples=20 will be ignored. Current value: min_data_in_leaf=50\n",
      "[LightGBM] [Warning] min_data_in_leaf is set=50, min_child_samples=20 will be ignored. Current value: min_data_in_leaf=50\n",
      "[LightGBM] [Warning] min_data_in_leaf is set=50, min_child_samples=20 will be ignored. Current value: min_data_in_leaf=50\n",
      "[LightGBM] [Warning] min_data_in_leaf is set=50, min_child_samples=20 will be ignored. Current value: min_data_in_leaf=50\n",
      "[LightGBM] [Warning] min_data_in_leaf is set=50, min_child_samples=20 will be ignored. Current value: min_data_in_leaf=50\n",
      "[LightGBM] [Warning] min_data_in_leaf is set=50, min_child_samples=20 will be ignored. Current value: min_data_in_leaf=50\n",
      "[LightGBM] [Warning] min_data_in_leaf is set=50, min_child_samples=20 will be ignored. Current value: min_data_in_leaf=50\n",
      "[LightGBM] [Warning] min_data_in_leaf is set=50, min_child_samples=20 will be ignored. Current value: min_data_in_leaf=50\n",
      "[LightGBM] [Warning] min_data_in_leaf is set=50, min_child_samples=20 will be ignored. Current value: min_data_in_leaf=50\n",
      "[LightGBM] [Warning] min_data_in_leaf is set=50, min_child_samples=20 will be ignored. Current value: min_data_in_leaf=50\n",
      "[LightGBM] [Warning] min_data_in_leaf is set=50, min_child_samples=20 will be ignored. Current value: min_data_in_leaf=50\n",
      "[LightGBM] [Warning] min_data_in_leaf is set=50, min_child_samples=20 will be ignored. Current value: min_data_in_leaf=50\n",
      "[LightGBM] [Warning] min_data_in_leaf is set=50, min_child_samples=20 will be ignored. Current value: min_data_in_leaf=50\n",
      "[LightGBM] [Warning] min_data_in_leaf is set=50, min_child_samples=20 will be ignored. Current value: min_data_in_leaf=50\n",
      "[LightGBM] [Warning] min_data_in_leaf is set=50, min_child_samples=20 will be ignored. Current value: min_data_in_leaf=50\n",
      "[LightGBM] [Warning] min_data_in_leaf is set=50, min_child_samples=20 will be ignored. Current value: min_data_in_leaf=50\n",
      "[LightGBM] [Warning] min_data_in_leaf is set=50, min_child_samples=20 will be ignored. Current value: min_data_in_leaf=50\n",
      "[LightGBM] [Warning] min_data_in_leaf is set=50, min_child_samples=20 will be ignored. Current value: min_data_in_leaf=50\n",
      "[LightGBM] [Warning] min_data_in_leaf is set=50, min_child_samples=20 will be ignored. Current value: min_data_in_leaf=50\n",
      "[LightGBM] [Warning] min_data_in_leaf is set=50, min_child_samples=20 will be ignored. Current value: min_data_in_leaf=50\n",
      "[LightGBM] [Warning] min_data_in_leaf is set=50, min_child_samples=20 will be ignored. Current value: min_data_in_leaf=50\n",
      "[LightGBM] [Warning] min_data_in_leaf is set=50, min_child_samples=20 will be ignored. Current value: min_data_in_leaf=50\n",
      "[LightGBM] [Warning] min_data_in_leaf is set=50, min_child_samples=20 will be ignored. Current value: min_data_in_leaf=50\n",
      "[LightGBM] [Warning] min_data_in_leaf is set=50, min_child_samples=20 will be ignored. Current value: min_data_in_leaf=50\n",
      "[LightGBM] [Warning] min_data_in_leaf is set=50, min_child_samples=20 will be ignored. Current value: min_data_in_leaf=50\n"
     ]
    },
    {
     "name": "stdout",
     "output_type": "stream",
     "text": [
      "[LightGBM] [Warning] min_data_in_leaf is set=10, min_child_samples=20 will be ignored. Current value: min_data_in_leaf=10\n",
      "[LightGBM] [Warning] min_data_in_leaf is set=10, min_child_samples=20 will be ignored. Current value: min_data_in_leaf=10\n",
      "[LightGBM] [Warning] min_data_in_leaf is set=10, min_child_samples=20 will be ignored. Current value: min_data_in_leaf=10\n",
      "[LightGBM] [Warning] min_data_in_leaf is set=10, min_child_samples=20 will be ignored. Current value: min_data_in_leaf=10\n",
      "[LightGBM] [Warning] min_data_in_leaf is set=10, min_child_samples=20 will be ignored. Current value: min_data_in_leaf=10\n",
      "[LightGBM] [Warning] min_data_in_leaf is set=10, min_child_samples=20 will be ignored. Current value: min_data_in_leaf=10\n",
      "[LightGBM] [Warning] min_data_in_leaf is set=10, min_child_samples=20 will be ignored. Current value: min_data_in_leaf=10\n",
      "[LightGBM] [Warning] min_data_in_leaf is set=10, min_child_samples=20 will be ignored. Current value: min_data_in_leaf=10\n",
      "[LightGBM] [Warning] min_data_in_leaf is set=10, min_child_samples=20 will be ignored. Current value: min_data_in_leaf=10\n",
      "[LightGBM] [Warning] min_data_in_leaf is set=10, min_child_samples=20 will be ignored. Current value: min_data_in_leaf=10\n",
      "[LightGBM] [Warning] min_data_in_leaf is set=10, min_child_samples=20 will be ignored. Current value: min_data_in_leaf=10\n",
      "[LightGBM] [Warning] min_data_in_leaf is set=10, min_child_samples=20 will be ignored. Current value: min_data_in_leaf=10\n",
      "[LightGBM] [Warning] min_data_in_leaf is set=10, min_child_samples=20 will be ignored. Current value: min_data_in_leaf=10\n",
      "[LightGBM] [Warning] min_data_in_leaf is set=10, min_child_samples=20 will be ignored. Current value: min_data_in_leaf=10\n",
      "[LightGBM] [Warning] min_data_in_leaf is set=10, min_child_samples=20 will be ignored. Current value: min_data_in_leaf=10\n",
      "[LightGBM] [Warning] min_data_in_leaf is set=10, min_child_samples=20 will be ignored. Current value: min_data_in_leaf=10\n",
      "[LightGBM] [Warning] min_data_in_leaf is set=10, min_child_samples=20 will be ignored. Current value: min_data_in_leaf=10\n",
      "[LightGBM] [Warning] min_data_in_leaf is set=10, min_child_samples=20 will be ignored. Current value: min_data_in_leaf=10\n",
      "[LightGBM] [Warning] min_data_in_leaf is set=10, min_child_samples=20 will be ignored. Current value: min_data_in_leaf=10\n",
      "[LightGBM] [Warning] min_data_in_leaf is set=10, min_child_samples=20 will be ignored. Current value: min_data_in_leaf=10\n",
      "[LightGBM] [Warning] min_data_in_leaf is set=10, min_child_samples=20 will be ignored. Current value: min_data_in_leaf=10\n",
      "[LightGBM] [Warning] min_data_in_leaf is set=10, min_child_samples=20 will be ignored. Current value: min_data_in_leaf=10\n",
      "[LightGBM] [Warning] min_data_in_leaf is set=10, min_child_samples=20 will be ignored. Current value: min_data_in_leaf=10\n",
      "[LightGBM] [Warning] min_data_in_leaf is set=10, min_child_samples=20 will be ignored. Current value: min_data_in_leaf=10\n",
      "[LightGBM] [Warning] min_data_in_leaf is set=10, min_child_samples=20 will be ignored. Current value: min_data_in_leaf=10\n",
      "[LightGBM] [Warning] min_data_in_leaf is set=10, min_child_samples=20 will be ignored. Current value: min_data_in_leaf=10\n",
      "[LightGBM] [Warning] min_data_in_leaf is set=10, min_child_samples=20 will be ignored. Current value: min_data_in_leaf=10\n",
      "[LightGBM] [Warning] min_data_in_leaf is set=10, min_child_samples=20 will be ignored. Current value: min_data_in_leaf=10\n",
      "[LightGBM] [Warning] min_data_in_leaf is set=10, min_child_samples=20 will be ignored. Current value: min_data_in_leaf=10\n",
      "[LightGBM] [Warning] min_data_in_leaf is set=10, min_child_samples=20 will be ignored. Current value: min_data_in_leaf=10\n",
      "[LightGBM] [Warning] min_data_in_leaf is set=10, min_child_samples=20 will be ignored. Current value: min_data_in_leaf=10\n",
      "[LightGBM] [Warning] min_data_in_leaf is set=10, min_child_samples=20 will be ignored. Current value: min_data_in_leaf=10\n",
      "[LightGBM] [Warning] min_data_in_leaf is set=10, min_child_samples=20 will be ignored. Current value: min_data_in_leaf=10\n",
      "[LightGBM] [Warning] min_data_in_leaf is set=10, min_child_samples=20 will be ignored. Current value: min_data_in_leaf=10\n",
      "[LightGBM] [Warning] min_data_in_leaf is set=10, min_child_samples=20 will be ignored. Current value: min_data_in_leaf=10\n",
      "[LightGBM] [Warning] min_data_in_leaf is set=10, min_child_samples=20 will be ignored. Current value: min_data_in_leaf=10\n",
      "[LightGBM] [Warning] min_data_in_leaf is set=10, min_child_samples=20 will be ignored. Current value: min_data_in_leaf=10\n",
      "[LightGBM] [Warning] min_data_in_leaf is set=10, min_child_samples=20 will be ignored. Current value: min_data_in_leaf=10\n",
      "[LightGBM] [Warning] min_data_in_leaf is set=10, min_child_samples=20 will be ignored. Current value: min_data_in_leaf=10\n",
      "[LightGBM] [Warning] min_data_in_leaf is set=10, min_child_samples=20 will be ignored. Current value: min_data_in_leaf=10\n",
      "[LightGBM] [Warning] min_data_in_leaf is set=10, min_child_samples=20 will be ignored. Current value: min_data_in_leaf=10\n",
      "[LightGBM] [Warning] min_data_in_leaf is set=10, min_child_samples=20 will be ignored. Current value: min_data_in_leaf=10\n",
      "[LightGBM] [Warning] min_data_in_leaf is set=10, min_child_samples=20 will be ignored. Current value: min_data_in_leaf=10\n",
      "[LightGBM] [Warning] min_data_in_leaf is set=10, min_child_samples=20 will be ignored. Current value: min_data_in_leaf=10\n",
      "[LightGBM] [Warning] min_data_in_leaf is set=10, min_child_samples=20 will be ignored. Current value: min_data_in_leaf=10\n",
      "[LightGBM] [Warning] min_data_in_leaf is set=25, min_child_samples=20 will be ignored. Current value: min_data_in_leaf=25\n",
      "[LightGBM] [Warning] min_data_in_leaf is set=25, min_child_samples=20 will be ignored. Current value: min_data_in_leaf=25\n",
      "[LightGBM] [Warning] min_data_in_leaf is set=25, min_child_samples=20 will be ignored. Current value: min_data_in_leaf=25\n",
      "[LightGBM] [Warning] min_data_in_leaf is set=25, min_child_samples=20 will be ignored. Current value: min_data_in_leaf=25\n",
      "[LightGBM] [Warning] min_data_in_leaf is set=25, min_child_samples=20 will be ignored. Current value: min_data_in_leaf=25\n",
      "[LightGBM] [Warning] min_data_in_leaf is set=25, min_child_samples=20 will be ignored. Current value: min_data_in_leaf=25\n",
      "[LightGBM] [Warning] min_data_in_leaf is set=25, min_child_samples=20 will be ignored. Current value: min_data_in_leaf=25\n",
      "[LightGBM] [Warning] min_data_in_leaf is set=25, min_child_samples=20 will be ignored. Current value: min_data_in_leaf=25\n",
      "[LightGBM] [Warning] min_data_in_leaf is set=25, min_child_samples=20 will be ignored. Current value: min_data_in_leaf=25\n",
      "[LightGBM] [Warning] min_data_in_leaf is set=25, min_child_samples=20 will be ignored. Current value: min_data_in_leaf=25\n",
      "[LightGBM] [Warning] min_data_in_leaf is set=25, min_child_samples=20 will be ignored. Current value: min_data_in_leaf=25\n",
      "[LightGBM] [Warning] min_data_in_leaf is set=25, min_child_samples=20 will be ignored. Current value: min_data_in_leaf=25\n",
      "[LightGBM] [Warning] min_data_in_leaf is set=25, min_child_samples=20 will be ignored. Current value: min_data_in_leaf=25\n",
      "[LightGBM] [Warning] min_data_in_leaf is set=25, min_child_samples=20 will be ignored. Current value: min_data_in_leaf=25\n",
      "[LightGBM] [Warning] min_data_in_leaf is set=25, min_child_samples=20 will be ignored. Current value: min_data_in_leaf=25\n",
      "[LightGBM] [Warning] min_data_in_leaf is set=25, min_child_samples=20 will be ignored. Current value: min_data_in_leaf=25\n",
      "[LightGBM] [Warning] min_data_in_leaf is set=25, min_child_samples=20 will be ignored. Current value: min_data_in_leaf=25\n",
      "[LightGBM] [Warning] min_data_in_leaf is set=25, min_child_samples=20 will be ignored. Current value: min_data_in_leaf=25\n",
      "[LightGBM] [Warning] min_data_in_leaf is set=25, min_child_samples=20 will be ignored. Current value: min_data_in_leaf=25\n",
      "[LightGBM] [Warning] min_data_in_leaf is set=25, min_child_samples=20 will be ignored. Current value: min_data_in_leaf=25\n",
      "[LightGBM] [Warning] min_data_in_leaf is set=25, min_child_samples=20 will be ignored. Current value: min_data_in_leaf=25\n",
      "[LightGBM] [Warning] min_data_in_leaf is set=25, min_child_samples=20 will be ignored. Current value: min_data_in_leaf=25\n",
      "[LightGBM] [Warning] min_data_in_leaf is set=25, min_child_samples=20 will be ignored. Current value: min_data_in_leaf=25\n"
     ]
    },
    {
     "name": "stdout",
     "output_type": "stream",
     "text": [
      "[LightGBM] [Warning] min_data_in_leaf is set=25, min_child_samples=20 will be ignored. Current value: min_data_in_leaf=25\n",
      "[LightGBM] [Warning] min_data_in_leaf is set=25, min_child_samples=20 will be ignored. Current value: min_data_in_leaf=25\n",
      "[LightGBM] [Warning] min_data_in_leaf is set=25, min_child_samples=20 will be ignored. Current value: min_data_in_leaf=25\n",
      "[LightGBM] [Warning] min_data_in_leaf is set=25, min_child_samples=20 will be ignored. Current value: min_data_in_leaf=25\n",
      "[LightGBM] [Warning] min_data_in_leaf is set=25, min_child_samples=20 will be ignored. Current value: min_data_in_leaf=25\n",
      "[LightGBM] [Warning] min_data_in_leaf is set=25, min_child_samples=20 will be ignored. Current value: min_data_in_leaf=25\n",
      "[LightGBM] [Warning] min_data_in_leaf is set=25, min_child_samples=20 will be ignored. Current value: min_data_in_leaf=25\n",
      "[LightGBM] [Warning] min_data_in_leaf is set=25, min_child_samples=20 will be ignored. Current value: min_data_in_leaf=25\n",
      "[LightGBM] [Warning] min_data_in_leaf is set=25, min_child_samples=20 will be ignored. Current value: min_data_in_leaf=25\n",
      "[LightGBM] [Warning] min_data_in_leaf is set=25, min_child_samples=20 will be ignored. Current value: min_data_in_leaf=25\n",
      "[LightGBM] [Warning] min_data_in_leaf is set=25, min_child_samples=20 will be ignored. Current value: min_data_in_leaf=25\n",
      "[LightGBM] [Warning] min_data_in_leaf is set=25, min_child_samples=20 will be ignored. Current value: min_data_in_leaf=25\n",
      "[LightGBM] [Warning] min_data_in_leaf is set=25, min_child_samples=20 will be ignored. Current value: min_data_in_leaf=25\n",
      "[LightGBM] [Warning] min_data_in_leaf is set=25, min_child_samples=20 will be ignored. Current value: min_data_in_leaf=25\n",
      "[LightGBM] [Warning] min_data_in_leaf is set=25, min_child_samples=20 will be ignored. Current value: min_data_in_leaf=25\n",
      "[LightGBM] [Warning] min_data_in_leaf is set=25, min_child_samples=20 will be ignored. Current value: min_data_in_leaf=25\n",
      "[LightGBM] [Warning] min_data_in_leaf is set=25, min_child_samples=20 will be ignored. Current value: min_data_in_leaf=25\n",
      "[LightGBM] [Warning] min_data_in_leaf is set=25, min_child_samples=20 will be ignored. Current value: min_data_in_leaf=25\n",
      "[LightGBM] [Warning] min_data_in_leaf is set=25, min_child_samples=20 will be ignored. Current value: min_data_in_leaf=25\n",
      "[LightGBM] [Warning] min_data_in_leaf is set=25, min_child_samples=20 will be ignored. Current value: min_data_in_leaf=25\n",
      "[LightGBM] [Warning] min_data_in_leaf is set=25, min_child_samples=20 will be ignored. Current value: min_data_in_leaf=25\n",
      "[LightGBM] [Warning] min_data_in_leaf is set=25, min_child_samples=20 will be ignored. Current value: min_data_in_leaf=25\n",
      "[LightGBM] [Warning] min_data_in_leaf is set=50, min_child_samples=20 will be ignored. Current value: min_data_in_leaf=50\n",
      "[LightGBM] [Warning] min_data_in_leaf is set=50, min_child_samples=20 will be ignored. Current value: min_data_in_leaf=50\n",
      "[LightGBM] [Warning] min_data_in_leaf is set=50, min_child_samples=20 will be ignored. Current value: min_data_in_leaf=50\n",
      "[LightGBM] [Warning] min_data_in_leaf is set=50, min_child_samples=20 will be ignored. Current value: min_data_in_leaf=50\n",
      "[LightGBM] [Warning] min_data_in_leaf is set=50, min_child_samples=20 will be ignored. Current value: min_data_in_leaf=50\n",
      "[LightGBM] [Warning] min_data_in_leaf is set=50, min_child_samples=20 will be ignored. Current value: min_data_in_leaf=50\n",
      "[LightGBM] [Warning] min_data_in_leaf is set=50, min_child_samples=20 will be ignored. Current value: min_data_in_leaf=50\n",
      "[LightGBM] [Warning] min_data_in_leaf is set=50, min_child_samples=20 will be ignored. Current value: min_data_in_leaf=50\n",
      "[LightGBM] [Warning] min_data_in_leaf is set=50, min_child_samples=20 will be ignored. Current value: min_data_in_leaf=50\n",
      "[LightGBM] [Warning] min_data_in_leaf is set=50, min_child_samples=20 will be ignored. Current value: min_data_in_leaf=50\n",
      "[LightGBM] [Warning] min_data_in_leaf is set=50, min_child_samples=20 will be ignored. Current value: min_data_in_leaf=50\n",
      "[LightGBM] [Warning] min_data_in_leaf is set=50, min_child_samples=20 will be ignored. Current value: min_data_in_leaf=50\n",
      "[LightGBM] [Warning] min_data_in_leaf is set=50, min_child_samples=20 will be ignored. Current value: min_data_in_leaf=50\n",
      "[LightGBM] [Warning] min_data_in_leaf is set=50, min_child_samples=20 will be ignored. Current value: min_data_in_leaf=50\n",
      "[LightGBM] [Warning] min_data_in_leaf is set=50, min_child_samples=20 will be ignored. Current value: min_data_in_leaf=50\n",
      "[LightGBM] [Warning] min_data_in_leaf is set=50, min_child_samples=20 will be ignored. Current value: min_data_in_leaf=50\n",
      "[LightGBM] [Warning] min_data_in_leaf is set=50, min_child_samples=20 will be ignored. Current value: min_data_in_leaf=50\n",
      "[LightGBM] [Warning] min_data_in_leaf is set=50, min_child_samples=20 will be ignored. Current value: min_data_in_leaf=50\n",
      "[LightGBM] [Warning] min_data_in_leaf is set=50, min_child_samples=20 will be ignored. Current value: min_data_in_leaf=50\n",
      "[LightGBM] [Warning] min_data_in_leaf is set=50, min_child_samples=20 will be ignored. Current value: min_data_in_leaf=50\n",
      "[LightGBM] [Warning] min_data_in_leaf is set=50, min_child_samples=20 will be ignored. Current value: min_data_in_leaf=50\n",
      "[LightGBM] [Warning] min_data_in_leaf is set=50, min_child_samples=20 will be ignored. Current value: min_data_in_leaf=50\n",
      "[LightGBM] [Warning] min_data_in_leaf is set=50, min_child_samples=20 will be ignored. Current value: min_data_in_leaf=50\n",
      "[LightGBM] [Warning] min_data_in_leaf is set=50, min_child_samples=20 will be ignored. Current value: min_data_in_leaf=50\n",
      "[LightGBM] [Warning] min_data_in_leaf is set=50, min_child_samples=20 will be ignored. Current value: min_data_in_leaf=50\n",
      "[LightGBM] [Warning] min_data_in_leaf is set=50, min_child_samples=20 will be ignored. Current value: min_data_in_leaf=50\n",
      "[LightGBM] [Warning] min_data_in_leaf is set=50, min_child_samples=20 will be ignored. Current value: min_data_in_leaf=50\n",
      "[LightGBM] [Warning] min_data_in_leaf is set=50, min_child_samples=20 will be ignored. Current value: min_data_in_leaf=50\n",
      "[LightGBM] [Warning] min_data_in_leaf is set=50, min_child_samples=20 will be ignored. Current value: min_data_in_leaf=50\n",
      "[LightGBM] [Warning] min_data_in_leaf is set=50, min_child_samples=20 will be ignored. Current value: min_data_in_leaf=50\n",
      "[LightGBM] [Warning] min_data_in_leaf is set=50, min_child_samples=20 will be ignored. Current value: min_data_in_leaf=50\n",
      "[LightGBM] [Warning] min_data_in_leaf is set=50, min_child_samples=20 will be ignored. Current value: min_data_in_leaf=50\n",
      "[LightGBM] [Warning] min_data_in_leaf is set=50, min_child_samples=20 will be ignored. Current value: min_data_in_leaf=50\n",
      "[LightGBM] [Warning] min_data_in_leaf is set=50, min_child_samples=20 will be ignored. Current value: min_data_in_leaf=50\n",
      "[LightGBM] [Warning] min_data_in_leaf is set=50, min_child_samples=20 will be ignored. Current value: min_data_in_leaf=50\n",
      "[LightGBM] [Warning] min_data_in_leaf is set=50, min_child_samples=20 will be ignored. Current value: min_data_in_leaf=50\n",
      "[LightGBM] [Warning] min_data_in_leaf is set=50, min_child_samples=20 will be ignored. Current value: min_data_in_leaf=50\n",
      "[LightGBM] [Warning] min_data_in_leaf is set=50, min_child_samples=20 will be ignored. Current value: min_data_in_leaf=50\n",
      "[LightGBM] [Warning] min_data_in_leaf is set=50, min_child_samples=20 will be ignored. Current value: min_data_in_leaf=50\n",
      "[LightGBM] [Warning] min_data_in_leaf is set=50, min_child_samples=20 will be ignored. Current value: min_data_in_leaf=50\n",
      "[LightGBM] [Warning] min_data_in_leaf is set=50, min_child_samples=20 will be ignored. Current value: min_data_in_leaf=50\n",
      "[LightGBM] [Warning] min_data_in_leaf is set=50, min_child_samples=20 will be ignored. Current value: min_data_in_leaf=50\n",
      "[LightGBM] [Warning] min_data_in_leaf is set=50, min_child_samples=20 will be ignored. Current value: min_data_in_leaf=50\n",
      "[LightGBM] [Warning] min_data_in_leaf is set=50, min_child_samples=20 will be ignored. Current value: min_data_in_leaf=50\n",
      "[LightGBM] [Warning] min_data_in_leaf is set=50, min_child_samples=20 will be ignored. Current value: min_data_in_leaf=50\n",
      "[LightGBM] [Warning] min_data_in_leaf is set=10, min_child_samples=20 will be ignored. Current value: min_data_in_leaf=10\n"
     ]
    },
    {
     "name": "stdout",
     "output_type": "stream",
     "text": [
      "[LightGBM] [Warning] min_data_in_leaf is set=10, min_child_samples=20 will be ignored. Current value: min_data_in_leaf=10\n",
      "[LightGBM] [Warning] min_data_in_leaf is set=10, min_child_samples=20 will be ignored. Current value: min_data_in_leaf=10\n",
      "[LightGBM] [Warning] min_data_in_leaf is set=10, min_child_samples=20 will be ignored. Current value: min_data_in_leaf=10\n",
      "[LightGBM] [Warning] min_data_in_leaf is set=10, min_child_samples=20 will be ignored. Current value: min_data_in_leaf=10\n",
      "[LightGBM] [Warning] min_data_in_leaf is set=10, min_child_samples=20 will be ignored. Current value: min_data_in_leaf=10\n",
      "[LightGBM] [Warning] min_data_in_leaf is set=10, min_child_samples=20 will be ignored. Current value: min_data_in_leaf=10\n",
      "[LightGBM] [Warning] min_data_in_leaf is set=10, min_child_samples=20 will be ignored. Current value: min_data_in_leaf=10\n",
      "[LightGBM] [Warning] min_data_in_leaf is set=10, min_child_samples=20 will be ignored. Current value: min_data_in_leaf=10\n",
      "[LightGBM] [Warning] min_data_in_leaf is set=10, min_child_samples=20 will be ignored. Current value: min_data_in_leaf=10\n",
      "[LightGBM] [Warning] min_data_in_leaf is set=10, min_child_samples=20 will be ignored. Current value: min_data_in_leaf=10\n",
      "[LightGBM] [Warning] min_data_in_leaf is set=10, min_child_samples=20 will be ignored. Current value: min_data_in_leaf=10\n",
      "[LightGBM] [Warning] min_data_in_leaf is set=10, min_child_samples=20 will be ignored. Current value: min_data_in_leaf=10\n",
      "[LightGBM] [Warning] min_data_in_leaf is set=10, min_child_samples=20 will be ignored. Current value: min_data_in_leaf=10\n",
      "[LightGBM] [Warning] min_data_in_leaf is set=10, min_child_samples=20 will be ignored. Current value: min_data_in_leaf=10\n",
      "[LightGBM] [Warning] min_data_in_leaf is set=10, min_child_samples=20 will be ignored. Current value: min_data_in_leaf=10\n",
      "[LightGBM] [Warning] min_data_in_leaf is set=10, min_child_samples=20 will be ignored. Current value: min_data_in_leaf=10\n",
      "[LightGBM] [Warning] min_data_in_leaf is set=10, min_child_samples=20 will be ignored. Current value: min_data_in_leaf=10\n",
      "[LightGBM] [Warning] min_data_in_leaf is set=10, min_child_samples=20 will be ignored. Current value: min_data_in_leaf=10\n",
      "[LightGBM] [Warning] min_data_in_leaf is set=10, min_child_samples=20 will be ignored. Current value: min_data_in_leaf=10\n",
      "[LightGBM] [Warning] min_data_in_leaf is set=10, min_child_samples=20 will be ignored. Current value: min_data_in_leaf=10\n",
      "[LightGBM] [Warning] min_data_in_leaf is set=10, min_child_samples=20 will be ignored. Current value: min_data_in_leaf=10\n",
      "[LightGBM] [Warning] min_data_in_leaf is set=10, min_child_samples=20 will be ignored. Current value: min_data_in_leaf=10\n",
      "[LightGBM] [Warning] min_data_in_leaf is set=10, min_child_samples=20 will be ignored. Current value: min_data_in_leaf=10\n",
      "[LightGBM] [Warning] min_data_in_leaf is set=10, min_child_samples=20 will be ignored. Current value: min_data_in_leaf=10\n",
      "[LightGBM] [Warning] min_data_in_leaf is set=10, min_child_samples=20 will be ignored. Current value: min_data_in_leaf=10\n",
      "[LightGBM] [Warning] min_data_in_leaf is set=10, min_child_samples=20 will be ignored. Current value: min_data_in_leaf=10\n",
      "[LightGBM] [Warning] min_data_in_leaf is set=10, min_child_samples=20 will be ignored. Current value: min_data_in_leaf=10\n",
      "[LightGBM] [Warning] min_data_in_leaf is set=10, min_child_samples=20 will be ignored. Current value: min_data_in_leaf=10\n",
      "[LightGBM] [Warning] min_data_in_leaf is set=10, min_child_samples=20 will be ignored. Current value: min_data_in_leaf=10\n",
      "[LightGBM] [Warning] min_data_in_leaf is set=10, min_child_samples=20 will be ignored. Current value: min_data_in_leaf=10\n",
      "[LightGBM] [Warning] min_data_in_leaf is set=10, min_child_samples=20 will be ignored. Current value: min_data_in_leaf=10\n",
      "[LightGBM] [Warning] min_data_in_leaf is set=10, min_child_samples=20 will be ignored. Current value: min_data_in_leaf=10\n",
      "[LightGBM] [Warning] min_data_in_leaf is set=10, min_child_samples=20 will be ignored. Current value: min_data_in_leaf=10\n",
      "[LightGBM] [Warning] min_data_in_leaf is set=10, min_child_samples=20 will be ignored. Current value: min_data_in_leaf=10\n",
      "[LightGBM] [Warning] min_data_in_leaf is set=10, min_child_samples=20 will be ignored. Current value: min_data_in_leaf=10\n",
      "[LightGBM] [Warning] min_data_in_leaf is set=10, min_child_samples=20 will be ignored. Current value: min_data_in_leaf=10\n",
      "[LightGBM] [Warning] min_data_in_leaf is set=10, min_child_samples=20 will be ignored. Current value: min_data_in_leaf=10\n",
      "[LightGBM] [Warning] min_data_in_leaf is set=10, min_child_samples=20 will be ignored. Current value: min_data_in_leaf=10\n",
      "[LightGBM] [Warning] min_data_in_leaf is set=10, min_child_samples=20 will be ignored. Current value: min_data_in_leaf=10\n",
      "[LightGBM] [Warning] min_data_in_leaf is set=10, min_child_samples=20 will be ignored. Current value: min_data_in_leaf=10\n",
      "[LightGBM] [Warning] min_data_in_leaf is set=10, min_child_samples=20 will be ignored. Current value: min_data_in_leaf=10\n",
      "[LightGBM] [Warning] min_data_in_leaf is set=10, min_child_samples=20 will be ignored. Current value: min_data_in_leaf=10\n",
      "[LightGBM] [Warning] min_data_in_leaf is set=10, min_child_samples=20 will be ignored. Current value: min_data_in_leaf=10\n",
      "[LightGBM] [Warning] min_data_in_leaf is set=10, min_child_samples=20 will be ignored. Current value: min_data_in_leaf=10\n",
      "[LightGBM] [Warning] min_data_in_leaf is set=25, min_child_samples=20 will be ignored. Current value: min_data_in_leaf=25\n",
      "[LightGBM] [Warning] min_data_in_leaf is set=25, min_child_samples=20 will be ignored. Current value: min_data_in_leaf=25\n",
      "[LightGBM] [Warning] min_data_in_leaf is set=25, min_child_samples=20 will be ignored. Current value: min_data_in_leaf=25\n",
      "[LightGBM] [Warning] min_data_in_leaf is set=25, min_child_samples=20 will be ignored. Current value: min_data_in_leaf=25\n",
      "[LightGBM] [Warning] min_data_in_leaf is set=25, min_child_samples=20 will be ignored. Current value: min_data_in_leaf=25\n",
      "[LightGBM] [Warning] min_data_in_leaf is set=25, min_child_samples=20 will be ignored. Current value: min_data_in_leaf=25\n",
      "[LightGBM] [Warning] min_data_in_leaf is set=25, min_child_samples=20 will be ignored. Current value: min_data_in_leaf=25\n",
      "[LightGBM] [Warning] min_data_in_leaf is set=25, min_child_samples=20 will be ignored. Current value: min_data_in_leaf=25\n",
      "[LightGBM] [Warning] min_data_in_leaf is set=25, min_child_samples=20 will be ignored. Current value: min_data_in_leaf=25\n",
      "[LightGBM] [Warning] min_data_in_leaf is set=25, min_child_samples=20 will be ignored. Current value: min_data_in_leaf=25\n",
      "[LightGBM] [Warning] min_data_in_leaf is set=25, min_child_samples=20 will be ignored. Current value: min_data_in_leaf=25\n",
      "[LightGBM] [Warning] min_data_in_leaf is set=25, min_child_samples=20 will be ignored. Current value: min_data_in_leaf=25\n",
      "[LightGBM] [Warning] min_data_in_leaf is set=25, min_child_samples=20 will be ignored. Current value: min_data_in_leaf=25\n",
      "[LightGBM] [Warning] min_data_in_leaf is set=25, min_child_samples=20 will be ignored. Current value: min_data_in_leaf=25\n",
      "[LightGBM] [Warning] min_data_in_leaf is set=25, min_child_samples=20 will be ignored. Current value: min_data_in_leaf=25\n",
      "[LightGBM] [Warning] min_data_in_leaf is set=25, min_child_samples=20 will be ignored. Current value: min_data_in_leaf=25\n",
      "[LightGBM] [Warning] min_data_in_leaf is set=25, min_child_samples=20 will be ignored. Current value: min_data_in_leaf=25\n",
      "[LightGBM] [Warning] min_data_in_leaf is set=25, min_child_samples=20 will be ignored. Current value: min_data_in_leaf=25\n",
      "[LightGBM] [Warning] min_data_in_leaf is set=25, min_child_samples=20 will be ignored. Current value: min_data_in_leaf=25\n",
      "[LightGBM] [Warning] min_data_in_leaf is set=25, min_child_samples=20 will be ignored. Current value: min_data_in_leaf=25\n",
      "[LightGBM] [Warning] min_data_in_leaf is set=25, min_child_samples=20 will be ignored. Current value: min_data_in_leaf=25\n",
      "[LightGBM] [Warning] min_data_in_leaf is set=25, min_child_samples=20 will be ignored. Current value: min_data_in_leaf=25\n",
      "[LightGBM] [Warning] min_data_in_leaf is set=25, min_child_samples=20 will be ignored. Current value: min_data_in_leaf=25\n",
      "[LightGBM] [Warning] min_data_in_leaf is set=25, min_child_samples=20 will be ignored. Current value: min_data_in_leaf=25\n"
     ]
    },
    {
     "name": "stdout",
     "output_type": "stream",
     "text": [
      "[LightGBM] [Warning] min_data_in_leaf is set=25, min_child_samples=20 will be ignored. Current value: min_data_in_leaf=25\n",
      "[LightGBM] [Warning] min_data_in_leaf is set=25, min_child_samples=20 will be ignored. Current value: min_data_in_leaf=25\n",
      "[LightGBM] [Warning] min_data_in_leaf is set=25, min_child_samples=20 will be ignored. Current value: min_data_in_leaf=25\n",
      "[LightGBM] [Warning] min_data_in_leaf is set=25, min_child_samples=20 will be ignored. Current value: min_data_in_leaf=25\n",
      "[LightGBM] [Warning] min_data_in_leaf is set=25, min_child_samples=20 will be ignored. Current value: min_data_in_leaf=25\n",
      "[LightGBM] [Warning] min_data_in_leaf is set=25, min_child_samples=20 will be ignored. Current value: min_data_in_leaf=25\n",
      "[LightGBM] [Warning] min_data_in_leaf is set=25, min_child_samples=20 will be ignored. Current value: min_data_in_leaf=25\n",
      "[LightGBM] [Warning] min_data_in_leaf is set=25, min_child_samples=20 will be ignored. Current value: min_data_in_leaf=25\n",
      "[LightGBM] [Warning] min_data_in_leaf is set=25, min_child_samples=20 will be ignored. Current value: min_data_in_leaf=25\n",
      "[LightGBM] [Warning] min_data_in_leaf is set=25, min_child_samples=20 will be ignored. Current value: min_data_in_leaf=25\n",
      "[LightGBM] [Warning] min_data_in_leaf is set=25, min_child_samples=20 will be ignored. Current value: min_data_in_leaf=25\n",
      "[LightGBM] [Warning] min_data_in_leaf is set=25, min_child_samples=20 will be ignored. Current value: min_data_in_leaf=25\n",
      "[LightGBM] [Warning] min_data_in_leaf is set=25, min_child_samples=20 will be ignored. Current value: min_data_in_leaf=25\n",
      "[LightGBM] [Warning] min_data_in_leaf is set=25, min_child_samples=20 will be ignored. Current value: min_data_in_leaf=25\n",
      "[LightGBM] [Warning] min_data_in_leaf is set=25, min_child_samples=20 will be ignored. Current value: min_data_in_leaf=25\n",
      "[LightGBM] [Warning] min_data_in_leaf is set=25, min_child_samples=20 will be ignored. Current value: min_data_in_leaf=25\n",
      "[LightGBM] [Warning] min_data_in_leaf is set=25, min_child_samples=20 will be ignored. Current value: min_data_in_leaf=25\n",
      "[LightGBM] [Warning] min_data_in_leaf is set=25, min_child_samples=20 will be ignored. Current value: min_data_in_leaf=25\n",
      "[LightGBM] [Warning] min_data_in_leaf is set=25, min_child_samples=20 will be ignored. Current value: min_data_in_leaf=25\n",
      "[LightGBM] [Warning] min_data_in_leaf is set=25, min_child_samples=20 will be ignored. Current value: min_data_in_leaf=25\n",
      "[LightGBM] [Warning] min_data_in_leaf is set=25, min_child_samples=20 will be ignored. Current value: min_data_in_leaf=25\n",
      "[LightGBM] [Warning] min_data_in_leaf is set=50, min_child_samples=20 will be ignored. Current value: min_data_in_leaf=50\n",
      "[LightGBM] [Warning] min_data_in_leaf is set=50, min_child_samples=20 will be ignored. Current value: min_data_in_leaf=50\n",
      "[LightGBM] [Warning] min_data_in_leaf is set=50, min_child_samples=20 will be ignored. Current value: min_data_in_leaf=50\n",
      "[LightGBM] [Warning] min_data_in_leaf is set=50, min_child_samples=20 will be ignored. Current value: min_data_in_leaf=50\n",
      "[LightGBM] [Warning] min_data_in_leaf is set=50, min_child_samples=20 will be ignored. Current value: min_data_in_leaf=50\n",
      "[LightGBM] [Warning] min_data_in_leaf is set=50, min_child_samples=20 will be ignored. Current value: min_data_in_leaf=50\n",
      "[LightGBM] [Warning] min_data_in_leaf is set=50, min_child_samples=20 will be ignored. Current value: min_data_in_leaf=50\n",
      "[LightGBM] [Warning] min_data_in_leaf is set=50, min_child_samples=20 will be ignored. Current value: min_data_in_leaf=50\n",
      "[LightGBM] [Warning] min_data_in_leaf is set=50, min_child_samples=20 will be ignored. Current value: min_data_in_leaf=50\n",
      "[LightGBM] [Warning] min_data_in_leaf is set=50, min_child_samples=20 will be ignored. Current value: min_data_in_leaf=50\n",
      "[LightGBM] [Warning] min_data_in_leaf is set=50, min_child_samples=20 will be ignored. Current value: min_data_in_leaf=50\n",
      "[LightGBM] [Warning] min_data_in_leaf is set=50, min_child_samples=20 will be ignored. Current value: min_data_in_leaf=50\n",
      "[LightGBM] [Warning] min_data_in_leaf is set=50, min_child_samples=20 will be ignored. Current value: min_data_in_leaf=50\n",
      "[LightGBM] [Warning] min_data_in_leaf is set=50, min_child_samples=20 will be ignored. Current value: min_data_in_leaf=50\n",
      "[LightGBM] [Warning] min_data_in_leaf is set=50, min_child_samples=20 will be ignored. Current value: min_data_in_leaf=50\n",
      "[LightGBM] [Warning] min_data_in_leaf is set=50, min_child_samples=20 will be ignored. Current value: min_data_in_leaf=50\n",
      "[LightGBM] [Warning] min_data_in_leaf is set=50, min_child_samples=20 will be ignored. Current value: min_data_in_leaf=50\n",
      "[LightGBM] [Warning] min_data_in_leaf is set=50, min_child_samples=20 will be ignored. Current value: min_data_in_leaf=50\n",
      "[LightGBM] [Warning] min_data_in_leaf is set=50, min_child_samples=20 will be ignored. Current value: min_data_in_leaf=50\n",
      "[LightGBM] [Warning] min_data_in_leaf is set=50, min_child_samples=20 will be ignored. Current value: min_data_in_leaf=50\n",
      "[LightGBM] [Warning] min_data_in_leaf is set=50, min_child_samples=20 will be ignored. Current value: min_data_in_leaf=50\n",
      "[LightGBM] [Warning] min_data_in_leaf is set=50, min_child_samples=20 will be ignored. Current value: min_data_in_leaf=50\n",
      "[LightGBM] [Warning] min_data_in_leaf is set=50, min_child_samples=20 will be ignored. Current value: min_data_in_leaf=50\n",
      "[LightGBM] [Warning] min_data_in_leaf is set=50, min_child_samples=20 will be ignored. Current value: min_data_in_leaf=50\n",
      "[LightGBM] [Warning] min_data_in_leaf is set=50, min_child_samples=20 will be ignored. Current value: min_data_in_leaf=50\n",
      "[LightGBM] [Warning] min_data_in_leaf is set=50, min_child_samples=20 will be ignored. Current value: min_data_in_leaf=50\n",
      "[LightGBM] [Warning] min_data_in_leaf is set=50, min_child_samples=20 will be ignored. Current value: min_data_in_leaf=50\n",
      "[LightGBM] [Warning] min_data_in_leaf is set=50, min_child_samples=20 will be ignored. Current value: min_data_in_leaf=50\n",
      "[LightGBM] [Warning] min_data_in_leaf is set=50, min_child_samples=20 will be ignored. Current value: min_data_in_leaf=50\n",
      "[LightGBM] [Warning] min_data_in_leaf is set=50, min_child_samples=20 will be ignored. Current value: min_data_in_leaf=50\n",
      "[LightGBM] [Warning] min_data_in_leaf is set=50, min_child_samples=20 will be ignored. Current value: min_data_in_leaf=50\n",
      "[LightGBM] [Warning] min_data_in_leaf is set=50, min_child_samples=20 will be ignored. Current value: min_data_in_leaf=50\n",
      "[LightGBM] [Warning] min_data_in_leaf is set=50, min_child_samples=20 will be ignored. Current value: min_data_in_leaf=50\n",
      "[LightGBM] [Warning] min_data_in_leaf is set=50, min_child_samples=20 will be ignored. Current value: min_data_in_leaf=50\n",
      "[LightGBM] [Warning] min_data_in_leaf is set=50, min_child_samples=20 will be ignored. Current value: min_data_in_leaf=50\n",
      "[LightGBM] [Warning] min_data_in_leaf is set=50, min_child_samples=20 will be ignored. Current value: min_data_in_leaf=50\n",
      "[LightGBM] [Warning] min_data_in_leaf is set=50, min_child_samples=20 will be ignored. Current value: min_data_in_leaf=50\n",
      "[LightGBM] [Warning] min_data_in_leaf is set=50, min_child_samples=20 will be ignored. Current value: min_data_in_leaf=50\n",
      "[LightGBM] [Warning] min_data_in_leaf is set=50, min_child_samples=20 will be ignored. Current value: min_data_in_leaf=50\n",
      "[LightGBM] [Warning] min_data_in_leaf is set=50, min_child_samples=20 will be ignored. Current value: min_data_in_leaf=50\n",
      "[LightGBM] [Warning] min_data_in_leaf is set=50, min_child_samples=20 will be ignored. Current value: min_data_in_leaf=50\n",
      "[LightGBM] [Warning] min_data_in_leaf is set=50, min_child_samples=20 will be ignored. Current value: min_data_in_leaf=50\n",
      "[LightGBM] [Warning] min_data_in_leaf is set=50, min_child_samples=20 will be ignored. Current value: min_data_in_leaf=50\n",
      "[LightGBM] [Warning] min_data_in_leaf is set=50, min_child_samples=20 will be ignored. Current value: min_data_in_leaf=50\n",
      "[LightGBM] [Warning] min_data_in_leaf is set=50, min_child_samples=20 will be ignored. Current value: min_data_in_leaf=50\n",
      "[LightGBM] [Warning] min_data_in_leaf is set=50, min_child_samples=20 will be ignored. Current value: min_data_in_leaf=50\n",
      "Model TPR: 0.5486, Model FPR: 0.0499, Model Threshold: 0.0414, Model AUROC: 0.8942\n",
      "Fairness Ratio: 0.2973 \n",
      "\n"
     ]
    }
   ],
   "source": [
    "# Import the necessary packages and libraries\n",
    "import pandas as pd\n",
    "import lightgbm as lgbm\n",
    "from sklearn.ensemble import RandomForestClassifier\n",
    "from sklearn.linear_model import LogisticRegression\n",
    "from sklearn.tree import DecisionTreeClassifier\n",
    "import xgboost as xgb\n",
    "import catboost as cb\n",
    "import matplotlib.pyplot as plt\n",
    "from baf import BAFDataset\n",
    "from metrics import calculate_tpr_at_fpr, calculate_fairness_metrics\n",
    "import os\n",
    "import joblib\n",
    "import time\n",
    "from sklearn.metrics import roc_curve\n",
    "from sklearn.model_selection import GridSearchCV\n",
    "from sklearn.metrics import make_scorer\n",
    "\n",
    "# Define your custom metric function\n",
    "def TPR_at_05FPR(y_test, scored_test):\n",
    "    fpr, tpr, threshold = roc_curve(y_test, scored_test)\n",
    "    tpr_at_05fpr = tpr[fpr < 0.05][-1]\n",
    "    return tpr_at_05fpr\n",
    "\n",
    "# Convert your custom metric function to a scorer object\n",
    "custom_scorer = make_scorer(TPR_at_05FPR, greater_is_better=True)\n",
    "\n",
    "# Hyperparameter grids for each model\n",
    "# Here we only run the hyperparameter tuning for LightGBM\n",
    "param_grids = {\n",
    "    \"LightGBM\": {\n",
    "        'num_leaves': [10, 25, 50],\n",
    "        'min_data_in_leaf': [10, 25, 50],\n",
    "        'max_depth': [1, 3, 5],\n",
    "        'n_estimators': [50, 100, 200],\n",
    "    }\n",
    "}\n",
    "\n",
    "# define these dictionaries for storing the results\n",
    "performance_results = {}\n",
    "fairness_results = {}\n",
    "\n",
    "# List of models to evaluate\n",
    "models = {\n",
    "    \"LightGBM\": lgbm.LGBMClassifier(),\n",
    "}\n",
    "\n",
    "# Instantiate the BAF class\n",
    "ds = BAFDataset()\n",
    "\n",
    "# set the path to the dataset and models\n",
    "base_path = \"/ssd003/projects/aieng/public/anomaly_detection_datasets/BAF\"\n",
    "variant = \"Base.csv\"\n",
    "\n",
    "# Add file to path\n",
    "file_path = os.path.join(base_path, variant)\n",
    "\n",
    "# Load the dataset\n",
    "df = ds.load_data(file_path)\n",
    "\n",
    "# Split the dataset into train and test sets for the current variant\n",
    "(X_train, y_train), (X_test, y_test) = ds.train_test_split(df, month=6)\n",
    "\n",
    "# One-hot encode the categorical features in the dataset\n",
    "X_train, X_test = ds.one_hot_encode_categorical(X_train, X_test)\n",
    "\n",
    "# Loop over models\n",
    "for model_name, model in models.items():\n",
    "    print(f\"Hyperparameter tuning for {model_name} on {variant.split('.')[0]}...\")\n",
    "\n",
    "    # Initialize dictionaries to store results\n",
    "    performance_results[(variant.split('.')[0], model_name)] = {}\n",
    "    fairness_results[(variant.split('.')[0], model_name)] = {}\n",
    "\n",
    "    # Perform hyperparameter tuning using GridSearchCV\n",
    "    param_grid = param_grids[model_name]\n",
    "    # scoring should be 'roc_auc' if you want to optimize for AUROC\n",
    "    # Here we want to maximize TPR@5%FPR\n",
    "    search = GridSearchCV(model, param_grid, scoring=custom_scorer, cv=5, verbose=0)\n",
    "    search.fit(X_train, y_train)\n",
    "\n",
    "    # Get the best model with tuned hyperparameters\n",
    "    best_model = search.best_estimator_\n",
    "\n",
    "    # Train the best model\n",
    "    best_model.fit(X_train, y_train)\n",
    "\n",
    "    # Predict on the test set using the best model\n",
    "    scored_test = best_model.predict_proba(X_test)[:, 1]\n",
    "\n",
    "    # Calculate the TPR@5%FPR on the test set\n",
    "    metrics_dict = calculate_tpr_at_fpr(y_test, scored_test, fpr_lim=0.05)\n",
    "    performance_results[(variant.split('.')[0], model_name)] = metrics_dict\n",
    "    print(f\"Model TPR: {metrics_dict['TPR']}, Model FPR: {metrics_dict['FPR']}, Model Threshold: {metrics_dict['Threshold']}, Model AUROC: {metrics_dict['AUROC']}\")\n",
    "\n",
    "    # Calculate the fairness metrics on the test set\n",
    "    fairness_ratio = calculate_fairness_metrics(y_test, scored_test, X_test, fpr_lim=0.05)\n",
    "    fairness_results[(variant.split('.')[0], model_name)][\"Fairness Ratio\"] = fairness_ratio\n",
    "    print(f\"Fairness Ratio: {fairness_ratio}\", \"\\n\")"
   ]
  },
  {
   "cell_type": "code",
   "execution_count": 52,
   "id": "fcbf158f",
   "metadata": {},
   "outputs": [
    {
     "name": "stdout",
     "output_type": "stream",
     "text": [
      "Best Hyperparameters: {'max_depth': 5, 'min_data_in_leaf': 50, 'n_estimators': 200, 'num_leaves': 10}\n"
     ]
    }
   ],
   "source": [
    "# Access the best hyperparameters\n",
    "best_hyperparameters = search.best_params_\n",
    "print(\"Best Hyperparameters:\", best_hyperparameters)"
   ]
  },
  {
   "cell_type": "code",
   "execution_count": 53,
   "id": "84339847",
   "metadata": {},
   "outputs": [
    {
     "data": {
      "text/html": [
       "<div>\n",
       "<style scoped>\n",
       "    .dataframe tbody tr th:only-of-type {\n",
       "        vertical-align: middle;\n",
       "    }\n",
       "\n",
       "    .dataframe tbody tr th {\n",
       "        vertical-align: top;\n",
       "    }\n",
       "\n",
       "    .dataframe thead th {\n",
       "        text-align: right;\n",
       "    }\n",
       "</style>\n",
       "<table border=\"1\" class=\"dataframe\">\n",
       "  <thead>\n",
       "    <tr style=\"text-align: right;\">\n",
       "      <th></th>\n",
       "      <th></th>\n",
       "      <th>AUROC</th>\n",
       "      <th>FPR</th>\n",
       "      <th>TPR</th>\n",
       "      <th>Threshold</th>\n",
       "    </tr>\n",
       "  </thead>\n",
       "  <tbody>\n",
       "    <tr>\n",
       "      <th>Base</th>\n",
       "      <th>LightGBM</th>\n",
       "      <td>0.8942</td>\n",
       "      <td>0.0499</td>\n",
       "      <td>0.5486</td>\n",
       "      <td>0.0414</td>\n",
       "    </tr>\n",
       "  </tbody>\n",
       "</table>\n",
       "</div>"
      ],
      "text/plain": [
       "                AUROC     FPR     TPR  Threshold\n",
       "Base LightGBM  0.8942  0.0499  0.5486     0.0414"
      ]
     },
     "execution_count": 53,
     "metadata": {},
     "output_type": "execute_result"
    }
   ],
   "source": [
    "df_performance_results = pd.DataFrame(performance_results).transpose()\n",
    "df_performance_results"
   ]
  },
  {
   "cell_type": "code",
   "execution_count": 54,
   "id": "a680d43d",
   "metadata": {},
   "outputs": [
    {
     "data": {
      "text/html": [
       "<div>\n",
       "<style scoped>\n",
       "    .dataframe tbody tr th:only-of-type {\n",
       "        vertical-align: middle;\n",
       "    }\n",
       "\n",
       "    .dataframe tbody tr th {\n",
       "        vertical-align: top;\n",
       "    }\n",
       "\n",
       "    .dataframe thead th {\n",
       "        text-align: right;\n",
       "    }\n",
       "</style>\n",
       "<table border=\"1\" class=\"dataframe\">\n",
       "  <thead>\n",
       "    <tr style=\"text-align: right;\">\n",
       "      <th></th>\n",
       "      <th></th>\n",
       "      <th>Fairness Ratio</th>\n",
       "    </tr>\n",
       "  </thead>\n",
       "  <tbody>\n",
       "    <tr>\n",
       "      <th>Base</th>\n",
       "      <th>LightGBM</th>\n",
       "      <td>0.2973</td>\n",
       "    </tr>\n",
       "  </tbody>\n",
       "</table>\n",
       "</div>"
      ],
      "text/plain": [
       "               Fairness Ratio\n",
       "Base LightGBM          0.2973"
      ]
     },
     "execution_count": 54,
     "metadata": {},
     "output_type": "execute_result"
    }
   ],
   "source": [
    "df_fairness_results = pd.DataFrame(fairness_results).transpose()\n",
    "df_fairness_results"
   ]
  },
  {
   "cell_type": "markdown",
   "id": "4f45b27c",
   "metadata": {},
   "source": [
    "If you want to try more advanced hyperparameter tuning, you can try [Optuna](https://github.com/optuna/optuna).\n",
    "\n",
    "<ul>\n",
    "    <li>Optuna is an open-source hyperparameter optimization framework.</li><br>\n",
    "    <li>It automates hyperparameter search for machine learning models.</li><br>\n",
    "    <li>Optuna effectively explores the hyperparameter space to find the best configuration for model performance.</li><br>\n",
    "    <li>It integrates seamlessly with popular machine learning libraries, including TensorFlow, Keras, PyTorch, Scikit-learn, etc</li><br>\n",
    "</ul>"
   ]
  },
  {
   "cell_type": "markdown",
   "id": "402f22aa",
   "metadata": {},
   "source": [
    "# Fraud Detection on Other Variants of BAF Dataset\n",
    "\n",
    "This code applies LightGBM to other variants (Variant I, Variant II, Variant III, Variant IV, Variant V) of the BAF dataset for anomaly detection.\n",
    "\n",
    "The code performs the following steps for each dataset variant:\n",
    "\n",
    "1. Loads the BAF dataset variant.\n",
    "2. Splits the dataset into training and test sets.\n",
    "3. Performs one-hot encoding of categorical features.\n",
    "4. Trains and evaluates the the model.\n",
    "5. Store the training and inference time in dictionary\n",
    "6. Calculates the TPR@5%FPR (True Positive Rate at 5% False Positive Rate) on the test set.\n",
    "7. Computes fairness metrics based on the test set predictions.\n",
    "8. Stores the results in a dictionary."
   ]
  },
  {
   "cell_type": "code",
   "execution_count": 55,
   "id": "eb374fd9",
   "metadata": {},
   "outputs": [],
   "source": [
    "# Import the necessary packages and libraries\n",
    "import pandas as pd\n",
    "import lightgbm as lgbm\n",
    "from sklearn.ensemble import RandomForestClassifier\n",
    "from sklearn.linear_model import LogisticRegression\n",
    "from sklearn.tree import DecisionTreeClassifier\n",
    "import xgboost as xgb\n",
    "import catboost as cb\n",
    "import matplotlib.pyplot as plt\n",
    "from baf import BAFDataset\n",
    "from metrics import calculate_tpr_at_fpr, calculate_fairness_metrics\n",
    "import os\n",
    "import joblib\n",
    "import time"
   ]
  },
  {
   "cell_type": "code",
   "execution_count": 56,
   "id": "063638d0",
   "metadata": {
    "scrolled": true
   },
   "outputs": [
    {
     "name": "stdout",
     "output_type": "stream",
     "text": [
      "Loading data for Variant I...\n",
      "Training and evaluating LightGBM on Variant I...\n",
      "Training Time: 14.782901048660278 seconds\n",
      "Inference Time: 1.178382158279419 seconds\n",
      "Model TPR: 0.5038, Model FPR: 0.0499, Model Threshold: 0.0425, Model AUROC: 0.8842\n",
      "Fairness Ratio: 0.7513 \n",
      "\n",
      "\n",
      "\n",
      "\n",
      "Loading data for Variant II...\n",
      "Training and evaluating LightGBM on Variant II...\n",
      "Training Time: 14.723450899124146 seconds\n",
      "Inference Time: 1.161752462387085 seconds\n",
      "Model TPR: 0.5323, Model FPR: 0.0499, Model Threshold: 0.0408, Model AUROC: 0.8927\n",
      "Fairness Ratio: 0.3139 \n",
      "\n",
      "\n",
      "\n",
      "\n",
      "Loading data for Variant III...\n",
      "Training and evaluating LightGBM on Variant III...\n",
      "Training Time: 15.234103202819824 seconds\n",
      "Inference Time: 1.335681438446045 seconds\n",
      "Model TPR: 0.7413, Model FPR: 0.0498, Model Threshold: 0.0254, Model AUROC: 0.9513\n",
      "Fairness Ratio: 0.3445 \n",
      "\n",
      "\n",
      "\n",
      "\n",
      "Loading data for Variant IV...\n",
      "Training and evaluating LightGBM on Variant IV...\n",
      "Training Time: 14.039414644241333 seconds\n",
      "Inference Time: 1.3561296463012695 seconds\n",
      "Model TPR: 0.4023, Model FPR: 0.0499, Model Threshold: 0.0431, Model AUROC: 0.8477\n",
      "Fairness Ratio: 0.3227 \n",
      "\n",
      "\n",
      "\n",
      "\n",
      "Loading data for Variant V...\n",
      "Training and evaluating LightGBM on Variant V...\n",
      "Training Time: 15.267536878585815 seconds\n",
      "Inference Time: 1.3463106155395508 seconds\n",
      "Model TPR: 0.3375, Model FPR: 0.0497, Model Threshold: 0.0251, Model AUROC: 0.7824\n",
      "Fairness Ratio: 0.3766 \n",
      "\n",
      "\n",
      "\n",
      "\n"
     ]
    }
   ],
   "source": [
    "# Instantiate the BAF class\n",
    "ds = BAFDataset()\n",
    "\n",
    "# set the path to the dataset and models\n",
    "base_path = \"/ssd003/projects/aieng/public/anomaly_detection_datasets/BAF\"\n",
    "model_path = \"/ssd003/projects/aieng/public/anomaly_detection_models/BAF\"\n",
    "\n",
    "# define these dictionaries for storing the results\n",
    "performance_results = {}\n",
    "fairness_results = {}\n",
    "\n",
    "# Dictionaries to store training and inference times\n",
    "training_times_dict = {}\n",
    "inference_times_dict = {}\n",
    "\n",
    "# List of variants and their corresponding file names\n",
    "variants = {\n",
    "    'Variant I': 'Variant I.csv',\n",
    "    'Variant II': 'Variant II.csv',\n",
    "    'Variant III': 'Variant III.csv',\n",
    "    'Variant IV': 'Variant IV.csv',\n",
    "    'Variant V': 'Variant V.csv',\n",
    "}\n",
    "\n",
    "# List of models to evaluate\n",
    "models = {\n",
    "    \"LightGBM\": lgbm.LGBMClassifier(),\n",
    "}\n",
    "\n",
    "# Loop over variants and models\n",
    "for variant, file_name in variants.items():\n",
    "    print(f\"Loading data for {variant}...\")\n",
    "    \n",
    "    # Load data from CSV file\n",
    "    df = pd.read_csv(os.path.join(base_path, file_name))\n",
    "\n",
    "    # Split the dataset into train and test sets for the current variant\n",
    "    (X_train, y_train), (X_test, y_test) = ds.train_test_split(df, month=6)\n",
    "\n",
    "    # One-hot encode the categorical features in the dataset\n",
    "    X_train, X_test = ds.one_hot_encode_categorical(X_train, X_test)\n",
    "\n",
    "    # Loop over models\n",
    "    for model_name, model in models.items():\n",
    "        print(f\"Training and evaluating {model_name} on {variant}...\")\n",
    "        \n",
    "        # Initialize dictionaries to store results\n",
    "        training_times_dict[(variant, model_name)] = {}\n",
    "        inference_times_dict[(variant, model_name)] = {}\n",
    "        performance_results[(variant, model_name)] = {}\n",
    "        fairness_results[(variant, model_name)] = {}\n",
    "\n",
    "        # Start measuring training time\n",
    "        start_time = time.time()\n",
    "\n",
    "        # Train the model\n",
    "        model.fit(X_train, y_train)\n",
    "\n",
    "        # End measuring training time\n",
    "        end_time = time.time()\n",
    "        training_time = end_time - start_time\n",
    "        print(f\"Training Time: {training_time} seconds\")\n",
    "        training_times_dict[(variant, model_name)][\"Training Time\"] = training_time\n",
    "\n",
    "        # Save the model\n",
    "        path_to_model = os.path.join(model_path, f\"{variant}_{model_name.replace(' ', '_').lower()}_model.joblib\")\n",
    "        joblib.dump(model, path_to_model)\n",
    "\n",
    "        # Start measuring inference time\n",
    "        start_time = time.time()\n",
    "\n",
    "        # Predict on the test set\n",
    "        scored_test = model.predict_proba(X_test)[:, 1]\n",
    "\n",
    "        # End measuring inference time\n",
    "        end_time = time.time()\n",
    "        inference_time = end_time - start_time\n",
    "        print(f\"Inference Time: {inference_time} seconds\")\n",
    "        inference_times_dict[(variant, model_name)][\"Inference Time\"] = inference_time\n",
    "\n",
    "        # Calculate the TPR@5%FPR on the test set\n",
    "        metrics_dict = calculate_tpr_at_fpr(y_test, scored_test, fpr_lim=0.05)\n",
    "        print(f\"Model TPR: {metrics_dict['TPR']}, Model FPR: {metrics_dict['FPR']}, Model Threshold: {metrics_dict['Threshold']}, Model AUROC: {metrics_dict['AUROC']}\")\n",
    "        performance_results[(variant, model_name)] = metrics_dict\n",
    "\n",
    "        # Calculate the fairness metrics on the test set\n",
    "        fairness_ratio = calculate_fairness_metrics(y_test, scored_test, X_test, fpr_lim=0.05)\n",
    "        fairness_results[(variant, model_name)][\"Fairness Ratio\"] = fairness_ratio\n",
    "        print(f\"Fairness Ratio: {fairness_ratio}\", \"\\n\")\n",
    "    print('\\n\\n')"
   ]
  },
  {
   "cell_type": "markdown",
   "id": "7cfca985",
   "metadata": {},
   "source": [
    "## Result\n",
    "\n",
    "The table below shows all results for LightGBM on other variants of BAF dataset:"
   ]
  },
  {
   "cell_type": "code",
   "execution_count": 57,
   "id": "9791a8b1",
   "metadata": {},
   "outputs": [],
   "source": [
    "# Create a DataFrame from all results\n",
    "df_performance_results = pd.DataFrame(performance_results).transpose()\n",
    "df_fairness_results = pd.DataFrame(fairness_results).transpose()\n",
    "df_training_times_dict = pd.DataFrame(training_times_dict).transpose()\n",
    "df_inference_times_dict = pd.DataFrame(inference_times_dict).transpose()"
   ]
  },
  {
   "cell_type": "code",
   "execution_count": 58,
   "id": "2aa08152",
   "metadata": {},
   "outputs": [],
   "source": [
    "# concatenate all results together\n",
    "all_results = pd.concat([df_performance_results, df_fairness_results, df_training_times_dict, df_inference_times_dict], axis=1)"
   ]
  },
  {
   "cell_type": "code",
   "execution_count": 59,
   "id": "24355a09",
   "metadata": {},
   "outputs": [
    {
     "data": {
      "text/html": [
       "<div>\n",
       "<style scoped>\n",
       "    .dataframe tbody tr th:only-of-type {\n",
       "        vertical-align: middle;\n",
       "    }\n",
       "\n",
       "    .dataframe tbody tr th {\n",
       "        vertical-align: top;\n",
       "    }\n",
       "\n",
       "    .dataframe thead th {\n",
       "        text-align: right;\n",
       "    }\n",
       "</style>\n",
       "<table border=\"1\" class=\"dataframe\">\n",
       "  <thead>\n",
       "    <tr style=\"text-align: right;\">\n",
       "      <th></th>\n",
       "      <th></th>\n",
       "      <th>TPR</th>\n",
       "      <th>FPR</th>\n",
       "      <th>Threshold</th>\n",
       "      <th>AUROC</th>\n",
       "      <th>Fairness Ratio</th>\n",
       "      <th>Training Time</th>\n",
       "      <th>Inference Time</th>\n",
       "    </tr>\n",
       "  </thead>\n",
       "  <tbody>\n",
       "    <tr>\n",
       "      <th>Variant I</th>\n",
       "      <th>LightGBM</th>\n",
       "      <td>0.5038</td>\n",
       "      <td>0.0499</td>\n",
       "      <td>0.0425</td>\n",
       "      <td>0.8842</td>\n",
       "      <td>0.7513</td>\n",
       "      <td>14.782901</td>\n",
       "      <td>1.178382</td>\n",
       "    </tr>\n",
       "    <tr>\n",
       "      <th>Variant II</th>\n",
       "      <th>LightGBM</th>\n",
       "      <td>0.5323</td>\n",
       "      <td>0.0499</td>\n",
       "      <td>0.0408</td>\n",
       "      <td>0.8927</td>\n",
       "      <td>0.3139</td>\n",
       "      <td>14.723451</td>\n",
       "      <td>1.161752</td>\n",
       "    </tr>\n",
       "    <tr>\n",
       "      <th>Variant III</th>\n",
       "      <th>LightGBM</th>\n",
       "      <td>0.7413</td>\n",
       "      <td>0.0498</td>\n",
       "      <td>0.0254</td>\n",
       "      <td>0.9513</td>\n",
       "      <td>0.3445</td>\n",
       "      <td>15.234103</td>\n",
       "      <td>1.335681</td>\n",
       "    </tr>\n",
       "    <tr>\n",
       "      <th>Variant IV</th>\n",
       "      <th>LightGBM</th>\n",
       "      <td>0.4023</td>\n",
       "      <td>0.0499</td>\n",
       "      <td>0.0431</td>\n",
       "      <td>0.8477</td>\n",
       "      <td>0.3227</td>\n",
       "      <td>14.039415</td>\n",
       "      <td>1.356130</td>\n",
       "    </tr>\n",
       "    <tr>\n",
       "      <th>Variant V</th>\n",
       "      <th>LightGBM</th>\n",
       "      <td>0.3375</td>\n",
       "      <td>0.0497</td>\n",
       "      <td>0.0251</td>\n",
       "      <td>0.7824</td>\n",
       "      <td>0.3766</td>\n",
       "      <td>15.267537</td>\n",
       "      <td>1.346311</td>\n",
       "    </tr>\n",
       "  </tbody>\n",
       "</table>\n",
       "</div>"
      ],
      "text/plain": [
       "                         TPR     FPR  Threshold   AUROC  Fairness Ratio  \\\n",
       "Variant I   LightGBM  0.5038  0.0499     0.0425  0.8842          0.7513   \n",
       "Variant II  LightGBM  0.5323  0.0499     0.0408  0.8927          0.3139   \n",
       "Variant III LightGBM  0.7413  0.0498     0.0254  0.9513          0.3445   \n",
       "Variant IV  LightGBM  0.4023  0.0499     0.0431  0.8477          0.3227   \n",
       "Variant V   LightGBM  0.3375  0.0497     0.0251  0.7824          0.3766   \n",
       "\n",
       "                      Training Time  Inference Time  \n",
       "Variant I   LightGBM      14.782901        1.178382  \n",
       "Variant II  LightGBM      14.723451        1.161752  \n",
       "Variant III LightGBM      15.234103        1.335681  \n",
       "Variant IV  LightGBM      14.039415        1.356130  \n",
       "Variant V   LightGBM      15.267537        1.346311  "
      ]
     },
     "execution_count": 59,
     "metadata": {},
     "output_type": "execute_result"
    }
   ],
   "source": [
    "all_results"
   ]
  },
  {
   "cell_type": "markdown",
   "id": "85ecfdc1",
   "metadata": {},
   "source": [
    "# References:\n",
    "\n",
    "\n",
    "\n",
    "\n",
    "\n",
    "<ul>\n",
    "    <li>Jesus S, Pombal J, Alves D, Cruz A, Saleiro P, Ribeiro R, Gama J, Bizarro P. Turning the tables: Biased, imbalanced, dynamic tabular datasets for ml evaluation. Advances in Neural Information Processing Systems. 2022 Dec 6;35:33563-75.</li>\n",
    "\n",
    "</ul>"
   ]
  }
 ],
 "metadata": {
  "kernelspec": {
   "display_name": "anomaly_detection_environment",
   "language": "python",
   "name": "anomaly_detection_environment"
  },
  "language_info": {
   "codemirror_mode": {
    "name": "ipython",
    "version": 3
   },
   "file_extension": ".py",
   "mimetype": "text/x-python",
   "name": "python",
   "nbconvert_exporter": "python",
   "pygments_lexer": "ipython3",
   "version": "3.7.9"
  },
  "vscode": {
   "interpreter": {
    "hash": "10259be683146ba0cfb84d8d370984231ebebae69a5ceae05aa739bef317bea6"
   }
  }
 },
 "nbformat": 4,
 "nbformat_minor": 5
}
