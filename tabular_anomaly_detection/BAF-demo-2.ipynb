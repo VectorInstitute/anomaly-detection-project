{
 "cells": [
  {
   "cell_type": "markdown",
   "id": "5744b134",
   "metadata": {},
   "source": [
    "<div align=\"center\">\n",
    "    <br><b><font size=\"6\">Unmasking Fraud in Bank Account Openings - Demo 2</font></b><br><br>\n",
    "</div>"
   ]
  },
  {
   "cell_type": "markdown",
   "id": "132aa7f5",
   "metadata": {},
   "source": [
    "In this notebook, we will dive into more **deep learning-based methods** to address fraud detection in BAF dataset."
   ]
  },
  {
   "cell_type": "markdown",
   "id": "13667c93",
   "metadata": {},
   "source": [
    "# Outline:\n",
    "<br>\n",
    "<ul>\n",
    "    <li><b>Dataset Preparation</b></li><br>\n",
    "    <li><b>Methods</b></li>\n",
    "    <ul>\n",
    "        <li><b>TabNet</b></li>\n",
    "        <li><b>Autoencoder</b></li>\n",
    "        <li><b>ICL</b></li>\n",
    "    </ul>\n",
    "    <br>\n",
    "    <li><b>Results</b></li><br>\n",
    "</ul>"
   ]
  },
  {
   "cell_type": "markdown",
   "id": "c4e040f2",
   "metadata": {},
   "source": [
    "# Dataset Preparation\n",
    "\n",
    "<p>Here, we use BAFDataset class to prepare the BAF dataset for our experiments, handling loading, train-test splitting, and preprocessing tasks in a clear and organized manner.</p>\n"
   ]
  },
  {
   "cell_type": "code",
   "execution_count": 1,
   "id": "f44294a8",
   "metadata": {},
   "outputs": [
    {
     "name": "stdout",
     "output_type": "stream",
     "text": [
      "environ({'SLURM_MPI_TYPE': 'pmi2', 'CONDA_SHLVL': '0', 'LD_LIBRARY_PATH': '/scratch/ssd001/pkgs/cudnn-11.4-v8.2.4.15/lib64:/scratch/ssd001/pkgs/cuda-11.6/targets/x86_64-linux/lib', 'CONDA_EXE': '/h/vkhazaie/anaconda3/bin/conda', 'SRUN_DEBUG': '3', 'SLURM_STEP_ID': '0', 'SLURM_STEP_GPUS': '2', 'SLURM_NODEID': '0', 'SLURM_TASK_PID': '4505', 'SSH_CONNECTION': '97.108.101.79 51253 172.17.15.236 22', 'SLURM_PRIO_PROCESS': '0', 'LANG': 'en_US.UTF-8', 'SLURM_SUBMIT_DIR': '/fs01/home/vkhazaie', 'PMI_SIZE': '1', 'OLDPWD': '/h/vkhazaie', 'SLURM_STEPID': '0', 'SLURM_SRUN_COMM_HOST': '172.17.15.236', 'SLURM_DISTRIBUTION': 'cyclic,pack', 'ROCR_VISIBLE_DEVICES': '0', 'SLURM_PROCID': '0', 'SLURM_JOB_GID': '11114', 'SLURMD_NODENAME': 'gpu097', 'VIRTUAL_ENV': '/ssd003/projects/aieng/public/anomaly_detection_environment', 'SLURM_TASKS_PER_NODE': '1', 'S_COLORS': 'auto', '_CE_M': '', 'XDG_SESSION_ID': '45822', 'SLURM_NNODES': '1', 'USER': 'vkhazaie', 'SLURM_LAUNCH_NODE_IPADDR': '172.17.15.236', 'SLURM_STEP_TASKS_PER_NODE': '1', 'PWD': '/h/vkhazaie/anomaly-detection-project', 'SLURM_JOB_NODELIST': 'gpu097', 'HOME': '/h/vkhazaie', 'PMI_FD': '11', 'SLURM_CLUSTER_NAME': 'vaughan2', 'CONDA_PYTHON_EXE': '/h/vkhazaie/anaconda3/bin/python', 'SLURM_NODELIST': 'gpu097', 'SLURM_GPUS_ON_NODE': '1', 'SSH_CLIENT': '97.108.101.79 51253 22', 'LMOD_VERSION': '8.2.4', 'SLURM_NTASKS': '1', 'SLURM_UMASK': '0002', 'SLURM_JOB_CPUS_PER_NODE': '2', 'BASH_ENV': '/opt/lmod/lmod/init/bash', 'SLURM_TOPOLOGY_ADDR': 'gpu097', '_CE_CONDA': '', 'SLURM_WORKING_CLUSTER': 'vaughan2:vremote2:6817:9728:109', 'SLURM_STEP_NODELIST': 'gpu097', 'SLURM_JOB_NAME': 'bash', 'SLURM_SRUN_COMM_PORT': '36779', 'TMPDIR': '/tmp', 'LMOD_sys': 'Linux', 'SLURM_JOBID': '10715756', 'SLURM_CONF': '/opt/slurm-22.05.3/etc/slurm.conf', 'SLURM_JOB_QOS': 'high', 'LMOD_ROOT': '/opt/lmod', 'SLURM_TOPOLOGY_ADDR_PATTERN': 'node', 'SSH_TTY': '/dev/pts/316', 'MAIL': '/var/mail/vkhazaie', 'ZE_AFFINITY_MASK': '0', 'SLURM_CPUS_ON_NODE': '2', 'SLURM_JOB_NUM_NODES': '1', 'SHELL': '/bin/bash', 'TERM': 'xterm-color', 'SLURM_JOB_UID': '11070', 'SLURM_JOB_PARTITION': 't4v2', 'SLURM_SCRIPT_CONTEXT': 'prolog_task', 'SLURM_PTY_WIN_ROW': '54', 'SLURM_JOB_USER': 'vkhazaie', 'CUDA_VISIBLE_DEVICES': '0', 'SLURM_PTY_WIN_COL': '209', 'PMI_JOBID': '10715756.0', 'SLURM_NPROCS': '1', 'SHLVL': '2', 'SLURM_SUBMIT_HOST': 'v3', 'SLURM_JOB_ACCOUNT': 'affiliate', 'MANPATH': '/opt/lmod/lmod/share/man:', 'SLURM_STEP_LAUNCHER_PORT': '36779', 'MODULEPATH': '/opt/modulefiles:/pkgs/modulefiles:/pkgs/environment-modules', 'SLURM_PTY_PORT': '41001', 'SLURM_GTIDS': '0', 'LOGNAME': 'vkhazaie', 'DBUS_SESSION_BUS_ADDRESS': 'unix:path=/run/user/11070/bus', 'XDG_RUNTIME_DIR': '/run/user/11070', 'MODULEPATH_ROOT': '/opt/modulefiles', 'PATH': '/ssd003/projects/aieng/public/anomaly_detection_environment/bin:/ssd003/projects/aieng/public/anomaly_detection_environment/bin:/pkgs/cuda-11.6/bin:/h/vkhazaie/anaconda3/condabin:/opt/slurm/bin:/usr/local/sbin:/usr/local/bin:/usr/sbin:/usr/bin:/sbin:/bin:/usr/games:/usr/local/games:/snap/bin', 'SLURM_JOB_ID': '10715756', 'PS1': '(anomaly_detection_environment) ${debian_chroot:+($debian_chroot)}\\\\u@\\\\h:\\\\w\\\\$ ', 'SLURM_STEP_NUM_TASKS': '1', 'MODULESHOME': '/opt/lmod/lmod', 'LMOD_SETTARG_FULL_SUPPORT': 'no', 'LMOD_PKG': '/opt/lmod/lmod', 'SLURM_STEP_NUM_NODES': '1', 'PMI_RANK': '0', 'LMOD_CMD': '/opt/lmod/lmod/libexec/lmod', 'SLURM_LOCALID': '0', 'GPU_DEVICE_ORDINAL': '0', 'LMOD_DIR': '/opt/lmod/lmod/libexec', 'BASH_FUNC_module%%': '() {  eval $($LMOD_CMD bash \"$@\") && eval $(${LMOD_SETTARG_CMD:-:} -s sh)\\n}', 'BASH_FUNC_ml%%': '() {  eval $($LMOD_DIR/ml_cmd \"$@\")\\n}', '_': '/ssd003/projects/aieng/public/anomaly_detection_environment/bin/jupyter', 'PYDEVD_USE_FRAME_EVAL': 'NO', 'JPY_PARENT_PID': '10964', 'CLICOLOR': '1', 'PAGER': 'cat', 'GIT_PAGER': 'cat', 'MPLBACKEND': 'module://matplotlib_inline.backend_inline', 'KMP_DUPLICATE_LIB_OK': 'True', 'KMP_INIT_AT_FORK': 'FALSE'})\n"
     ]
    }
   ],
   "source": [
    "# Import the necessary packages and libraries\n",
    "import pandas as pd\n",
    "import matplotlib.pyplot as plt\n",
    "from baf import BAFDataset\n",
    "from metrics import calculate_tpr_at_fpr, calculate_fairness_metrics\n",
    "import os\n",
    "import joblib\n",
    "import time\n",
    "import numpy as np\n",
    "import random\n",
    "import torch\n",
    "import torch.nn as nn\n",
    "import torch.optim as optim\n",
    "from torch.utils.data import DataLoader, TensorDataset\n",
    "from sklearn.metrics import roc_curve\n",
    "from pytorch_tabnet.metrics import Metric\n",
    "from pytorch_tabnet.tab_model import TabNetClassifier\n",
    "from pytorch_tabnet.pretraining import TabNetPretrainer\n",
    "\n",
    "print(os.environ)\n",
    "seed = 100\n",
    "np.random.seed(seed)\n",
    "random.seed(seed)\n",
    "torch.manual_seed(seed)\n",
    "if torch.cuda.is_available():\n",
    "    torch.cuda.manual_seed_all(seed)"
   ]
  },
  {
   "cell_type": "code",
   "execution_count": 2,
   "id": "065efc54",
   "metadata": {},
   "outputs": [],
   "source": [
    "# Instantiate the BAF class\n",
    "ds = BAFDataset()"
   ]
  },
  {
   "cell_type": "code",
   "execution_count": 3,
   "id": "21f6d243",
   "metadata": {},
   "outputs": [],
   "source": [
    "# set the path to the dataset and models\n",
    "\n",
    "base_path = \"/ssd003/projects/aieng/public/anomaly_detection_datasets/BAF\"\n",
    "model_path = \"/ssd003/projects/aieng/public/anomaly_detection_models/BAF\"\n",
    "\n",
    "variant = \"Base.csv\""
   ]
  },
  {
   "cell_type": "code",
   "execution_count": 4,
   "id": "99e9556c",
   "metadata": {},
   "outputs": [],
   "source": [
    "# Add file to path\n",
    "file_path = os.path.join(base_path, variant)\n",
    "\n",
    "# Load the dataset\n",
    "df = ds.load_data(file_path)"
   ]
  },
  {
   "cell_type": "code",
   "execution_count": 5,
   "id": "a6682e22",
   "metadata": {},
   "outputs": [],
   "source": [
    "# Split the dataset into train and test sets\n",
    "(X_train, y_train), (X_test, y_test) = ds.train_test_split(df, month=6)"
   ]
  },
  {
   "cell_type": "code",
   "execution_count": 6,
   "id": "77b38c51",
   "metadata": {},
   "outputs": [
    {
     "data": {
      "text/html": [
       "<div>\n",
       "<style scoped>\n",
       "    .dataframe tbody tr th:only-of-type {\n",
       "        vertical-align: middle;\n",
       "    }\n",
       "\n",
       "    .dataframe tbody tr th {\n",
       "        vertical-align: top;\n",
       "    }\n",
       "\n",
       "    .dataframe thead th {\n",
       "        text-align: right;\n",
       "    }\n",
       "</style>\n",
       "<table border=\"1\" class=\"dataframe\">\n",
       "  <thead>\n",
       "    <tr style=\"text-align: right;\">\n",
       "      <th></th>\n",
       "      <th>income</th>\n",
       "      <th>name_email_similarity</th>\n",
       "      <th>prev_address_months_count</th>\n",
       "      <th>current_address_months_count</th>\n",
       "      <th>customer_age</th>\n",
       "      <th>days_since_request</th>\n",
       "      <th>intended_balcon_amount</th>\n",
       "      <th>payment_type</th>\n",
       "      <th>zip_count_4w</th>\n",
       "      <th>velocity_6h</th>\n",
       "      <th>...</th>\n",
       "      <th>phone_mobile_valid</th>\n",
       "      <th>bank_months_count</th>\n",
       "      <th>has_other_cards</th>\n",
       "      <th>proposed_credit_limit</th>\n",
       "      <th>foreign_request</th>\n",
       "      <th>source</th>\n",
       "      <th>session_length_in_minutes</th>\n",
       "      <th>device_os</th>\n",
       "      <th>keep_alive_session</th>\n",
       "      <th>device_distinct_emails_8w</th>\n",
       "    </tr>\n",
       "  </thead>\n",
       "  <tbody>\n",
       "    <tr>\n",
       "      <th>96843</th>\n",
       "      <td>0.8</td>\n",
       "      <td>0.153411</td>\n",
       "      <td>-1</td>\n",
       "      <td>105</td>\n",
       "      <td>30</td>\n",
       "      <td>0.003467</td>\n",
       "      <td>-0.906840</td>\n",
       "      <td>AC</td>\n",
       "      <td>1779</td>\n",
       "      <td>1147.615990</td>\n",
       "      <td>...</td>\n",
       "      <td>1</td>\n",
       "      <td>-1</td>\n",
       "      <td>0</td>\n",
       "      <td>200.0</td>\n",
       "      <td>0</td>\n",
       "      <td>INTERNET</td>\n",
       "      <td>3.911696</td>\n",
       "      <td>linux</td>\n",
       "      <td>0</td>\n",
       "      <td>1</td>\n",
       "    </tr>\n",
       "    <tr>\n",
       "      <th>96844</th>\n",
       "      <td>0.8</td>\n",
       "      <td>0.442439</td>\n",
       "      <td>-1</td>\n",
       "      <td>107</td>\n",
       "      <td>40</td>\n",
       "      <td>0.021131</td>\n",
       "      <td>-1.553115</td>\n",
       "      <td>AC</td>\n",
       "      <td>1195</td>\n",
       "      <td>10788.642570</td>\n",
       "      <td>...</td>\n",
       "      <td>1</td>\n",
       "      <td>-1</td>\n",
       "      <td>0</td>\n",
       "      <td>200.0</td>\n",
       "      <td>0</td>\n",
       "      <td>INTERNET</td>\n",
       "      <td>23.696737</td>\n",
       "      <td>other</td>\n",
       "      <td>0</td>\n",
       "      <td>2</td>\n",
       "    </tr>\n",
       "    <tr>\n",
       "      <th>96845</th>\n",
       "      <td>0.9</td>\n",
       "      <td>0.328328</td>\n",
       "      <td>-1</td>\n",
       "      <td>79</td>\n",
       "      <td>70</td>\n",
       "      <td>0.009110</td>\n",
       "      <td>-0.801146</td>\n",
       "      <td>AC</td>\n",
       "      <td>845</td>\n",
       "      <td>8504.451753</td>\n",
       "      <td>...</td>\n",
       "      <td>1</td>\n",
       "      <td>-1</td>\n",
       "      <td>0</td>\n",
       "      <td>2000.0</td>\n",
       "      <td>0</td>\n",
       "      <td>INTERNET</td>\n",
       "      <td>2.803927</td>\n",
       "      <td>windows</td>\n",
       "      <td>0</td>\n",
       "      <td>1</td>\n",
       "    </tr>\n",
       "    <tr>\n",
       "      <th>96846</th>\n",
       "      <td>0.7</td>\n",
       "      <td>0.033834</td>\n",
       "      <td>-1</td>\n",
       "      <td>28</td>\n",
       "      <td>30</td>\n",
       "      <td>0.004707</td>\n",
       "      <td>-1.171706</td>\n",
       "      <td>AB</td>\n",
       "      <td>1697</td>\n",
       "      <td>6011.217859</td>\n",
       "      <td>...</td>\n",
       "      <td>1</td>\n",
       "      <td>28</td>\n",
       "      <td>0</td>\n",
       "      <td>1000.0</td>\n",
       "      <td>0</td>\n",
       "      <td>INTERNET</td>\n",
       "      <td>5.262441</td>\n",
       "      <td>windows</td>\n",
       "      <td>1</td>\n",
       "      <td>2</td>\n",
       "    </tr>\n",
       "    <tr>\n",
       "      <th>96847</th>\n",
       "      <td>0.9</td>\n",
       "      <td>0.150643</td>\n",
       "      <td>-1</td>\n",
       "      <td>164</td>\n",
       "      <td>40</td>\n",
       "      <td>0.012221</td>\n",
       "      <td>-0.227823</td>\n",
       "      <td>AB</td>\n",
       "      <td>1474</td>\n",
       "      <td>8378.324044</td>\n",
       "      <td>...</td>\n",
       "      <td>1</td>\n",
       "      <td>5</td>\n",
       "      <td>0</td>\n",
       "      <td>1500.0</td>\n",
       "      <td>0</td>\n",
       "      <td>INTERNET</td>\n",
       "      <td>5.728984</td>\n",
       "      <td>windows</td>\n",
       "      <td>0</td>\n",
       "      <td>1</td>\n",
       "    </tr>\n",
       "  </tbody>\n",
       "</table>\n",
       "<p>5 rows × 29 columns</p>\n",
       "</div>"
      ],
      "text/plain": [
       "       income  name_email_similarity  prev_address_months_count  \\\n",
       "96843     0.8               0.153411                         -1   \n",
       "96844     0.8               0.442439                         -1   \n",
       "96845     0.9               0.328328                         -1   \n",
       "96846     0.7               0.033834                         -1   \n",
       "96847     0.9               0.150643                         -1   \n",
       "\n",
       "       current_address_months_count  customer_age  days_since_request  \\\n",
       "96843                           105            30            0.003467   \n",
       "96844                           107            40            0.021131   \n",
       "96845                            79            70            0.009110   \n",
       "96846                            28            30            0.004707   \n",
       "96847                           164            40            0.012221   \n",
       "\n",
       "       intended_balcon_amount payment_type  zip_count_4w   velocity_6h  ...  \\\n",
       "96843               -0.906840           AC          1779   1147.615990  ...   \n",
       "96844               -1.553115           AC          1195  10788.642570  ...   \n",
       "96845               -0.801146           AC           845   8504.451753  ...   \n",
       "96846               -1.171706           AB          1697   6011.217859  ...   \n",
       "96847               -0.227823           AB          1474   8378.324044  ...   \n",
       "\n",
       "       phone_mobile_valid  bank_months_count  has_other_cards  \\\n",
       "96843                   1                 -1                0   \n",
       "96844                   1                 -1                0   \n",
       "96845                   1                 -1                0   \n",
       "96846                   1                 28                0   \n",
       "96847                   1                  5                0   \n",
       "\n",
       "       proposed_credit_limit foreign_request    source  \\\n",
       "96843                  200.0               0  INTERNET   \n",
       "96844                  200.0               0  INTERNET   \n",
       "96845                 2000.0               0  INTERNET   \n",
       "96846                 1000.0               0  INTERNET   \n",
       "96847                 1500.0               0  INTERNET   \n",
       "\n",
       "       session_length_in_minutes device_os  keep_alive_session  \\\n",
       "96843                   3.911696     linux                   0   \n",
       "96844                  23.696737     other                   0   \n",
       "96845                   2.803927   windows                   0   \n",
       "96846                   5.262441   windows                   1   \n",
       "96847                   5.728984   windows                   0   \n",
       "\n",
       "       device_distinct_emails_8w  \n",
       "96843                          1  \n",
       "96844                          2  \n",
       "96845                          1  \n",
       "96846                          2  \n",
       "96847                          1  \n",
       "\n",
       "[5 rows x 29 columns]"
      ]
     },
     "execution_count": 6,
     "metadata": {},
     "output_type": "execute_result"
    }
   ],
   "source": [
    "X_train.head()"
   ]
  },
  {
   "cell_type": "code",
   "execution_count": 7,
   "id": "e9f5f1db",
   "metadata": {},
   "outputs": [],
   "source": [
    "# One-hot encode the categorical features in the dataset\n",
    "X_train, X_test = ds.one_hot_encode_categorical(X_train, X_test)"
   ]
  },
  {
   "cell_type": "code",
   "execution_count": 8,
   "id": "4116c3a2",
   "metadata": {},
   "outputs": [
    {
     "data": {
      "text/html": [
       "<div>\n",
       "<style scoped>\n",
       "    .dataframe tbody tr th:only-of-type {\n",
       "        vertical-align: middle;\n",
       "    }\n",
       "\n",
       "    .dataframe tbody tr th {\n",
       "        vertical-align: top;\n",
       "    }\n",
       "\n",
       "    .dataframe thead th {\n",
       "        text-align: right;\n",
       "    }\n",
       "</style>\n",
       "<table border=\"1\" class=\"dataframe\">\n",
       "  <thead>\n",
       "    <tr style=\"text-align: right;\">\n",
       "      <th></th>\n",
       "      <th>income</th>\n",
       "      <th>name_email_similarity</th>\n",
       "      <th>prev_address_months_count</th>\n",
       "      <th>current_address_months_count</th>\n",
       "      <th>customer_age</th>\n",
       "      <th>days_since_request</th>\n",
       "      <th>intended_balcon_amount</th>\n",
       "      <th>zip_count_4w</th>\n",
       "      <th>velocity_6h</th>\n",
       "      <th>velocity_24h</th>\n",
       "      <th>...</th>\n",
       "      <th>16</th>\n",
       "      <th>17</th>\n",
       "      <th>18</th>\n",
       "      <th>19</th>\n",
       "      <th>20</th>\n",
       "      <th>21</th>\n",
       "      <th>22</th>\n",
       "      <th>23</th>\n",
       "      <th>24</th>\n",
       "      <th>25</th>\n",
       "    </tr>\n",
       "  </thead>\n",
       "  <tbody>\n",
       "    <tr>\n",
       "      <th>96843</th>\n",
       "      <td>0.8</td>\n",
       "      <td>0.153411</td>\n",
       "      <td>-1</td>\n",
       "      <td>105</td>\n",
       "      <td>30</td>\n",
       "      <td>0.003467</td>\n",
       "      <td>-0.906840</td>\n",
       "      <td>1779</td>\n",
       "      <td>1147.615990</td>\n",
       "      <td>3076.384487</td>\n",
       "      <td>...</td>\n",
       "      <td>0.0</td>\n",
       "      <td>0.0</td>\n",
       "      <td>0.0</td>\n",
       "      <td>1.0</td>\n",
       "      <td>0.0</td>\n",
       "      <td>1.0</td>\n",
       "      <td>0.0</td>\n",
       "      <td>0.0</td>\n",
       "      <td>0.0</td>\n",
       "      <td>0.0</td>\n",
       "    </tr>\n",
       "    <tr>\n",
       "      <th>96844</th>\n",
       "      <td>0.8</td>\n",
       "      <td>0.442439</td>\n",
       "      <td>-1</td>\n",
       "      <td>107</td>\n",
       "      <td>40</td>\n",
       "      <td>0.021131</td>\n",
       "      <td>-1.553115</td>\n",
       "      <td>1195</td>\n",
       "      <td>10788.642570</td>\n",
       "      <td>5790.128646</td>\n",
       "      <td>...</td>\n",
       "      <td>0.0</td>\n",
       "      <td>0.0</td>\n",
       "      <td>0.0</td>\n",
       "      <td>1.0</td>\n",
       "      <td>0.0</td>\n",
       "      <td>0.0</td>\n",
       "      <td>0.0</td>\n",
       "      <td>1.0</td>\n",
       "      <td>0.0</td>\n",
       "      <td>0.0</td>\n",
       "    </tr>\n",
       "    <tr>\n",
       "      <th>96845</th>\n",
       "      <td>0.9</td>\n",
       "      <td>0.328328</td>\n",
       "      <td>-1</td>\n",
       "      <td>79</td>\n",
       "      <td>70</td>\n",
       "      <td>0.009110</td>\n",
       "      <td>-0.801146</td>\n",
       "      <td>845</td>\n",
       "      <td>8504.451753</td>\n",
       "      <td>5912.163054</td>\n",
       "      <td>...</td>\n",
       "      <td>0.0</td>\n",
       "      <td>0.0</td>\n",
       "      <td>0.0</td>\n",
       "      <td>1.0</td>\n",
       "      <td>0.0</td>\n",
       "      <td>0.0</td>\n",
       "      <td>0.0</td>\n",
       "      <td>0.0</td>\n",
       "      <td>1.0</td>\n",
       "      <td>0.0</td>\n",
       "    </tr>\n",
       "    <tr>\n",
       "      <th>96846</th>\n",
       "      <td>0.7</td>\n",
       "      <td>0.033834</td>\n",
       "      <td>-1</td>\n",
       "      <td>28</td>\n",
       "      <td>30</td>\n",
       "      <td>0.004707</td>\n",
       "      <td>-1.171706</td>\n",
       "      <td>1697</td>\n",
       "      <td>6011.217859</td>\n",
       "      <td>5505.127811</td>\n",
       "      <td>...</td>\n",
       "      <td>0.0</td>\n",
       "      <td>0.0</td>\n",
       "      <td>0.0</td>\n",
       "      <td>1.0</td>\n",
       "      <td>0.0</td>\n",
       "      <td>0.0</td>\n",
       "      <td>0.0</td>\n",
       "      <td>0.0</td>\n",
       "      <td>1.0</td>\n",
       "      <td>0.0</td>\n",
       "    </tr>\n",
       "    <tr>\n",
       "      <th>96847</th>\n",
       "      <td>0.9</td>\n",
       "      <td>0.150643</td>\n",
       "      <td>-1</td>\n",
       "      <td>164</td>\n",
       "      <td>40</td>\n",
       "      <td>0.012221</td>\n",
       "      <td>-0.227823</td>\n",
       "      <td>1474</td>\n",
       "      <td>8378.324044</td>\n",
       "      <td>4930.672316</td>\n",
       "      <td>...</td>\n",
       "      <td>0.0</td>\n",
       "      <td>0.0</td>\n",
       "      <td>0.0</td>\n",
       "      <td>1.0</td>\n",
       "      <td>0.0</td>\n",
       "      <td>0.0</td>\n",
       "      <td>0.0</td>\n",
       "      <td>0.0</td>\n",
       "      <td>1.0</td>\n",
       "      <td>0.0</td>\n",
       "    </tr>\n",
       "  </tbody>\n",
       "</table>\n",
       "<p>5 rows × 50 columns</p>\n",
       "</div>"
      ],
      "text/plain": [
       "       income  name_email_similarity  prev_address_months_count  \\\n",
       "96843     0.8               0.153411                         -1   \n",
       "96844     0.8               0.442439                         -1   \n",
       "96845     0.9               0.328328                         -1   \n",
       "96846     0.7               0.033834                         -1   \n",
       "96847     0.9               0.150643                         -1   \n",
       "\n",
       "       current_address_months_count  customer_age  days_since_request  \\\n",
       "96843                           105            30            0.003467   \n",
       "96844                           107            40            0.021131   \n",
       "96845                            79            70            0.009110   \n",
       "96846                            28            30            0.004707   \n",
       "96847                           164            40            0.012221   \n",
       "\n",
       "       intended_balcon_amount  zip_count_4w   velocity_6h  velocity_24h  ...  \\\n",
       "96843               -0.906840          1779   1147.615990   3076.384487  ...   \n",
       "96844               -1.553115          1195  10788.642570   5790.128646  ...   \n",
       "96845               -0.801146           845   8504.451753   5912.163054  ...   \n",
       "96846               -1.171706          1697   6011.217859   5505.127811  ...   \n",
       "96847               -0.227823          1474   8378.324044   4930.672316  ...   \n",
       "\n",
       "        16   17   18   19   20   21   22   23   24   25  \n",
       "96843  0.0  0.0  0.0  1.0  0.0  1.0  0.0  0.0  0.0  0.0  \n",
       "96844  0.0  0.0  0.0  1.0  0.0  0.0  0.0  1.0  0.0  0.0  \n",
       "96845  0.0  0.0  0.0  1.0  0.0  0.0  0.0  0.0  1.0  0.0  \n",
       "96846  0.0  0.0  0.0  1.0  0.0  0.0  0.0  0.0  1.0  0.0  \n",
       "96847  0.0  0.0  0.0  1.0  0.0  0.0  0.0  0.0  1.0  0.0  \n",
       "\n",
       "[5 rows x 50 columns]"
      ]
     },
     "execution_count": 8,
     "metadata": {},
     "output_type": "execute_result"
    }
   ],
   "source": [
    "X_train.head()"
   ]
  },
  {
   "cell_type": "code",
   "execution_count": 9,
   "id": "b3586836",
   "metadata": {},
   "outputs": [],
   "source": [
    "# define these dictionaries for storing the results\n",
    "performance_results = {}\n",
    "fairness_results = {}\n",
    "\n",
    "# Dictionaries to store training and inference times\n",
    "training_times_dict = {}\n",
    "inference_times_dict = {}"
   ]
  },
  {
   "cell_type": "markdown",
   "id": "5eda7b1b",
   "metadata": {},
   "source": [
    "# Methods\n",
    "\n",
    "Now, let's delve into the methods employed to analyze the BAF dataset. The following section will outline the approaches and techniques used to address fraud detection in this high-stakes banking context."
   ]
  },
  {
   "cell_type": "markdown",
   "id": "f708c70b",
   "metadata": {},
   "source": [
    "## TabNet: Attentive Interpretable Tabular Learning\n",
    "\n",
    "**TabNet** presents an innovative approach that bridges the gap between two prominent machine learning paradigms: **Decision Trees (DTs)** and **Deep Neural Networks (DNNs)**. The methodology introduced in this work combines the strengths of these two approaches to create a powerful learning framework for real-world **tabular datasets**. While **DNNs lack the transparency and interpretability of DTs**, DTs often struggle to capture the intricacies of complex patterns present in diverse tabular data. TabNet's primary contribution revolves around its meticulously designed architecture, which effectively integrates the output structure of DTs within the flexible framework of DNNs.\n",
    "\n",
    "The central concept driving TabNet is the emulation of **decision boundaries** akin to those established by DTs. However, TabNet introduces a novel mechanism by leveraging a sequence of **learnable masks** to guide feature selection at each step. These masks, derived through the innovative **sparsemax normalization technique**, offer a dual advantage: they optimize parameter usage efficiently and promote interpretability by **highlighting the most pertinent features**. Moreover, the incorporation of **sparsity regularization** empowers the model with the ability to control the extent of feature selection, a crucial capability when dealing with datasets containing redundant or irrelevant features.\n",
    "\n",
    "TabNet's architecture excels due to its **sequential multi-step approach**, wherein decisions are iteratively refined by progressively considering the most influential features. Inspired by applications in visual processing and reinforcement learning, the **top-down attention mechanism** equips the model to concentrate on relevant information, effectively tackling the challenges posed by high-dimensional inputs. This results in a dynamic decision process that effectively harnesses the strengths of both local and global features, thereby enhancing TabNet's proficiency in capturing intricate relationships within tabular data.\n",
    "\n",
    "In essence, TabNet strikes a remarkable balance between **predictive power and interpretability**. Its capability to not only **outperform traditional DTs** but also provide **invaluable insights into feature importance** positions it as a potent solution for learning from tabular datasets. This becomes particularly relevant in domains where comprehending the decision-making process is just as pivotal as achieving accurate predictions.\n"
   ]
  },
  {
   "cell_type": "code",
   "execution_count": 10,
   "id": "bf8e2c66",
   "metadata": {},
   "outputs": [
    {
     "name": "stderr",
     "output_type": "stream",
     "text": [
      "/ssd003/projects/aieng/public/anomaly_detection_environment/lib/python3.7/site-packages/pytorch_tabnet/abstract_model.py:82: UserWarning: Device used : cuda\n",
      "  warnings.warn(f\"Device used : {self.device}\")\n"
     ]
    }
   ],
   "source": [
    "# Create an instance of TabNet model\n",
    "clf = TabNetClassifier()"
   ]
  },
  {
   "cell_type": "code",
   "execution_count": 11,
   "id": "a9e1fb90",
   "metadata": {},
   "outputs": [],
   "source": [
    "# Create a custom metric class to pass to TabNet\n",
    "class TPR_at_05FPR(Metric):\n",
    "    def __init__(self):\n",
    "        self._name = \"tpr_at_05fpr\"\n",
    "        self._maximize = True\n",
    "\n",
    "    def __call__(self, y_true, y_score):\n",
    "        fpr, tpr, threshold = roc_curve(y_true, y_score[:, 1])\n",
    "        tpr_at_05fpr = tpr[fpr < 0.05][-1]\n",
    "        return tpr_at_05fpr"
   ]
  },
  {
   "cell_type": "markdown",
   "id": "929c98b0",
   "metadata": {},
   "source": [
    "Set 1 for automatic weight balancing or try different values and see how the performance changes."
   ]
  },
  {
   "cell_type": "code",
   "execution_count": 12,
   "id": "07d244a5",
   "metadata": {},
   "outputs": [
    {
     "name": "stderr",
     "output_type": "stream",
     "text": [
      "/ssd003/projects/aieng/public/anomaly_detection_environment/lib/python3.7/site-packages/pytorch_tabnet/abstract_model.py:687: UserWarning: No early stopping will be performed, last training weights will be used.\n",
      "  warnings.warn(wrn_msg)\n"
     ]
    },
    {
     "name": "stdout",
     "output_type": "stream",
     "text": [
      "epoch 0  | loss: 0.05198 |  0:00:59s\n",
      "epoch 1  | loss: 0.04631 |  0:01:58s\n",
      "epoch 2  | loss: 0.04549 |  0:02:56s\n",
      "epoch 3  | loss: 0.04523 |  0:03:55s\n",
      "epoch 4  | loss: 0.04475 |  0:04:54s\n",
      "Training Time: 629.1139430999756 seconds\n"
     ]
    }
   ],
   "source": [
    "# Start measuring training time\n",
    "start_time = time.time()\n",
    "\n",
    "# Train TabNet\n",
    "clf.fit(\n",
    "    X_train.values, \n",
    "    y_train.values,\n",
    "    eval_metric=[TPR_at_05FPR, \"auc\"],\n",
    "    max_epochs=5,\n",
    "    batch_size=512,\n",
    "    weights=0\n",
    ")\n",
    "\n",
    "# End measuring training time\n",
    "end_time = time.time()\n",
    "\n",
    "# Storing and printing the time\n",
    "tabnet_training_time = end_time - start_time\n",
    "print(f\"Training Time: {tabnet_training_time} seconds\")\n",
    "training_times_dict[(variant.split('.')[0], \"TabNet\")] = {\"Training Time\":tabnet_training_time}"
   ]
  },
  {
   "cell_type": "code",
   "execution_count": 13,
   "id": "c7188f46",
   "metadata": {},
   "outputs": [
    {
     "name": "stdout",
     "output_type": "stream",
     "text": [
      "Inference Time: 6.193806409835815 seconds\n"
     ]
    }
   ],
   "source": [
    "# Start measuring inference time\n",
    "start_time = time.time()\n",
    "\n",
    "# Predict on the test set\n",
    "tabnet_scored_test = clf.predict_proba(X_test.values)[:,1]\n",
    "\n",
    "# End measuring inference time\n",
    "end_time = time.time()\n",
    "\n",
    "# Storing and printing the time\n",
    "tabnet_inference_time = end_time - start_time\n",
    "print(f\"Inference Time: {tabnet_inference_time} seconds\")\n",
    "inference_times_dict[(variant.split('.')[0], \"TabNet\")] = {\"Inference Time\":tabnet_inference_time}"
   ]
  },
  {
   "cell_type": "markdown",
   "id": "6c210279",
   "metadata": {},
   "source": [
    "If you want to save the model, you can use:\n",
    "\n",
    "```python\n",
    "clf.save_model(\"PATH_TO_SAVE_MODEL\")\n",
    "```"
   ]
  },
  {
   "cell_type": "code",
   "execution_count": 14,
   "id": "31d44222",
   "metadata": {},
   "outputs": [
    {
     "name": "stdout",
     "output_type": "stream",
     "text": [
      "Model TPR: 0.5069, Model FPR: 0.05, Model Threshold: 0.028200000524520874, Model AUROC: 0.8822\n"
     ]
    }
   ],
   "source": [
    "# Calculate the TPR@5%FPR on the test set\n",
    "metrics_dict = calculate_tpr_at_fpr(y_test, tabnet_scored_test, fpr_lim=0.05)\n",
    "performance_results[(variant.split('.')[0], 'TabNet')] = metrics_dict\n",
    "print(f\"Model TPR: {metrics_dict['TPR']}, Model FPR: {metrics_dict['FPR']}, Model Threshold: {metrics_dict['Threshold']}, Model AUROC: {metrics_dict['AUROC']}\")"
   ]
  },
  {
   "cell_type": "code",
   "execution_count": 15,
   "id": "bd07e25c",
   "metadata": {},
   "outputs": [
    {
     "name": "stdout",
     "output_type": "stream",
     "text": [
      "Fairness Ratio: 0.3459 \n",
      "\n"
     ]
    }
   ],
   "source": [
    "# Calculate the fairness metrics on the test set\n",
    "fairness_ratio = calculate_fairness_metrics(y_test, tabnet_scored_test, X_test, fpr_lim=0.05)\n",
    "fairness_results[(variant.split('.')[0], 'TabNet')] = {\"Fairness Ratio\":fairness_ratio}\n",
    "print(f\"Fairness Ratio: {fairness_ratio}\", \"\\n\")"
   ]
  },
  {
   "cell_type": "markdown",
   "id": "73a36e98",
   "metadata": {},
   "source": [
    "## Autoencoder\n",
    "\n",
    "Now we want to apply some unsupervised methods for anomaly detection. In this cell, we begin by importing essential libraries required for building and training neural networks, as well as for data preprocessing and evaluation. We also import Scikit-learn libraries for metrics calculation and data scaling.\n",
    "\n",
    "Following the imports, we define the architecture of the autoencoder model. An autoencoder is a type of neural network consisting of an encoder and a decoder. The purpose of an autoencoder is to learn a compressed representation of input data and then reconstruct the original data from this representation.\n",
    "\n",
    "We create the `Autoencoder` class as a subclass of `nn.Module`, which is PyTorch's base class for defining neural network modules. The class includes methods for initializing the architecture and performing forward passes.\n",
    "\n",
    "The encoder is structured using `nn.Sequential`, which is a convenient way to define a sequence of layers. It starts with a linear layer that reduces the input data's dimensionality to the specified `hidden_size`, followed by a rectified linear unit (ReLU) activation function to introduce non-linearity.\n",
    "\n",
    "The decoder, resembling the encoder but in reverse order, takes the encoded representation and aims to reconstruct the original input data. The simplicity of this architecture allows for easy experimentation with various configurations and layer sizes."
   ]
  },
  {
   "cell_type": "code",
   "execution_count": 16,
   "id": "df5a0741",
   "metadata": {},
   "outputs": [],
   "source": [
    "# Define the Autoencoder architecture\n",
    "class Autoencoder(nn.Module):\n",
    "    def __init__(self, input_size, hidden_size):\n",
    "        super(Autoencoder, self).__init__()\n",
    "        self.encoder = nn.Sequential(\n",
    "            nn.Linear(input_size, hidden_size),\n",
    "            nn.ReLU()\n",
    "        )\n",
    "        self.decoder = nn.Sequential(\n",
    "            nn.Linear(hidden_size, input_size),\n",
    "            nn.ReLU()\n",
    "        )\n",
    "        \n",
    "    def forward(self, x):\n",
    "        encoded = self.encoder(x)\n",
    "        decoded = self.decoder(encoded)\n",
    "        return decoded"
   ]
  },
  {
   "cell_type": "markdown",
   "id": "fc458c9a",
   "metadata": {},
   "source": [
    "In this cell, we set the hyperparameters that will govern the training process of the autoencoder. Hyperparameters are configuration choices that influence the behavior of the neural network during training. It's important to choose appropriate hyperparameters to ensure effective learning and convergence.\n",
    "\n",
    "We define the `input_size` as the number of features in the input data and `hidden_size` as the number of neurons in the hidden layer of the autoencoder. These values can be adjusted based on the complexity of your data and the desired capacity of the model.\n",
    "\n",
    "Other hyperparameters include the `batch_size`, which determines the number of data samples processed in each training iteration, the `learning_rate`, which controls the step size during optimization, and the `num_epochs`, which specifies the number of times the entire training dataset is passed through the model.\n",
    "\n",
    "With the hyperparameters set, we create an instance of the `Autoencoder` class that we defined earlier. This instance represents our neural network model, which will be trained to learn a compressed representation of the input data.\n",
    "\n",
    "We also define the loss function and optimizer. The loss function (`nn.MSELoss()`) calculates the mean squared error between the reconstructed data and the original data. The optimizer (`optim.Adam()`) implements the Adam optimization algorithm, which updates the model's parameters to minimize the loss during training.\n"
   ]
  },
  {
   "cell_type": "code",
   "execution_count": 17,
   "id": "3bfbf494",
   "metadata": {},
   "outputs": [],
   "source": [
    "# Hyperparameters\n",
    "input_size = 50  # Number of input features\n",
    "hidden_size = 30  # Number of neurons in the hidden layer\n",
    "batch_size = 512\n",
    "learning_rate = 0.0001\n",
    "num_epochs = 5\n",
    "\n",
    "# Create an instance of the Autoencoder\n",
    "autoencoder = Autoencoder(input_size, hidden_size)\n",
    "\n",
    "# Define loss function and optimizer\n",
    "criterion = nn.MSELoss()\n",
    "optimizer = optim.Adam(autoencoder.parameters(), lr=learning_rate)"
   ]
  },
  {
   "cell_type": "markdown",
   "id": "99ce53f1",
   "metadata": {},
   "source": [
    "In this cell, we convert the DataFrames to PyTorch tensors using the `torch.tensor` function. This conversion prepares the data for feeding into the neural network model.\n",
    "\n",
    "With the data in the form of PyTorch tensors, we are now ready to proceed with training the autoencoder model in subsequent cells."
   ]
  },
  {
   "cell_type": "code",
   "execution_count": 18,
   "id": "b9d94bb3",
   "metadata": {},
   "outputs": [],
   "source": [
    "# Convert DataFrame to PyTorch tensors\n",
    "X_train_tensor = torch.tensor(X_train.values, dtype=torch.float32)\n",
    "X_test_tensor = torch.tensor(X_test.values, dtype=torch.float32)"
   ]
  },
  {
   "cell_type": "markdown",
   "id": "02b7bf10",
   "metadata": {},
   "source": [
    "In this cell, we begin the training process of the autoencoder neural network. Training a neural network involves iteratively adjusting its parameters to minimize a chosen loss function and improve its performance on the given data.\n",
    "\n",
    "We create a `train_dataset` using the scaled training data, and a `train_dataloader` using `TensorDataset` and `DataLoader` from PyTorch. The dataloader allows us to efficiently iterate over batches of data during training.\n",
    "\n",
    "We initiate a loop that runs for a specified number of epochs. In each epoch, the autoencoder processes batches of training data through the network and updates its parameters to reduce the loss. The loss is calculated using the mean squared error (`MSELoss`) between the input data and the reconstructed output.\n",
    "\n",
    "The `optimizer` then applies gradient descent to adjust the neural network's weights and biases, moving in the direction that minimizes the loss. This process iterates over multiple epochs, gradually improving the autoencoder's ability to capture useful features and create a compressed representation of the data.\n",
    "\n",
    "At the end of each epoch, we print the loss to monitor the training progress and observe how it decreases over time. This cell establishes the core training loop, and the subsequent cells will focus on evaluating the trained autoencoder's performance and analyzing its results.\n"
   ]
  },
  {
   "cell_type": "code",
   "execution_count": 19,
   "id": "773262ad",
   "metadata": {},
   "outputs": [
    {
     "name": "stdout",
     "output_type": "stream",
     "text": [
      "Epoch [1/5], Loss: 109621.1641\n",
      "Epoch [2/5], Loss: 49789.3008\n",
      "Epoch [3/5], Loss: 15754.1221\n",
      "Epoch [4/5], Loss: 4542.7529\n",
      "Epoch [5/5], Loss: 708.6297\n",
      "Training Time: 43.945231914520264 seconds\n"
     ]
    }
   ],
   "source": [
    "# Create DataLoader for batching\n",
    "train_dataset = TensorDataset(X_train_tensor)\n",
    "train_dataloader = DataLoader(train_dataset, batch_size=batch_size, shuffle=True)\n",
    "\n",
    "\n",
    "# Start measuring training time\n",
    "start_time = time.time()\n",
    "\n",
    "# Training loop\n",
    "for epoch in range(num_epochs):\n",
    "    for batch in train_dataloader:\n",
    "        optimizer.zero_grad()\n",
    "        outputs = autoencoder(batch[0])\n",
    "        loss = criterion(outputs, batch[0])\n",
    "        loss.backward()\n",
    "        optimizer.step()\n",
    "    print(f\"Epoch [{epoch+1}/{num_epochs}], Loss: {loss.item():.4f}\")\n",
    "\n",
    "# End measuring training time\n",
    "end_time = time.time()\n",
    "\n",
    "# Storing and printing the time\n",
    "ae_training_time = end_time - start_time\n",
    "print(f\"Training Time: {ae_training_time} seconds\")\n",
    "training_times_dict[(variant.split('.')[0], \"AE\")] = {\"Training Time\":ae_training_time}"
   ]
  },
  {
   "cell_type": "markdown",
   "id": "0f9cd662",
   "metadata": {},
   "source": [
    "In this cell, we evaluate the performance of the trained autoencoder for anomaly detection on the test data. Anomaly detection involves identifying instances that significantly deviate from the norm in the dataset.\n",
    "\n",
    "We pass the scaled test data through the trained autoencoder's decoder to obtain reconstructed data. The difference between the original test data and the reconstructed data is used to calculate the reconstruction errors. These errors represent how well the autoencoder is able to recreate the input data.\n",
    "\n",
    "To calculate the reconstruction errors, we use the mean squared error (`MSELoss`) with the reduction set to `'none'`. This means that the reconstruction error is computed for each individual data point without aggregating."
   ]
  },
  {
   "cell_type": "code",
   "execution_count": 20,
   "id": "ead12a5f",
   "metadata": {},
   "outputs": [
    {
     "name": "stdout",
     "output_type": "stream",
     "text": [
      "Inference Time: 0.13280272483825684 seconds\n",
      "Model TPR: 0.0653, Model FPR: 0.0498, Model Threshold: 2304.104736328125, Model AUROC: 0.6174\n",
      "Fairness Ratio: 0.3826 \n",
      "\n"
     ]
    }
   ],
   "source": [
    "# Start measuring inference time\n",
    "start_time = time.time()\n",
    "\n",
    "# Pass the test data through the autoencoder\n",
    "with torch.no_grad():\n",
    "    reconstructed_data = autoencoder(X_test_tensor)\n",
    "\n",
    "# End measuring inference time\n",
    "end_time = time.time()\n",
    "\n",
    "# Storing and printing the time\n",
    "ae_inference_time = end_time - start_time\n",
    "print(f\"Inference Time: {ae_inference_time} seconds\")\n",
    "inference_times_dict[(variant.split('.')[0], \"AE\")] = {\"Inference Time\":ae_inference_time}\n",
    "\n",
    "# Calculate reconstruction errors\n",
    "reconstruction_errors = ((reconstructed_data - X_test_tensor)**2).mean(dim=1)\n",
    "\n",
    "# Calculate the TPR@5%FPR on the test set\n",
    "metrics_dict = calculate_tpr_at_fpr(y_test.values, reconstruction_errors.numpy(), fpr_lim=0.05)\n",
    "performance_results[(variant.split('.')[0], 'AE')] = metrics_dict\n",
    "print(f\"Model TPR: {metrics_dict['TPR']}, Model FPR: {metrics_dict['FPR']}, Model Threshold: {metrics_dict['Threshold']}, Model AUROC: {metrics_dict['AUROC']}\")\n",
    "\n",
    "# Calculate the fairness metrics on the test set\n",
    "fairness_ratio = calculate_fairness_metrics(y_test, reconstruction_errors.numpy(), X_test, fpr_lim=0.05)\n",
    "fairness_results[(variant.split('.')[0], 'AE')] = {\"Fairness Ratio\":fairness_ratio}\n",
    "print(f\"Fairness Ratio: {fairness_ratio}\", \"\\n\")"
   ]
  },
  {
   "cell_type": "markdown",
   "id": "df967e0e",
   "metadata": {},
   "source": [
    "## DeepOD: Deep Learning-Based Anomaly Detection Framework\n",
    "\n",
    "DeepOD is an open-source Python framework designed for deep learning-based anomaly detection. It offers a unified implementation of various detection models based on PyTorch.\n",
    "\n",
    "DeepOD currently encompasses 13 deep anomaly detection algorithms in the unsupervised and weakly-supervised paradigms. The framework provides a platform for easy experimentation with these models, and additional baseline algorithms will be incorporated in the future.\n",
    "\n",
    "**Detection Models:**\n",
    "\n",
    "The following detection models are included in DeepOD:\n",
    "\n",
    "| Model       | Venue | Year | Type            | Title\n",
    "|-------------|-------|------|-----------------|----------------------------------------------------\n",
    "| Deep SVDD   | ICML  | 2018 | Unsupervised    | Deep One-Class Classification\n",
    "| REPEN       | KDD   | 2018 | Unsupervised    | Learning Representations of Ultrahigh-dimensional Data for Random Distance-based Outlier Detection\n",
    "| RDP         | IJCAI | 2020 | Unsupervised    | Unsupervised Representation Learning by Predicting Random Distances\n",
    "| RCA         | IJCAI | 2021 | Unsupervised    | RCA: A Deep Collaborative Autoencoder Approach for Anomaly Detection\n",
    "| GOAD        | ICLR  | 2020 | Unsupervised    | Classification-Based Anomaly Detection for General Data\n",
    "| NeuTraL     | ICML  | 2021 | Unsupervised    | Neural Transformation Learning for Deep Anomaly Detection Beyond Images\n",
    "| ICL         | ICLR  | 2022 | Unsupervised    | Anomaly Detection for Tabular Data with Internal Contrastive Learning\n",
    "| DIF         | TKDE  | 2023 | Unsupervised    | Deep Isolation Forest for Anomaly Detection\n",
    "| SLAD        | ICML  | 2023 | Unsupervised    | Fascinating Supervisory Signals and Where to Find Them: Deep Anomaly Detection with Scale Learning\n",
    "| DevNet      | KDD   | 2019 | Weakly-Supervised | Deep Anomaly Detection with Deviation Networks\n",
    "| PReNet      | KDD   | 2023 | Weakly-Supervised | Deep Weakly-supervised Anomaly Detection\n",
    "| Deep SAD    | ICLR  | 2020 | Weakly-Supervised | Deep Semi-Supervised Anomaly Detection\n",
    "| FeaWAD      | TNNLS | 2021 | Weakly-Supervised | Feature Encoding with AutoEncoders for Weakly-supervised Anomaly Detection\n",
    "\n",
    "**Usage Examples:**\n",
    "\n",
    "DeepOD is user-friendly and can be employed with only a few lines of code. The API style is similar to sklearn and [PyOD](https://github.com/yzhao062/pyod).\n",
    "\n",
    "```python\n",
    "# Unsupservised methods\n",
    "from deepod.models.dsvdd import DeepSVDD\n",
    "clf = DeepSVDD()\n",
    "clf.fit(X_train, y=None)\n",
    "scores = clf.decision_function(X_test)\n",
    "\n",
    "# Weakly-supervised methods\n",
    "from deepod.models.devnet import DevNet\n",
    "clf = DevNet()\n",
    "clf.fit(X_train, y=semi_y)  # semi_y uses 1 for known anomalies and 0 for unlabeled data\n",
    "scores = clf.decision_function(X_test)\n"
   ]
  },
  {
   "cell_type": "markdown",
   "id": "58a0ffb4",
   "metadata": {},
   "source": [
    "## ICL: Anomaly Detection for Tabular Data with Internal Contrastive Learning"
   ]
  },
  {
   "cell_type": "markdown",
   "id": "c2aef1a3",
   "metadata": {},
   "source": [
    "The **ICL method** focuses on **out-of-class sample detection** in **tabular data**, where the data structure is largely unknown. It aims to **capture the structure** of single training class samples by learning mappings that **maximize the mutual information** between each sample and the **masked-out portion**. This is accomplished through a **contrastive loss**, learning mappings individually for each sample. The score for a test sample is determined by measuring the **contrastive loss of the learned mappings applied to the masked parts** of the sample. ICL **outperforms existing methods** with a substantial accuracy advantage across benchmarks.\n",
    "\n",
    "\n",
    "**Contrastive learning**, rooted in metric learning and unsupervised representation learning, maximizes similarity between queries and positive samples while minimizing it with negative samples. Existing methods, often using image transformations, **don't apply to tabular data** due to the absence of invariant transformation groups. Qiu et al.'s NeuTraL AD work is a similar method for tabular data but **differs significantly**, utilizing specific masks and single feature extractors.\n",
    "\n",
    "\n",
    "ICL employs a training set of in-class samples and aims to design a **scoring function** that maps samples to low values if they belong to the same distribution and high values otherwise. Hyperparameters include **k for feature subset size, u for embedding size, and τ for loss temperature**. The method **constructs pairs from each sample and learns mappings to maximize mutual information**. Mutual information maximization is achieved through the **noise contrastive estimation framework**."
   ]
  },
  {
   "cell_type": "code",
   "execution_count": 21,
   "id": "d977a45b",
   "metadata": {},
   "outputs": [],
   "source": [
    "from deepod.models.icl import ICL"
   ]
  },
  {
   "cell_type": "code",
   "execution_count": 22,
   "id": "74afc862",
   "metadata": {},
   "outputs": [],
   "source": [
    "# unsupervised method\n",
    "clf = ICL(epochs=5)"
   ]
  },
  {
   "cell_type": "code",
   "execution_count": 23,
   "id": "4cf132b2",
   "metadata": {
    "scrolled": true
   },
   "outputs": [
    {
     "name": "stdout",
     "output_type": "stream",
     "text": [
      "Start Training...\n",
      "ensemble size: 2\n",
      "kernel size: 10\n",
      "ICLNet(\n",
      "  (enc_f_net): MLPnet(\n",
      "    (network): Sequential(\n",
      "      (0): LinearBlock(\n",
      "        (linear): Linear(in_features=40, out_features=100, bias=False)\n",
      "        (act_layer): Tanh()\n",
      "        (bn_layer): BatchNorm1d(41, eps=1e-05, momentum=0.1, affine=False, track_running_stats=True)\n",
      "      )\n",
      "      (1): LinearBlock(\n",
      "        (linear): Linear(in_features=100, out_features=50, bias=False)\n",
      "        (act_layer): LeakyReLU(negative_slope=0.01)\n",
      "        (bn_layer): BatchNorm1d(41, eps=1e-05, momentum=0.1, affine=False, track_running_stats=True)\n",
      "      )\n",
      "      (2): LinearBlock(\n",
      "        (linear): Linear(in_features=50, out_features=128, bias=False)\n",
      "        (act_layer): LeakyReLU(negative_slope=0.01)\n",
      "        (bn_layer): BatchNorm1d(41, eps=1e-05, momentum=0.1, affine=False, track_running_stats=True)\n",
      "      )\n",
      "    )\n",
      "  )\n",
      "  (enc_g_net): MLPnet(\n",
      "    (network): Sequential(\n",
      "      (0): LinearBlock(\n",
      "        (linear): Linear(in_features=10, out_features=50, bias=False)\n",
      "        (act_layer): LeakyReLU(negative_slope=0.01)\n",
      "        (bn_layer): BatchNorm1d(41, eps=1e-05, momentum=0.1, affine=False, track_running_stats=True)\n",
      "      )\n",
      "      (1): LinearBlock(\n",
      "        (linear): Linear(in_features=50, out_features=25, bias=False)\n",
      "        (act_layer): LeakyReLU(negative_slope=0.01)\n",
      "        (bn_layer): BatchNorm1d(41, eps=1e-05, momentum=0.1, affine=False, track_running_stats=True)\n",
      "      )\n",
      "      (2): LinearBlock(\n",
      "        (linear): Linear(in_features=25, out_features=128, bias=False)\n",
      "        (act_layer): LeakyReLU(negative_slope=0.01)\n",
      "        (bn_layer): BatchNorm1d(41, eps=1e-05, momentum=0.1, affine=False, track_running_stats=True)\n",
      "      )\n",
      "    )\n",
      "  )\n",
      ")\n",
      "epoch  1, training loss: 2.215789, time: 88.9s\n",
      "kernel size: 10\n",
      "ICLNet(\n",
      "  (enc_f_net): MLPnet(\n",
      "    (network): Sequential(\n",
      "      (0): LinearBlock(\n",
      "        (linear): Linear(in_features=40, out_features=100, bias=False)\n",
      "        (act_layer): Tanh()\n",
      "        (bn_layer): BatchNorm1d(41, eps=1e-05, momentum=0.1, affine=False, track_running_stats=True)\n",
      "      )\n",
      "      (1): LinearBlock(\n",
      "        (linear): Linear(in_features=100, out_features=50, bias=False)\n",
      "        (act_layer): LeakyReLU(negative_slope=0.01)\n",
      "        (bn_layer): BatchNorm1d(41, eps=1e-05, momentum=0.1, affine=False, track_running_stats=True)\n",
      "      )\n",
      "      (2): LinearBlock(\n",
      "        (linear): Linear(in_features=50, out_features=128, bias=False)\n",
      "        (act_layer): LeakyReLU(negative_slope=0.01)\n",
      "        (bn_layer): BatchNorm1d(41, eps=1e-05, momentum=0.1, affine=False, track_running_stats=True)\n",
      "      )\n",
      "    )\n",
      "  )\n",
      "  (enc_g_net): MLPnet(\n",
      "    (network): Sequential(\n",
      "      (0): LinearBlock(\n",
      "        (linear): Linear(in_features=10, out_features=50, bias=False)\n",
      "        (act_layer): LeakyReLU(negative_slope=0.01)\n",
      "        (bn_layer): BatchNorm1d(41, eps=1e-05, momentum=0.1, affine=False, track_running_stats=True)\n",
      "      )\n",
      "      (1): LinearBlock(\n",
      "        (linear): Linear(in_features=50, out_features=25, bias=False)\n",
      "        (act_layer): LeakyReLU(negative_slope=0.01)\n",
      "        (bn_layer): BatchNorm1d(41, eps=1e-05, momentum=0.1, affine=False, track_running_stats=True)\n",
      "      )\n",
      "      (2): LinearBlock(\n",
      "        (linear): Linear(in_features=25, out_features=128, bias=False)\n",
      "        (act_layer): LeakyReLU(negative_slope=0.01)\n",
      "        (bn_layer): BatchNorm1d(41, eps=1e-05, momentum=0.1, affine=False, track_running_stats=True)\n",
      "      )\n",
      "    )\n",
      "  )\n",
      ")\n",
      "epoch  1, training loss: 2.135577, time: 87.1s\n",
      "Start Inference on the training data...\n"
     ]
    },
    {
     "name": "stderr",
     "output_type": "stream",
     "text": [
      "testing: 100%|█████████████████████████████████████████████████████████████████████████████████████████████████████████████████████████████████████████████████████████████| 12422/12422 [00:38<00:00, 324.59it/s]\n",
      "testing: 100%|█████████████████████████████████████████████████████████████████████████████████████████████████████████████████████████████████████████████████████████████| 12422/12422 [00:37<00:00, 334.43it/s]\n"
     ]
    },
    {
     "name": "stdout",
     "output_type": "stream",
     "text": [
      "Training Time: 965.2103323936462 seconds\n"
     ]
    }
   ],
   "source": [
    "# Start measuring training time\n",
    "start_time = time.time()\n",
    "\n",
    "# Train ICL\n",
    "clf.fit(X_train.values, y=None)\n",
    "\n",
    "# End measuring training time\n",
    "end_time = time.time()\n",
    "\n",
    "# Storing and printing the time\n",
    "icl_training_time = end_time - start_time\n",
    "print(f\"Training Time: {icl_training_time} seconds\")"
   ]
  },
  {
   "cell_type": "code",
   "execution_count": 24,
   "id": "e305b153",
   "metadata": {},
   "outputs": [
    {
     "name": "stderr",
     "output_type": "stream",
     "text": [
      "testing: 100%|███████████████████████████████████████████████████████████████████████████████████████████████████████████████████████████████████████████████████████████████| 3204/3204 [00:09<00:00, 340.95it/s]\n",
      "testing: 100%|███████████████████████████████████████████████████████████████████████████████████████████████████████████████████████████████████████████████████████████████| 3204/3204 [00:09<00:00, 342.52it/s]\n"
     ]
    },
    {
     "name": "stdout",
     "output_type": "stream",
     "text": [
      "Inference Time: 19.250097274780273 seconds\n"
     ]
    }
   ],
   "source": [
    "# Start measuring inference time\n",
    "start_time = time.time()\n",
    "\n",
    "# Predict on the test set\n",
    "icl_scored_test = clf.decision_function(X_test.values)\n",
    "\n",
    "# End measuring inference time\n",
    "end_time = time.time()\n",
    "\n",
    "# Storing and printing the time\n",
    "icl_inference_time = end_time - start_time\n",
    "print(f\"Inference Time: {icl_inference_time} seconds\")"
   ]
  },
  {
   "cell_type": "markdown",
   "id": "d5544169",
   "metadata": {},
   "source": [
    "If you want to save the model, you can use:\n",
    "\n",
    "```python\n",
    "torch.save(clf.net.state_dict(), \"PATH_TO_SAVE_MODEL\")\n",
    "```"
   ]
  },
  {
   "cell_type": "code",
   "execution_count": 25,
   "id": "2c8bff50",
   "metadata": {},
   "outputs": [],
   "source": [
    "training_times_dict[(variant.split('.')[0], \"ICL\")] = {\"Training Time\":icl_training_time}\n",
    "inference_times_dict[(variant.split('.')[0], \"ICL\")] = {\"Inference Time\":icl_inference_time}"
   ]
  },
  {
   "cell_type": "code",
   "execution_count": 26,
   "id": "b02dbc2d",
   "metadata": {},
   "outputs": [
    {
     "name": "stdout",
     "output_type": "stream",
     "text": [
      "Model TPR: 0.0865, Model FPR: 0.0499, Model Threshold: 3.1268, Model AUROC: 0.6172\n"
     ]
    }
   ],
   "source": [
    "# Calculate the TPR@5%FPR on the test set\n",
    "metrics_dict = calculate_tpr_at_fpr(y_test, icl_scored_test, fpr_lim=0.05)\n",
    "performance_results[(variant.split('.')[0], 'ICL')] = metrics_dict\n",
    "print(f\"Model TPR: {metrics_dict['TPR']}, Model FPR: {metrics_dict['FPR']}, Model Threshold: {metrics_dict['Threshold']}, Model AUROC: {metrics_dict['AUROC']}\")"
   ]
  },
  {
   "cell_type": "code",
   "execution_count": 27,
   "id": "5352bc16",
   "metadata": {},
   "outputs": [
    {
     "name": "stdout",
     "output_type": "stream",
     "text": [
      "Fairness Ratio: 0.9953 \n",
      "\n"
     ]
    }
   ],
   "source": [
    "# Calculate the fairness metrics on the test set\n",
    "fairness_ratio = calculate_fairness_metrics(y_test, icl_scored_test, X_test, fpr_lim=0.05)\n",
    "fairness_results[(variant.split('.')[0], 'ICL')] = {\"Fairness Ratio\":fairness_ratio}\n",
    "print(f\"Fairness Ratio: {fairness_ratio}\", \"\\n\")"
   ]
  },
  {
   "cell_type": "markdown",
   "id": "3cf3796e",
   "metadata": {},
   "source": [
    "# Results\n",
    "\n",
    "In the forthcoming section, we will present the results obtained from our comprehensive analysis. We will showcase the performance metrics of the evaluated models on the BAF dataset, delving into their effectiveness in detecting fraudulent online bank account opening applications. Moreover, we will explore the fairness metrics, ensuring unbiased decision-making in the context of different user groups. To assess the real-world applicability of the models, we will provide insights into their training and inference times, offering valuable insights into their efficiency and suitability for practical use."
   ]
  },
  {
   "cell_type": "markdown",
   "id": "2458ac75",
   "metadata": {},
   "source": [
    "## Table\n",
    "\n",
    "Below you can see all the result in one table:"
   ]
  },
  {
   "cell_type": "code",
   "execution_count": 28,
   "id": "08effeef",
   "metadata": {},
   "outputs": [],
   "source": [
    "# Create a DataFrame from all results\n",
    "df_performance_results = pd.DataFrame(performance_results).transpose()\n",
    "df_fairness_results = pd.DataFrame(fairness_results).transpose()\n",
    "df_training_times_dict = pd.DataFrame(training_times_dict).transpose()\n",
    "df_inference_times_dict = pd.DataFrame(inference_times_dict).transpose()"
   ]
  },
  {
   "cell_type": "code",
   "execution_count": 29,
   "id": "1c5ad1a8",
   "metadata": {},
   "outputs": [],
   "source": [
    "# concatenate all results together\n",
    "all_results = pd.concat([df_performance_results, df_fairness_results, df_training_times_dict, df_inference_times_dict], axis=1)"
   ]
  },
  {
   "cell_type": "code",
   "execution_count": 30,
   "id": "96344431",
   "metadata": {},
   "outputs": [
    {
     "data": {
      "text/html": [
       "<div>\n",
       "<style scoped>\n",
       "    .dataframe tbody tr th:only-of-type {\n",
       "        vertical-align: middle;\n",
       "    }\n",
       "\n",
       "    .dataframe tbody tr th {\n",
       "        vertical-align: top;\n",
       "    }\n",
       "\n",
       "    .dataframe thead th {\n",
       "        text-align: right;\n",
       "    }\n",
       "</style>\n",
       "<table border=\"1\" class=\"dataframe\">\n",
       "  <thead>\n",
       "    <tr style=\"text-align: right;\">\n",
       "      <th></th>\n",
       "      <th></th>\n",
       "      <th>TPR</th>\n",
       "      <th>FPR</th>\n",
       "      <th>Threshold</th>\n",
       "      <th>AUROC</th>\n",
       "      <th>Fairness Ratio</th>\n",
       "      <th>Training Time</th>\n",
       "      <th>Inference Time</th>\n",
       "    </tr>\n",
       "  </thead>\n",
       "  <tbody>\n",
       "    <tr>\n",
       "      <th rowspan=\"3\" valign=\"top\">Base</th>\n",
       "      <th>TabNet</th>\n",
       "      <td>0.5069</td>\n",
       "      <td>0.0500</td>\n",
       "      <td>0.028200</td>\n",
       "      <td>0.8822</td>\n",
       "      <td>0.3459</td>\n",
       "      <td>629.113943</td>\n",
       "      <td>6.193806</td>\n",
       "    </tr>\n",
       "    <tr>\n",
       "      <th>AE</th>\n",
       "      <td>0.0653</td>\n",
       "      <td>0.0498</td>\n",
       "      <td>2304.104736</td>\n",
       "      <td>0.6174</td>\n",
       "      <td>0.3826</td>\n",
       "      <td>43.945232</td>\n",
       "      <td>0.132803</td>\n",
       "    </tr>\n",
       "    <tr>\n",
       "      <th>ICL</th>\n",
       "      <td>0.0865</td>\n",
       "      <td>0.0499</td>\n",
       "      <td>3.126800</td>\n",
       "      <td>0.6172</td>\n",
       "      <td>0.9953</td>\n",
       "      <td>965.210332</td>\n",
       "      <td>19.250097</td>\n",
       "    </tr>\n",
       "  </tbody>\n",
       "</table>\n",
       "</div>"
      ],
      "text/plain": [
       "                TPR     FPR    Threshold   AUROC  Fairness Ratio  \\\n",
       "Base TabNet  0.5069  0.0500     0.028200  0.8822          0.3459   \n",
       "     AE      0.0653  0.0498  2304.104736  0.6174          0.3826   \n",
       "     ICL     0.0865  0.0499     3.126800  0.6172          0.9953   \n",
       "\n",
       "             Training Time  Inference Time  \n",
       "Base TabNet     629.113943        6.193806  \n",
       "     AE          43.945232        0.132803  \n",
       "     ICL        965.210332       19.250097  "
      ]
     },
     "execution_count": 30,
     "metadata": {},
     "output_type": "execute_result"
    }
   ],
   "source": [
    "all_results"
   ]
  },
  {
   "cell_type": "markdown",
   "id": "258e057a",
   "metadata": {},
   "source": [
    "## Plots\n",
    "\n",
    "The following is 4 plots demonstrating all results for all models:"
   ]
  },
  {
   "cell_type": "code",
   "execution_count": 31,
   "id": "27fdb0db",
   "metadata": {},
   "outputs": [],
   "source": [
    "# Extract TPR values\n",
    "tabnet_tpr = df_performance_results.loc[(variant.split('.')[0], 'TabNet'), 'TPR']\n",
    "ae_tpr = df_performance_results.loc[(variant.split('.')[0], 'AE'), 'TPR']\n",
    "icl_tpr = df_performance_results.loc[(variant.split('.')[0], 'ICL'), 'TPR']\n",
    "tpr_values = [tabnet_tpr, ae_tpr, icl_tpr]"
   ]
  },
  {
   "cell_type": "code",
   "execution_count": 32,
   "id": "e3d13940",
   "metadata": {},
   "outputs": [],
   "source": [
    "# Extract Fairness Ratio values\n",
    "tabnet_fn = df_fairness_results.loc[(variant.split('.')[0], 'TabNet'), 'Fairness Ratio']\n",
    "ae_fn = df_fairness_results.loc[(variant.split('.')[0], 'AE'), 'Fairness Ratio']\n",
    "icl_fn = df_fairness_results.loc[(variant.split('.')[0], 'ICL'), 'Fairness Ratio']\n",
    "fn_values = [tabnet_fn, ae_fn, icl_fn]"
   ]
  },
  {
   "cell_type": "code",
   "execution_count": 33,
   "id": "1a79ed11",
   "metadata": {},
   "outputs": [],
   "source": [
    "# Extract Training Time values\n",
    "tabnet_tnt = df_training_times_dict.loc[(variant.split('.')[0], 'TabNet'), 'Training Time']\n",
    "ae_tnt = df_training_times_dict.loc[(variant.split('.')[0], 'AE'), 'Training Time']\n",
    "icl_tnt = df_training_times_dict.loc[(variant.split('.')[0], 'ICL'), 'Training Time']\n",
    "tnt_values = [tabnet_tnt, ae_tnt, icl_tnt]"
   ]
  },
  {
   "cell_type": "code",
   "execution_count": 34,
   "id": "29e6f720",
   "metadata": {},
   "outputs": [],
   "source": [
    "# Extract Inference Time values\n",
    "tabnet_inf = df_inference_times_dict.loc[(variant.split('.')[0], 'TabNet'), 'Inference Time']\n",
    "ae_inf = df_inference_times_dict.loc[(variant.split('.')[0], 'AE'), 'Inference Time']\n",
    "icl_inf = df_inference_times_dict.loc[(variant.split('.')[0], 'ICL'), 'Inference Time']\n",
    "inf_values = [tabnet_inf, ae_inf, icl_inf]"
   ]
  },
  {
   "cell_type": "code",
   "execution_count": 35,
   "id": "9f69d9d2",
   "metadata": {},
   "outputs": [
    {
     "data": {
      "image/png": "[encoded data removed]",
      "text/plain": [
       "<Figure size 1200x1000 with 4 Axes>"
      ]
     },
     "metadata": {},
     "output_type": "display_data"
    }
   ],
   "source": [
    "# Create a 2x2 grid of subplots\n",
    "fig, axs = plt.subplots(2, 2, figsize=(12, 10))\n",
    "\n",
    "models = ['TabNet', 'AE', 'ICL']\n",
    "\n",
    "# Plot TPR values\n",
    "axs[0, 0].bar(models, tpr_values)\n",
    "axs[0, 0].set_xlabel('Models')\n",
    "axs[0, 0].set_ylabel('TPR@5%FPR')\n",
    "axs[0, 0].set_title('Performance')\n",
    "\n",
    "# Plot Fairness Ratio values\n",
    "axs[0, 1].bar(models, fn_values)\n",
    "axs[0, 1].set_xlabel('Models')\n",
    "axs[0, 1].set_ylabel('Fairness Ratio')\n",
    "axs[0, 1].set_title('Fairness')\n",
    "\n",
    "# Plot Training Time values\n",
    "axs[1, 0].bar(models, tnt_values)\n",
    "axs[1, 0].set_xlabel('Models')\n",
    "axs[1, 0].set_ylabel('Training Time')\n",
    "axs[1, 0].set_title('Time')\n",
    "\n",
    "# Plot Inference Time values\n",
    "axs[1, 1].bar(models, inf_values)\n",
    "axs[1, 1].set_xlabel('Models')\n",
    "axs[1, 1].set_ylabel('Inference Time')\n",
    "axs[1, 1].set_title('Time')\n",
    "\n",
    "# Adjust layout\n",
    "plt.tight_layout()\n",
    "\n",
    "# Show the combined plot\n",
    "plt.show()"
   ]
  },
  {
   "cell_type": "code",
   "execution_count": 36,
   "id": "5d1ad3b6",
   "metadata": {},
   "outputs": [
    {
     "data": {
      "image/png": "[encoded data removed]",
      "text/plain": [
       "<Figure size 1000x600 with 1 Axes>"
      ]
     },
     "metadata": {},
     "output_type": "display_data"
    }
   ],
   "source": [
    "# Define the list of model names and their corresponding y_scores\n",
    "model_names = ['TabNet', 'AE', 'ICL']\n",
    "y_scores_dict = {\n",
    "    'TabNet': tabnet_scored_test,\n",
    "    'AE': reconstruction_errors.numpy(),\n",
    "    'ICL': icl_scored_test,\n",
    "}\n",
    "\n",
    "# Generate FPR values from 5% to 40%\n",
    "fpr_values = np.logspace(np.log10(0.05), np.log10(0.4), num=100)\n",
    "\n",
    "# Initialize a dictionary to store interpolated TPR values for each model\n",
    "interpolated_tpr = {}\n",
    "\n",
    "# Calculate TPR values for each model at the desired FPR points\n",
    "for model_name in model_names:\n",
    "    scored_test = y_scores_dict[model_name]\n",
    "    tpr_list = [calculate_tpr_at_fpr(y_test, scored_test, fpr_lim=i)['TPR'] for i in fpr_values]\n",
    "    interpolated_tpr[model_name] = tpr_list\n",
    "\n",
    "# Plotting\n",
    "plt.figure(figsize=(10, 6))\n",
    "for model_name, model_tpr_interp in interpolated_tpr.items():\n",
    "    plt.plot(fpr_values, model_tpr_interp, label=model_name)\n",
    "\n",
    "plt.xscale('log')\n",
    "plt.xlabel('False Positive Rate (FPR)')\n",
    "plt.ylabel('True Positive Rate (TPR)')\n",
    "plt.title('TPR vs. FPR for Different Models')\n",
    "plt.legend()\n",
    "plt.grid(True)\n",
    "plt.show()"
   ]
  },
  {
   "cell_type": "markdown",
   "id": "85ecfdc1",
   "metadata": {},
   "source": [
    "# References:\n",
    "\n",
    "\n",
    "\n",
    "\n",
    "\n",
    "<ul>\n",
    "    <li>Jesus S, Pombal J, Alves D, Cruz A, Saleiro P, Ribeiro R, Gama J, Bizarro P. Turning the tables: Biased, imbalanced, dynamic tabular datasets for ml evaluation. Advances in Neural Information Processing Systems. 2022 Dec 6;35:33563-75.</li>\n",
    "\n",
    "</ul>"
   ]
  }
 ],
 "metadata": {
  "kernelspec": {
   "display_name": "anomaly_detection_environment",
   "language": "python",
   "name": "anomaly_detection_environment"
  },
  "language_info": {
   "codemirror_mode": {
    "name": "ipython",
    "version": 3
   },
   "file_extension": ".py",
   "mimetype": "text/x-python",
   "name": "python",
   "nbconvert_exporter": "python",
   "pygments_lexer": "ipython3",
   "version": "3.7.9"
  },
  "vscode": {
   "interpreter": {
    "hash": "10259be683146ba0cfb84d8d370984231ebebae69a5ceae05aa739bef317bea6"
   }
  }
 },
 "nbformat": 4,
 "nbformat_minor": 5
}
