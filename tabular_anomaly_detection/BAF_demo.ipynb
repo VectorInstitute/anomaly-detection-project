{
 "cells": [
  {
   "cell_type": "markdown",
   "id": "5744b134",
   "metadata": {},
   "source": [
    "<div align=\"center\">\n",
    "    <br><b><font size=\"6\">Unmasking Fraud in Bank Account Openings: <br> A Comprehensive Analysis of the BAF Dataset</font></b><br><br>\n",
    "</div>"
   ]
  },
  {
   "cell_type": "markdown",
   "id": "132aa7f5",
   "metadata": {},
   "source": [
    "Welcome to this notebook where we embark on a comprehensive analysis of the BAF dataset and explore fraud detection in online bank account openings. First, we will delve into a detailed description of the BAF dataset, which centers around detecting fraudulent applications in a large consumer bank. Next, we will dive into the key performance metrics used for evaluating the effectiveness of methods on this dataset. Moreover, we will emphasize the significance of fairness metrics to ensure unbiased decision-making in the high-stakes banking domain. Subsequently, we will introduce the methods employed to address fraud detection, taking into account both performance aspects and fairness considerations."
   ]
  },
  {
   "cell_type": "markdown",
   "id": "13667c93",
   "metadata": {},
   "source": [
    "# Outline:\n",
    "<br>\n",
    "<ul>\n",
    "    <li><b>Bank Account Fraud (BAF) Dataset</b></li><br>\n",
    "    <li><b>Dataset Preparation</b></li><br>\n",
    "    <li><b>Metrics</b></li><br>\n",
    "    <li><b>Methods</b></li><br>\n",
    "    <li><b>Results</b></li><br>\n",
    "    <li><b>Hyperparameter Tuning</b></li><br>\n",
    "    <li><b>Fraud Detection on Other Variants of BAF Dataset</b></li><br>\n",
    "</ul>"
   ]
  },
  {
   "cell_type": "markdown",
   "id": "9619c778",
   "metadata": {},
   "source": [
    "# Bank Account Fraud (BAF) Dataset"
   ]
  },
  {
   "cell_type": "markdown",
   "id": "def179e6",
   "metadata": {},
   "source": [
    "![BAF Description](figures/baf_description.png)"
   ]
  },
  {
   "cell_type": "markdown",
   "id": "5686307d",
   "metadata": {},
   "source": [
    "The **[BAF dataset](https://arxiv.org/pdf/2211.13358.pdf)** focuses on detecting **fraudulent online bank account opening applications** in a large consumer bank. The scenario involves fraudsters attempting to **impersonate someone or create fictional individuals** to gain access to banking services and carry out illicit activities. The costs incurred by the bank due to these fraudulent activities cannot be traced back to the true identity of the fraudsters. This dataset was accepted at **NeurIPS 2022**.\n",
    "\n",
    "\n",
    "The use case of **fraud detection in the banking domain** is considered **high-stakes**, as positive predictions (flagged as fraudulent) result in the **rejection of customer bank account applications**, while negative predictions grant access to new bank accounts and associated credit cards. As holding a bank account is a basic right in the European Union, fraud detection in this context is of great societal importance. Due to the risk of unfair decision-making using machine learning systems, banks and merchants are at the forefront of adopting fair machine learning methods.\n",
    "\n",
    "The dataset consists of **individual applications**, with each row representing an application made on an online platform. The label indicating fraud or legitimacy is stored in the \"**is_fraud**\" column, where a positive instance represents a fraudulent attempt and a negative instance represents a legitimate application. The dataset spans **eight months** from February to September, with varying **fraud prevalence figures** ranging from **0.85% to 1.5%** across different months. The distribution of applications also varies from month to month, ranging from **9.5% to 15%**.\n",
    "\n",
    "To produce the dataset, a **generative model** is trained with some of original features in the dataset. These features are the top thirty most important features selected from the top-performing LightGBM models, considering expressiveness, interpretability, and redundancy. **Differential privacy** is enforced by perturbing each column in the original dataset using a Laplacian noise mechanism. Additional obfuscation measures are applied to certain applicant data, such as age and income categorization, to enhance privacy.\n",
    "\n",
    "The **CTGAN models** are trained on the perturbed dataset with the selected features, and the dataset is augmented with a column representing the month of application to incorporate temporal information. A total of **70 trained CTGAN models** are created, and the generative models are evaluated based on **predictive performance metrics** and **statistical similarity** between the real and generated data. The goal is to ensure that models trained on the generated datasets are effective at the task and that the generated distribution remains realistic and faithful to the original data.\n",
    "\n",
    "The **performance metric** focuses on defining a relevant threshold and metric for fraud detection, specifically targeting a **5% false positive rate (FPR)** and measuring the **true positive rate (TPR)** at that point. This metric strikes a balance between detecting fraud and minimizing customer attrition. The **fairness metric** aims to ensure that the probability of a legitimate application being wrongly classified as fraudulent is independent of the sensitive attribute value. The **fairness ratio** is calculated by comparing the FPRs of different groups, emphasizing predictive equality."
   ]
  },
  {
   "cell_type": "markdown",
   "id": "ee18857c",
   "metadata": {},
   "source": [
    "![BAF Variants](figures/baf_variants.png)"
   ]
  },
  {
   "cell_type": "markdown",
   "id": "b94cbe29",
   "metadata": {},
   "source": [
    "The BAF dataset includes **six dataset variants**, each with pre-determined and controllable bias patterns. These variants introduce disparities in group sizes, prevalence, and separability to stress test predictive performance and fairness. The base dataset and its variants are derived from the same underlying distribution, with biases present in the base dataset also present in the variants. The goal is to provide a diverse set of algorithmic fairness challenges for evaluating and improving models' performance and fairness.\n",
    "\n",
    "Overall, the BAF dataset serves as a valuable resource for studying fraud detection in the banking domain, addressing privacy concerns, and exploring the challenges of fairness in machine learning applications."
   ]
  },
  {
   "cell_type": "markdown",
   "id": "82e919d4",
   "metadata": {},
   "source": [
    "If you want to know more about the dataset, you can read the data sheet available [here](https://github.com/feedzai/bank-account-fraud/blob/main/documents/datasheet.pdf)."
   ]
  },
  {
   "cell_type": "markdown",
   "id": "c4e040f2",
   "metadata": {},
   "source": [
    "# Dataset Preparation\n",
    "\n",
    "<p>Now, we want to introduce the <code>BAFDataset</code> class provides a convenient way to load, preprocess, and split the BAF dataset for use in machine learning experiments. The class contains three primary functions that work together to load the data, split it into train and test sets, and preprocess the categorical features via one-hot encoding.</p>\n",
    "\n",
    "<p>Here's a summary of each function within the BAFDataset class:</p>\n",
    "\n",
    "<ul>\n",
    "    <li><code>load_baf(file_path)</code>: This function loads the specified subset of the BAF dataset as a pandas DataFrame. The available subsets are 'Base', 'Variant I', 'Variant II', 'Variant III', 'Variant IV', and 'Variant V'. The function reads the data from a CSV file and drops the 'device_fraud_count' column as it is not needed for further processing.</li>\n",
    "    <li><code>train_test_split(df, month)</code>: This function splits the BAF dataset into train and test sets based on the specified month. The month-based split is inspired by the method proposed in the original paper. Months 0-5 are assigned to the train set, and months 6-7 are assigned to the test set. The function returns a tuple containing the train and test sets.</li>\n",
    "    <li><code>one_hot_encode_categorical(X_train, X_test)</code>: This function preprocesses the categorical features in the BAF dataset by one-hot encoding them. One-hot encoding is a technique that converts categorical features into binary columns for each category/label, making it easier for machine learning models to process the data. The function identifies the categorical features in the dataset, applies one-hot encoding separately for the train and test sets to avoid data leakage, and then combines the transformed data with the numerical features to form the final one-hot encoded train and test sets.</li>\n",
    "\n",
    "</ul>\n",
    "\n",
    "<p>The BAFDataset class streamlines the process of preparing the BAF dataset for machine learning experiments, handling loading, train-test splitting, and preprocessing tasks in a clear and organized manner.</p>\n"
   ]
  },
  {
   "cell_type": "code",
   "execution_count": 1,
   "id": "f44294a8",
   "metadata": {},
   "outputs": [
    {
     "name": "stdout",
     "output_type": "stream",
     "text": [
      "environ({'JUPYTERHUB_CLIENT_ID': 'jupyterhub-user-jewtay', 'SLURM_NODEID': '0', 'SLURM_TASK_PID': '7437', '_ModuleTable002_': 'L3BrZ3MvbW9kdWxlZmlsZXM6L3BrZ3MvZW52aXJvbm1lbnQtbW9kdWxlcyIsfQ==', 'SLURM_PRIO_PROCESS': '0', 'LANG': 'en_US', 'SLURM_SUBMIT_DIR': '/', 'HOSTNAME': 'gpu101', 'LMOD_SYSTEM_DEFAULT_MODULES': 'Core/StdEnv', '__LMOD_REF_COUNT__LMFILES_': '/opt/modulefiles/Core/StdEnv.lua:1', 'SLURM_CPUS_PER_TASK': '4', 'ENVIRONMENT': 'BATCH', 'ROCR_VISIBLE_DEVICES': '0', 'SLURM_PROCID': '0', 'SLURM_JOB_GID': '11019', 'SLURMD_NODENAME': 'gpu101', 'SLURM_TASKS_PER_NODE': '1', 'S_COLORS': 'auto', 'SLURM_NNODES': '1', 'USER': 'jewtay', 'JUPYTERHUB_BASE_URL': '/', 'SLURM_GET_USER_ENV': '1', '__LMOD_REF_COUNT_MODULEPATH': '/opt/modulefiles:1;/pkgs/modulefiles:1;/pkgs/environment-modules:1', '__LMOD_REF_COUNT_LOADEDMODULES': 'Core/StdEnv:1', 'PWD': '/', 'SLURM_JOB_NODELIST': 'gpu101', 'HOME': '/h/jewtay', 'SLURM_CLUSTER_NAME': 'vaughan2', 'SLURM_NODELIST': 'gpu101', 'SLURM_GPUS_ON_NODE': '1', 'LMOD_VERSION': '8.2.4', 'JUPYTERHUB_USER': 'jewtay', 'SLURM_JOB_CPUS_PER_NODE': '4', 'BASH_ENV': '/opt/lmod/lmod/init/bash', 'SLURM_TOPOLOGY_ADDR': 'gpu101', 'SLURM_WORKING_CLUSTER': 'vaughan2:vremote2:6817:9728:109', 'SLURM_JOB_NAME': 'jupyter', 'TMPDIR': '/tmp', 'SLURM_JOB_GPUS': '2', 'LMOD_sys': 'Linux', 'SLURM_JOBID': '10677116', '_ModuleTable001_': 'X01vZHVsZVRhYmxlXz17WyJNVHZlcnNpb24iXT0zLFsiY19yZWJ1aWxkVGltZSJdPWZhbHNlLFsiY19zaG9ydFRpbWUiXT1mYWxzZSxkZXB0aFQ9e30sZmFtaWx5PXt9LG1UPXtDb3JlPXtbImZuIl09Ii9vcHQvbW9kdWxlZmlsZXMvQ29yZS9TdGRFbnYubHVhIixbImZ1bGxOYW1lIl09IkNvcmUvU3RkRW52IixbImxvYWRPcmRlciJdPTEscHJvcFQ9e30sWyJzdGFja0RlcHRoIl09MCxbInN0YXR1cyJdPSJhY3RpdmUiLFsidXNlck5hbWUiXT0iQ29yZS9TdGRFbnYiLH0sfSxtcGF0aEE9eyIvb3B0L21vZHVsZWZpbGVzIiwiL3BrZ3MvbW9kdWxlZmlsZXMiLCIvcGtncy9lbnZpcm9ubWVudC1tb2R1bGVzIix9LFsic3lzdGVtQmFzZU1QQVRIIl09Ii9vcHQvbW9kdWxlZmlsZXM6', 'SLURM_CONF': '/opt/slurm-22.05.3/etc/slurm.conf', 'LOADEDMODULES': 'Core/StdEnv', 'JUPYTERHUB_SERVICE_PREFIX': '/user/jewtay/', 'SLURM_NODE_ALIASES': '(null)', 'SLURM_JOB_QOS': 'high', 'LMOD_ROOT': '/opt/lmod', 'SLURM_TOPOLOGY_ADDR_PATTERN': 'node', 'MAIL': '/var/mail/jewtay', 'ZE_AFFINITY_MASK': '0', 'SLURM_CPUS_ON_NODE': '4', 'SLURM_JOB_NUM_NODES': '1', '__Init_Default_Modules': '1', 'SLURM_MEM_PER_NODE': '20480', 'SHELL': '/bin/bash', 'SLURM_JOB_UID': '10979', '_ModuleTable_Sz_': '2', 'SLURM_JOB_PARTITION': 't4v2', 'SLURM_SCRIPT_CONTEXT': 'prolog_task', 'SLURM_JOB_USER': 'jewtay', 'CUDA_VISIBLE_DEVICES': '0', 'JUPYTERHUB_API_URL': 'http://172.17.15.242:54321/hub/api', 'SHLVL': '2', 'LANGUAGE': 'en_US:', 'SLURM_SUBMIT_HOST': 'vdm1', 'PYTHONPATH': '/pkgs/jupyterhub:', 'SLURM_JOB_ACCOUNT': 'vector', 'JUPYTERHUB_HOST': '', 'MANPATH': '/opt/lmod/lmod/share/man:', 'SLURM_EXPORT_ENV': 'PATH,JUPYTERHUB_BASE_URL,LANG,JUPYTERHUB_API_URL,SHELL,USER,JUPYTERHUB_OAUTH_CALLBACK_URL,JUPYTERHUB_CLIENT_ID,JUPYTERHUB_SERVICE_PREFIX,JUPYTERHUB_API_TOKEN,JPY_API_TOKEN,JUPYTERHUB_USER,HOME,JUPYTERHUB_HOST', 'JPY_API_TOKEN': 'f43d0b3cb2d44a3285fe37cb1bd204c3', 'MODULEPATH': '/opt/modulefiles:/pkgs/modulefiles:/pkgs/environment-modules', 'SLURM_GTIDS': '0', 'LOGNAME': 'jewtay', 'JUPYTERHUB_OAUTH_CALLBACK_URL': '/user/jewtay/oauth_callback', 'MODULEPATH_ROOT': '/opt/modulefiles', 'JUPYTERHUB_API_TOKEN': 'f43d0b3cb2d44a3285fe37cb1bd204c3', 'PATH': '/pkgs/jupyterhub/bin:/usr/local/sbin:/usr/local/bin:/usr/sbin:/usr/bin:/sbin:/bin:/snap/bin', 'SLURM_JOB_ID': '10677116', '_LMFILES_': '/opt/modulefiles/Core/StdEnv.lua', 'MODULESHOME': '/opt/lmod/lmod', 'LMOD_SETTARG_FULL_SUPPORT': 'no', 'LMOD_PKG': '/opt/lmod/lmod', 'LMOD_CMD': '/opt/lmod/lmod/libexec/lmod', 'SLURM_LOCALID': '0', 'GPU_DEVICE_ORDINAL': '0', 'LMOD_DIR': '/opt/lmod/lmod/libexec', 'BASH_FUNC_module%%': '() {  eval $($LMOD_CMD bash \"$@\") && eval $(${LMOD_SETTARG_CMD:-:} -s sh)\\n}', 'BASH_FUNC_ml%%': '() {  eval $($LMOD_DIR/ml_cmd \"$@\")\\n}', '_': '/pkgs/jupyterhub/bin/batchspawner-singleuser', 'JPY_PARENT_PID': '7464', 'PYDEVD_USE_FRAME_EVAL': 'NO', 'TERM': 'xterm-color', 'CLICOLOR': '1', 'PAGER': 'cat', 'GIT_PAGER': 'cat', 'MPLBACKEND': 'module://matplotlib_inline.backend_inline', 'KMP_DUPLICATE_LIB_OK': 'True', 'KMP_INIT_AT_FORK': 'FALSE'})\n"
     ]
    }
   ],
   "source": [
    "# Import the necessary packages and libraries\n",
    "import pandas as pd\n",
    "import lightgbm as lgbm\n",
    "from sklearn.ensemble import RandomForestClassifier\n",
    "from sklearn.linear_model import LogisticRegression\n",
    "from sklearn.tree import DecisionTreeClassifier\n",
    "import xgboost as xgb\n",
    "import catboost as cb\n",
    "import matplotlib.pyplot as plt\n",
    "from baf import BAFDataset\n",
    "from metrics import calculate_tpr_at_fpr, calculate_fairness_metrics\n",
    "import os\n",
    "import joblib\n",
    "import time\n",
    "import numpy as np\n",
    "import random\n",
    "import torch\n",
    "import torch.nn as nn\n",
    "import torch.optim as optim\n",
    "from torch.utils.data import DataLoader, TensorDataset\n",
    "\n",
    "print(os.environ)\n",
    "seed = 100\n",
    "np.random.seed(seed)\n",
    "random.seed(seed)\n",
    "torch.manual_seed(seed)\n",
    "if torch.cuda.is_available():\n",
    "    torch.cuda.manual_seed_all(seed)"
   ]
  },
  {
   "cell_type": "code",
   "execution_count": 2,
   "id": "065efc54",
   "metadata": {},
   "outputs": [],
   "source": [
    "# Instantiate the BAF class\n",
    "ds = BAFDataset()"
   ]
  },
  {
   "cell_type": "code",
   "execution_count": 3,
   "id": "21f6d243",
   "metadata": {},
   "outputs": [],
   "source": [
    "# set the path to the dataset and models\n",
    "\n",
    "base_path = \"/ssd003/projects/aieng/public/anomaly_detection_datasets/BAF\"\n",
    "model_path = \"/ssd003/projects/aieng/public/anomaly_detection_models/BAF\"\n",
    "\n",
    "variant = \"Base.csv\""
   ]
  },
  {
   "cell_type": "code",
   "execution_count": 4,
   "id": "99e9556c",
   "metadata": {},
   "outputs": [],
   "source": [
    "# Add file to path\n",
    "file_path = os.path.join(base_path, variant)\n",
    "\n",
    "# Load the dataset\n",
    "df = ds.load_data(file_path)"
   ]
  },
  {
   "cell_type": "code",
   "execution_count": 5,
   "id": "a6682e22",
   "metadata": {},
   "outputs": [],
   "source": [
    "# Split the dataset into train and test sets\n",
    "(X_train, y_train), (X_test, y_test) = ds.train_test_split(df, month=6)"
   ]
  },
  {
   "cell_type": "code",
   "execution_count": 6,
   "id": "77b38c51",
   "metadata": {},
   "outputs": [
    {
     "data": {
      "text/html": [
       "<div>\n",
       "<style scoped>\n",
       "    .dataframe tbody tr th:only-of-type {\n",
       "        vertical-align: middle;\n",
       "    }\n",
       "\n",
       "    .dataframe tbody tr th {\n",
       "        vertical-align: top;\n",
       "    }\n",
       "\n",
       "    .dataframe thead th {\n",
       "        text-align: right;\n",
       "    }\n",
       "</style>\n",
       "<table border=\"1\" class=\"dataframe\">\n",
       "  <thead>\n",
       "    <tr style=\"text-align: right;\">\n",
       "      <th></th>\n",
       "      <th>income</th>\n",
       "      <th>name_email_similarity</th>\n",
       "      <th>prev_address_months_count</th>\n",
       "      <th>current_address_months_count</th>\n",
       "      <th>customer_age</th>\n",
       "      <th>days_since_request</th>\n",
       "      <th>intended_balcon_amount</th>\n",
       "      <th>payment_type</th>\n",
       "      <th>zip_count_4w</th>\n",
       "      <th>velocity_6h</th>\n",
       "      <th>...</th>\n",
       "      <th>phone_mobile_valid</th>\n",
       "      <th>bank_months_count</th>\n",
       "      <th>has_other_cards</th>\n",
       "      <th>proposed_credit_limit</th>\n",
       "      <th>foreign_request</th>\n",
       "      <th>source</th>\n",
       "      <th>session_length_in_minutes</th>\n",
       "      <th>device_os</th>\n",
       "      <th>keep_alive_session</th>\n",
       "      <th>device_distinct_emails_8w</th>\n",
       "    </tr>\n",
       "  </thead>\n",
       "  <tbody>\n",
       "    <tr>\n",
       "      <th>96843</th>\n",
       "      <td>0.8</td>\n",
       "      <td>0.153411</td>\n",
       "      <td>-1</td>\n",
       "      <td>105</td>\n",
       "      <td>30</td>\n",
       "      <td>0.003467</td>\n",
       "      <td>-0.906840</td>\n",
       "      <td>AC</td>\n",
       "      <td>1779</td>\n",
       "      <td>1147.615990</td>\n",
       "      <td>...</td>\n",
       "      <td>1</td>\n",
       "      <td>-1</td>\n",
       "      <td>0</td>\n",
       "      <td>200.0</td>\n",
       "      <td>0</td>\n",
       "      <td>INTERNET</td>\n",
       "      <td>3.911696</td>\n",
       "      <td>linux</td>\n",
       "      <td>0</td>\n",
       "      <td>1</td>\n",
       "    </tr>\n",
       "    <tr>\n",
       "      <th>96844</th>\n",
       "      <td>0.8</td>\n",
       "      <td>0.442439</td>\n",
       "      <td>-1</td>\n",
       "      <td>107</td>\n",
       "      <td>40</td>\n",
       "      <td>0.021131</td>\n",
       "      <td>-1.553115</td>\n",
       "      <td>AC</td>\n",
       "      <td>1195</td>\n",
       "      <td>10788.642570</td>\n",
       "      <td>...</td>\n",
       "      <td>1</td>\n",
       "      <td>-1</td>\n",
       "      <td>0</td>\n",
       "      <td>200.0</td>\n",
       "      <td>0</td>\n",
       "      <td>INTERNET</td>\n",
       "      <td>23.696737</td>\n",
       "      <td>other</td>\n",
       "      <td>0</td>\n",
       "      <td>2</td>\n",
       "    </tr>\n",
       "    <tr>\n",
       "      <th>96845</th>\n",
       "      <td>0.9</td>\n",
       "      <td>0.328328</td>\n",
       "      <td>-1</td>\n",
       "      <td>79</td>\n",
       "      <td>70</td>\n",
       "      <td>0.009110</td>\n",
       "      <td>-0.801146</td>\n",
       "      <td>AC</td>\n",
       "      <td>845</td>\n",
       "      <td>8504.451753</td>\n",
       "      <td>...</td>\n",
       "      <td>1</td>\n",
       "      <td>-1</td>\n",
       "      <td>0</td>\n",
       "      <td>2000.0</td>\n",
       "      <td>0</td>\n",
       "      <td>INTERNET</td>\n",
       "      <td>2.803927</td>\n",
       "      <td>windows</td>\n",
       "      <td>0</td>\n",
       "      <td>1</td>\n",
       "    </tr>\n",
       "    <tr>\n",
       "      <th>96846</th>\n",
       "      <td>0.7</td>\n",
       "      <td>0.033834</td>\n",
       "      <td>-1</td>\n",
       "      <td>28</td>\n",
       "      <td>30</td>\n",
       "      <td>0.004707</td>\n",
       "      <td>-1.171706</td>\n",
       "      <td>AB</td>\n",
       "      <td>1697</td>\n",
       "      <td>6011.217859</td>\n",
       "      <td>...</td>\n",
       "      <td>1</td>\n",
       "      <td>28</td>\n",
       "      <td>0</td>\n",
       "      <td>1000.0</td>\n",
       "      <td>0</td>\n",
       "      <td>INTERNET</td>\n",
       "      <td>5.262441</td>\n",
       "      <td>windows</td>\n",
       "      <td>1</td>\n",
       "      <td>2</td>\n",
       "    </tr>\n",
       "    <tr>\n",
       "      <th>96847</th>\n",
       "      <td>0.9</td>\n",
       "      <td>0.150643</td>\n",
       "      <td>-1</td>\n",
       "      <td>164</td>\n",
       "      <td>40</td>\n",
       "      <td>0.012221</td>\n",
       "      <td>-0.227823</td>\n",
       "      <td>AB</td>\n",
       "      <td>1474</td>\n",
       "      <td>8378.324044</td>\n",
       "      <td>...</td>\n",
       "      <td>1</td>\n",
       "      <td>5</td>\n",
       "      <td>0</td>\n",
       "      <td>1500.0</td>\n",
       "      <td>0</td>\n",
       "      <td>INTERNET</td>\n",
       "      <td>5.728984</td>\n",
       "      <td>windows</td>\n",
       "      <td>0</td>\n",
       "      <td>1</td>\n",
       "    </tr>\n",
       "  </tbody>\n",
       "</table>\n",
       "<p>5 rows × 29 columns</p>\n",
       "</div>"
      ],
      "text/plain": [
       "       income  name_email_similarity  prev_address_months_count  \\\n",
       "96843     0.8               0.153411                         -1   \n",
       "96844     0.8               0.442439                         -1   \n",
       "96845     0.9               0.328328                         -1   \n",
       "96846     0.7               0.033834                         -1   \n",
       "96847     0.9               0.150643                         -1   \n",
       "\n",
       "       current_address_months_count  customer_age  days_since_request  \\\n",
       "96843                           105            30            0.003467   \n",
       "96844                           107            40            0.021131   \n",
       "96845                            79            70            0.009110   \n",
       "96846                            28            30            0.004707   \n",
       "96847                           164            40            0.012221   \n",
       "\n",
       "       intended_balcon_amount payment_type  zip_count_4w   velocity_6h  ...  \\\n",
       "96843               -0.906840           AC          1779   1147.615990  ...   \n",
       "96844               -1.553115           AC          1195  10788.642570  ...   \n",
       "96845               -0.801146           AC           845   8504.451753  ...   \n",
       "96846               -1.171706           AB          1697   6011.217859  ...   \n",
       "96847               -0.227823           AB          1474   8378.324044  ...   \n",
       "\n",
       "       phone_mobile_valid  bank_months_count  has_other_cards  \\\n",
       "96843                   1                 -1                0   \n",
       "96844                   1                 -1                0   \n",
       "96845                   1                 -1                0   \n",
       "96846                   1                 28                0   \n",
       "96847                   1                  5                0   \n",
       "\n",
       "       proposed_credit_limit foreign_request    source  \\\n",
       "96843                  200.0               0  INTERNET   \n",
       "96844                  200.0               0  INTERNET   \n",
       "96845                 2000.0               0  INTERNET   \n",
       "96846                 1000.0               0  INTERNET   \n",
       "96847                 1500.0               0  INTERNET   \n",
       "\n",
       "       session_length_in_minutes device_os  keep_alive_session  \\\n",
       "96843                   3.911696     linux                   0   \n",
       "96844                  23.696737     other                   0   \n",
       "96845                   2.803927   windows                   0   \n",
       "96846                   5.262441   windows                   1   \n",
       "96847                   5.728984   windows                   0   \n",
       "\n",
       "       device_distinct_emails_8w  \n",
       "96843                          1  \n",
       "96844                          2  \n",
       "96845                          1  \n",
       "96846                          2  \n",
       "96847                          1  \n",
       "\n",
       "[5 rows x 29 columns]"
      ]
     },
     "execution_count": 6,
     "metadata": {},
     "output_type": "execute_result"
    }
   ],
   "source": [
    "X_train.head()"
   ]
  },
  {
   "cell_type": "code",
   "execution_count": 7,
   "id": "e9f5f1db",
   "metadata": {},
   "outputs": [],
   "source": [
    "# One-hot encode the categorical features in the dataset\n",
    "X_train, X_test = ds.one_hot_encode_categorical(X_train, X_test)"
   ]
  },
  {
   "cell_type": "code",
   "execution_count": 8,
   "id": "4116c3a2",
   "metadata": {},
   "outputs": [
    {
     "data": {
      "text/html": [
       "<div>\n",
       "<style scoped>\n",
       "    .dataframe tbody tr th:only-of-type {\n",
       "        vertical-align: middle;\n",
       "    }\n",
       "\n",
       "    .dataframe tbody tr th {\n",
       "        vertical-align: top;\n",
       "    }\n",
       "\n",
       "    .dataframe thead th {\n",
       "        text-align: right;\n",
       "    }\n",
       "</style>\n",
       "<table border=\"1\" class=\"dataframe\">\n",
       "  <thead>\n",
       "    <tr style=\"text-align: right;\">\n",
       "      <th></th>\n",
       "      <th>income</th>\n",
       "      <th>name_email_similarity</th>\n",
       "      <th>prev_address_months_count</th>\n",
       "      <th>current_address_months_count</th>\n",
       "      <th>customer_age</th>\n",
       "      <th>days_since_request</th>\n",
       "      <th>intended_balcon_amount</th>\n",
       "      <th>zip_count_4w</th>\n",
       "      <th>velocity_6h</th>\n",
       "      <th>velocity_24h</th>\n",
       "      <th>...</th>\n",
       "      <th>16</th>\n",
       "      <th>17</th>\n",
       "      <th>18</th>\n",
       "      <th>19</th>\n",
       "      <th>20</th>\n",
       "      <th>21</th>\n",
       "      <th>22</th>\n",
       "      <th>23</th>\n",
       "      <th>24</th>\n",
       "      <th>25</th>\n",
       "    </tr>\n",
       "  </thead>\n",
       "  <tbody>\n",
       "    <tr>\n",
       "      <th>96843</th>\n",
       "      <td>0.8</td>\n",
       "      <td>0.153411</td>\n",
       "      <td>-1</td>\n",
       "      <td>105</td>\n",
       "      <td>30</td>\n",
       "      <td>0.003467</td>\n",
       "      <td>-0.906840</td>\n",
       "      <td>1779</td>\n",
       "      <td>1147.615990</td>\n",
       "      <td>3076.384487</td>\n",
       "      <td>...</td>\n",
       "      <td>0.0</td>\n",
       "      <td>0.0</td>\n",
       "      <td>0.0</td>\n",
       "      <td>1.0</td>\n",
       "      <td>0.0</td>\n",
       "      <td>1.0</td>\n",
       "      <td>0.0</td>\n",
       "      <td>0.0</td>\n",
       "      <td>0.0</td>\n",
       "      <td>0.0</td>\n",
       "    </tr>\n",
       "    <tr>\n",
       "      <th>96844</th>\n",
       "      <td>0.8</td>\n",
       "      <td>0.442439</td>\n",
       "      <td>-1</td>\n",
       "      <td>107</td>\n",
       "      <td>40</td>\n",
       "      <td>0.021131</td>\n",
       "      <td>-1.553115</td>\n",
       "      <td>1195</td>\n",
       "      <td>10788.642570</td>\n",
       "      <td>5790.128646</td>\n",
       "      <td>...</td>\n",
       "      <td>0.0</td>\n",
       "      <td>0.0</td>\n",
       "      <td>0.0</td>\n",
       "      <td>1.0</td>\n",
       "      <td>0.0</td>\n",
       "      <td>0.0</td>\n",
       "      <td>0.0</td>\n",
       "      <td>1.0</td>\n",
       "      <td>0.0</td>\n",
       "      <td>0.0</td>\n",
       "    </tr>\n",
       "    <tr>\n",
       "      <th>96845</th>\n",
       "      <td>0.9</td>\n",
       "      <td>0.328328</td>\n",
       "      <td>-1</td>\n",
       "      <td>79</td>\n",
       "      <td>70</td>\n",
       "      <td>0.009110</td>\n",
       "      <td>-0.801146</td>\n",
       "      <td>845</td>\n",
       "      <td>8504.451753</td>\n",
       "      <td>5912.163054</td>\n",
       "      <td>...</td>\n",
       "      <td>0.0</td>\n",
       "      <td>0.0</td>\n",
       "      <td>0.0</td>\n",
       "      <td>1.0</td>\n",
       "      <td>0.0</td>\n",
       "      <td>0.0</td>\n",
       "      <td>0.0</td>\n",
       "      <td>0.0</td>\n",
       "      <td>1.0</td>\n",
       "      <td>0.0</td>\n",
       "    </tr>\n",
       "    <tr>\n",
       "      <th>96846</th>\n",
       "      <td>0.7</td>\n",
       "      <td>0.033834</td>\n",
       "      <td>-1</td>\n",
       "      <td>28</td>\n",
       "      <td>30</td>\n",
       "      <td>0.004707</td>\n",
       "      <td>-1.171706</td>\n",
       "      <td>1697</td>\n",
       "      <td>6011.217859</td>\n",
       "      <td>5505.127811</td>\n",
       "      <td>...</td>\n",
       "      <td>0.0</td>\n",
       "      <td>0.0</td>\n",
       "      <td>0.0</td>\n",
       "      <td>1.0</td>\n",
       "      <td>0.0</td>\n",
       "      <td>0.0</td>\n",
       "      <td>0.0</td>\n",
       "      <td>0.0</td>\n",
       "      <td>1.0</td>\n",
       "      <td>0.0</td>\n",
       "    </tr>\n",
       "    <tr>\n",
       "      <th>96847</th>\n",
       "      <td>0.9</td>\n",
       "      <td>0.150643</td>\n",
       "      <td>-1</td>\n",
       "      <td>164</td>\n",
       "      <td>40</td>\n",
       "      <td>0.012221</td>\n",
       "      <td>-0.227823</td>\n",
       "      <td>1474</td>\n",
       "      <td>8378.324044</td>\n",
       "      <td>4930.672316</td>\n",
       "      <td>...</td>\n",
       "      <td>0.0</td>\n",
       "      <td>0.0</td>\n",
       "      <td>0.0</td>\n",
       "      <td>1.0</td>\n",
       "      <td>0.0</td>\n",
       "      <td>0.0</td>\n",
       "      <td>0.0</td>\n",
       "      <td>0.0</td>\n",
       "      <td>1.0</td>\n",
       "      <td>0.0</td>\n",
       "    </tr>\n",
       "  </tbody>\n",
       "</table>\n",
       "<p>5 rows × 50 columns</p>\n",
       "</div>"
      ],
      "text/plain": [
       "       income  name_email_similarity  prev_address_months_count  \\\n",
       "96843     0.8               0.153411                         -1   \n",
       "96844     0.8               0.442439                         -1   \n",
       "96845     0.9               0.328328                         -1   \n",
       "96846     0.7               0.033834                         -1   \n",
       "96847     0.9               0.150643                         -1   \n",
       "\n",
       "       current_address_months_count  customer_age  days_since_request  \\\n",
       "96843                           105            30            0.003467   \n",
       "96844                           107            40            0.021131   \n",
       "96845                            79            70            0.009110   \n",
       "96846                            28            30            0.004707   \n",
       "96847                           164            40            0.012221   \n",
       "\n",
       "       intended_balcon_amount  zip_count_4w   velocity_6h  velocity_24h  ...  \\\n",
       "96843               -0.906840          1779   1147.615990   3076.384487  ...   \n",
       "96844               -1.553115          1195  10788.642570   5790.128646  ...   \n",
       "96845               -0.801146           845   8504.451753   5912.163054  ...   \n",
       "96846               -1.171706          1697   6011.217859   5505.127811  ...   \n",
       "96847               -0.227823          1474   8378.324044   4930.672316  ...   \n",
       "\n",
       "        16   17   18   19   20   21   22   23   24   25  \n",
       "96843  0.0  0.0  0.0  1.0  0.0  1.0  0.0  0.0  0.0  0.0  \n",
       "96844  0.0  0.0  0.0  1.0  0.0  0.0  0.0  1.0  0.0  0.0  \n",
       "96845  0.0  0.0  0.0  1.0  0.0  0.0  0.0  0.0  1.0  0.0  \n",
       "96846  0.0  0.0  0.0  1.0  0.0  0.0  0.0  0.0  1.0  0.0  \n",
       "96847  0.0  0.0  0.0  1.0  0.0  0.0  0.0  0.0  1.0  0.0  \n",
       "\n",
       "[5 rows x 50 columns]"
      ]
     },
     "execution_count": 8,
     "metadata": {},
     "output_type": "execute_result"
    }
   ],
   "source": [
    "X_train.head()"
   ]
  },
  {
   "cell_type": "markdown",
   "id": "6c45d407",
   "metadata": {},
   "source": [
    "# Metrics\n",
    "\n",
    "\n",
    "\n",
    "![BAF Metrics](figures/baf_metrics.png)"
   ]
  },
  {
   "cell_type": "markdown",
   "id": "f8041915",
   "metadata": {},
   "source": [
    "Now we want to discuss the metrics we used in evaluating the performance and fairness of the models. The metrics play a crucial role in assessing the effectiveness of the models in detecting fraud and maintaining fairness in the decision-making process.\n",
    "\n",
    "#### `calculate_tpr_at_fpr()`\n",
    "\n",
    "This function calculates the true positive rate (TPR), false positive rate (FPR), and threshold based on a given FPR limit. It takes the predicted scores on the test set, the test set target variable, and the FPR limit as inputs. The function then calculates the ROC curve points and obtains the **threshold and TPR based on the FPR limit**. The TPR represents the proportion of actual positives correctly classified, while the FPR represents the proportion of actual negatives incorrectly classified as positives. These metrics are commonly used in fraud detection to strike a balance between detecting fraud and minimizing customer attrition. The function stores the calculated metrics in a dictionary and returns it.\n",
    "\n",
    "#### `calculate_fairness_metrics()`\n",
    "\n",
    "This function calculates fairness metrics on the predicted scores. It takes the predicted scores on the test set, the test set target variable, and the test set features as inputs. The function initializes a fairness evaluator and calculates the ROC curve points to obtain the threshold. It then creates a dataframe with the scores, labels, and age, and calculates the fairness metrics. The fairness metric in this scenario focuses on ensuring that the probability of a legitimate applicant being wrongly classified as fraudulent is independent of their sensitive attribute value. To assess this, the function calculates the ratio between false positive rates (FPRs) across different groups, referred to as predictive equality. The fairness ratio is obtained by **dividing the FPR of the group with the lowest observed FPR by the FPR of the group with the highest FPR**. This metric helps evaluate and mitigate potential biases in the model's predictions related to sensitive attributes. The function returns the fairness ratio as a measure of fairness.\n"
   ]
  },
  {
   "cell_type": "code",
   "execution_count": 9,
   "id": "b3586836",
   "metadata": {},
   "outputs": [],
   "source": [
    "# define these dictionaries for storing the results\n",
    "performance_results = {}\n",
    "fairness_results = {}\n",
    "\n",
    "# Dictionaries to store training and inference times\n",
    "training_times_dict = {}\n",
    "inference_times_dict = {}"
   ]
  },
  {
   "cell_type": "markdown",
   "id": "5eda7b1b",
   "metadata": {},
   "source": [
    "# Methods\n",
    "\n",
    "Now, let's delve into the methods employed to analyze the BAF dataset. The following section will outline the approaches and techniques used to address fraud detection in this high-stakes banking context."
   ]
  },
  {
   "cell_type": "markdown",
   "id": "660644a5",
   "metadata": {},
   "source": [
    "## Logistic Regression\n",
    "\n",
    "Logistic regression is a popular statistical model used for **binary classification tasks**. It is particularly useful when the **outcome variable is categorical**, with two possible values such as \"yes\" or \"no,\" \"true\" or \"false,\" or **\"normal\"** or **\"anomaly\"**. The goal of logistic regression is to **estimate the probability** that an observation belongs to a certain class based on a set of input features. Mathematically, logistic regression applies the logistic function (also known as the sigmoid function) to a linear combination of input features. This is expressed as:\n",
    "\n",
    "<p align=\"center\">\\[ p(x) = \\frac{1}{1 + e^{-z}} \\]</p>\n",
    "\n",
    "<p>where p(x) is the probability of belonging to a certain class, \\( e \\) is the base of the natural logarithm, and \\( z \\) is the linear combination of input features and their respective coefficients:</p>\n",
    "\n",
    "<p align=\"center\">\\[ z = \\beta_0 + \\beta_1x_1 + \\beta_2x_2 + ... + \\beta_nx_n \\]</p>\n",
    "\n",
    "Here, β₀, β₁, β₂, ..., βₙ are the **coefficients** (also known as weights) associated with each input feature x₁, x₂, ..., xₙ. The logistic regression model learns the optimal values of these coefficients by minimizing a cost function, typically the log loss or cross-entropy loss. This process is done through techniques like maximum likelihood estimation or gradient descent. The coefficients obtained from logistic regression represent the **impact of each feature** on the probability of the outcome class. Logistic regression is widely used in various domains, including medicine, finance, and marketing, for tasks such as predicting disease presence, credit risk assessment, and customer churn prediction."
   ]
  },
  {
   "cell_type": "markdown",
   "id": "bb4b6806",
   "metadata": {},
   "source": [
    "Here, we apply Logistic Regression on the data:"
   ]
  },
  {
   "cell_type": "markdown",
   "id": "f88608c6-375d-4a64-b8ed-1b7c234c93d3",
   "metadata": {},
   "source": [
    "Uncomment and run this section and skip the next two cells if you don't want to train the model from scratch:"
   ]
  },
  {
   "cell_type": "code",
   "execution_count": 10,
   "id": "63c4048f",
   "metadata": {},
   "outputs": [],
   "source": [
    "# Load the saved Logistic Regression model\n",
    "# lr_model_path = os.path.join(model_path, f\"{variant.split('.')[0]}_lr_model.joblib\")\n",
    "# lr_model = joblib.load(lr_model_path)"
   ]
  },
  {
   "cell_type": "code",
   "execution_count": 11,
   "id": "525e86b2",
   "metadata": {},
   "outputs": [],
   "source": [
    "lr_model = LogisticRegression(n_jobs=-1)"
   ]
  },
  {
   "cell_type": "markdown",
   "id": "8f0bc076",
   "metadata": {},
   "source": [
    "<code>class_weight</code> is set to <code>None</code> by default. Try setting it to some weights or <code>balanced</code> mode and see how the performance changes.\n",
    "\n",
    "\n",
    "To calculate class weights, you can use this formula:\n",
    "\n",
    "```python\n",
    "weight_for_class_i = total_samples / (num_samples_in_class_i * num_classes)\n",
    "\n",
    "weight_for_class_0 = len(X_train) / (len(X_train[y_train == 0]) * 2)\n",
    "weight_for_class_1 = len(X_train) / (len(X_train[y_train == 1]) * 2)\n",
    "```\n",
    "\n",
    "Or directly use scikit-learn for this purpose:\n",
    "\n",
    "```python\n",
    "sklearn.utils.class_weight.compute_class_weight(class_weight, classes, y)\n",
    "```\n",
    "\n",
    "After calculating the weights for each class, you can pass them as dictionary to model's fit function."
   ]
  },
  {
   "cell_type": "code",
   "execution_count": 12,
   "id": "0d30b9a6",
   "metadata": {},
   "outputs": [
    {
     "name": "stdout",
     "output_type": "stream",
     "text": [
      "Training Time: 195.22572445869446 seconds\n"
     ]
    }
   ],
   "source": [
    "# Start measuring training time\n",
    "start_time = time.time()\n",
    "\n",
    "# Training the model\n",
    "lr_model.fit(X_train, y_train)\n",
    "\n",
    "# End measuring training time\n",
    "end_time = time.time()\n",
    "\n",
    "# Storing and printing the time\n",
    "lr_training_time = end_time - start_time\n",
    "print(f\"Training Time: {lr_training_time} seconds\")\n",
    "training_times_dict[(variant.split('.')[0], \"Logistic Regression\")] = {\"Training Time\":lr_training_time}"
   ]
  },
  {
   "cell_type": "code",
   "execution_count": 13,
   "id": "ca0180af",
   "metadata": {},
   "outputs": [
    {
     "name": "stdout",
     "output_type": "stream",
     "text": [
      "Inference Time: 0.16954326629638672 seconds\n"
     ]
    }
   ],
   "source": [
    "# Start measuring inference time\n",
    "start_time = time.time()\n",
    "\n",
    "# predict on the test set\n",
    "lr_scored_test = lr_model.predict_proba(X_test)[:, 1]\n",
    "\n",
    "# End measuring inference time\n",
    "end_time = time.time()\n",
    "\n",
    "# Storing and printing the time\n",
    "lr_inference_time = end_time - start_time\n",
    "print(f\"Inference Time: {lr_inference_time} seconds\")\n",
    "inference_times_dict[(variant.split('.')[0], \"Logistic Regression\")] = {\"Inference Time\":lr_inference_time}"
   ]
  },
  {
   "cell_type": "markdown",
   "id": "c004749e",
   "metadata": {},
   "source": [
    "If you want to save the model, you can use:\n",
    "\n",
    "```python\n",
    "import joblib\n",
    "joblib.dump(model, \"PATH_TO_SAVE_MODEL\")\n",
    "```"
   ]
  },
  {
   "cell_type": "code",
   "execution_count": 14,
   "id": "03d30dbc",
   "metadata": {},
   "outputs": [
    {
     "name": "stdout",
     "output_type": "stream",
     "text": [
      "Model TPR: 0.2057, Model FPR: 0.0499, Model Threshold: 0.1125, Model AUROC: 0.6797\n"
     ]
    }
   ],
   "source": [
    "# Calculate the TPR@5%FPR on the test set\n",
    "metrics_dict = calculate_tpr_at_fpr(y_test, lr_scored_test, fpr_lim=0.05)\n",
    "print(f\"Model TPR: {metrics_dict['TPR']}, Model FPR: {metrics_dict['FPR']}, Model Threshold: {metrics_dict['Threshold']}, Model AUROC: {metrics_dict['AUROC']}\")\n",
    "performance_results[(variant.split('.')[0], 'Logistic Regression')] = metrics_dict"
   ]
  },
  {
   "cell_type": "code",
   "execution_count": 15,
   "id": "63460e94",
   "metadata": {},
   "outputs": [
    {
     "name": "stdout",
     "output_type": "stream",
     "text": [
      "Fairness Ratio: 0.9136\n"
     ]
    }
   ],
   "source": [
    "# Calculate the fairness metrics on the test set\n",
    "fairness_ratio = calculate_fairness_metrics(y_test, lr_scored_test, X_test, fpr_lim=0.05)\n",
    "fairness_results[(variant.split('.')[0], 'Logistic Regression')] = {\"Fairness Ratio\":fairness_ratio}\n",
    "print(f\"Fairness Ratio: {fairness_ratio}\")"
   ]
  },
  {
   "cell_type": "markdown",
   "id": "4b10847e",
   "metadata": {},
   "source": [
    "## Random Forest\n",
    "\n",
    "Random forest is a powerful ensemble learning algorithm used for both **classification** and **regression** tasks. It combines multiple **decision trees** to make predictions. The 'forest' in random forest refers to a collection of decision trees. Each decision tree in the random forest is built on a random subset of the training data and a random subset of the input features. This randomness helps to create diverse and uncorrelated trees.\n",
    "\n",
    "A decision tree is a popular supervised learning algorithm used for both classification and regression tasks. It creates a flowchart-like model where **each internal node represents a feature**, **each branch represents a decision rule**, and **each leaf node represents the outcome or prediction**.  The decision tree algorithm builds the tree by recursively partitioning the data based on the values of the input features. It selects the best feature and the optimal split point at each step, aiming to maximize the homogeneity of the target variable within each partition. The homogeneity is typically measured using metrics such as **Gini impurity** or information gain. To make a **prediction** using a decision tree, we traverse the tree from the root node to a leaf node based on the feature values of the instance being classified or predicted. The outcome or prediction associated with that leaf node is then assigned to the instance.\n",
    "\n",
    "To make a prediction using a random forest, let's assume we have a random forest with \\(N\\) decision trees. For **classification**, each tree independently predicts the class label using its corresponding subset of features and training samples. The final prediction is determined by **majority voting**, where the class label with the highest count across all trees is selected. For **regression**, each tree independently predicts the target variable, and the final prediction is obtained by **averaging** the predictions of all the trees.\n",
    "\n",
    "<p>Mathematically, let's denote the random forest prediction as \\(y_{\\text{RF}}\\). For classification, the prediction is given by:</p>\n",
    "\n",
    "<p align=\"center\">\\[y_{\\text{RF}} = \\text{argmax}\\left(\\sum_{i=1}^{N} \\mathbb{F}(y_i = c)\\right)\\]</p>\n",
    "\n",
    "<p>where \\(y_i\\) represents the predicted class label of the \\(i\\)th tree, \\(\\mathbb{F}\\) is the indicator function, and \\(c\\) is the class label being considered. For regression, the prediction is given by:</p>\n",
    "\n",
    "<p align=\"center\">\\[y_{\\text{RF}} = \\frac{1}{N}\\sum_{i=1}^{N} y_i\\]</p>\n",
    "\n",
    "<p>where \\(y_i\\) represents the predicted target value of the \\(i\\)th tree.</p>\n",
    "\n",
    "One of the key advantages of random forest is its ability to handle **high-dimensional data** with many input features. It can capture **complex relationships** between features and target variables, handle **missing values** and **outliers**, and provide measures of **feature importance**.\n",
    "\n",
    "The random forest algorithm also addresses the problem of **overfitting**, which can occur with individual decision trees. By combining multiple trees, random forest reduces overfitting and improves generalization performance. Additionally, random forest has mechanisms to estimate the **out-of-bag (OOB) error**, which provides an unbiased estimate of the model's performance without the need for a separate validation set.\n",
    "\n",
    "Random forest has a wide range of applications, including but not limited to, **fraud detection**, **sentiment analysis**, **customer churn prediction**, and **medical diagnosis**. It is a popular and versatile algorithm in machine learning due to its **robustness**, **accuracy**, and **interpretability**."
   ]
  },
  {
   "cell_type": "markdown",
   "id": "ca53916b",
   "metadata": {},
   "source": [
    "Uncomment and run this section and skip the next two cells if you don't want to train the model from scratch:"
   ]
  },
  {
   "cell_type": "code",
   "execution_count": 16,
   "id": "869da34c",
   "metadata": {},
   "outputs": [],
   "source": [
    "# Load the saved Random Forest model\n",
    "# rf_model_path = os.path.join(model_path, f\"{variant.split('.')[0]}_rf_model.joblib\")\n",
    "# rf_model = joblib.load(rf_model_path)"
   ]
  },
  {
   "cell_type": "code",
   "execution_count": 17,
   "id": "663ce063",
   "metadata": {},
   "outputs": [],
   "source": [
    "rf_model = RandomForestClassifier(n_jobs=-1)"
   ]
  },
  {
   "cell_type": "markdown",
   "id": "1f7256cf-7933-4d86-be1f-9bb600669915",
   "metadata": {},
   "source": [
    "<code>class_weight</code> is set to <code>None</code> by default. Try setting it to some weights or <code>balanced</code> mode and see how the performance changes.\n",
    "\n",
    "You can either use from sklearn.utils import class_weight"
   ]
  },
  {
   "cell_type": "code",
   "execution_count": 18,
   "id": "0baa8b98",
   "metadata": {},
   "outputs": [
    {
     "name": "stdout",
     "output_type": "stream",
     "text": [
      "Training Time: 168.30542469024658 seconds\n"
     ]
    }
   ],
   "source": [
    "# Start measuring training time\n",
    "start_time = time.time()\n",
    "\n",
    "# Training the model\n",
    "rf_model.fit(X_train, y_train)\n",
    "\n",
    "# End measuring training time\n",
    "end_time = time.time()\n",
    "\n",
    "# Storing and printing the time\n",
    "rf_training_time = end_time - start_time\n",
    "print(f\"Training Time: {rf_training_time} seconds\")\n",
    "training_times_dict[(variant.split('.')[0], \"Random Forest\")] = {\"Training Time\":rf_training_time}"
   ]
  },
  {
   "cell_type": "code",
   "execution_count": 19,
   "id": "f677d4f0",
   "metadata": {},
   "outputs": [
    {
     "name": "stdout",
     "output_type": "stream",
     "text": [
      "Inference Time: 2.2137911319732666 seconds\n"
     ]
    }
   ],
   "source": [
    "# Start measuring inference time\n",
    "start_time = time.time()\n",
    "\n",
    "# predict on the test set\n",
    "rf_scored_test = rf_model.predict_proba(X_test)[:, 1]\n",
    "\n",
    "# End measuring inference time\n",
    "end_time = time.time()\n",
    "\n",
    "# Storing and printing the time\n",
    "rf_inference_time = end_time - start_time\n",
    "print(f\"Inference Time: {rf_inference_time} seconds\")\n",
    "inference_times_dict[(variant.split('.')[0], \"Random Forest\")] = {\"Inference Time\":rf_inference_time}"
   ]
  },
  {
   "cell_type": "code",
   "execution_count": 20,
   "id": "b0943857",
   "metadata": {},
   "outputs": [
    {
     "name": "stdout",
     "output_type": "stream",
     "text": [
      "Model TPR: 0.4288, Model FPR: 0.0415, Model Threshold: 0.09, Model AUROC: 0.8398\n"
     ]
    }
   ],
   "source": [
    "# Calculate the TPR@5%FPR on the test set\n",
    "metrics_dict = calculate_tpr_at_fpr(y_test, rf_scored_test, fpr_lim=0.05)\n",
    "performance_results[(variant.split('.')[0], 'Random Forest')] = metrics_dict\n",
    "print(f\"Model TPR: {metrics_dict['TPR']}, Model FPR: {metrics_dict['FPR']}, Model Threshold: {metrics_dict['Threshold']}, Model AUROC: {metrics_dict['AUROC']}\")"
   ]
  },
  {
   "cell_type": "code",
   "execution_count": 21,
   "id": "f4bf0674",
   "metadata": {},
   "outputs": [
    {
     "name": "stdout",
     "output_type": "stream",
     "text": [
      "Fairness Ratio: 0.9245\n"
     ]
    }
   ],
   "source": [
    "# Calculate the fairness metrics on the test set\n",
    "fairness_ratio = calculate_fairness_metrics(y_test, rf_scored_test, X_test, fpr_lim=0.05)\n",
    "fairness_results[(variant.split('.')[0], 'Random Forest')] = {\"Fairness Ratio\":fairness_ratio}\n",
    "print(f\"Fairness Ratio: {fairness_ratio}\")"
   ]
  },
  {
   "cell_type": "markdown",
   "id": "c275a86b",
   "metadata": {},
   "source": [
    "## Gradient Boosting \n",
    "\n",
    "Gradient boosting is a powerful machine learning technique used for both regression and classification tasks. It is an ensemble method that combines multiple weak prediction models, typically decision trees, to create a strong predictive model. Unlike random forest, which builds independent trees, gradient boosting builds trees in a sequential manner.\n",
    "\n",
    "The gradient boosting algorithm works by iteratively adding new trees to the model, each one trained to correct the mistakes of the previous trees. At each iteration, the algorithm calculates the gradients of a specified loss function with respect to the predictions made by the existing ensemble. The new tree is then built to minimize this gradient, effectively fitting the residual errors.\n",
    "\n",
    "<p>To make predictions using a gradient boosting model, let's assume we have a gradient boosting model with \\(N\\) trees. The prediction \\(y_{\\text{GB}}\\) is obtained by summing the predictions of all the trees, with each tree weighted by a learning rate \\(\\eta\\):</p>\n",
    "\n",
    "<p align=\"center\">\\[y_{\\text{GB}} = \\sum_{i=1}^{N} \\eta \\cdot h_i(x)\\]</p>\n",
    "\n",
    "<p>where \\(h_i(x)\\) represents the prediction made by the \\(i\\)th tree.</p>\n",
    "\n",
    "One of the key advantages of gradient boosting is its ability to handle complex and nonlinear relationships in the data. It can automatically capture interactions between features and handle missing values. Gradient boosting is also known for its robustness against outliers and its capability to handle high-dimensional data.\n",
    "\n",
    "However, gradient boosting is prone to overfitting if the model becomes too complex or if the learning rate is set too high. Regularization techniques such as limiting the maximum depth of the trees or using early stopping can be employed to prevent overfitting.\n",
    "\n",
    "Gradient boosting has become widely popular and has numerous applications in various domains, including but not limited to, web search ranking, anomaly detection, recommendation systems, and healthcare analytics. It consistently delivers state-of-the-art performance and is favored by many data scientists for its effectiveness and flexibility.\n"
   ]
  },
  {
   "cell_type": "markdown",
   "id": "751cc685",
   "metadata": {},
   "source": [
    "### XGBoost\n",
    "\n",
    "**XGBoost** (Extreme Gradient Boosting) is an advanced implementation of gradient boosting, known for its exceptional performance and efficiency. It is widely used in machine learning competitions and has become a popular choice in various data science projects.\n",
    "\n",
    "XGBoost builds upon the principles of gradient boosting and introduces several enhancements to improve the model's predictive power and speed. One of the key innovations is its handling of regularization techniques such as **L1 and L2 regularization**, which help control model complexity and prevent overfitting. By incorporating regularization, XGBoost can effectively handle high-dimensional datasets with many features.\n",
    "\n",
    "Furthermore, XGBoost employs a technique called \"column block\" for parallel computing, making it significantly faster than traditional gradient boosting implementations. It optimizes the computation by dividing the dataset into column blocks, allowing for efficient parallel processing.\n",
    "\n",
    "XGBoost supports both **classification and regression** tasks. For classification, it uses a variant of gradient boosting called \"gradient boosted trees,\" where each tree predicts the class probabilities using a softmax transformation. For regression, XGBoost builds a regression tree ensemble.\n",
    "\n",
    "One of the distinguishing features of XGBoost is its ability to handle **missing values** by automatically learning the best direction to handle them during tree construction. This eliminates the need for imputing missing values before training the model.\n",
    "\n",
    "XGBoost also provides **interpretable model outputs** by ranking the importance of each feature. It calculates feature importance based on the number of times a feature is used in the tree ensemble and the average gain achieved by splits involving that feature.\n",
    "\n",
    "Due to its exceptional performance, scalability, and robustness, XGBoost has gained popularity across various domains, including finance, healthcare, e-commerce, and recommendation systems. It is implemented in multiple programming languages, including Python, R, Java, and Scala, making it easily accessible to data scientists and machine learning practitioners."
   ]
  },
  {
   "cell_type": "markdown",
   "id": "b1d83675",
   "metadata": {},
   "source": [
    "Uncomment and run this section and skip the next two cells if you don't want to train the model from scratch:"
   ]
  },
  {
   "cell_type": "code",
   "execution_count": 22,
   "id": "215b4348",
   "metadata": {},
   "outputs": [],
   "source": [
    "# Load the saved XGBoost model\n",
    "# xgb_model_path = os.path.join(model_path, f\"{variant.split('.')[0]}_xgb_model.joblib\")\n",
    "# xgb_model = joblib.load(xgb_model_path)"
   ]
  },
  {
   "cell_type": "code",
   "execution_count": 23,
   "id": "2e8a78a4",
   "metadata": {},
   "outputs": [],
   "source": [
    "# XGBoost model\n",
    "xgb_model = xgb.XGBClassifier()"
   ]
  },
  {
   "cell_type": "markdown",
   "id": "cd236744-a5b2-49d6-9181-1a28053b4a93",
   "metadata": {},
   "source": [
    "One hyperparameter in XGBoost for imbalance classfication is `scale_pos_weight`.\n",
    "\n",
    "By default, `scale_pos_weight` is set to **1.0, which balances positive and negative examples**. XGBoost **minimizes a loss function during training, with gradients reflecting the error magnitude**. A low gradient signifies a small error, and vice versa.\n",
    "\n",
    "The `scale_pos_weight` hyperparameter **scales the gradient related to the positive (minority) class**. This encourages the model to **rectify positive class errors more assertively, potentially enhancing predictions**. However, **excessive scaling can result in overfitting the positive class**, harming performance on both classes.\n",
    "\n",
    "A reasonable default is **the inverse of the class distribution**. For instance, if the minority:majority class ratio is **1:100, setting `scale_pos_weight` to 100 amplifies the impact of minority class errors during training**.\n",
    "\n",
    "Try different values and see how the performance changes.\n"
   ]
  },
  {
   "cell_type": "code",
   "execution_count": 24,
   "id": "bd30cd48",
   "metadata": {},
   "outputs": [
    {
     "name": "stderr",
     "output_type": "stream",
     "text": [
      "/ssd003/projects/aieng/public/anomaly_detection_environment/lib/python3.7/site-packages/sklearn/linear_model/_logistic.py:818: ConvergenceWarning: lbfgs failed to converge (status=1):\n",
      "STOP: TOTAL NO. of ITERATIONS REACHED LIMIT.\n",
      "\n",
      "Increase the number of iterations (max_iter) or scale the data as shown in:\n",
      "    https://scikit-learn.org/stable/modules/preprocessing.html\n",
      "Please also refer to the documentation for alternative solver options:\n",
      "    https://scikit-learn.org/stable/modules/linear_model.html#logistic-regression\n",
      "  extra_warning_msg=_LOGISTIC_SOLVER_CONVERGENCE_MSG,\n"
     ]
    },
    {
     "name": "stdout",
     "output_type": "stream",
     "text": [
      "Training Time: 169.00852870941162 seconds\n"
     ]
    }
   ],
   "source": [
    "# Start measuring training time\n",
    "start_time = time.time()\n",
    "\n",
    "# Training the model\n",
    "xgb_model.fit(X_train, y_train)\n",
    "\n",
    "# End measuring training time\n",
    "end_time = time.time()\n",
    "\n",
    "# Storing and printing the time\n",
    "xgb_training_time = end_time - start_time\n",
    "print(f\"Training Time: {xgb_training_time} seconds\")\n",
    "training_times_dict[(variant.split('.')[0], \"XGBoost\")] = {\"Training Time\":xgb_training_time}"
   ]
  },
  {
   "cell_type": "code",
   "execution_count": 25,
   "id": "a88e1ef4",
   "metadata": {},
   "outputs": [
    {
     "name": "stdout",
     "output_type": "stream",
     "text": [
      "Inference Time: 0.361177921295166 seconds\n"
     ]
    }
   ],
   "source": [
    "# Start measuring inference time\n",
    "start_time = time.time()\n",
    "\n",
    "# predict on the test set\n",
    "xgb_scored_test = xgb_model.predict_proba(X_test)[:, 1]\n",
    "\n",
    "# End measuring inference time\n",
    "end_time = time.time()\n",
    "\n",
    "# Storing and printing the time\n",
    "xgb_inference_time = end_time - start_time\n",
    "print(f\"Inference Time: {xgb_inference_time} seconds\")\n",
    "inference_times_dict[(variant.split('.')[0], \"XGBoost\")] = {\"Inference Time\":xgb_inference_time}"
   ]
  },
  {
   "cell_type": "code",
   "execution_count": 26,
   "id": "40500131",
   "metadata": {},
   "outputs": [
    {
     "name": "stdout",
     "output_type": "stream",
     "text": [
      "Model TPR: 0.5049, Model FPR: 0.0498, Model Threshold: 0.041099999099969864, Model AUROC: 0.8787\n"
     ]
    }
   ],
   "source": [
    "# Calculate the TPR@5%FPR on the test set\n",
    "metrics_dict = calculate_tpr_at_fpr(y_test, xgb_scored_test, fpr_lim=0.05)\n",
    "performance_results[(variant.split('.')[0], 'XGBoost')] = metrics_dict\n",
    "print(f\"Model TPR: {metrics_dict['TPR']}, Model FPR: {metrics_dict['FPR']}, Model Threshold: {metrics_dict['Threshold']}, Model AUROC: {metrics_dict['AUROC']}\")"
   ]
  },
  {
   "cell_type": "code",
   "execution_count": 27,
   "id": "3baf2148",
   "metadata": {},
   "outputs": [
    {
     "name": "stdout",
     "output_type": "stream",
     "text": [
      "Fairness Ratio: 0.8989\n"
     ]
    }
   ],
   "source": [
    "# Calculate the fairness metrics on the test set\n",
    "fairness_ratio = calculate_fairness_metrics(y_test, xgb_scored_test, X_test, fpr_lim=0.05)\n",
    "fairness_results[(variant.split('.')[0], 'XGBoost')] = {\"Fairness Ratio\":fairness_ratio}\n",
    "print(f\"Fairness Ratio: {fairness_ratio}\")"
   ]
  },
  {
   "cell_type": "markdown",
   "id": "003a8f1f",
   "metadata": {},
   "source": [
    "### CatBoost\n",
    "\n",
    "**CatBoost** is a powerful gradient boosting framework developed by Yandex that is particularly well-suited for working with **categorical features**. It is designed to handle the inherent challenges posed by categorical variables, such as high cardinality and missing values.\n",
    "\n",
    "One of the key advantages of CatBoost is its ability to automatically handle categorical features without requiring explicit preprocessing. It employs an innovative technique called **ordered boosting**, which utilizes a novel algorithm to process categorical variables directly, eliminating the need for one-hot encoding or label encoding. This simplifies the feature engineering process and helps capture valuable information present in categorical features.\n",
    "\n",
    "Additionally, CatBoost implements **gradient-based optimization** to handle numerical features effectively. It leverages the power of gradient boosting to learn complex non-linear relationships and interactions between features, resulting in accurate predictions.\n",
    "\n",
    "CatBoost also includes built-in **robustness** mechanisms to handle missing data in both categorical and numerical features. It can automatically handle missing values during training, reducing the need for imputation.\n",
    "\n",
    "The framework supports various advanced features, such as **regularization**, **cross-validation**, and **early stopping**, which enhance model generalization and prevent overfitting. CatBoost also provides **interpretability** by offering feature importance analysis and visualization tools to understand the impact of different features on the predictions.\n",
    "\n",
    "Furthermore, CatBoost is known for its high performance and scalability. It implements **optimized algorithms** to process large datasets efficiently, making it suitable for both small-scale and large-scale applications.\n",
    "\n",
    "CatBoost is available in multiple programming languages, including Python, R, and Julia, making it accessible to a wide range of users. It integrates well with popular data science libraries and frameworks, enabling seamless integration into existing workflows.\n",
    "\n",
    "Due to its unique handling of categorical features, robustness, and performance, CatBoost has gained popularity in various domains, including advertising, recommendation systems, and fraud detection. It is widely used by data scientists and machine learning practitioners to achieve accurate predictions with minimal feature engineering efforts."
   ]
  },
  {
   "cell_type": "markdown",
   "id": "2e884c58",
   "metadata": {},
   "source": [
    "Uncomment and run this section and skip the next two cells if you don't want to train the model from scratch:"
   ]
  },
  {
   "cell_type": "code",
   "execution_count": 28,
   "id": "0d663390",
   "metadata": {},
   "outputs": [],
   "source": [
    "# Load the saved CatBoost model\n",
    "# cb_model_path = os.path.join(model_path, f\"{variant.split('.')[0]}_cb_model.joblib\")\n",
    "# cb_model = joblib.load(cb_model_path)"
   ]
  },
  {
   "cell_type": "code",
   "execution_count": 29,
   "id": "7e91e8af",
   "metadata": {},
   "outputs": [],
   "source": [
    "# CatBoost model\n",
    "cb_model = cb.CatBoostClassifier(verbose=False)"
   ]
  },
  {
   "cell_type": "markdown",
   "id": "e65f045d-0bc7-4007-a395-74ea1fb48c60",
   "metadata": {},
   "source": [
    "CatBoost offers two options, `scale_pos_weight` and `class_weights`, to handle imbalanced classification. You have the choice to utilize either of them. Experiment with various values for these options to observe the resulting performance changes.\n"
   ]
  },
  {
   "cell_type": "code",
   "execution_count": 30,
   "id": "9bf57c84",
   "metadata": {},
   "outputs": [
    {
     "name": "stderr",
     "output_type": "stream",
     "text": [
      "TBB Warning: The number of workers is currently limited to 3. The request for 31 workers is ignored. Further requests for more workers will be silently ignored until the limit changes.\n",
      "\n"
     ]
    },
    {
     "name": "stdout",
     "output_type": "stream",
     "text": [
      "Training Time: 116.60564064979553 seconds\n"
     ]
    }
   ],
   "source": [
    "# Start measuring training time\n",
    "start_time = time.time()\n",
    "\n",
    "# Training the model\n",
    "cb_model.fit(X_train, y_train)\n",
    "\n",
    "# End measuring training time\n",
    "end_time = time.time()\n",
    "\n",
    "# Storing and printing the time\n",
    "cb_training_time = end_time - start_time\n",
    "print(f\"Training Time: {cb_training_time} seconds\")\n",
    "training_times_dict[(variant.split('.')[0], \"CatBoost\")] = {\"Training Time\":cb_training_time}"
   ]
  },
  {
   "cell_type": "code",
   "execution_count": 31,
   "id": "7c6f462b",
   "metadata": {},
   "outputs": [
    {
     "name": "stdout",
     "output_type": "stream",
     "text": [
      "Inference Time: 0.2116382122039795 seconds\n"
     ]
    }
   ],
   "source": [
    "# Start measuring inference time\n",
    "start_time = time.time()\n",
    "\n",
    "# predict on the test set\n",
    "cb_scored_test = cb_model.predict_proba(X_test)[:, 1]\n",
    "\n",
    "# End measuring inference time\n",
    "end_time = time.time()\n",
    "\n",
    "# Storing and printing the time\n",
    "cb_inference_time = end_time - start_time\n",
    "print(f\"Inference Time: {cb_inference_time} seconds\")\n",
    "inference_times_dict[(variant.split('.')[0], \"CatBoost\")] = {\"Inference Time\":cb_inference_time}"
   ]
  },
  {
   "cell_type": "code",
   "execution_count": 32,
   "id": "98fdb28b",
   "metadata": {},
   "outputs": [
    {
     "name": "stdout",
     "output_type": "stream",
     "text": [
      "Model TPR: 0.5101, Model FPR: 0.0499, Model Threshold: 0.0373, Model AUROC: 0.8836\n"
     ]
    }
   ],
   "source": [
    "# Calculate the TPR@5%FPR on the test set\n",
    "metrics_dict = calculate_tpr_at_fpr(y_test, cb_scored_test, fpr_lim=0.05)\n",
    "performance_results[(variant.split('.')[0], 'CatBoost')] = metrics_dict\n",
    "print(f\"Model TPR: {metrics_dict['TPR']}, Model FPR: {metrics_dict['FPR']}, Model Threshold: {metrics_dict['Threshold']}, Model AUROC: {metrics_dict['AUROC']}\")"
   ]
  },
  {
   "cell_type": "code",
   "execution_count": 33,
   "id": "208d83ff",
   "metadata": {},
   "outputs": [
    {
     "name": "stdout",
     "output_type": "stream",
     "text": [
      "Fairness Ratio: 0.8875\n"
     ]
    }
   ],
   "source": [
    "# Calculate the fairness metrics on the test set\n",
    "fairness_ratio = calculate_fairness_metrics(y_test, cb_scored_test, X_test, fpr_lim=0.05)\n",
    "fairness_results[(variant.split('.')[0], 'CatBoost')] = {\"Fairness Ratio\":fairness_ratio}\n",
    "print(f\"Fairness Ratio: {fairness_ratio}\")"
   ]
  },
  {
   "cell_type": "markdown",
   "id": "1b1bf41e-97d3-4149-b8e1-4a8388054831",
   "metadata": {},
   "source": [
    "### LightGBM\n",
    "\n",
    "**Light GBM** (Light Gradient Boosting Machine) is a gradient boosting framework that offers high performance and efficiency for machine learning tasks. It is designed to handle large-scale datasets and has gained popularity for its speed and accuracy.\n",
    "\n",
    "Light GBM leverages a unique approach to gradient boosting by using a technique called **gradient-based one-sided sampling**. This approach selects only the most informative data instances for building each tree, reducing the computational resources required while maintaining predictive accuracy.\n",
    "\n",
    "Another important feature of Light GBM is its ability to handle **categorical features** directly. It converts categorical variables into numerical values, which improves the model's performance and reduces the need for manual feature engineering.\n",
    "\n",
    "Light GBM employs a **leaf-wise tree growth** strategy, where each tree is grown leaf-wise instead of level-wise. This strategy focuses on growing the leaves that contribute the most to the overall objective function, leading to faster convergence and improved efficiency.\n",
    "\n",
    "The framework also supports various advanced techniques, such as **regularization** (e.g., L1 and L2 regularization), **early stopping**, and **data parallelism**. These techniques enhance model generalization, prevent overfitting, and enable efficient distributed training.\n",
    "\n",
    "Light GBM is implemented in multiple programming languages, including Python, R, and C++. It provides a user-friendly interface and is compatible with popular machine learning libraries like scikit-learn.\n",
    "\n",
    "Due to its speed, scalability, and performance, Light GBM is widely used in various domains, including online advertising, recommendation systems, and fraud detection. It has become a go-to choice for data scientists and machine learning practitioners when working with large datasets and requiring fast and accurate models."
   ]
  },
  {
   "cell_type": "markdown",
   "id": "b302e7e5-284a-447f-88f8-d8b7f2d4752d",
   "metadata": {},
   "source": [
    "Uncomment and run this section and skip the next two cells if you don't want to train the model from scratch:"
   ]
  },
  {
   "cell_type": "code",
   "execution_count": 34,
   "id": "8a76c4e1",
   "metadata": {},
   "outputs": [],
   "source": [
    "# Load the saved Light GBM model\n",
    "# lgbm_model_path = os.path.join(model_path, f\"{variant.split('.')[0]}_lgbm_model.joblib\")\n",
    "# lgbm_model = joblib.load(lgbm_model_path)"
   ]
  },
  {
   "cell_type": "code",
   "execution_count": 35,
   "id": "9af11e1d",
   "metadata": {},
   "outputs": [],
   "source": [
    "# Train a model on the data\n",
    "lgbm_model = lgbm.LGBMClassifier()"
   ]
  },
  {
   "cell_type": "markdown",
   "id": "46b5d80b-405e-49d0-a60b-e2aa89994c13",
   "metadata": {},
   "source": [
    "<code>class_weight</code> is set to <code>None</code> by default. Try setting it to some weights or <code>balanced</code> mode and see how the performance changes."
   ]
  },
  {
   "cell_type": "code",
   "execution_count": 36,
   "id": "e0d3ce11",
   "metadata": {},
   "outputs": [
    {
     "name": "stdout",
     "output_type": "stream",
     "text": [
      "Training Time: 8.637389183044434 seconds\n"
     ]
    }
   ],
   "source": [
    "# Start measuring training time\n",
    "start_time = time.time()\n",
    "\n",
    "# Training the model\n",
    "lgbm_model.fit(X_train, y_train)\n",
    "\n",
    "# End measuring training time\n",
    "end_time = time.time()\n",
    "\n",
    "# Storing and printing the time\n",
    "lgbm_training_time = end_time - start_time\n",
    "print(f\"Training Time: {lgbm_training_time} seconds\")\n",
    "training_times_dict[(variant.split('.')[0], \"Light GBM\")] = {\"Training Time\":lgbm_training_time}"
   ]
  },
  {
   "cell_type": "code",
   "execution_count": 37,
   "id": "b688f2bf",
   "metadata": {},
   "outputs": [
    {
     "name": "stdout",
     "output_type": "stream",
     "text": [
      "Inference Time: 0.7575802803039551 seconds\n"
     ]
    }
   ],
   "source": [
    "# Start measuring inference time\n",
    "start_time = time.time()\n",
    "\n",
    "# predict on the test set\n",
    "lgbm_scored_test = lgbm_model.predict_proba(X_test)[:,1]\n",
    "\n",
    "# End measuring inference time\n",
    "end_time = time.time()\n",
    "\n",
    "# Storing and printing the time\n",
    "lgbm_inference_time = end_time - start_time\n",
    "print(f\"Inference Time: {lgbm_inference_time} seconds\")\n",
    "inference_times_dict[(variant.split('.')[0], \"Light GBM\")] = {\"Inference Time\":lgbm_inference_time}"
   ]
  },
  {
   "cell_type": "code",
   "execution_count": 38,
   "id": "95c9dbf5",
   "metadata": {
    "scrolled": true
   },
   "outputs": [
    {
     "name": "stdout",
     "output_type": "stream",
     "text": [
      "Model TPR: 0.5302, Model FPR: 0.05, Model Threshold: 0.0404, Model AUROC: 0.8898\n"
     ]
    }
   ],
   "source": [
    "# Calculate the  TPR@5%FPR on the test set\n",
    "metrics_dict = calculate_tpr_at_fpr(y_test, lgbm_scored_test, fpr_lim=0.05)\n",
    "performance_results[(variant.split('.')[0], 'Light GBM')] = metrics_dict\n",
    "print(f\"Model TPR: {metrics_dict['TPR']}, Model FPR: {metrics_dict['FPR']}, Model Threshold: {metrics_dict['Threshold']}, Model AUROC: {metrics_dict['AUROC']}\")"
   ]
  },
  {
   "cell_type": "code",
   "execution_count": 39,
   "id": "1d899670",
   "metadata": {},
   "outputs": [
    {
     "name": "stdout",
     "output_type": "stream",
     "text": [
      "Fairness Ratio: 0.8887\n"
     ]
    }
   ],
   "source": [
    "# Calculate the fairness metrics on the test set\n",
    "fairness_ratio = calculate_fairness_metrics(y_test, lgbm_scored_test, X_test, fpr_lim=0.05)\n",
    "fairness_results[(variant.split('.')[0], 'Light GBM')] = {\"Fairness Ratio\":fairness_ratio}\n",
    "print(f\"Fairness Ratio: {fairness_ratio}\")"
   ]
  },
  {
   "cell_type": "markdown",
   "id": "defa525d",
   "metadata": {},
   "source": [
    "## Comparison of Different Gradient Boosting Libraries (XGBoost, CatBoost and Light GBM)\n",
    "\n",
    "### Differences:\n",
    "- **Feature Handling**: XGBoost requires explicit preprocessing of categorical features, while CatBoost natively handles them, and LightGBM uses binning techniques for efficient categorical feature handling.\n",
    "- **Performance and Efficiency**: XGBoost is known for its scalability and optimization, CatBoost emphasizes memory efficiency, and LightGBM offers faster training speed and lower memory usage.\n",
    "- **Parallelization and Distributed Computing**: All three frameworks support parallelization, but XGBoost and CatBoost also provide options for distributed computing.\n",
    "- **Implementation and Community Support**: XGBoost has a longer history, a mature implementation, and a large user community. CatBoost and LightGBM are newer but gaining popularity, with active development communities and good documentation.\n",
    "\n",
    "### Similarities:\n",
    "- **Gradient Boosting**: All three frameworks are based on the gradient boosting technique.\n",
    "- **Ensemble Learning**: They create ensembles by combining multiple weak models (decision trees) for improved predictive power.\n",
    "- **Anomaly Detection**: All three can be used for anomaly detection tasks.\n",
    "- **Widely Used**: XGBoost, CatBoost, and LightGBM are widely used in various domains and have demonstrated success in many machine learning applications.\n"
   ]
  },
  {
   "cell_type": "markdown",
   "id": "f708c70b",
   "metadata": {},
   "source": [
    "## TabNet: Attentive Interpretable Tabular Learning\n",
    "\n",
    "**TabNet** presents an innovative approach that bridges the gap between two prominent machine learning paradigms: **Decision Trees (DTs)** and **Deep Neural Networks (DNNs)**. The methodology introduced in this work combines the strengths of these two approaches to create a powerful learning framework for real-world **tabular datasets**. While **DNNs lack the transparency and interpretability of DTs**, DTs often struggle to capture the intricacies of complex patterns present in diverse tabular data. TabNet's primary contribution revolves around its meticulously designed architecture, which effectively integrates the output structure of DTs within the flexible framework of DNNs.\n",
    "\n",
    "The central concept driving TabNet is the emulation of **decision boundaries** akin to those established by DTs. However, TabNet introduces a novel mechanism by leveraging a sequence of **learnable masks** to guide feature selection at each step. These masks, derived through the innovative **sparsemax normalization technique**, offer a dual advantage: they optimize parameter usage efficiently and promote interpretability by **highlighting the most pertinent features**. Moreover, the incorporation of **sparsity regularization** empowers the model with the ability to control the extent of feature selection, a crucial capability when dealing with datasets containing redundant or irrelevant features.\n",
    "\n",
    "TabNet's architecture excels due to its **sequential multi-step approach**, wherein decisions are iteratively refined by progressively considering the most influential features. Inspired by applications in visual processing and reinforcement learning, the **top-down attention mechanism** equips the model to concentrate on relevant information, effectively tackling the challenges posed by high-dimensional inputs. This results in a dynamic decision process that effectively harnesses the strengths of both local and global features, thereby enhancing TabNet's proficiency in capturing intricate relationships within tabular data.\n",
    "\n",
    "In essence, TabNet strikes a remarkable balance between **predictive power and interpretability**. Its capability to not only **outperform traditional DTs** but also provide **invaluable insights into feature importance** positions it as a potent solution for learning from tabular datasets. This becomes particularly relevant in domains where comprehending the decision-making process is just as pivotal as achieving accurate predictions.\n"
   ]
  },
  {
   "cell_type": "code",
   "execution_count": 40,
   "id": "d9118cfc",
   "metadata": {},
   "outputs": [],
   "source": [
    "from sklearn.metrics import roc_curve\n",
    "from pytorch_tabnet.metrics import Metric\n",
    "from pytorch_tabnet.tab_model import TabNetClassifier\n",
    "from pytorch_tabnet.pretraining import TabNetPretrainer"
   ]
  },
  {
   "cell_type": "code",
   "execution_count": 41,
   "id": "bf8e2c66",
   "metadata": {},
   "outputs": [
    {
     "name": "stderr",
     "output_type": "stream",
     "text": [
      "/ssd003/projects/aieng/public/anomaly_detection_environment/lib/python3.7/site-packages/pytorch_tabnet/abstract_model.py:82: UserWarning: Device used : cuda\n",
      "  warnings.warn(f\"Device used : {self.device}\")\n"
     ]
    }
   ],
   "source": [
    "# Create an instance of TabNet model\n",
    "clf = TabNetClassifier()"
   ]
  },
  {
   "cell_type": "code",
   "execution_count": 42,
   "id": "a9e1fb90",
   "metadata": {},
   "outputs": [],
   "source": [
    "# Create a custom metric class to pass to TabNet\n",
    "class TPR_at_05FPR(Metric):\n",
    "    def __init__(self):\n",
    "        self._name = \"tpr_at_05fpr\"\n",
    "        self._maximize = True\n",
    "\n",
    "    def __call__(self, y_true, y_score):\n",
    "        fpr, tpr, threshold = roc_curve(y_true, y_score[:, 1])\n",
    "        tpr_at_05fpr = tpr[fpr < 0.05][-1]\n",
    "        return tpr_at_05fpr"
   ]
  },
  {
   "cell_type": "markdown",
   "id": "929c98b0",
   "metadata": {},
   "source": [
    "Set 1 for automatic weight balancing or try different values and see how the performance changes."
   ]
  },
  {
   "cell_type": "code",
   "execution_count": 43,
   "id": "07d244a5",
   "metadata": {},
   "outputs": [
    {
     "name": "stderr",
     "output_type": "stream",
     "text": [
      "/ssd003/projects/aieng/public/anomaly_detection_environment/lib/python3.7/site-packages/pytorch_tabnet/abstract_model.py:687: UserWarning: No early stopping will be performed, last training weights will be used.\n",
      "  warnings.warn(wrn_msg)\n"
     ]
    },
    {
     "name": "stdout",
     "output_type": "stream",
     "text": [
      "epoch 0  | loss: 0.05198 |  0:01:04s\n",
      "epoch 1  | loss: 0.04631 |  0:02:06s\n",
      "epoch 2  | loss: 0.04549 |  0:03:07s\n",
      "epoch 3  | loss: 0.04523 |  0:04:08s\n",
      "epoch 4  | loss: 0.04475 |  0:05:09s\n",
      "Training Time: 793.5279746055603 seconds\n"
     ]
    }
   ],
   "source": [
    "# Start measuring training time\n",
    "start_time = time.time()\n",
    "\n",
    "# Train TabNet\n",
    "clf.fit(\n",
    "    X_train.values, \n",
    "    y_train.values,\n",
    "    eval_metric=[TPR_at_05FPR, \"auc\"],\n",
    "    max_epochs=5,\n",
    "    batch_size=512,\n",
    "    weights=0\n",
    ")\n",
    "\n",
    "# End measuring training time\n",
    "end_time = time.time()\n",
    "\n",
    "# Storing and printing the time\n",
    "tabnet_training_time = end_time - start_time\n",
    "print(f\"Training Time: {tabnet_training_time} seconds\")\n",
    "training_times_dict[(variant.split('.')[0], \"TabNet\")] = {\"Training Time\":tabnet_training_time}"
   ]
  },
  {
   "cell_type": "code",
   "execution_count": 44,
   "id": "c7188f46",
   "metadata": {},
   "outputs": [
    {
     "name": "stdout",
     "output_type": "stream",
     "text": [
      "Inference Time: 5.725928068161011 seconds\n"
     ]
    }
   ],
   "source": [
    "# Start measuring inference time\n",
    "start_time = time.time()\n",
    "\n",
    "# Predict on the test set\n",
    "tabnet_scored_test = clf.predict_proba(X_test.values)[:,1]\n",
    "\n",
    "# End measuring inference time\n",
    "end_time = time.time()\n",
    "\n",
    "# Storing and printing the time\n",
    "tabnet_inference_time = end_time - start_time\n",
    "print(f\"Inference Time: {tabnet_inference_time} seconds\")\n",
    "inference_times_dict[(variant.split('.')[0], \"TabNet\")] = {\"Inference Time\":tabnet_inference_time}"
   ]
  },
  {
   "cell_type": "markdown",
   "id": "6c210279",
   "metadata": {},
   "source": [
    "If you want to save the model, you can use:\n",
    "\n",
    "```python\n",
    "clf.save_model(\"PATH_TO_SAVE_MODEL\")\n",
    "```"
   ]
  },
  {
   "cell_type": "code",
   "execution_count": 45,
   "id": "31d44222",
   "metadata": {},
   "outputs": [
    {
     "name": "stdout",
     "output_type": "stream",
     "text": [
      "Model TPR: 0.5069, Model FPR: 0.05, Model Threshold: 0.028200000524520874, Model AUROC: 0.8822\n"
     ]
    }
   ],
   "source": [
    "# Calculate the TPR@5%FPR on the test set\n",
    "metrics_dict = calculate_tpr_at_fpr(y_test, tabnet_scored_test, fpr_lim=0.05)\n",
    "performance_results[(variant.split('.')[0], 'TabNet')] = metrics_dict\n",
    "print(f\"Model TPR: {metrics_dict['TPR']}, Model FPR: {metrics_dict['FPR']}, Model Threshold: {metrics_dict['Threshold']}, Model AUROC: {metrics_dict['AUROC']}\")"
   ]
  },
  {
   "cell_type": "code",
   "execution_count": 46,
   "id": "bd07e25c",
   "metadata": {},
   "outputs": [
    {
     "name": "stdout",
     "output_type": "stream",
     "text": [
      "Fairness Ratio: 0.9076 \n",
      "\n"
     ]
    }
   ],
   "source": [
    "# Calculate the fairness metrics on the test set\n",
    "fairness_ratio = calculate_fairness_metrics(y_test, tabnet_scored_test, X_test, fpr_lim=0.05)\n",
    "fairness_results[(variant.split('.')[0], 'TabNet')] = {\"Fairness Ratio\":fairness_ratio}\n",
    "print(f\"Fairness Ratio: {fairness_ratio}\", \"\\n\")"
   ]
  },
  {
   "cell_type": "markdown",
   "id": "73a36e98",
   "metadata": {},
   "source": [
    "## Autoencoder\n",
    "\n",
    "Now we want to apply some unsupervised methods for anomaly detection. In this cell, we begin by importing essential libraries required for building and training neural networks, as well as for data preprocessing and evaluation. We also import Scikit-learn libraries for metrics calculation and data scaling.\n",
    "\n",
    "Following the imports, we define the architecture of the autoencoder model. An autoencoder is a type of neural network consisting of an encoder and a decoder. The purpose of an autoencoder is to learn a compressed representation of input data and then reconstruct the original data from this representation.\n",
    "\n",
    "We create the `Autoencoder` class as a subclass of `nn.Module`, which is PyTorch's base class for defining neural network modules. The class includes methods for initializing the architecture and performing forward passes.\n",
    "\n",
    "The encoder is structured using `nn.Sequential`, which is a convenient way to define a sequence of layers. It starts with a linear layer that reduces the input data's dimensionality to the specified `hidden_size`, followed by a rectified linear unit (ReLU) activation function to introduce non-linearity.\n",
    "\n",
    "The decoder, resembling the encoder but in reverse order, takes the encoded representation and aims to reconstruct the original input data. The simplicity of this architecture allows for easy experimentation with various configurations and layer sizes."
   ]
  },
  {
   "cell_type": "code",
   "execution_count": 47,
   "id": "df5a0741",
   "metadata": {},
   "outputs": [],
   "source": [
    "# Define the Autoencoder architecture\n",
    "class Autoencoder(nn.Module):\n",
    "    def __init__(self, input_size, hidden_size):\n",
    "        super(Autoencoder, self).__init__()\n",
    "        self.encoder = nn.Sequential(\n",
    "            nn.Linear(input_size, hidden_size),\n",
    "            nn.ReLU()\n",
    "        )\n",
    "        self.decoder = nn.Sequential(\n",
    "            nn.Linear(hidden_size, input_size),\n",
    "            nn.ReLU()\n",
    "        )\n",
    "        \n",
    "    def forward(self, x):\n",
    "        encoded = self.encoder(x)\n",
    "        decoded = self.decoder(encoded)\n",
    "        return decoded"
   ]
  },
  {
   "cell_type": "markdown",
   "id": "fc458c9a",
   "metadata": {},
   "source": [
    "In this cell, we set the hyperparameters that will govern the training process of the autoencoder. Hyperparameters are configuration choices that influence the behavior of the neural network during training. It's important to choose appropriate hyperparameters to ensure effective learning and convergence.\n",
    "\n",
    "We define the `input_size` as the number of features in the input data and `hidden_size` as the number of neurons in the hidden layer of the autoencoder. These values can be adjusted based on the complexity of your data and the desired capacity of the model.\n",
    "\n",
    "Other hyperparameters include the `batch_size`, which determines the number of data samples processed in each training iteration, the `learning_rate`, which controls the step size during optimization, and the `num_epochs`, which specifies the number of times the entire training dataset is passed through the model.\n",
    "\n",
    "With the hyperparameters set, we create an instance of the `Autoencoder` class that we defined earlier. This instance represents our neural network model, which will be trained to learn a compressed representation of the input data.\n",
    "\n",
    "We also define the loss function and optimizer. The loss function (`nn.MSELoss()`) calculates the mean squared error between the reconstructed data and the original data. The optimizer (`optim.Adam()`) implements the Adam optimization algorithm, which updates the model's parameters to minimize the loss during training.\n"
   ]
  },
  {
   "cell_type": "code",
   "execution_count": 48,
   "id": "3bfbf494",
   "metadata": {},
   "outputs": [],
   "source": [
    "# Hyperparameters\n",
    "input_size = 50  # Number of input features\n",
    "hidden_size = 30  # Number of neurons in the hidden layer\n",
    "batch_size = 512\n",
    "learning_rate = 0.0001\n",
    "num_epochs = 5\n",
    "\n",
    "# Create an instance of the Autoencoder\n",
    "autoencoder = Autoencoder(input_size, hidden_size)\n",
    "\n",
    "# Define loss function and optimizer\n",
    "criterion = nn.MSELoss()\n",
    "optimizer = optim.Adam(autoencoder.parameters(), lr=learning_rate)"
   ]
  },
  {
   "cell_type": "markdown",
   "id": "99ce53f1",
   "metadata": {},
   "source": [
    "In this cell, we convert the DataFrames to PyTorch tensors using the `torch.tensor` function. This conversion prepares the data for feeding into the neural network model.\n",
    "\n",
    "With the data in the form of PyTorch tensors, we are now ready to proceed with training the autoencoder model in subsequent cells."
   ]
  },
  {
   "cell_type": "code",
   "execution_count": 49,
   "id": "b9d94bb3",
   "metadata": {},
   "outputs": [],
   "source": [
    "# Convert DataFrame to PyTorch tensors\n",
    "X_train_tensor = torch.tensor(X_train.values, dtype=torch.float32)\n",
    "X_test_tensor = torch.tensor(X_test.values, dtype=torch.float32)"
   ]
  },
  {
   "cell_type": "markdown",
   "id": "02b7bf10",
   "metadata": {},
   "source": [
    "In this cell, we begin the training process of the autoencoder neural network. Training a neural network involves iteratively adjusting its parameters to minimize a chosen loss function and improve its performance on the given data.\n",
    "\n",
    "We create a `train_dataset` using the scaled training data, and a `train_dataloader` using `TensorDataset` and `DataLoader` from PyTorch. The dataloader allows us to efficiently iterate over batches of data during training.\n",
    "\n",
    "We initiate a loop that runs for a specified number of epochs. In each epoch, the autoencoder processes batches of training data through the network and updates its parameters to reduce the loss. The loss is calculated using the mean squared error (`MSELoss`) between the input data and the reconstructed output.\n",
    "\n",
    "The `optimizer` then applies gradient descent to adjust the neural network's weights and biases, moving in the direction that minimizes the loss. This process iterates over multiple epochs, gradually improving the autoencoder's ability to capture useful features and create a compressed representation of the data.\n",
    "\n",
    "At the end of each epoch, we print the loss to monitor the training progress and observe how it decreases over time. This cell establishes the core training loop, and the subsequent cells will focus on evaluating the trained autoencoder's performance and analyzing its results.\n"
   ]
  },
  {
   "cell_type": "code",
   "execution_count": 50,
   "id": "773262ad",
   "metadata": {},
   "outputs": [
    {
     "name": "stdout",
     "output_type": "stream",
     "text": [
      "Epoch [1/5], Loss: 109621.1641\n",
      "Epoch [2/5], Loss: 49789.3008\n",
      "Epoch [3/5], Loss: 15754.1221\n",
      "Epoch [4/5], Loss: 4542.7529\n",
      "Epoch [5/5], Loss: 708.6297\n",
      "Training Time: 43.37036156654358 seconds\n"
     ]
    }
   ],
   "source": [
    "# Create DataLoader for batching\n",
    "train_dataset = TensorDataset(X_train_tensor)\n",
    "train_dataloader = DataLoader(train_dataset, batch_size=batch_size, shuffle=True)\n",
    "\n",
    "\n",
    "# Start measuring training time\n",
    "start_time = time.time()\n",
    "\n",
    "# Training loop\n",
    "for epoch in range(num_epochs):\n",
    "    for batch in train_dataloader:\n",
    "        optimizer.zero_grad()\n",
    "        outputs = autoencoder(batch[0])\n",
    "        loss = criterion(outputs, batch[0])\n",
    "        loss.backward()\n",
    "        optimizer.step()\n",
    "    print(f\"Epoch [{epoch+1}/{num_epochs}], Loss: {loss.item():.4f}\")\n",
    "\n",
    "# End measuring training time\n",
    "end_time = time.time()\n",
    "\n",
    "# Storing and printing the time\n",
    "ae_training_time = end_time - start_time\n",
    "print(f\"Training Time: {ae_training_time} seconds\")\n",
    "training_times_dict[(variant.split('.')[0], \"AE\")] = {\"Training Time\":ae_training_time}"
   ]
  },
  {
   "cell_type": "markdown",
   "id": "0f9cd662",
   "metadata": {},
   "source": [
    "In this cell, we evaluate the performance of the trained autoencoder for anomaly detection on the test data. Anomaly detection involves identifying instances that significantly deviate from the norm in the dataset.\n",
    "\n",
    "We pass the scaled test data through the trained autoencoder's decoder to obtain reconstructed data. The difference between the original test data and the reconstructed data is used to calculate the reconstruction errors. These errors represent how well the autoencoder is able to recreate the input data.\n",
    "\n",
    "To calculate the reconstruction errors, we use the mean squared error (`MSELoss`) with the reduction set to `'none'`. This means that the reconstruction error is computed for each individual data point without aggregating."
   ]
  },
  {
   "cell_type": "code",
   "execution_count": 51,
   "id": "ead12a5f",
   "metadata": {},
   "outputs": [
    {
     "name": "stdout",
     "output_type": "stream",
     "text": [
      "Inference Time: 0.09120416641235352 seconds\n",
      "Model TPR: 0.0653, Model FPR: 0.0498, Model Threshold: 2304.104736328125, Model AUROC: 0.6174\n",
      "Fairness Ratio: 0.9207 \n",
      "\n"
     ]
    }
   ],
   "source": [
    "# Start measuring inference time\n",
    "start_time = time.time()\n",
    "\n",
    "# Pass the test data through the autoencoder\n",
    "with torch.no_grad():\n",
    "    reconstructed_data = autoencoder(X_test_tensor)\n",
    "\n",
    "# End measuring inference time\n",
    "end_time = time.time()\n",
    "\n",
    "# Storing and printing the time\n",
    "ae_inference_time = end_time - start_time\n",
    "print(f\"Inference Time: {ae_inference_time} seconds\")\n",
    "inference_times_dict[(variant.split('.')[0], \"AE\")] = {\"Inference Time\":ae_inference_time}\n",
    "\n",
    "# Calculate reconstruction errors\n",
    "reconstruction_errors = ((reconstructed_data - X_test_tensor)**2).mean(dim=1)\n",
    "\n",
    "# Calculate the TPR@5%FPR on the test set\n",
    "metrics_dict = calculate_tpr_at_fpr(y_test.values, reconstruction_errors.numpy(), fpr_lim=0.05)\n",
    "performance_results[(variant.split('.')[0], 'AE')] = metrics_dict\n",
    "print(f\"Model TPR: {metrics_dict['TPR']}, Model FPR: {metrics_dict['FPR']}, Model Threshold: {metrics_dict['Threshold']}, Model AUROC: {metrics_dict['AUROC']}\")\n",
    "\n",
    "# Calculate the fairness metrics on the test set\n",
    "fairness_ratio = calculate_fairness_metrics(y_test, reconstruction_errors.numpy(), X_test, fpr_lim=0.05)\n",
    "fairness_results[(variant.split('.')[0], 'AE')] = {\"Fairness Ratio\":fairness_ratio}\n",
    "print(f\"Fairness Ratio: {fairness_ratio}\", \"\\n\")"
   ]
  },
  {
   "cell_type": "markdown",
   "id": "0ce58ae6",
   "metadata": {},
   "source": [
    "## Isolation Forest\n",
    "\n",
    "The Isolation Forest (iForest) is an **established method** for **spotting anomalies** within datasets. It constructs a **forest of isolation trees** where data points are partitioned based on **random feature choices and values**. Anomalies are identified as points that require **fewer splits to become isolated**, assuming they are **distinct from the majority of data points**. This approach is **effective for simple anomalies** but **struggles when anomalies are complex, high-dimensional, or situated in non-linear data configurations**.\n",
    "\n",
    "In this cell, we utilize Scikit-learn's Isolation Forest algorithm for anomaly detection. The Isolation Forest algorithm excels in identifying anomalies by isolating them within a tree-based structure. The `IsolationForest` class is imported from the `ensemble` module.\n",
    "\n",
    "We set the `n_jobs` parameter to -1, which enables the algorithm to leverage all available CPU cores for parallel computations, potentially accelerating the training process. Additionally, we establish a specific random seed, denoted as `seed`, to ensure the reproducibility of results.\n",
    "\n",
    "The Isolation Forest is trained on the `X_train` dataset, containing the feature values of the training instances. Once trained, we compute anomaly scores for the test data using the `decision_function` method. These scores quantify the extent to which each test instance deviates from the norm, where higher scores indicate a higher probability of being an anomaly."
   ]
  },
  {
   "cell_type": "code",
   "execution_count": 52,
   "id": "c72f620d",
   "metadata": {},
   "outputs": [
    {
     "name": "stdout",
     "output_type": "stream",
     "text": [
      "Training Time: 16.452646255493164 seconds\n",
      "Inference Time: 13.158173322677612 seconds\n"
     ]
    }
   ],
   "source": [
    "from sklearn.ensemble import IsolationForest\n",
    "\n",
    "# Train Isolation Forest\n",
    "isolation_forest = IsolationForest(n_jobs=-1, random_state=seed)\n",
    "\n",
    "\n",
    "# Start measuring training time\n",
    "start_time = time.time()\n",
    "\n",
    "# Train\n",
    "isolation_forest.fit(X_train)\n",
    "\n",
    "# End measuring training time\n",
    "end_time = time.time()\n",
    "\n",
    "# Storing and printing the time\n",
    "if_training_time = end_time - start_time\n",
    "print(f\"Training Time: {if_training_time} seconds\")\n",
    "training_times_dict[(variant.split('.')[0], \"IF\")] = {\"Training Time\":if_training_time}\n",
    "\n",
    "\n",
    "# Start measuring inference time\n",
    "start_time = time.time()\n",
    "\n",
    "# Predict\n",
    "isolation_scores = isolation_forest.decision_function(X_test)\n",
    "\n",
    "# End measuring inference time\n",
    "end_time = time.time()\n",
    "\n",
    "# Storing and printing the time\n",
    "if_inference_time = end_time - start_time\n",
    "print(f\"Inference Time: {if_inference_time} seconds\")\n",
    "inference_times_dict[(variant.split('.')[0], \"IF\")] = {\"Inference Time\":if_inference_time}"
   ]
  },
  {
   "cell_type": "markdown",
   "id": "8bde13fc",
   "metadata": {},
   "source": [
    "This cell assesses the performance of the trained Isolation Forest model for anomaly detection. The objective is to gauge its capacity to accurately detect anomalies while managing false positives.\n",
    "\n",
    "In Isolation Forest, the anomaly scores provided by the decision_function method are calculated as the average path length of an instance in the isolation tree forest. An instance with a shorter average path length is considered more anomalous. However, in terms of interpreting the scores, lower values are more indicative of anomalies. Anomalies are expected to have fewer average path lengths due to their isolated nature.\n",
    "\n",
    "By negating the scores, you effectively transform the interpretation so that higher negated scores represent higher anomaly likelihood. This aligns better with the common understanding that higher scores indicate higher degrees of anomalous behavior."
   ]
  },
  {
   "cell_type": "code",
   "execution_count": 53,
   "id": "8c96e285",
   "metadata": {},
   "outputs": [
    {
     "name": "stdout",
     "output_type": "stream",
     "text": [
      "Model TPR: 0.0806, Model FPR: 0.0499, Model Threshold: 0.0155, Model AUROC: 0.5816\n",
      "Fairness Ratio: 0.8606 \n",
      "\n"
     ]
    }
   ],
   "source": [
    "# Calculate TPR@5%FPR for Isolation Forest\n",
    "metrics_dict = calculate_tpr_at_fpr(y_test.values, -isolation_scores, fpr_lim=0.05)\n",
    "performance_results[(variant.split('.')[0], 'IF')] = metrics_dict\n",
    "print(f\"Model TPR: {metrics_dict['TPR']}, Model FPR: {metrics_dict['FPR']}, Model Threshold: {metrics_dict['Threshold']}, Model AUROC: {metrics_dict['AUROC']}\")\n",
    "\n",
    "# Calculate fairness metrics for Isolation Forest\n",
    "fairness_ratio = calculate_fairness_metrics(y_test.values, -isolation_scores, X_test, fpr_lim=0.05)\n",
    "fairness_results[(variant.split('.')[0], 'IF')] = {\"Fairness Ratio\":fairness_ratio}\n",
    "print(f\"Fairness Ratio: {fairness_ratio}\", \"\\n\")"
   ]
  },
  {
   "cell_type": "markdown",
   "id": "df967e0e",
   "metadata": {},
   "source": [
    "## DeepOD: Deep Learning-Based Anomaly Detection Framework\n",
    "\n",
    "DeepOD is an open-source Python framework designed for deep learning-based anomaly detection. It offers a unified implementation of various detection models based on PyTorch.\n",
    "\n",
    "DeepOD currently encompasses 13 deep anomaly detection algorithms in the unsupervised and weakly-supervised paradigms. The framework provides a platform for easy experimentation with these models, and additional baseline algorithms will be incorporated in the future.\n",
    "\n",
    "**Detection Models:**\n",
    "\n",
    "The following detection models are included in DeepOD:\n",
    "\n",
    "| Model       | Venue | Year | Type            | Title\n",
    "|-------------|-------|------|-----------------|----------------------------------------------------\n",
    "| Deep SVDD   | ICML  | 2018 | Unsupervised    | Deep One-Class Classification\n",
    "| REPEN       | KDD   | 2018 | Unsupervised    | Learning Representations of Ultrahigh-dimensional Data for Random Distance-based Outlier Detection\n",
    "| RDP         | IJCAI | 2020 | Unsupervised    | Unsupervised Representation Learning by Predicting Random Distances\n",
    "| RCA         | IJCAI | 2021 | Unsupervised    | RCA: A Deep Collaborative Autoencoder Approach for Anomaly Detection\n",
    "| GOAD        | ICLR  | 2020 | Unsupervised    | Classification-Based Anomaly Detection for General Data\n",
    "| NeuTraL     | ICML  | 2021 | Unsupervised    | Neural Transformation Learning for Deep Anomaly Detection Beyond Images\n",
    "| ICL         | ICLR  | 2022 | Unsupervised    | Anomaly Detection for Tabular Data with Internal Contrastive Learning\n",
    "| DIF         | TKDE  | 2023 | Unsupervised    | Deep Isolation Forest for Anomaly Detection\n",
    "| SLAD        | ICML  | 2023 | Unsupervised    | Fascinating Supervisory Signals and Where to Find Them: Deep Anomaly Detection with Scale Learning\n",
    "| DevNet      | KDD   | 2019 | Weakly-Supervised | Deep Anomaly Detection with Deviation Networks\n",
    "| PReNet      | KDD   | 2023 | Weakly-Supervised | Deep Weakly-supervised Anomaly Detection\n",
    "| Deep SAD    | ICLR  | 2020 | Weakly-Supervised | Deep Semi-Supervised Anomaly Detection\n",
    "| FeaWAD      | TNNLS | 2021 | Weakly-Supervised | Feature Encoding with AutoEncoders for Weakly-supervised Anomaly Detection\n",
    "\n",
    "**Usage Examples:**\n",
    "\n",
    "DeepOD is user-friendly and can be employed with only a few lines of code. The API style is similar to sklearn and [PyOD](https://github.com/yzhao062/pyod).\n",
    "\n",
    "```python\n",
    "# Unsupservised methods\n",
    "from deepod.models.dsvdd import DeepSVDD\n",
    "clf = DeepSVDD()\n",
    "clf.fit(X_train, y=None)\n",
    "scores = clf.decision_function(X_test)\n",
    "\n",
    "# Weakly-supervised methods\n",
    "from deepod.models.devnet import DevNet\n",
    "clf = DevNet()\n",
    "clf.fit(X_train, y=semi_y)  # semi_y uses 1 for known anomalies and 0 for unlabeled data\n",
    "scores = clf.decision_function(X_test)\n"
   ]
  },
  {
   "cell_type": "markdown",
   "id": "58a0ffb4",
   "metadata": {},
   "source": [
    "## ICL: Anomaly Detection for Tabular Data with Internal Contrastive Learning"
   ]
  },
  {
   "cell_type": "markdown",
   "id": "c2aef1a3",
   "metadata": {},
   "source": [
    "The **ICL method** focuses on **out-of-class sample detection** in **tabular data**, where the data structure is largely unknown. It aims to **capture the structure** of single training class samples by learning mappings that **maximize the mutual information** between each sample and the **masked-out portion**. This is accomplished through a **contrastive loss**, learning mappings individually for each sample. The score for a test sample is determined by measuring the **contrastive loss of the learned mappings applied to the masked parts** of the sample. ICL **outperforms existing methods** with a substantial accuracy advantage across benchmarks.\n",
    "\n",
    "\n",
    "**Contrastive learning**, rooted in metric learning and unsupervised representation learning, maximizes similarity between queries and positive samples while minimizing it with negative samples. Existing methods, often using image transformations, **don't apply to tabular data** due to the absence of invariant transformation groups. Qiu et al.'s NeuTraL AD work is a similar method for tabular data but **differs significantly**, utilizing specific masks and single feature extractors.\n",
    "\n",
    "\n",
    "ICL employs a training set of in-class samples and aims to design a **scoring function** that maps samples to low values if they belong to the same distribution and high values otherwise. Hyperparameters include **k for feature subset size, u for embedding size, and τ for loss temperature**. The method **constructs pairs from each sample and learns mappings to maximize mutual information**. Mutual information maximization is achieved through the **noise contrastive estimation framework**."
   ]
  },
  {
   "cell_type": "code",
   "execution_count": 54,
   "id": "d977a45b",
   "metadata": {},
   "outputs": [],
   "source": [
    "from deepod.models.icl import ICL"
   ]
  },
  {
   "cell_type": "code",
   "execution_count": 55,
   "id": "74afc862",
   "metadata": {},
   "outputs": [],
   "source": [
    "# unsupervised method\n",
    "clf = ICL(epochs=5)"
   ]
  },
  {
   "cell_type": "code",
   "execution_count": 56,
   "id": "4cf132b2",
   "metadata": {
    "scrolled": true
   },
   "outputs": [
    {
     "name": "stdout",
     "output_type": "stream",
     "text": [
      "Start Training...\n",
      "ensemble size: 2\n",
      "kernel size: 10\n",
      "ICLNet(\n",
      "  (enc_f_net): MLPnet(\n",
      "    (network): Sequential(\n",
      "      (0): LinearBlock(\n",
      "        (linear): Linear(in_features=40, out_features=100, bias=False)\n",
      "        (act_layer): Tanh()\n",
      "        (bn_layer): BatchNorm1d(41, eps=1e-05, momentum=0.1, affine=False, track_running_stats=True)\n",
      "      )\n",
      "      (1): LinearBlock(\n",
      "        (linear): Linear(in_features=100, out_features=50, bias=False)\n",
      "        (act_layer): LeakyReLU(negative_slope=0.01)\n",
      "        (bn_layer): BatchNorm1d(41, eps=1e-05, momentum=0.1, affine=False, track_running_stats=True)\n",
      "      )\n",
      "      (2): LinearBlock(\n",
      "        (linear): Linear(in_features=50, out_features=128, bias=False)\n",
      "        (act_layer): LeakyReLU(negative_slope=0.01)\n",
      "        (bn_layer): BatchNorm1d(41, eps=1e-05, momentum=0.1, affine=False, track_running_stats=True)\n",
      "      )\n",
      "    )\n",
      "  )\n",
      "  (enc_g_net): MLPnet(\n",
      "    (network): Sequential(\n",
      "      (0): LinearBlock(\n",
      "        (linear): Linear(in_features=10, out_features=50, bias=False)\n",
      "        (act_layer): LeakyReLU(negative_slope=0.01)\n",
      "        (bn_layer): BatchNorm1d(41, eps=1e-05, momentum=0.1, affine=False, track_running_stats=True)\n",
      "      )\n",
      "      (1): LinearBlock(\n",
      "        (linear): Linear(in_features=50, out_features=25, bias=False)\n",
      "        (act_layer): LeakyReLU(negative_slope=0.01)\n",
      "        (bn_layer): BatchNorm1d(41, eps=1e-05, momentum=0.1, affine=False, track_running_stats=True)\n",
      "      )\n",
      "      (2): LinearBlock(\n",
      "        (linear): Linear(in_features=25, out_features=128, bias=False)\n",
      "        (act_layer): LeakyReLU(negative_slope=0.01)\n",
      "        (bn_layer): BatchNorm1d(41, eps=1e-05, momentum=0.1, affine=False, track_running_stats=True)\n",
      "      )\n",
      "    )\n",
      "  )\n",
      ")\n",
      "epoch  1, training loss: 2.215789, time: 89.2s\n",
      "kernel size: 10\n",
      "ICLNet(\n",
      "  (enc_f_net): MLPnet(\n",
      "    (network): Sequential(\n",
      "      (0): LinearBlock(\n",
      "        (linear): Linear(in_features=40, out_features=100, bias=False)\n",
      "        (act_layer): Tanh()\n",
      "        (bn_layer): BatchNorm1d(41, eps=1e-05, momentum=0.1, affine=False, track_running_stats=True)\n",
      "      )\n",
      "      (1): LinearBlock(\n",
      "        (linear): Linear(in_features=100, out_features=50, bias=False)\n",
      "        (act_layer): LeakyReLU(negative_slope=0.01)\n",
      "        (bn_layer): BatchNorm1d(41, eps=1e-05, momentum=0.1, affine=False, track_running_stats=True)\n",
      "      )\n",
      "      (2): LinearBlock(\n",
      "        (linear): Linear(in_features=50, out_features=128, bias=False)\n",
      "        (act_layer): LeakyReLU(negative_slope=0.01)\n",
      "        (bn_layer): BatchNorm1d(41, eps=1e-05, momentum=0.1, affine=False, track_running_stats=True)\n",
      "      )\n",
      "    )\n",
      "  )\n",
      "  (enc_g_net): MLPnet(\n",
      "    (network): Sequential(\n",
      "      (0): LinearBlock(\n",
      "        (linear): Linear(in_features=10, out_features=50, bias=False)\n",
      "        (act_layer): LeakyReLU(negative_slope=0.01)\n",
      "        (bn_layer): BatchNorm1d(41, eps=1e-05, momentum=0.1, affine=False, track_running_stats=True)\n",
      "      )\n",
      "      (1): LinearBlock(\n",
      "        (linear): Linear(in_features=50, out_features=25, bias=False)\n",
      "        (act_layer): LeakyReLU(negative_slope=0.01)\n",
      "        (bn_layer): BatchNorm1d(41, eps=1e-05, momentum=0.1, affine=False, track_running_stats=True)\n",
      "      )\n",
      "      (2): LinearBlock(\n",
      "        (linear): Linear(in_features=25, out_features=128, bias=False)\n",
      "        (act_layer): LeakyReLU(negative_slope=0.01)\n",
      "        (bn_layer): BatchNorm1d(41, eps=1e-05, momentum=0.1, affine=False, track_running_stats=True)\n",
      "      )\n",
      "    )\n",
      "  )\n",
      ")\n",
      "epoch  1, training loss: 2.135577, time: 89.1s\n",
      "Start Inference on the training data...\n"
     ]
    },
    {
     "name": "stderr",
     "output_type": "stream",
     "text": [
      "testing: 100%|██████████| 12422/12422 [00:36<00:00, 342.80it/s]\n",
      "testing: 100%|██████████| 12422/12422 [00:35<00:00, 347.21it/s]\n"
     ]
    },
    {
     "name": "stdout",
     "output_type": "stream",
     "text": [
      "Training Time: 962.7594134807587 seconds\n"
     ]
    }
   ],
   "source": [
    "# Start measuring training time\n",
    "start_time = time.time()\n",
    "\n",
    "# Train ICL\n",
    "clf.fit(X_train.values, y=None)\n",
    "\n",
    "# End measuring training time\n",
    "end_time = time.time()\n",
    "\n",
    "# Storing and printing the time\n",
    "icl_training_time = end_time - start_time\n",
    "print(f\"Training Time: {icl_training_time} seconds\")"
   ]
  },
  {
   "cell_type": "code",
   "execution_count": 57,
   "id": "e305b153",
   "metadata": {},
   "outputs": [
    {
     "name": "stderr",
     "output_type": "stream",
     "text": [
      "testing: 100%|██████████| 3204/3204 [00:09<00:00, 348.39it/s]\n",
      "testing: 100%|██████████| 3204/3204 [00:09<00:00, 347.45it/s]\n"
     ]
    },
    {
     "name": "stdout",
     "output_type": "stream",
     "text": [
      "Inference Time: 18.99421787261963 seconds\n"
     ]
    }
   ],
   "source": [
    "# Start measuring inference time\n",
    "start_time = time.time()\n",
    "\n",
    "# Predict on the test set\n",
    "icl_scored_test = clf.decision_function(X_test.values)\n",
    "\n",
    "# End measuring inference time\n",
    "end_time = time.time()\n",
    "\n",
    "# Storing and printing the time\n",
    "icl_inference_time = end_time - start_time\n",
    "print(f\"Inference Time: {icl_inference_time} seconds\")"
   ]
  },
  {
   "cell_type": "markdown",
   "id": "d5544169",
   "metadata": {},
   "source": [
    "If you want to save the model, you can use:\n",
    "\n",
    "```python\n",
    "torch.save(clf.net.state_dict(), \"PATH_TO_SAVE_MODEL\")\n",
    "```"
   ]
  },
  {
   "cell_type": "code",
   "execution_count": 58,
   "id": "2c8bff50",
   "metadata": {},
   "outputs": [],
   "source": [
    "training_times_dict[(variant.split('.')[0], \"ICL\")] = {\"Training Time\":icl_training_time}\n",
    "inference_times_dict[(variant.split('.')[0], \"ICL\")] = {\"Inference Time\":icl_inference_time}"
   ]
  },
  {
   "cell_type": "code",
   "execution_count": 59,
   "id": "b02dbc2d",
   "metadata": {},
   "outputs": [
    {
     "name": "stdout",
     "output_type": "stream",
     "text": [
      "Model TPR: 0.0865, Model FPR: 0.0499, Model Threshold: 3.1268, Model AUROC: 0.6172\n"
     ]
    }
   ],
   "source": [
    "# Calculate the TPR@5%FPR on the test set\n",
    "metrics_dict = calculate_tpr_at_fpr(y_test, icl_scored_test, fpr_lim=0.05)\n",
    "performance_results[(variant.split('.')[0], 'ICL')] = metrics_dict\n",
    "print(f\"Model TPR: {metrics_dict['TPR']}, Model FPR: {metrics_dict['FPR']}, Model Threshold: {metrics_dict['Threshold']}, Model AUROC: {metrics_dict['AUROC']}\")"
   ]
  },
  {
   "cell_type": "code",
   "execution_count": 60,
   "id": "5352bc16",
   "metadata": {},
   "outputs": [
    {
     "name": "stdout",
     "output_type": "stream",
     "text": [
      "Fairness Ratio: 0.9998 \n",
      "\n"
     ]
    }
   ],
   "source": [
    "# Calculate the fairness metrics on the test set\n",
    "fairness_ratio = calculate_fairness_metrics(y_test, icl_scored_test, X_test, fpr_lim=0.05)\n",
    "fairness_results[(variant.split('.')[0], 'ICL')] = {\"Fairness Ratio\":fairness_ratio}\n",
    "print(f\"Fairness Ratio: {fairness_ratio}\", \"\\n\")"
   ]
  },
  {
   "cell_type": "code",
   "execution_count": 61,
   "id": "b2f4ad85",
   "metadata": {},
   "outputs": [],
   "source": [
    "import pickle\n",
    "\n",
    "performance_results_path = os.path.join(model_path, 'performance_results.pkl')\n",
    "fairness_results_results_path = os.path.join(model_path, 'fairness_results.pkl')\n",
    "training_times_dict_path = os.path.join(model_path, 'training_times_dict.pkl')\n",
    "inference_times_dict_path = os.path.join(model_path, 'inference_times_dict.pkl')\n",
    "\n",
    "with open(performance_results_path, 'wb') as file:\n",
    "    pickle.dump(performance_results, file)\n",
    "    \n",
    "with open(fairness_results_results_path, 'wb') as file:\n",
    "    pickle.dump(fairness_results, file)\n",
    "    \n",
    "with open(training_times_dict_path, 'wb') as file:\n",
    "    pickle.dump(training_times_dict, file)\n",
    "    \n",
    "with open(inference_times_dict_path, 'wb') as file:\n",
    "    pickle.dump(inference_times_dict, file)"
   ]
  },
  {
   "cell_type": "markdown",
   "id": "3cf3796e",
   "metadata": {},
   "source": [
    "# Results\n",
    "\n",
    "In the forthcoming section, we will present the results obtained from our comprehensive analysis. We will showcase the performance metrics of the evaluated models on the BAF dataset, delving into their effectiveness in detecting fraudulent online bank account opening applications. Moreover, we will explore the fairness metrics, ensuring unbiased decision-making in the context of different user groups. To assess the real-world applicability of the models, we will provide insights into their training and inference times, offering valuable insights into their efficiency and suitability for practical use."
   ]
  },
  {
   "cell_type": "markdown",
   "id": "2458ac75",
   "metadata": {},
   "source": [
    "## Table\n",
    "\n",
    "Below you can see all the result in one table:"
   ]
  },
  {
   "cell_type": "code",
   "execution_count": 62,
   "id": "08effeef",
   "metadata": {},
   "outputs": [],
   "source": [
    "# Create a DataFrame from all results\n",
    "df_performance_results = pd.DataFrame(performance_results).transpose()\n",
    "df_fairness_results = pd.DataFrame(fairness_results).transpose()\n",
    "df_training_times_dict = pd.DataFrame(training_times_dict).transpose()\n",
    "df_inference_times_dict = pd.DataFrame(inference_times_dict).transpose()"
   ]
  },
  {
   "cell_type": "code",
   "execution_count": 63,
   "id": "1c5ad1a8",
   "metadata": {},
   "outputs": [],
   "source": [
    "# concatenate all results together\n",
    "all_results = pd.concat([df_performance_results, df_fairness_results, df_training_times_dict, df_inference_times_dict], axis=1)"
   ]
  },
  {
   "cell_type": "code",
   "execution_count": 64,
   "id": "96344431",
   "metadata": {},
   "outputs": [
    {
     "data": {
      "text/html": [
       "<div>\n",
       "<style scoped>\n",
       "    .dataframe tbody tr th:only-of-type {\n",
       "        vertical-align: middle;\n",
       "    }\n",
       "\n",
       "    .dataframe tbody tr th {\n",
       "        vertical-align: top;\n",
       "    }\n",
       "\n",
       "    .dataframe thead th {\n",
       "        text-align: right;\n",
       "    }\n",
       "</style>\n",
       "<table border=\"1\" class=\"dataframe\">\n",
       "  <thead>\n",
       "    <tr style=\"text-align: right;\">\n",
       "      <th></th>\n",
       "      <th></th>\n",
       "      <th>TPR</th>\n",
       "      <th>FPR</th>\n",
       "      <th>Threshold</th>\n",
       "      <th>AUROC</th>\n",
       "      <th>Fairness Ratio</th>\n",
       "      <th>Training Time</th>\n",
       "      <th>Inference Time</th>\n",
       "    </tr>\n",
       "  </thead>\n",
       "  <tbody>\n",
       "    <tr>\n",
       "      <th rowspan=\"9\" valign=\"top\">Base</th>\n",
       "      <th>Logistic Regression</th>\n",
       "      <td>0.2057</td>\n",
       "      <td>0.0499</td>\n",
       "      <td>0.112500</td>\n",
       "      <td>0.6797</td>\n",
       "      <td>0.9136</td>\n",
       "      <td>195.225724</td>\n",
       "      <td>0.169543</td>\n",
       "    </tr>\n",
       "    <tr>\n",
       "      <th>Random Forest</th>\n",
       "      <td>0.4288</td>\n",
       "      <td>0.0415</td>\n",
       "      <td>0.090000</td>\n",
       "      <td>0.8398</td>\n",
       "      <td>0.9245</td>\n",
       "      <td>168.305425</td>\n",
       "      <td>2.213791</td>\n",
       "    </tr>\n",
       "    <tr>\n",
       "      <th>XGBoost</th>\n",
       "      <td>0.5049</td>\n",
       "      <td>0.0498</td>\n",
       "      <td>0.041100</td>\n",
       "      <td>0.8787</td>\n",
       "      <td>0.8989</td>\n",
       "      <td>169.008529</td>\n",
       "      <td>0.361178</td>\n",
       "    </tr>\n",
       "    <tr>\n",
       "      <th>CatBoost</th>\n",
       "      <td>0.5101</td>\n",
       "      <td>0.0499</td>\n",
       "      <td>0.037300</td>\n",
       "      <td>0.8836</td>\n",
       "      <td>0.8875</td>\n",
       "      <td>116.605641</td>\n",
       "      <td>0.211638</td>\n",
       "    </tr>\n",
       "    <tr>\n",
       "      <th>Light GBM</th>\n",
       "      <td>0.5302</td>\n",
       "      <td>0.0500</td>\n",
       "      <td>0.040400</td>\n",
       "      <td>0.8898</td>\n",
       "      <td>0.8887</td>\n",
       "      <td>8.637389</td>\n",
       "      <td>0.757580</td>\n",
       "    </tr>\n",
       "    <tr>\n",
       "      <th>TabNet</th>\n",
       "      <td>0.5069</td>\n",
       "      <td>0.0500</td>\n",
       "      <td>0.028200</td>\n",
       "      <td>0.8822</td>\n",
       "      <td>0.9076</td>\n",
       "      <td>793.527975</td>\n",
       "      <td>5.725928</td>\n",
       "    </tr>\n",
       "    <tr>\n",
       "      <th>AE</th>\n",
       "      <td>0.0653</td>\n",
       "      <td>0.0498</td>\n",
       "      <td>2304.104736</td>\n",
       "      <td>0.6174</td>\n",
       "      <td>0.9207</td>\n",
       "      <td>43.370362</td>\n",
       "      <td>0.091204</td>\n",
       "    </tr>\n",
       "    <tr>\n",
       "      <th>IF</th>\n",
       "      <td>0.0806</td>\n",
       "      <td>0.0499</td>\n",
       "      <td>0.015500</td>\n",
       "      <td>0.5816</td>\n",
       "      <td>0.8606</td>\n",
       "      <td>16.452646</td>\n",
       "      <td>13.158173</td>\n",
       "    </tr>\n",
       "    <tr>\n",
       "      <th>ICL</th>\n",
       "      <td>0.0865</td>\n",
       "      <td>0.0499</td>\n",
       "      <td>3.126800</td>\n",
       "      <td>0.6172</td>\n",
       "      <td>0.9998</td>\n",
       "      <td>962.759413</td>\n",
       "      <td>18.994218</td>\n",
       "    </tr>\n",
       "  </tbody>\n",
       "</table>\n",
       "</div>"
      ],
      "text/plain": [
       "                             TPR     FPR    Threshold   AUROC  Fairness Ratio  \\\n",
       "Base Logistic Regression  0.2057  0.0499     0.112500  0.6797          0.9136   \n",
       "     Random Forest        0.4288  0.0415     0.090000  0.8398          0.9245   \n",
       "     XGBoost              0.5049  0.0498     0.041100  0.8787          0.8989   \n",
       "     CatBoost             0.5101  0.0499     0.037300  0.8836          0.8875   \n",
       "     Light GBM            0.5302  0.0500     0.040400  0.8898          0.8887   \n",
       "     TabNet               0.5069  0.0500     0.028200  0.8822          0.9076   \n",
       "     AE                   0.0653  0.0498  2304.104736  0.6174          0.9207   \n",
       "     IF                   0.0806  0.0499     0.015500  0.5816          0.8606   \n",
       "     ICL                  0.0865  0.0499     3.126800  0.6172          0.9998   \n",
       "\n",
       "                          Training Time  Inference Time  \n",
       "Base Logistic Regression     195.225724        0.169543  \n",
       "     Random Forest           168.305425        2.213791  \n",
       "     XGBoost                 169.008529        0.361178  \n",
       "     CatBoost                116.605641        0.211638  \n",
       "     Light GBM                 8.637389        0.757580  \n",
       "     TabNet                  793.527975        5.725928  \n",
       "     AE                       43.370362        0.091204  \n",
       "     IF                       16.452646       13.158173  \n",
       "     ICL                     962.759413       18.994218  "
      ]
     },
     "execution_count": 64,
     "metadata": {},
     "output_type": "execute_result"
    }
   ],
   "source": [
    "all_results"
   ]
  },
  {
   "cell_type": "markdown",
   "id": "258e057a",
   "metadata": {},
   "source": [
    "## Plots\n",
    "\n",
    "The following is 4 plots demonstrating all results for all models:"
   ]
  },
  {
   "cell_type": "code",
   "execution_count": 65,
   "id": "27fdb0db",
   "metadata": {},
   "outputs": [],
   "source": [
    "# Extract TPR values\n",
    "lr_tpr = df_performance_results.loc[(variant.split('.')[0], 'Logistic Regression'), 'TPR']\n",
    "rf_tpr = df_performance_results.loc[(variant.split('.')[0], 'Random Forest'), 'TPR']\n",
    "xgb_tpr = df_performance_results.loc[(variant.split('.')[0], 'XGBoost'), 'TPR']\n",
    "cb_tpr = df_performance_results.loc[(variant.split('.')[0], 'CatBoost'), 'TPR']\n",
    "lgbm_tpr = df_performance_results.loc[(variant.split('.')[0], 'Light GBM'), 'TPR']\n",
    "tabnet_tpr = df_performance_results.loc[(variant.split('.')[0], 'TabNet'), 'TPR']\n",
    "ae_tpr = df_performance_results.loc[(variant.split('.')[0], 'AE'), 'TPR']\n",
    "if_tpr = df_performance_results.loc[(variant.split('.')[0], 'IF'), 'TPR']\n",
    "icl_tpr = df_performance_results.loc[(variant.split('.')[0], 'ICL'), 'TPR']\n",
    "tpr_values = [lr_tpr, rf_tpr, xgb_tpr, cb_tpr, lgbm_tpr, tabnet_tpr, ae_tpr, if_tpr, icl_tpr]"
   ]
  },
  {
   "cell_type": "code",
   "execution_count": 66,
   "id": "e3d13940",
   "metadata": {},
   "outputs": [],
   "source": [
    "# Extract Fairness Ratio values\n",
    "lr_fn = df_fairness_results.loc[(variant.split('.')[0], 'Logistic Regression'), 'Fairness Ratio']\n",
    "rf_fn = df_fairness_results.loc[(variant.split('.')[0], 'Random Forest'), 'Fairness Ratio']\n",
    "xgb_fn = df_fairness_results.loc[(variant.split('.')[0], 'XGBoost'), 'Fairness Ratio']\n",
    "cb_fn = df_fairness_results.loc[(variant.split('.')[0], 'CatBoost'), 'Fairness Ratio']\n",
    "lgbm_fn = df_fairness_results.loc[(variant.split('.')[0], 'Light GBM'), 'Fairness Ratio']\n",
    "tabnet_fn = df_fairness_results.loc[(variant.split('.')[0], 'TabNet'), 'Fairness Ratio']\n",
    "ae_fn = df_fairness_results.loc[(variant.split('.')[0], 'AE'), 'Fairness Ratio']\n",
    "if_fn = df_fairness_results.loc[(variant.split('.')[0], 'IF'), 'Fairness Ratio']\n",
    "icl_fn = df_fairness_results.loc[(variant.split('.')[0], 'ICL'), 'Fairness Ratio']\n",
    "fn_values = [lr_fn, rf_fn, xgb_fn, cb_fn, lgbm_fn, tabnet_fn, ae_fn, if_fn, icl_fn]"
   ]
  },
  {
   "cell_type": "code",
   "execution_count": 67,
   "id": "1a79ed11",
   "metadata": {},
   "outputs": [],
   "source": [
    "# Extract Training Time values\n",
    "lr_tnt = df_training_times_dict.loc[(variant.split('.')[0], 'Logistic Regression'), 'Training Time']\n",
    "rf_tnt = df_training_times_dict.loc[(variant.split('.')[0], 'Random Forest'), 'Training Time']\n",
    "xgb_tnt = df_training_times_dict.loc[(variant.split('.')[0], 'XGBoost'), 'Training Time']\n",
    "cb_tnt = df_training_times_dict.loc[(variant.split('.')[0], 'CatBoost'), 'Training Time']\n",
    "lgbm_tnt = df_training_times_dict.loc[(variant.split('.')[0], 'Light GBM'), 'Training Time']\n",
    "tabnet_tnt = df_training_times_dict.loc[(variant.split('.')[0], 'TabNet'), 'Training Time']\n",
    "ae_tnt = df_training_times_dict.loc[(variant.split('.')[0], 'AE'), 'Training Time']\n",
    "if_tnt = df_training_times_dict.loc[(variant.split('.')[0], 'IF'), 'Training Time']\n",
    "icl_tnt = df_training_times_dict.loc[(variant.split('.')[0], 'ICL'), 'Training Time']\n",
    "tnt_values = [lr_tnt, rf_tnt, xgb_tnt, cb_tnt, lgbm_tnt, tabnet_tnt, ae_tnt, if_tnt, icl_tnt]"
   ]
  },
  {
   "cell_type": "code",
   "execution_count": 68,
   "id": "29e6f720",
   "metadata": {},
   "outputs": [],
   "source": [
    "# Extract Inference Time values\n",
    "lr_inf = df_inference_times_dict.loc[(variant.split('.')[0], 'Logistic Regression'), 'Inference Time']\n",
    "rf_inf = df_inference_times_dict.loc[(variant.split('.')[0], 'Random Forest'), 'Inference Time']\n",
    "xgb_inf = df_inference_times_dict.loc[(variant.split('.')[0], 'XGBoost'), 'Inference Time']\n",
    "cb_inf = df_inference_times_dict.loc[(variant.split('.')[0], 'CatBoost'), 'Inference Time']\n",
    "lgbm_inf = df_inference_times_dict.loc[(variant.split('.')[0], 'Light GBM'), 'Inference Time']\n",
    "tabnet_inf = df_inference_times_dict.loc[(variant.split('.')[0], 'TabNet'), 'Inference Time']\n",
    "ae_inf = df_inference_times_dict.loc[(variant.split('.')[0], 'AE'), 'Inference Time']\n",
    "if_inf = df_inference_times_dict.loc[(variant.split('.')[0], 'IF'), 'Inference Time']\n",
    "icl_inf = df_inference_times_dict.loc[(variant.split('.')[0], 'ICL'), 'Inference Time']\n",
    "inf_values = [lr_inf, rf_inf, xgb_inf, cb_inf, lgbm_inf, tabnet_inf, ae_inf, if_inf, icl_inf]"
   ]
  },
  {
   "cell_type": "code",
   "execution_count": 69,
   "id": "9f69d9d2",
   "metadata": {},
   "outputs": [
    {
     "data": {
      "image/png": "[encoded data removed]",
      "text/plain": [
       "<Figure size 1200x1000 with 4 Axes>"
      ]
     },
     "metadata": {},
     "output_type": "display_data"
    }
   ],
   "source": [
    "# Create a 2x2 grid of subplots\n",
    "fig, axs = plt.subplots(2, 2, figsize=(12, 10))\n",
    "\n",
    "models = ['LR', 'RF', 'XGB', 'CB', 'LGBM', 'TabNet', 'AE', 'IF', 'ICL']\n",
    "\n",
    "# Plot TPR values\n",
    "axs[0, 0].bar(models, tpr_values)\n",
    "axs[0, 0].set_xlabel('Models')\n",
    "axs[0, 0].set_ylabel('TPR@5%FPR')\n",
    "axs[0, 0].set_title('Performance')\n",
    "\n",
    "# Plot Fairness Ratio values\n",
    "axs[0, 1].bar(models, fn_values)\n",
    "axs[0, 1].set_xlabel('Models')\n",
    "axs[0, 1].set_ylabel('Fairness Ratio')\n",
    "axs[0, 1].set_title('Fairness')\n",
    "\n",
    "# Plot Training Time values\n",
    "axs[1, 0].bar(models, tnt_values)\n",
    "axs[1, 0].set_xlabel('Models')\n",
    "axs[1, 0].set_ylabel('Training Time')\n",
    "axs[1, 0].set_title('Time')\n",
    "\n",
    "# Plot Inference Time values\n",
    "axs[1, 1].bar(models, inf_values)\n",
    "axs[1, 1].set_xlabel('Models')\n",
    "axs[1, 1].set_ylabel('Inference Time')\n",
    "axs[1, 1].set_title('Time')\n",
    "\n",
    "# Adjust layout\n",
    "plt.tight_layout()\n",
    "\n",
    "# Show the combined plot\n",
    "plt.show()"
   ]
  },
  {
   "cell_type": "code",
   "execution_count": 70,
   "id": "5d1ad3b6",
   "metadata": {},
   "outputs": [
    {
     "data": {
      "image/png": "[encoded data removed]",
      "text/plain": [
       "<Figure size 1000x600 with 1 Axes>"
      ]
     },
     "metadata": {},
     "output_type": "display_data"
    }
   ],
   "source": [
    "# Define the list of model names and their corresponding y_scores\n",
    "model_names = ['LR', 'RF', 'XGB', 'CB', 'LGBM', 'TabNet', 'AE', 'IF', 'ICL']\n",
    "y_scores_dict = {\n",
    "    'LR': lr_scored_test,\n",
    "    'RF': rf_scored_test,\n",
    "    'XGB': xgb_scored_test,\n",
    "    'CB': cb_scored_test,\n",
    "    'LGBM': lgbm_scored_test,\n",
    "    'TabNet': tabnet_scored_test,\n",
    "    'AE': reconstruction_errors.numpy(),\n",
    "    'IF': -isolation_scores,\n",
    "    'ICL': icl_scored_test,\n",
    "}\n",
    "\n",
    "# Generate FPR values from 5% to 40%\n",
    "fpr_values = np.logspace(np.log10(0.05), np.log10(0.4), num=100)\n",
    "\n",
    "# Initialize a dictionary to store interpolated TPR values for each model\n",
    "interpolated_tpr = {}\n",
    "\n",
    "# Calculate TPR values for each model at the desired FPR points\n",
    "for model_name in model_names:\n",
    "    scored_test = y_scores_dict[model_name]\n",
    "    tpr_list = [calculate_tpr_at_fpr(y_test, scored_test, fpr_lim=i)['TPR'] for i in fpr_values]\n",
    "    interpolated_tpr[model_name] = tpr_list\n",
    "\n",
    "# Plotting\n",
    "plt.figure(figsize=(10, 6))\n",
    "for model_name, model_tpr_interp in interpolated_tpr.items():\n",
    "    plt.plot(fpr_values, model_tpr_interp, label=model_name)\n",
    "\n",
    "plt.xscale('log')\n",
    "plt.xlabel('False Positive Rate (FPR)')\n",
    "plt.ylabel('True Positive Rate (TPR)')\n",
    "plt.title('TPR vs. FPR for Different Models')\n",
    "plt.legend()\n",
    "plt.grid(True)\n",
    "plt.show()"
   ]
  },
  {
   "cell_type": "markdown",
   "id": "0fa77ba0",
   "metadata": {},
   "source": [
    "# Hyperparameter Tuning\n",
    "\n",
    "Hyperparameter tuning is the process of finding the best set of hyperparameters for a machine learning model to achieve optimal performance. Hyperparameters are configuration settings for a model that cannot be learned directly from the data and need to be set before training the model. They control various aspects of the learning process and can significantly impact the model's performance.\n",
    "\n",
    "The provided code performs hyperparameter tuning for LightGBM on BAF dataset using the GridSearchCV method from scikit-learn. \n",
    "\n",
    "The code defines a custom metric function 'TPR_at_05FPR', which calculates the True Positive Rate (TPR) when the False Positive Rate (FPR) is at 5%. This custom metric will be used during the hyperparameter tuning process to optimize for TPR@5%FPR.\n",
    "\n",
    "Hyperparameter grids for each model are defined in the 'param_grids' dictionary. Each model has different hyperparameters, and their possible values are specified in the dictionary. The hyperparameter tuning is performed within a loop that iterates over each model in the 'models' dictionary. For each model, GridSearchCV is used to find the best combination of hyperparameters from the corresponding 'param_grids' using the custom metric 'TPR_at_05FPR' as the scoring metric. The hyperparameter tuning is performed using 5-fold cross-validation.\n",
    "\n",
    "After finding the best hyperparameters, the code trains the model on the training data using these optimized hyperparameters. Then, it predicts the target variable on the test data and evaluates the model's performance, which computes various metrics."
   ]
  },
  {
   "cell_type": "code",
   "execution_count": 71,
   "id": "22f56afc",
   "metadata": {
    "scrolled": true
   },
   "outputs": [
    {
     "name": "stdout",
     "output_type": "stream",
     "text": [
      "Hyperparameter tuning for LightGBM on Base...\n",
      "[LightGBM] [Warning] min_data_in_leaf is set=10, min_child_samples=20 will be ignored. Current value: min_data_in_leaf=10\n",
      "[LightGBM] [Warning] min_data_in_leaf is set=10, min_child_samples=20 will be ignored. Current value: min_data_in_leaf=10\n",
      "[LightGBM] [Warning] min_data_in_leaf is set=10, min_child_samples=20 will be ignored. Current value: min_data_in_leaf=10\n",
      "[LightGBM] [Warning] min_data_in_leaf is set=10, min_child_samples=20 will be ignored. Current value: min_data_in_leaf=10\n",
      "[LightGBM] [Warning] min_data_in_leaf is set=10, min_child_samples=20 will be ignored. Current value: min_data_in_leaf=10\n",
      "[LightGBM] [Warning] min_data_in_leaf is set=10, min_child_samples=20 will be ignored. Current value: min_data_in_leaf=10\n",
      "[LightGBM] [Warning] min_data_in_leaf is set=10, min_child_samples=20 will be ignored. Current value: min_data_in_leaf=10\n",
      "[LightGBM] [Warning] min_data_in_leaf is set=10, min_child_samples=20 will be ignored. Current value: min_data_in_leaf=10\n",
      "[LightGBM] [Warning] min_data_in_leaf is set=10, min_child_samples=20 will be ignored. Current value: min_data_in_leaf=10\n",
      "[LightGBM] [Warning] min_data_in_leaf is set=10, min_child_samples=20 will be ignored. Current value: min_data_in_leaf=10\n",
      "[LightGBM] [Warning] min_data_in_leaf is set=10, min_child_samples=20 will be ignored. Current value: min_data_in_leaf=10\n",
      "[LightGBM] [Warning] min_data_in_leaf is set=10, min_child_samples=20 will be ignored. Current value: min_data_in_leaf=10\n",
      "[LightGBM] [Warning] min_data_in_leaf is set=10, min_child_samples=20 will be ignored. Current value: min_data_in_leaf=10\n",
      "[LightGBM] [Warning] min_data_in_leaf is set=10, min_child_samples=20 will be ignored. Current value: min_data_in_leaf=10\n",
      "[LightGBM] [Warning] min_data_in_leaf is set=10, min_child_samples=20 will be ignored. Current value: min_data_in_leaf=10\n",
      "[LightGBM] [Warning] min_data_in_leaf is set=10, min_child_samples=20 will be ignored. Current value: min_data_in_leaf=10\n",
      "[LightGBM] [Warning] min_data_in_leaf is set=10, min_child_samples=20 will be ignored. Current value: min_data_in_leaf=10\n",
      "[LightGBM] [Warning] min_data_in_leaf is set=10, min_child_samples=20 will be ignored. Current value: min_data_in_leaf=10\n",
      "[LightGBM] [Warning] min_data_in_leaf is set=10, min_child_samples=20 will be ignored. Current value: min_data_in_leaf=10\n",
      "[LightGBM] [Warning] min_data_in_leaf is set=10, min_child_samples=20 will be ignored. Current value: min_data_in_leaf=10\n",
      "[LightGBM] [Warning] min_data_in_leaf is set=10, min_child_samples=20 will be ignored. Current value: min_data_in_leaf=10\n",
      "[LightGBM] [Warning] min_data_in_leaf is set=10, min_child_samples=20 will be ignored. Current value: min_data_in_leaf=10\n",
      "[LightGBM] [Warning] min_data_in_leaf is set=10, min_child_samples=20 will be ignored. Current value: min_data_in_leaf=10\n",
      "[LightGBM] [Warning] min_data_in_leaf is set=10, min_child_samples=20 will be ignored. Current value: min_data_in_leaf=10\n",
      "[LightGBM] [Warning] min_data_in_leaf is set=10, min_child_samples=20 will be ignored. Current value: min_data_in_leaf=10\n",
      "[LightGBM] [Warning] min_data_in_leaf is set=10, min_child_samples=20 will be ignored. Current value: min_data_in_leaf=10\n",
      "[LightGBM] [Warning] min_data_in_leaf is set=10, min_child_samples=20 will be ignored. Current value: min_data_in_leaf=10\n",
      "[LightGBM] [Warning] min_data_in_leaf is set=10, min_child_samples=20 will be ignored. Current value: min_data_in_leaf=10\n",
      "[LightGBM] [Warning] min_data_in_leaf is set=10, min_child_samples=20 will be ignored. Current value: min_data_in_leaf=10\n",
      "[LightGBM] [Warning] min_data_in_leaf is set=10, min_child_samples=20 will be ignored. Current value: min_data_in_leaf=10\n",
      "[LightGBM] [Warning] min_data_in_leaf is set=10, min_child_samples=20 will be ignored. Current value: min_data_in_leaf=10\n",
      "[LightGBM] [Warning] min_data_in_leaf is set=10, min_child_samples=20 will be ignored. Current value: min_data_in_leaf=10\n",
      "[LightGBM] [Warning] min_data_in_leaf is set=10, min_child_samples=20 will be ignored. Current value: min_data_in_leaf=10\n",
      "[LightGBM] [Warning] min_data_in_leaf is set=10, min_child_samples=20 will be ignored. Current value: min_data_in_leaf=10\n",
      "[LightGBM] [Warning] min_data_in_leaf is set=10, min_child_samples=20 will be ignored. Current value: min_data_in_leaf=10\n",
      "[LightGBM] [Warning] min_data_in_leaf is set=10, min_child_samples=20 will be ignored. Current value: min_data_in_leaf=10\n",
      "[LightGBM] [Warning] min_data_in_leaf is set=10, min_child_samples=20 will be ignored. Current value: min_data_in_leaf=10\n",
      "[LightGBM] [Warning] min_data_in_leaf is set=10, min_child_samples=20 will be ignored. Current value: min_data_in_leaf=10\n",
      "[LightGBM] [Warning] min_data_in_leaf is set=10, min_child_samples=20 will be ignored. Current value: min_data_in_leaf=10\n",
      "[LightGBM] [Warning] min_data_in_leaf is set=10, min_child_samples=20 will be ignored. Current value: min_data_in_leaf=10\n",
      "[LightGBM] [Warning] min_data_in_leaf is set=10, min_child_samples=20 will be ignored. Current value: min_data_in_leaf=10\n",
      "[LightGBM] [Warning] min_data_in_leaf is set=10, min_child_samples=20 will be ignored. Current value: min_data_in_leaf=10\n",
      "[LightGBM] [Warning] min_data_in_leaf is set=10, min_child_samples=20 will be ignored. Current value: min_data_in_leaf=10\n",
      "[LightGBM] [Warning] min_data_in_leaf is set=10, min_child_samples=20 will be ignored. Current value: min_data_in_leaf=10\n",
      "[LightGBM] [Warning] min_data_in_leaf is set=10, min_child_samples=20 will be ignored. Current value: min_data_in_leaf=10\n",
      "[LightGBM] [Warning] min_data_in_leaf is set=25, min_child_samples=20 will be ignored. Current value: min_data_in_leaf=25\n",
      "[LightGBM] [Warning] min_data_in_leaf is set=25, min_child_samples=20 will be ignored. Current value: min_data_in_leaf=25\n",
      "[LightGBM] [Warning] min_data_in_leaf is set=25, min_child_samples=20 will be ignored. Current value: min_data_in_leaf=25\n",
      "[LightGBM] [Warning] min_data_in_leaf is set=25, min_child_samples=20 will be ignored. Current value: min_data_in_leaf=25\n",
      "[LightGBM] [Warning] min_data_in_leaf is set=25, min_child_samples=20 will be ignored. Current value: min_data_in_leaf=25\n",
      "[LightGBM] [Warning] min_data_in_leaf is set=25, min_child_samples=20 will be ignored. Current value: min_data_in_leaf=25\n",
      "[LightGBM] [Warning] min_data_in_leaf is set=25, min_child_samples=20 will be ignored. Current value: min_data_in_leaf=25\n",
      "[LightGBM] [Warning] min_data_in_leaf is set=25, min_child_samples=20 will be ignored. Current value: min_data_in_leaf=25\n",
      "[LightGBM] [Warning] min_data_in_leaf is set=25, min_child_samples=20 will be ignored. Current value: min_data_in_leaf=25\n",
      "[LightGBM] [Warning] min_data_in_leaf is set=25, min_child_samples=20 will be ignored. Current value: min_data_in_leaf=25\n",
      "[LightGBM] [Warning] min_data_in_leaf is set=25, min_child_samples=20 will be ignored. Current value: min_data_in_leaf=25\n",
      "[LightGBM] [Warning] min_data_in_leaf is set=25, min_child_samples=20 will be ignored. Current value: min_data_in_leaf=25\n",
      "[LightGBM] [Warning] min_data_in_leaf is set=25, min_child_samples=20 will be ignored. Current value: min_data_in_leaf=25\n",
      "[LightGBM] [Warning] min_data_in_leaf is set=25, min_child_samples=20 will be ignored. Current value: min_data_in_leaf=25\n",
      "[LightGBM] [Warning] min_data_in_leaf is set=25, min_child_samples=20 will be ignored. Current value: min_data_in_leaf=25\n",
      "[LightGBM] [Warning] min_data_in_leaf is set=25, min_child_samples=20 will be ignored. Current value: min_data_in_leaf=25\n",
      "[LightGBM] [Warning] min_data_in_leaf is set=25, min_child_samples=20 will be ignored. Current value: min_data_in_leaf=25\n",
      "[LightGBM] [Warning] min_data_in_leaf is set=25, min_child_samples=20 will be ignored. Current value: min_data_in_leaf=25\n",
      "[LightGBM] [Warning] min_data_in_leaf is set=25, min_child_samples=20 will be ignored. Current value: min_data_in_leaf=25\n",
      "[LightGBM] [Warning] min_data_in_leaf is set=25, min_child_samples=20 will be ignored. Current value: min_data_in_leaf=25\n",
      "[LightGBM] [Warning] min_data_in_leaf is set=25, min_child_samples=20 will be ignored. Current value: min_data_in_leaf=25\n",
      "[LightGBM] [Warning] min_data_in_leaf is set=25, min_child_samples=20 will be ignored. Current value: min_data_in_leaf=25\n"
     ]
    },
    {
     "name": "stdout",
     "output_type": "stream",
     "text": [
      "[LightGBM] [Warning] min_data_in_leaf is set=25, min_child_samples=20 will be ignored. Current value: min_data_in_leaf=25\n",
      "[LightGBM] [Warning] min_data_in_leaf is set=25, min_child_samples=20 will be ignored. Current value: min_data_in_leaf=25\n",
      "[LightGBM] [Warning] min_data_in_leaf is set=25, min_child_samples=20 will be ignored. Current value: min_data_in_leaf=25\n",
      "[LightGBM] [Warning] min_data_in_leaf is set=25, min_child_samples=20 will be ignored. Current value: min_data_in_leaf=25\n",
      "[LightGBM] [Warning] min_data_in_leaf is set=25, min_child_samples=20 will be ignored. Current value: min_data_in_leaf=25\n",
      "[LightGBM] [Warning] min_data_in_leaf is set=25, min_child_samples=20 will be ignored. Current value: min_data_in_leaf=25\n",
      "[LightGBM] [Warning] min_data_in_leaf is set=25, min_child_samples=20 will be ignored. Current value: min_data_in_leaf=25\n",
      "[LightGBM] [Warning] min_data_in_leaf is set=25, min_child_samples=20 will be ignored. Current value: min_data_in_leaf=25\n",
      "[LightGBM] [Warning] min_data_in_leaf is set=25, min_child_samples=20 will be ignored. Current value: min_data_in_leaf=25\n",
      "[LightGBM] [Warning] min_data_in_leaf is set=25, min_child_samples=20 will be ignored. Current value: min_data_in_leaf=25\n",
      "[LightGBM] [Warning] min_data_in_leaf is set=25, min_child_samples=20 will be ignored. Current value: min_data_in_leaf=25\n",
      "[LightGBM] [Warning] min_data_in_leaf is set=25, min_child_samples=20 will be ignored. Current value: min_data_in_leaf=25\n",
      "[LightGBM] [Warning] min_data_in_leaf is set=25, min_child_samples=20 will be ignored. Current value: min_data_in_leaf=25\n",
      "[LightGBM] [Warning] min_data_in_leaf is set=25, min_child_samples=20 will be ignored. Current value: min_data_in_leaf=25\n",
      "[LightGBM] [Warning] min_data_in_leaf is set=25, min_child_samples=20 will be ignored. Current value: min_data_in_leaf=25\n",
      "[LightGBM] [Warning] min_data_in_leaf is set=25, min_child_samples=20 will be ignored. Current value: min_data_in_leaf=25\n",
      "[LightGBM] [Warning] min_data_in_leaf is set=25, min_child_samples=20 will be ignored. Current value: min_data_in_leaf=25\n",
      "[LightGBM] [Warning] min_data_in_leaf is set=25, min_child_samples=20 will be ignored. Current value: min_data_in_leaf=25\n",
      "[LightGBM] [Warning] min_data_in_leaf is set=25, min_child_samples=20 will be ignored. Current value: min_data_in_leaf=25\n",
      "[LightGBM] [Warning] min_data_in_leaf is set=25, min_child_samples=20 will be ignored. Current value: min_data_in_leaf=25\n",
      "[LightGBM] [Warning] min_data_in_leaf is set=25, min_child_samples=20 will be ignored. Current value: min_data_in_leaf=25\n",
      "[LightGBM] [Warning] min_data_in_leaf is set=25, min_child_samples=20 will be ignored. Current value: min_data_in_leaf=25\n",
      "[LightGBM] [Warning] min_data_in_leaf is set=25, min_child_samples=20 will be ignored. Current value: min_data_in_leaf=25\n",
      "[LightGBM] [Warning] min_data_in_leaf is set=50, min_child_samples=20 will be ignored. Current value: min_data_in_leaf=50\n",
      "[LightGBM] [Warning] min_data_in_leaf is set=50, min_child_samples=20 will be ignored. Current value: min_data_in_leaf=50\n",
      "[LightGBM] [Warning] min_data_in_leaf is set=50, min_child_samples=20 will be ignored. Current value: min_data_in_leaf=50\n",
      "[LightGBM] [Warning] min_data_in_leaf is set=50, min_child_samples=20 will be ignored. Current value: min_data_in_leaf=50\n",
      "[LightGBM] [Warning] min_data_in_leaf is set=50, min_child_samples=20 will be ignored. Current value: min_data_in_leaf=50\n",
      "[LightGBM] [Warning] min_data_in_leaf is set=50, min_child_samples=20 will be ignored. Current value: min_data_in_leaf=50\n",
      "[LightGBM] [Warning] min_data_in_leaf is set=50, min_child_samples=20 will be ignored. Current value: min_data_in_leaf=50\n",
      "[LightGBM] [Warning] min_data_in_leaf is set=50, min_child_samples=20 will be ignored. Current value: min_data_in_leaf=50\n",
      "[LightGBM] [Warning] min_data_in_leaf is set=50, min_child_samples=20 will be ignored. Current value: min_data_in_leaf=50\n",
      "[LightGBM] [Warning] min_data_in_leaf is set=50, min_child_samples=20 will be ignored. Current value: min_data_in_leaf=50\n",
      "[LightGBM] [Warning] min_data_in_leaf is set=50, min_child_samples=20 will be ignored. Current value: min_data_in_leaf=50\n",
      "[LightGBM] [Warning] min_data_in_leaf is set=50, min_child_samples=20 will be ignored. Current value: min_data_in_leaf=50\n",
      "[LightGBM] [Warning] min_data_in_leaf is set=50, min_child_samples=20 will be ignored. Current value: min_data_in_leaf=50\n",
      "[LightGBM] [Warning] min_data_in_leaf is set=50, min_child_samples=20 will be ignored. Current value: min_data_in_leaf=50\n",
      "[LightGBM] [Warning] min_data_in_leaf is set=50, min_child_samples=20 will be ignored. Current value: min_data_in_leaf=50\n",
      "[LightGBM] [Warning] min_data_in_leaf is set=50, min_child_samples=20 will be ignored. Current value: min_data_in_leaf=50\n",
      "[LightGBM] [Warning] min_data_in_leaf is set=50, min_child_samples=20 will be ignored. Current value: min_data_in_leaf=50\n",
      "[LightGBM] [Warning] min_data_in_leaf is set=50, min_child_samples=20 will be ignored. Current value: min_data_in_leaf=50\n",
      "[LightGBM] [Warning] min_data_in_leaf is set=50, min_child_samples=20 will be ignored. Current value: min_data_in_leaf=50\n",
      "[LightGBM] [Warning] min_data_in_leaf is set=50, min_child_samples=20 will be ignored. Current value: min_data_in_leaf=50\n",
      "[LightGBM] [Warning] min_data_in_leaf is set=50, min_child_samples=20 will be ignored. Current value: min_data_in_leaf=50\n",
      "[LightGBM] [Warning] min_data_in_leaf is set=50, min_child_samples=20 will be ignored. Current value: min_data_in_leaf=50\n",
      "[LightGBM] [Warning] min_data_in_leaf is set=50, min_child_samples=20 will be ignored. Current value: min_data_in_leaf=50\n",
      "[LightGBM] [Warning] min_data_in_leaf is set=50, min_child_samples=20 will be ignored. Current value: min_data_in_leaf=50\n",
      "[LightGBM] [Warning] min_data_in_leaf is set=50, min_child_samples=20 will be ignored. Current value: min_data_in_leaf=50\n",
      "[LightGBM] [Warning] min_data_in_leaf is set=50, min_child_samples=20 will be ignored. Current value: min_data_in_leaf=50\n",
      "[LightGBM] [Warning] min_data_in_leaf is set=50, min_child_samples=20 will be ignored. Current value: min_data_in_leaf=50\n",
      "[LightGBM] [Warning] min_data_in_leaf is set=50, min_child_samples=20 will be ignored. Current value: min_data_in_leaf=50\n",
      "[LightGBM] [Warning] min_data_in_leaf is set=50, min_child_samples=20 will be ignored. Current value: min_data_in_leaf=50\n",
      "[LightGBM] [Warning] min_data_in_leaf is set=50, min_child_samples=20 will be ignored. Current value: min_data_in_leaf=50\n",
      "[LightGBM] [Warning] min_data_in_leaf is set=50, min_child_samples=20 will be ignored. Current value: min_data_in_leaf=50\n",
      "[LightGBM] [Warning] min_data_in_leaf is set=50, min_child_samples=20 will be ignored. Current value: min_data_in_leaf=50\n",
      "[LightGBM] [Warning] min_data_in_leaf is set=50, min_child_samples=20 will be ignored. Current value: min_data_in_leaf=50\n",
      "[LightGBM] [Warning] min_data_in_leaf is set=50, min_child_samples=20 will be ignored. Current value: min_data_in_leaf=50\n",
      "[LightGBM] [Warning] min_data_in_leaf is set=50, min_child_samples=20 will be ignored. Current value: min_data_in_leaf=50\n",
      "[LightGBM] [Warning] min_data_in_leaf is set=50, min_child_samples=20 will be ignored. Current value: min_data_in_leaf=50\n",
      "[LightGBM] [Warning] min_data_in_leaf is set=50, min_child_samples=20 will be ignored. Current value: min_data_in_leaf=50\n",
      "[LightGBM] [Warning] min_data_in_leaf is set=50, min_child_samples=20 will be ignored. Current value: min_data_in_leaf=50\n",
      "[LightGBM] [Warning] min_data_in_leaf is set=50, min_child_samples=20 will be ignored. Current value: min_data_in_leaf=50\n",
      "[LightGBM] [Warning] min_data_in_leaf is set=50, min_child_samples=20 will be ignored. Current value: min_data_in_leaf=50\n",
      "[LightGBM] [Warning] min_data_in_leaf is set=50, min_child_samples=20 will be ignored. Current value: min_data_in_leaf=50\n",
      "[LightGBM] [Warning] min_data_in_leaf is set=50, min_child_samples=20 will be ignored. Current value: min_data_in_leaf=50\n",
      "[LightGBM] [Warning] min_data_in_leaf is set=50, min_child_samples=20 will be ignored. Current value: min_data_in_leaf=50\n",
      "[LightGBM] [Warning] min_data_in_leaf is set=50, min_child_samples=20 will be ignored. Current value: min_data_in_leaf=50\n",
      "[LightGBM] [Warning] min_data_in_leaf is set=50, min_child_samples=20 will be ignored. Current value: min_data_in_leaf=50\n"
     ]
    },
    {
     "name": "stdout",
     "output_type": "stream",
     "text": [
      "[LightGBM] [Warning] min_data_in_leaf is set=10, min_child_samples=20 will be ignored. Current value: min_data_in_leaf=10\n",
      "[LightGBM] [Warning] min_data_in_leaf is set=10, min_child_samples=20 will be ignored. Current value: min_data_in_leaf=10\n",
      "[LightGBM] [Warning] min_data_in_leaf is set=10, min_child_samples=20 will be ignored. Current value: min_data_in_leaf=10\n",
      "[LightGBM] [Warning] min_data_in_leaf is set=10, min_child_samples=20 will be ignored. Current value: min_data_in_leaf=10\n",
      "[LightGBM] [Warning] min_data_in_leaf is set=10, min_child_samples=20 will be ignored. Current value: min_data_in_leaf=10\n",
      "[LightGBM] [Warning] min_data_in_leaf is set=10, min_child_samples=20 will be ignored. Current value: min_data_in_leaf=10\n",
      "[LightGBM] [Warning] min_data_in_leaf is set=10, min_child_samples=20 will be ignored. Current value: min_data_in_leaf=10\n",
      "[LightGBM] [Warning] min_data_in_leaf is set=10, min_child_samples=20 will be ignored. Current value: min_data_in_leaf=10\n",
      "[LightGBM] [Warning] min_data_in_leaf is set=10, min_child_samples=20 will be ignored. Current value: min_data_in_leaf=10\n",
      "[LightGBM] [Warning] min_data_in_leaf is set=10, min_child_samples=20 will be ignored. Current value: min_data_in_leaf=10\n",
      "[LightGBM] [Warning] min_data_in_leaf is set=10, min_child_samples=20 will be ignored. Current value: min_data_in_leaf=10\n",
      "[LightGBM] [Warning] min_data_in_leaf is set=10, min_child_samples=20 will be ignored. Current value: min_data_in_leaf=10\n",
      "[LightGBM] [Warning] min_data_in_leaf is set=10, min_child_samples=20 will be ignored. Current value: min_data_in_leaf=10\n",
      "[LightGBM] [Warning] min_data_in_leaf is set=10, min_child_samples=20 will be ignored. Current value: min_data_in_leaf=10\n",
      "[LightGBM] [Warning] min_data_in_leaf is set=10, min_child_samples=20 will be ignored. Current value: min_data_in_leaf=10\n",
      "[LightGBM] [Warning] min_data_in_leaf is set=10, min_child_samples=20 will be ignored. Current value: min_data_in_leaf=10\n",
      "[LightGBM] [Warning] min_data_in_leaf is set=10, min_child_samples=20 will be ignored. Current value: min_data_in_leaf=10\n",
      "[LightGBM] [Warning] min_data_in_leaf is set=10, min_child_samples=20 will be ignored. Current value: min_data_in_leaf=10\n",
      "[LightGBM] [Warning] min_data_in_leaf is set=10, min_child_samples=20 will be ignored. Current value: min_data_in_leaf=10\n",
      "[LightGBM] [Warning] min_data_in_leaf is set=10, min_child_samples=20 will be ignored. Current value: min_data_in_leaf=10\n",
      "[LightGBM] [Warning] min_data_in_leaf is set=10, min_child_samples=20 will be ignored. Current value: min_data_in_leaf=10\n",
      "[LightGBM] [Warning] min_data_in_leaf is set=10, min_child_samples=20 will be ignored. Current value: min_data_in_leaf=10\n",
      "[LightGBM] [Warning] min_data_in_leaf is set=10, min_child_samples=20 will be ignored. Current value: min_data_in_leaf=10\n",
      "[LightGBM] [Warning] min_data_in_leaf is set=10, min_child_samples=20 will be ignored. Current value: min_data_in_leaf=10\n",
      "[LightGBM] [Warning] min_data_in_leaf is set=10, min_child_samples=20 will be ignored. Current value: min_data_in_leaf=10\n",
      "[LightGBM] [Warning] min_data_in_leaf is set=10, min_child_samples=20 will be ignored. Current value: min_data_in_leaf=10\n",
      "[LightGBM] [Warning] min_data_in_leaf is set=10, min_child_samples=20 will be ignored. Current value: min_data_in_leaf=10\n",
      "[LightGBM] [Warning] min_data_in_leaf is set=10, min_child_samples=20 will be ignored. Current value: min_data_in_leaf=10\n",
      "[LightGBM] [Warning] min_data_in_leaf is set=10, min_child_samples=20 will be ignored. Current value: min_data_in_leaf=10\n",
      "[LightGBM] [Warning] min_data_in_leaf is set=10, min_child_samples=20 will be ignored. Current value: min_data_in_leaf=10\n",
      "[LightGBM] [Warning] min_data_in_leaf is set=10, min_child_samples=20 will be ignored. Current value: min_data_in_leaf=10\n",
      "[LightGBM] [Warning] min_data_in_leaf is set=10, min_child_samples=20 will be ignored. Current value: min_data_in_leaf=10\n",
      "[LightGBM] [Warning] min_data_in_leaf is set=10, min_child_samples=20 will be ignored. Current value: min_data_in_leaf=10\n",
      "[LightGBM] [Warning] min_data_in_leaf is set=10, min_child_samples=20 will be ignored. Current value: min_data_in_leaf=10\n",
      "[LightGBM] [Warning] min_data_in_leaf is set=10, min_child_samples=20 will be ignored. Current value: min_data_in_leaf=10\n",
      "[LightGBM] [Warning] min_data_in_leaf is set=10, min_child_samples=20 will be ignored. Current value: min_data_in_leaf=10\n",
      "[LightGBM] [Warning] min_data_in_leaf is set=10, min_child_samples=20 will be ignored. Current value: min_data_in_leaf=10\n",
      "[LightGBM] [Warning] min_data_in_leaf is set=10, min_child_samples=20 will be ignored. Current value: min_data_in_leaf=10\n",
      "[LightGBM] [Warning] min_data_in_leaf is set=10, min_child_samples=20 will be ignored. Current value: min_data_in_leaf=10\n",
      "[LightGBM] [Warning] min_data_in_leaf is set=10, min_child_samples=20 will be ignored. Current value: min_data_in_leaf=10\n",
      "[LightGBM] [Warning] min_data_in_leaf is set=10, min_child_samples=20 will be ignored. Current value: min_data_in_leaf=10\n",
      "[LightGBM] [Warning] min_data_in_leaf is set=10, min_child_samples=20 will be ignored. Current value: min_data_in_leaf=10\n",
      "[LightGBM] [Warning] min_data_in_leaf is set=10, min_child_samples=20 will be ignored. Current value: min_data_in_leaf=10\n",
      "[LightGBM] [Warning] min_data_in_leaf is set=10, min_child_samples=20 will be ignored. Current value: min_data_in_leaf=10\n",
      "[LightGBM] [Warning] min_data_in_leaf is set=10, min_child_samples=20 will be ignored. Current value: min_data_in_leaf=10\n",
      "[LightGBM] [Warning] min_data_in_leaf is set=25, min_child_samples=20 will be ignored. Current value: min_data_in_leaf=25\n",
      "[LightGBM] [Warning] min_data_in_leaf is set=25, min_child_samples=20 will be ignored. Current value: min_data_in_leaf=25\n",
      "[LightGBM] [Warning] min_data_in_leaf is set=25, min_child_samples=20 will be ignored. Current value: min_data_in_leaf=25\n",
      "[LightGBM] [Warning] min_data_in_leaf is set=25, min_child_samples=20 will be ignored. Current value: min_data_in_leaf=25\n",
      "[LightGBM] [Warning] min_data_in_leaf is set=25, min_child_samples=20 will be ignored. Current value: min_data_in_leaf=25\n",
      "[LightGBM] [Warning] min_data_in_leaf is set=25, min_child_samples=20 will be ignored. Current value: min_data_in_leaf=25\n",
      "[LightGBM] [Warning] min_data_in_leaf is set=25, min_child_samples=20 will be ignored. Current value: min_data_in_leaf=25\n",
      "[LightGBM] [Warning] min_data_in_leaf is set=25, min_child_samples=20 will be ignored. Current value: min_data_in_leaf=25\n",
      "[LightGBM] [Warning] min_data_in_leaf is set=25, min_child_samples=20 will be ignored. Current value: min_data_in_leaf=25\n",
      "[LightGBM] [Warning] min_data_in_leaf is set=25, min_child_samples=20 will be ignored. Current value: min_data_in_leaf=25\n",
      "[LightGBM] [Warning] min_data_in_leaf is set=25, min_child_samples=20 will be ignored. Current value: min_data_in_leaf=25\n",
      "[LightGBM] [Warning] min_data_in_leaf is set=25, min_child_samples=20 will be ignored. Current value: min_data_in_leaf=25\n",
      "[LightGBM] [Warning] min_data_in_leaf is set=25, min_child_samples=20 will be ignored. Current value: min_data_in_leaf=25\n",
      "[LightGBM] [Warning] min_data_in_leaf is set=25, min_child_samples=20 will be ignored. Current value: min_data_in_leaf=25\n",
      "[LightGBM] [Warning] min_data_in_leaf is set=25, min_child_samples=20 will be ignored. Current value: min_data_in_leaf=25\n",
      "[LightGBM] [Warning] min_data_in_leaf is set=25, min_child_samples=20 will be ignored. Current value: min_data_in_leaf=25\n",
      "[LightGBM] [Warning] min_data_in_leaf is set=25, min_child_samples=20 will be ignored. Current value: min_data_in_leaf=25\n",
      "[LightGBM] [Warning] min_data_in_leaf is set=25, min_child_samples=20 will be ignored. Current value: min_data_in_leaf=25\n",
      "[LightGBM] [Warning] min_data_in_leaf is set=25, min_child_samples=20 will be ignored. Current value: min_data_in_leaf=25\n",
      "[LightGBM] [Warning] min_data_in_leaf is set=25, min_child_samples=20 will be ignored. Current value: min_data_in_leaf=25\n",
      "[LightGBM] [Warning] min_data_in_leaf is set=25, min_child_samples=20 will be ignored. Current value: min_data_in_leaf=25\n",
      "[LightGBM] [Warning] min_data_in_leaf is set=25, min_child_samples=20 will be ignored. Current value: min_data_in_leaf=25\n",
      "[LightGBM] [Warning] min_data_in_leaf is set=25, min_child_samples=20 will be ignored. Current value: min_data_in_leaf=25\n"
     ]
    },
    {
     "name": "stdout",
     "output_type": "stream",
     "text": [
      "[LightGBM] [Warning] min_data_in_leaf is set=25, min_child_samples=20 will be ignored. Current value: min_data_in_leaf=25\n",
      "[LightGBM] [Warning] min_data_in_leaf is set=25, min_child_samples=20 will be ignored. Current value: min_data_in_leaf=25\n",
      "[LightGBM] [Warning] min_data_in_leaf is set=25, min_child_samples=20 will be ignored. Current value: min_data_in_leaf=25\n",
      "[LightGBM] [Warning] min_data_in_leaf is set=25, min_child_samples=20 will be ignored. Current value: min_data_in_leaf=25\n",
      "[LightGBM] [Warning] min_data_in_leaf is set=25, min_child_samples=20 will be ignored. Current value: min_data_in_leaf=25\n",
      "[LightGBM] [Warning] min_data_in_leaf is set=25, min_child_samples=20 will be ignored. Current value: min_data_in_leaf=25\n",
      "[LightGBM] [Warning] min_data_in_leaf is set=25, min_child_samples=20 will be ignored. Current value: min_data_in_leaf=25\n",
      "[LightGBM] [Warning] min_data_in_leaf is set=25, min_child_samples=20 will be ignored. Current value: min_data_in_leaf=25\n",
      "[LightGBM] [Warning] min_data_in_leaf is set=25, min_child_samples=20 will be ignored. Current value: min_data_in_leaf=25\n",
      "[LightGBM] [Warning] min_data_in_leaf is set=25, min_child_samples=20 will be ignored. Current value: min_data_in_leaf=25\n",
      "[LightGBM] [Warning] min_data_in_leaf is set=25, min_child_samples=20 will be ignored. Current value: min_data_in_leaf=25\n",
      "[LightGBM] [Warning] min_data_in_leaf is set=25, min_child_samples=20 will be ignored. Current value: min_data_in_leaf=25\n",
      "[LightGBM] [Warning] min_data_in_leaf is set=25, min_child_samples=20 will be ignored. Current value: min_data_in_leaf=25\n",
      "[LightGBM] [Warning] min_data_in_leaf is set=25, min_child_samples=20 will be ignored. Current value: min_data_in_leaf=25\n",
      "[LightGBM] [Warning] min_data_in_leaf is set=25, min_child_samples=20 will be ignored. Current value: min_data_in_leaf=25\n",
      "[LightGBM] [Warning] min_data_in_leaf is set=25, min_child_samples=20 will be ignored. Current value: min_data_in_leaf=25\n",
      "[LightGBM] [Warning] min_data_in_leaf is set=25, min_child_samples=20 will be ignored. Current value: min_data_in_leaf=25\n",
      "[LightGBM] [Warning] min_data_in_leaf is set=25, min_child_samples=20 will be ignored. Current value: min_data_in_leaf=25\n",
      "[LightGBM] [Warning] min_data_in_leaf is set=25, min_child_samples=20 will be ignored. Current value: min_data_in_leaf=25\n",
      "[LightGBM] [Warning] min_data_in_leaf is set=25, min_child_samples=20 will be ignored. Current value: min_data_in_leaf=25\n",
      "[LightGBM] [Warning] min_data_in_leaf is set=25, min_child_samples=20 will be ignored. Current value: min_data_in_leaf=25\n",
      "[LightGBM] [Warning] min_data_in_leaf is set=25, min_child_samples=20 will be ignored. Current value: min_data_in_leaf=25\n",
      "[LightGBM] [Warning] min_data_in_leaf is set=50, min_child_samples=20 will be ignored. Current value: min_data_in_leaf=50\n",
      "[LightGBM] [Warning] min_data_in_leaf is set=50, min_child_samples=20 will be ignored. Current value: min_data_in_leaf=50\n",
      "[LightGBM] [Warning] min_data_in_leaf is set=50, min_child_samples=20 will be ignored. Current value: min_data_in_leaf=50\n",
      "[LightGBM] [Warning] min_data_in_leaf is set=50, min_child_samples=20 will be ignored. Current value: min_data_in_leaf=50\n",
      "[LightGBM] [Warning] min_data_in_leaf is set=50, min_child_samples=20 will be ignored. Current value: min_data_in_leaf=50\n",
      "[LightGBM] [Warning] min_data_in_leaf is set=50, min_child_samples=20 will be ignored. Current value: min_data_in_leaf=50\n",
      "[LightGBM] [Warning] min_data_in_leaf is set=50, min_child_samples=20 will be ignored. Current value: min_data_in_leaf=50\n",
      "[LightGBM] [Warning] min_data_in_leaf is set=50, min_child_samples=20 will be ignored. Current value: min_data_in_leaf=50\n",
      "[LightGBM] [Warning] min_data_in_leaf is set=50, min_child_samples=20 will be ignored. Current value: min_data_in_leaf=50\n",
      "[LightGBM] [Warning] min_data_in_leaf is set=50, min_child_samples=20 will be ignored. Current value: min_data_in_leaf=50\n",
      "[LightGBM] [Warning] min_data_in_leaf is set=50, min_child_samples=20 will be ignored. Current value: min_data_in_leaf=50\n",
      "[LightGBM] [Warning] min_data_in_leaf is set=50, min_child_samples=20 will be ignored. Current value: min_data_in_leaf=50\n",
      "[LightGBM] [Warning] min_data_in_leaf is set=50, min_child_samples=20 will be ignored. Current value: min_data_in_leaf=50\n",
      "[LightGBM] [Warning] min_data_in_leaf is set=50, min_child_samples=20 will be ignored. Current value: min_data_in_leaf=50\n",
      "[LightGBM] [Warning] min_data_in_leaf is set=50, min_child_samples=20 will be ignored. Current value: min_data_in_leaf=50\n",
      "[LightGBM] [Warning] min_data_in_leaf is set=50, min_child_samples=20 will be ignored. Current value: min_data_in_leaf=50\n",
      "[LightGBM] [Warning] min_data_in_leaf is set=50, min_child_samples=20 will be ignored. Current value: min_data_in_leaf=50\n",
      "[LightGBM] [Warning] min_data_in_leaf is set=50, min_child_samples=20 will be ignored. Current value: min_data_in_leaf=50\n",
      "[LightGBM] [Warning] min_data_in_leaf is set=50, min_child_samples=20 will be ignored. Current value: min_data_in_leaf=50\n",
      "[LightGBM] [Warning] min_data_in_leaf is set=50, min_child_samples=20 will be ignored. Current value: min_data_in_leaf=50\n",
      "[LightGBM] [Warning] min_data_in_leaf is set=50, min_child_samples=20 will be ignored. Current value: min_data_in_leaf=50\n",
      "[LightGBM] [Warning] min_data_in_leaf is set=50, min_child_samples=20 will be ignored. Current value: min_data_in_leaf=50\n",
      "[LightGBM] [Warning] min_data_in_leaf is set=50, min_child_samples=20 will be ignored. Current value: min_data_in_leaf=50\n",
      "[LightGBM] [Warning] min_data_in_leaf is set=50, min_child_samples=20 will be ignored. Current value: min_data_in_leaf=50\n",
      "[LightGBM] [Warning] min_data_in_leaf is set=50, min_child_samples=20 will be ignored. Current value: min_data_in_leaf=50\n",
      "[LightGBM] [Warning] min_data_in_leaf is set=50, min_child_samples=20 will be ignored. Current value: min_data_in_leaf=50\n",
      "[LightGBM] [Warning] min_data_in_leaf is set=50, min_child_samples=20 will be ignored. Current value: min_data_in_leaf=50\n",
      "[LightGBM] [Warning] min_data_in_leaf is set=50, min_child_samples=20 will be ignored. Current value: min_data_in_leaf=50\n",
      "[LightGBM] [Warning] min_data_in_leaf is set=50, min_child_samples=20 will be ignored. Current value: min_data_in_leaf=50\n",
      "[LightGBM] [Warning] min_data_in_leaf is set=50, min_child_samples=20 will be ignored. Current value: min_data_in_leaf=50\n",
      "[LightGBM] [Warning] min_data_in_leaf is set=50, min_child_samples=20 will be ignored. Current value: min_data_in_leaf=50\n",
      "[LightGBM] [Warning] min_data_in_leaf is set=50, min_child_samples=20 will be ignored. Current value: min_data_in_leaf=50\n",
      "[LightGBM] [Warning] min_data_in_leaf is set=50, min_child_samples=20 will be ignored. Current value: min_data_in_leaf=50\n",
      "[LightGBM] [Warning] min_data_in_leaf is set=50, min_child_samples=20 will be ignored. Current value: min_data_in_leaf=50\n",
      "[LightGBM] [Warning] min_data_in_leaf is set=50, min_child_samples=20 will be ignored. Current value: min_data_in_leaf=50\n",
      "[LightGBM] [Warning] min_data_in_leaf is set=50, min_child_samples=20 will be ignored. Current value: min_data_in_leaf=50\n",
      "[LightGBM] [Warning] min_data_in_leaf is set=50, min_child_samples=20 will be ignored. Current value: min_data_in_leaf=50\n",
      "[LightGBM] [Warning] min_data_in_leaf is set=50, min_child_samples=20 will be ignored. Current value: min_data_in_leaf=50\n",
      "[LightGBM] [Warning] min_data_in_leaf is set=50, min_child_samples=20 will be ignored. Current value: min_data_in_leaf=50\n",
      "[LightGBM] [Warning] min_data_in_leaf is set=50, min_child_samples=20 will be ignored. Current value: min_data_in_leaf=50\n",
      "[LightGBM] [Warning] min_data_in_leaf is set=50, min_child_samples=20 will be ignored. Current value: min_data_in_leaf=50\n",
      "[LightGBM] [Warning] min_data_in_leaf is set=50, min_child_samples=20 will be ignored. Current value: min_data_in_leaf=50\n",
      "[LightGBM] [Warning] min_data_in_leaf is set=50, min_child_samples=20 will be ignored. Current value: min_data_in_leaf=50\n",
      "[LightGBM] [Warning] min_data_in_leaf is set=50, min_child_samples=20 will be ignored. Current value: min_data_in_leaf=50\n",
      "[LightGBM] [Warning] min_data_in_leaf is set=50, min_child_samples=20 will be ignored. Current value: min_data_in_leaf=50\n",
      "[LightGBM] [Warning] min_data_in_leaf is set=10, min_child_samples=20 will be ignored. Current value: min_data_in_leaf=10\n"
     ]
    },
    {
     "name": "stdout",
     "output_type": "stream",
     "text": [
      "[LightGBM] [Warning] min_data_in_leaf is set=10, min_child_samples=20 will be ignored. Current value: min_data_in_leaf=10\n",
      "[LightGBM] [Warning] min_data_in_leaf is set=10, min_child_samples=20 will be ignored. Current value: min_data_in_leaf=10\n",
      "[LightGBM] [Warning] min_data_in_leaf is set=10, min_child_samples=20 will be ignored. Current value: min_data_in_leaf=10\n",
      "[LightGBM] [Warning] min_data_in_leaf is set=10, min_child_samples=20 will be ignored. Current value: min_data_in_leaf=10\n",
      "[LightGBM] [Warning] min_data_in_leaf is set=10, min_child_samples=20 will be ignored. Current value: min_data_in_leaf=10\n",
      "[LightGBM] [Warning] min_data_in_leaf is set=10, min_child_samples=20 will be ignored. Current value: min_data_in_leaf=10\n",
      "[LightGBM] [Warning] min_data_in_leaf is set=10, min_child_samples=20 will be ignored. Current value: min_data_in_leaf=10\n",
      "[LightGBM] [Warning] min_data_in_leaf is set=10, min_child_samples=20 will be ignored. Current value: min_data_in_leaf=10\n",
      "[LightGBM] [Warning] min_data_in_leaf is set=10, min_child_samples=20 will be ignored. Current value: min_data_in_leaf=10\n",
      "[LightGBM] [Warning] min_data_in_leaf is set=10, min_child_samples=20 will be ignored. Current value: min_data_in_leaf=10\n",
      "[LightGBM] [Warning] min_data_in_leaf is set=10, min_child_samples=20 will be ignored. Current value: min_data_in_leaf=10\n",
      "[LightGBM] [Warning] min_data_in_leaf is set=10, min_child_samples=20 will be ignored. Current value: min_data_in_leaf=10\n",
      "[LightGBM] [Warning] min_data_in_leaf is set=10, min_child_samples=20 will be ignored. Current value: min_data_in_leaf=10\n",
      "[LightGBM] [Warning] min_data_in_leaf is set=10, min_child_samples=20 will be ignored. Current value: min_data_in_leaf=10\n",
      "[LightGBM] [Warning] min_data_in_leaf is set=10, min_child_samples=20 will be ignored. Current value: min_data_in_leaf=10\n",
      "[LightGBM] [Warning] min_data_in_leaf is set=10, min_child_samples=20 will be ignored. Current value: min_data_in_leaf=10\n",
      "[LightGBM] [Warning] min_data_in_leaf is set=10, min_child_samples=20 will be ignored. Current value: min_data_in_leaf=10\n",
      "[LightGBM] [Warning] min_data_in_leaf is set=10, min_child_samples=20 will be ignored. Current value: min_data_in_leaf=10\n",
      "[LightGBM] [Warning] min_data_in_leaf is set=10, min_child_samples=20 will be ignored. Current value: min_data_in_leaf=10\n",
      "[LightGBM] [Warning] min_data_in_leaf is set=10, min_child_samples=20 will be ignored. Current value: min_data_in_leaf=10\n",
      "[LightGBM] [Warning] min_data_in_leaf is set=10, min_child_samples=20 will be ignored. Current value: min_data_in_leaf=10\n",
      "[LightGBM] [Warning] min_data_in_leaf is set=10, min_child_samples=20 will be ignored. Current value: min_data_in_leaf=10\n",
      "[LightGBM] [Warning] min_data_in_leaf is set=10, min_child_samples=20 will be ignored. Current value: min_data_in_leaf=10\n",
      "[LightGBM] [Warning] min_data_in_leaf is set=10, min_child_samples=20 will be ignored. Current value: min_data_in_leaf=10\n",
      "[LightGBM] [Warning] min_data_in_leaf is set=10, min_child_samples=20 will be ignored. Current value: min_data_in_leaf=10\n",
      "[LightGBM] [Warning] min_data_in_leaf is set=10, min_child_samples=20 will be ignored. Current value: min_data_in_leaf=10\n",
      "[LightGBM] [Warning] min_data_in_leaf is set=10, min_child_samples=20 will be ignored. Current value: min_data_in_leaf=10\n",
      "[LightGBM] [Warning] min_data_in_leaf is set=10, min_child_samples=20 will be ignored. Current value: min_data_in_leaf=10\n",
      "[LightGBM] [Warning] min_data_in_leaf is set=10, min_child_samples=20 will be ignored. Current value: min_data_in_leaf=10\n",
      "[LightGBM] [Warning] min_data_in_leaf is set=10, min_child_samples=20 will be ignored. Current value: min_data_in_leaf=10\n",
      "[LightGBM] [Warning] min_data_in_leaf is set=10, min_child_samples=20 will be ignored. Current value: min_data_in_leaf=10\n",
      "[LightGBM] [Warning] min_data_in_leaf is set=10, min_child_samples=20 will be ignored. Current value: min_data_in_leaf=10\n",
      "[LightGBM] [Warning] min_data_in_leaf is set=10, min_child_samples=20 will be ignored. Current value: min_data_in_leaf=10\n",
      "[LightGBM] [Warning] min_data_in_leaf is set=10, min_child_samples=20 will be ignored. Current value: min_data_in_leaf=10\n",
      "[LightGBM] [Warning] min_data_in_leaf is set=10, min_child_samples=20 will be ignored. Current value: min_data_in_leaf=10\n",
      "[LightGBM] [Warning] min_data_in_leaf is set=10, min_child_samples=20 will be ignored. Current value: min_data_in_leaf=10\n",
      "[LightGBM] [Warning] min_data_in_leaf is set=10, min_child_samples=20 will be ignored. Current value: min_data_in_leaf=10\n",
      "[LightGBM] [Warning] min_data_in_leaf is set=10, min_child_samples=20 will be ignored. Current value: min_data_in_leaf=10\n",
      "[LightGBM] [Warning] min_data_in_leaf is set=10, min_child_samples=20 will be ignored. Current value: min_data_in_leaf=10\n",
      "[LightGBM] [Warning] min_data_in_leaf is set=10, min_child_samples=20 will be ignored. Current value: min_data_in_leaf=10\n",
      "[LightGBM] [Warning] min_data_in_leaf is set=10, min_child_samples=20 will be ignored. Current value: min_data_in_leaf=10\n",
      "[LightGBM] [Warning] min_data_in_leaf is set=10, min_child_samples=20 will be ignored. Current value: min_data_in_leaf=10\n",
      "[LightGBM] [Warning] min_data_in_leaf is set=10, min_child_samples=20 will be ignored. Current value: min_data_in_leaf=10\n",
      "[LightGBM] [Warning] min_data_in_leaf is set=10, min_child_samples=20 will be ignored. Current value: min_data_in_leaf=10\n",
      "[LightGBM] [Warning] min_data_in_leaf is set=25, min_child_samples=20 will be ignored. Current value: min_data_in_leaf=25\n",
      "[LightGBM] [Warning] min_data_in_leaf is set=25, min_child_samples=20 will be ignored. Current value: min_data_in_leaf=25\n",
      "[LightGBM] [Warning] min_data_in_leaf is set=25, min_child_samples=20 will be ignored. Current value: min_data_in_leaf=25\n",
      "[LightGBM] [Warning] min_data_in_leaf is set=25, min_child_samples=20 will be ignored. Current value: min_data_in_leaf=25\n",
      "[LightGBM] [Warning] min_data_in_leaf is set=25, min_child_samples=20 will be ignored. Current value: min_data_in_leaf=25\n",
      "[LightGBM] [Warning] min_data_in_leaf is set=25, min_child_samples=20 will be ignored. Current value: min_data_in_leaf=25\n",
      "[LightGBM] [Warning] min_data_in_leaf is set=25, min_child_samples=20 will be ignored. Current value: min_data_in_leaf=25\n",
      "[LightGBM] [Warning] min_data_in_leaf is set=25, min_child_samples=20 will be ignored. Current value: min_data_in_leaf=25\n",
      "[LightGBM] [Warning] min_data_in_leaf is set=25, min_child_samples=20 will be ignored. Current value: min_data_in_leaf=25\n",
      "[LightGBM] [Warning] min_data_in_leaf is set=25, min_child_samples=20 will be ignored. Current value: min_data_in_leaf=25\n",
      "[LightGBM] [Warning] min_data_in_leaf is set=25, min_child_samples=20 will be ignored. Current value: min_data_in_leaf=25\n",
      "[LightGBM] [Warning] min_data_in_leaf is set=25, min_child_samples=20 will be ignored. Current value: min_data_in_leaf=25\n",
      "[LightGBM] [Warning] min_data_in_leaf is set=25, min_child_samples=20 will be ignored. Current value: min_data_in_leaf=25\n",
      "[LightGBM] [Warning] min_data_in_leaf is set=25, min_child_samples=20 will be ignored. Current value: min_data_in_leaf=25\n",
      "[LightGBM] [Warning] min_data_in_leaf is set=25, min_child_samples=20 will be ignored. Current value: min_data_in_leaf=25\n",
      "[LightGBM] [Warning] min_data_in_leaf is set=25, min_child_samples=20 will be ignored. Current value: min_data_in_leaf=25\n",
      "[LightGBM] [Warning] min_data_in_leaf is set=25, min_child_samples=20 will be ignored. Current value: min_data_in_leaf=25\n",
      "[LightGBM] [Warning] min_data_in_leaf is set=25, min_child_samples=20 will be ignored. Current value: min_data_in_leaf=25\n",
      "[LightGBM] [Warning] min_data_in_leaf is set=25, min_child_samples=20 will be ignored. Current value: min_data_in_leaf=25\n",
      "[LightGBM] [Warning] min_data_in_leaf is set=25, min_child_samples=20 will be ignored. Current value: min_data_in_leaf=25\n",
      "[LightGBM] [Warning] min_data_in_leaf is set=25, min_child_samples=20 will be ignored. Current value: min_data_in_leaf=25\n",
      "[LightGBM] [Warning] min_data_in_leaf is set=25, min_child_samples=20 will be ignored. Current value: min_data_in_leaf=25\n",
      "[LightGBM] [Warning] min_data_in_leaf is set=25, min_child_samples=20 will be ignored. Current value: min_data_in_leaf=25\n",
      "[LightGBM] [Warning] min_data_in_leaf is set=25, min_child_samples=20 will be ignored. Current value: min_data_in_leaf=25\n"
     ]
    },
    {
     "name": "stdout",
     "output_type": "stream",
     "text": [
      "[LightGBM] [Warning] min_data_in_leaf is set=25, min_child_samples=20 will be ignored. Current value: min_data_in_leaf=25\n",
      "[LightGBM] [Warning] min_data_in_leaf is set=25, min_child_samples=20 will be ignored. Current value: min_data_in_leaf=25\n",
      "[LightGBM] [Warning] min_data_in_leaf is set=25, min_child_samples=20 will be ignored. Current value: min_data_in_leaf=25\n",
      "[LightGBM] [Warning] min_data_in_leaf is set=25, min_child_samples=20 will be ignored. Current value: min_data_in_leaf=25\n",
      "[LightGBM] [Warning] min_data_in_leaf is set=25, min_child_samples=20 will be ignored. Current value: min_data_in_leaf=25\n",
      "[LightGBM] [Warning] min_data_in_leaf is set=25, min_child_samples=20 will be ignored. Current value: min_data_in_leaf=25\n",
      "[LightGBM] [Warning] min_data_in_leaf is set=25, min_child_samples=20 will be ignored. Current value: min_data_in_leaf=25\n",
      "[LightGBM] [Warning] min_data_in_leaf is set=25, min_child_samples=20 will be ignored. Current value: min_data_in_leaf=25\n",
      "[LightGBM] [Warning] min_data_in_leaf is set=25, min_child_samples=20 will be ignored. Current value: min_data_in_leaf=25\n",
      "[LightGBM] [Warning] min_data_in_leaf is set=25, min_child_samples=20 will be ignored. Current value: min_data_in_leaf=25\n",
      "[LightGBM] [Warning] min_data_in_leaf is set=25, min_child_samples=20 will be ignored. Current value: min_data_in_leaf=25\n",
      "[LightGBM] [Warning] min_data_in_leaf is set=25, min_child_samples=20 will be ignored. Current value: min_data_in_leaf=25\n",
      "[LightGBM] [Warning] min_data_in_leaf is set=25, min_child_samples=20 will be ignored. Current value: min_data_in_leaf=25\n",
      "[LightGBM] [Warning] min_data_in_leaf is set=25, min_child_samples=20 will be ignored. Current value: min_data_in_leaf=25\n",
      "[LightGBM] [Warning] min_data_in_leaf is set=25, min_child_samples=20 will be ignored. Current value: min_data_in_leaf=25\n",
      "[LightGBM] [Warning] min_data_in_leaf is set=25, min_child_samples=20 will be ignored. Current value: min_data_in_leaf=25\n",
      "[LightGBM] [Warning] min_data_in_leaf is set=25, min_child_samples=20 will be ignored. Current value: min_data_in_leaf=25\n",
      "[LightGBM] [Warning] min_data_in_leaf is set=25, min_child_samples=20 will be ignored. Current value: min_data_in_leaf=25\n",
      "[LightGBM] [Warning] min_data_in_leaf is set=25, min_child_samples=20 will be ignored. Current value: min_data_in_leaf=25\n",
      "[LightGBM] [Warning] min_data_in_leaf is set=25, min_child_samples=20 will be ignored. Current value: min_data_in_leaf=25\n",
      "[LightGBM] [Warning] min_data_in_leaf is set=25, min_child_samples=20 will be ignored. Current value: min_data_in_leaf=25\n",
      "[LightGBM] [Warning] min_data_in_leaf is set=50, min_child_samples=20 will be ignored. Current value: min_data_in_leaf=50\n",
      "[LightGBM] [Warning] min_data_in_leaf is set=50, min_child_samples=20 will be ignored. Current value: min_data_in_leaf=50\n",
      "[LightGBM] [Warning] min_data_in_leaf is set=50, min_child_samples=20 will be ignored. Current value: min_data_in_leaf=50\n",
      "[LightGBM] [Warning] min_data_in_leaf is set=50, min_child_samples=20 will be ignored. Current value: min_data_in_leaf=50\n",
      "[LightGBM] [Warning] min_data_in_leaf is set=50, min_child_samples=20 will be ignored. Current value: min_data_in_leaf=50\n",
      "[LightGBM] [Warning] min_data_in_leaf is set=50, min_child_samples=20 will be ignored. Current value: min_data_in_leaf=50\n",
      "[LightGBM] [Warning] min_data_in_leaf is set=50, min_child_samples=20 will be ignored. Current value: min_data_in_leaf=50\n",
      "[LightGBM] [Warning] min_data_in_leaf is set=50, min_child_samples=20 will be ignored. Current value: min_data_in_leaf=50\n",
      "[LightGBM] [Warning] min_data_in_leaf is set=50, min_child_samples=20 will be ignored. Current value: min_data_in_leaf=50\n",
      "[LightGBM] [Warning] min_data_in_leaf is set=50, min_child_samples=20 will be ignored. Current value: min_data_in_leaf=50\n",
      "[LightGBM] [Warning] min_data_in_leaf is set=50, min_child_samples=20 will be ignored. Current value: min_data_in_leaf=50\n",
      "[LightGBM] [Warning] min_data_in_leaf is set=50, min_child_samples=20 will be ignored. Current value: min_data_in_leaf=50\n",
      "[LightGBM] [Warning] min_data_in_leaf is set=50, min_child_samples=20 will be ignored. Current value: min_data_in_leaf=50\n",
      "[LightGBM] [Warning] min_data_in_leaf is set=50, min_child_samples=20 will be ignored. Current value: min_data_in_leaf=50\n",
      "[LightGBM] [Warning] min_data_in_leaf is set=50, min_child_samples=20 will be ignored. Current value: min_data_in_leaf=50\n",
      "[LightGBM] [Warning] min_data_in_leaf is set=50, min_child_samples=20 will be ignored. Current value: min_data_in_leaf=50\n",
      "[LightGBM] [Warning] min_data_in_leaf is set=50, min_child_samples=20 will be ignored. Current value: min_data_in_leaf=50\n",
      "[LightGBM] [Warning] min_data_in_leaf is set=50, min_child_samples=20 will be ignored. Current value: min_data_in_leaf=50\n",
      "[LightGBM] [Warning] min_data_in_leaf is set=50, min_child_samples=20 will be ignored. Current value: min_data_in_leaf=50\n",
      "[LightGBM] [Warning] min_data_in_leaf is set=50, min_child_samples=20 will be ignored. Current value: min_data_in_leaf=50\n",
      "[LightGBM] [Warning] min_data_in_leaf is set=50, min_child_samples=20 will be ignored. Current value: min_data_in_leaf=50\n",
      "[LightGBM] [Warning] min_data_in_leaf is set=50, min_child_samples=20 will be ignored. Current value: min_data_in_leaf=50\n",
      "[LightGBM] [Warning] min_data_in_leaf is set=50, min_child_samples=20 will be ignored. Current value: min_data_in_leaf=50\n",
      "[LightGBM] [Warning] min_data_in_leaf is set=50, min_child_samples=20 will be ignored. Current value: min_data_in_leaf=50\n",
      "[LightGBM] [Warning] min_data_in_leaf is set=50, min_child_samples=20 will be ignored. Current value: min_data_in_leaf=50\n",
      "[LightGBM] [Warning] min_data_in_leaf is set=50, min_child_samples=20 will be ignored. Current value: min_data_in_leaf=50\n",
      "[LightGBM] [Warning] min_data_in_leaf is set=50, min_child_samples=20 will be ignored. Current value: min_data_in_leaf=50\n",
      "[LightGBM] [Warning] min_data_in_leaf is set=50, min_child_samples=20 will be ignored. Current value: min_data_in_leaf=50\n",
      "[LightGBM] [Warning] min_data_in_leaf is set=50, min_child_samples=20 will be ignored. Current value: min_data_in_leaf=50\n",
      "[LightGBM] [Warning] min_data_in_leaf is set=50, min_child_samples=20 will be ignored. Current value: min_data_in_leaf=50\n",
      "[LightGBM] [Warning] min_data_in_leaf is set=50, min_child_samples=20 will be ignored. Current value: min_data_in_leaf=50\n",
      "[LightGBM] [Warning] min_data_in_leaf is set=50, min_child_samples=20 will be ignored. Current value: min_data_in_leaf=50\n",
      "[LightGBM] [Warning] min_data_in_leaf is set=50, min_child_samples=20 will be ignored. Current value: min_data_in_leaf=50\n",
      "[LightGBM] [Warning] min_data_in_leaf is set=50, min_child_samples=20 will be ignored. Current value: min_data_in_leaf=50\n",
      "[LightGBM] [Warning] min_data_in_leaf is set=50, min_child_samples=20 will be ignored. Current value: min_data_in_leaf=50\n",
      "[LightGBM] [Warning] min_data_in_leaf is set=50, min_child_samples=20 will be ignored. Current value: min_data_in_leaf=50\n",
      "[LightGBM] [Warning] min_data_in_leaf is set=50, min_child_samples=20 will be ignored. Current value: min_data_in_leaf=50\n",
      "[LightGBM] [Warning] min_data_in_leaf is set=50, min_child_samples=20 will be ignored. Current value: min_data_in_leaf=50\n",
      "[LightGBM] [Warning] min_data_in_leaf is set=50, min_child_samples=20 will be ignored. Current value: min_data_in_leaf=50\n",
      "[LightGBM] [Warning] min_data_in_leaf is set=50, min_child_samples=20 will be ignored. Current value: min_data_in_leaf=50\n",
      "[LightGBM] [Warning] min_data_in_leaf is set=50, min_child_samples=20 will be ignored. Current value: min_data_in_leaf=50\n",
      "[LightGBM] [Warning] min_data_in_leaf is set=50, min_child_samples=20 will be ignored. Current value: min_data_in_leaf=50\n",
      "[LightGBM] [Warning] min_data_in_leaf is set=50, min_child_samples=20 will be ignored. Current value: min_data_in_leaf=50\n",
      "[LightGBM] [Warning] min_data_in_leaf is set=50, min_child_samples=20 will be ignored. Current value: min_data_in_leaf=50\n",
      "[LightGBM] [Warning] min_data_in_leaf is set=50, min_child_samples=20 will be ignored. Current value: min_data_in_leaf=50\n",
      "[LightGBM] [Warning] min_data_in_leaf is set=50, min_child_samples=20 will be ignored. Current value: min_data_in_leaf=50\n",
      "Model TPR: 0.5486, Model FPR: 0.0499, Model Threshold: 0.0414, Model AUROC: 0.8942\n"
     ]
    },
    {
     "name": "stdout",
     "output_type": "stream",
     "text": [
      "Fairness Ratio: 0.8865 \n",
      "\n"
     ]
    }
   ],
   "source": [
    "# Import the necessary packages and libraries\n",
    "import pandas as pd\n",
    "import lightgbm as lgbm\n",
    "from sklearn.ensemble import RandomForestClassifier\n",
    "from sklearn.linear_model import LogisticRegression\n",
    "from sklearn.tree import DecisionTreeClassifier\n",
    "import xgboost as xgb\n",
    "import catboost as cb\n",
    "import matplotlib.pyplot as plt\n",
    "from baf import BAFDataset\n",
    "from metrics import calculate_tpr_at_fpr, calculate_fairness_metrics\n",
    "import os\n",
    "import joblib\n",
    "import time\n",
    "from sklearn.metrics import roc_curve\n",
    "from sklearn.model_selection import GridSearchCV\n",
    "from sklearn.metrics import make_scorer\n",
    "\n",
    "# Define your custom metric function\n",
    "def TPR_at_05FPR(y_test, scored_test):\n",
    "    fpr, tpr, threshold = roc_curve(y_test, scored_test)\n",
    "    tpr_at_05fpr = tpr[fpr < 0.05][-1]\n",
    "    return tpr_at_05fpr\n",
    "\n",
    "# Convert your custom metric function to a scorer object\n",
    "custom_scorer = make_scorer(TPR_at_05FPR, greater_is_better=True)\n",
    "\n",
    "# Hyperparameter grids for each model\n",
    "# Here we only run the hyperparameter tuning for LightGBM\n",
    "param_grids = {\n",
    "    \"LightGBM\": {\n",
    "        'num_leaves': [10, 25, 50],\n",
    "        'min_data_in_leaf': [10, 25, 50],\n",
    "        'max_depth': [1, 3, 5],\n",
    "        'n_estimators': [50, 100, 200],\n",
    "    }\n",
    "}\n",
    "\n",
    "# define these dictionaries for storing the results\n",
    "performance_results = {}\n",
    "fairness_results = {}\n",
    "\n",
    "# List of models to evaluate\n",
    "models = {\n",
    "    \"LightGBM\": lgbm.LGBMClassifier(),\n",
    "}\n",
    "\n",
    "# Instantiate the BAF class\n",
    "ds = BAFDataset()\n",
    "\n",
    "# set the path to the dataset and models\n",
    "base_path = \"/ssd003/projects/aieng/public/anomaly_detection_datasets/BAF\"\n",
    "variant = \"Base.csv\"\n",
    "\n",
    "# Add file to path\n",
    "file_path = os.path.join(base_path, variant)\n",
    "\n",
    "# Load the dataset\n",
    "df = ds.load_data(file_path)\n",
    "\n",
    "# Split the dataset into train and test sets for the current variant\n",
    "(X_train, y_train), (X_test, y_test) = ds.train_test_split(df, month=6)\n",
    "\n",
    "# One-hot encode the categorical features in the dataset\n",
    "X_train, X_test = ds.one_hot_encode_categorical(X_train, X_test)\n",
    "\n",
    "# Loop over models\n",
    "for model_name, model in models.items():\n",
    "    print(f\"Hyperparameter tuning for {model_name} on {variant.split('.')[0]}...\")\n",
    "\n",
    "    # Initialize dictionaries to store results\n",
    "    performance_results[(variant.split('.')[0], model_name)] = {}\n",
    "    fairness_results[(variant.split('.')[0], model_name)] = {}\n",
    "\n",
    "    # Perform hyperparameter tuning using GridSearchCV\n",
    "    param_grid = param_grids[model_name]\n",
    "    # scoring should be 'roc_auc' if you want to optimize for AUROC\n",
    "    # Here we want to maximize TPR@5%FPR\n",
    "    search = GridSearchCV(model, param_grid, scoring=custom_scorer, cv=5, verbose=0)\n",
    "    search.fit(X_train, y_train)\n",
    "\n",
    "    # Get the best model with tuned hyperparameters\n",
    "    best_model = search.best_estimator_\n",
    "\n",
    "    # Train the best model\n",
    "    best_model.fit(X_train, y_train)\n",
    "\n",
    "    # Predict on the test set using the best model\n",
    "    scored_test = best_model.predict_proba(X_test)[:, 1]\n",
    "\n",
    "    # Calculate the TPR@5%FPR on the test set\n",
    "    metrics_dict = calculate_tpr_at_fpr(y_test, scored_test, fpr_lim=0.05)\n",
    "    performance_results[(variant.split('.')[0], model_name)] = metrics_dict\n",
    "    print(f\"Model TPR: {metrics_dict['TPR']}, Model FPR: {metrics_dict['FPR']}, Model Threshold: {metrics_dict['Threshold']}, Model AUROC: {metrics_dict['AUROC']}\")\n",
    "\n",
    "    # Calculate the fairness metrics on the test set\n",
    "    fairness_ratio = calculate_fairness_metrics(y_test, scored_test, X_test, fpr_lim=0.05)\n",
    "    fairness_results[(variant.split('.')[0], model_name)][\"Fairness Ratio\"] = fairness_ratio\n",
    "    print(f\"Fairness Ratio: {fairness_ratio}\", \"\\n\")"
   ]
  },
  {
   "cell_type": "code",
   "execution_count": 72,
   "id": "fcbf158f",
   "metadata": {},
   "outputs": [
    {
     "name": "stdout",
     "output_type": "stream",
     "text": [
      "Best Hyperparameters: {'max_depth': 5, 'min_data_in_leaf': 50, 'n_estimators': 200, 'num_leaves': 10}\n"
     ]
    }
   ],
   "source": [
    "# Access the best hyperparameters\n",
    "best_hyperparameters = search.best_params_\n",
    "print(\"Best Hyperparameters:\", best_hyperparameters)"
   ]
  },
  {
   "cell_type": "code",
   "execution_count": 73,
   "id": "84339847",
   "metadata": {},
   "outputs": [
    {
     "data": {
      "text/html": [
       "<div>\n",
       "<style scoped>\n",
       "    .dataframe tbody tr th:only-of-type {\n",
       "        vertical-align: middle;\n",
       "    }\n",
       "\n",
       "    .dataframe tbody tr th {\n",
       "        vertical-align: top;\n",
       "    }\n",
       "\n",
       "    .dataframe thead th {\n",
       "        text-align: right;\n",
       "    }\n",
       "</style>\n",
       "<table border=\"1\" class=\"dataframe\">\n",
       "  <thead>\n",
       "    <tr style=\"text-align: right;\">\n",
       "      <th></th>\n",
       "      <th></th>\n",
       "      <th>AUROC</th>\n",
       "      <th>FPR</th>\n",
       "      <th>TPR</th>\n",
       "      <th>Threshold</th>\n",
       "    </tr>\n",
       "  </thead>\n",
       "  <tbody>\n",
       "    <tr>\n",
       "      <th>Base</th>\n",
       "      <th>LightGBM</th>\n",
       "      <td>0.8942</td>\n",
       "      <td>0.0499</td>\n",
       "      <td>0.5486</td>\n",
       "      <td>0.0414</td>\n",
       "    </tr>\n",
       "  </tbody>\n",
       "</table>\n",
       "</div>"
      ],
      "text/plain": [
       "                AUROC     FPR     TPR  Threshold\n",
       "Base LightGBM  0.8942  0.0499  0.5486     0.0414"
      ]
     },
     "execution_count": 73,
     "metadata": {},
     "output_type": "execute_result"
    }
   ],
   "source": [
    "df_performance_results = pd.DataFrame(performance_results).transpose()\n",
    "df_performance_results"
   ]
  },
  {
   "cell_type": "code",
   "execution_count": 74,
   "id": "a680d43d",
   "metadata": {},
   "outputs": [
    {
     "data": {
      "text/html": [
       "<div>\n",
       "<style scoped>\n",
       "    .dataframe tbody tr th:only-of-type {\n",
       "        vertical-align: middle;\n",
       "    }\n",
       "\n",
       "    .dataframe tbody tr th {\n",
       "        vertical-align: top;\n",
       "    }\n",
       "\n",
       "    .dataframe thead th {\n",
       "        text-align: right;\n",
       "    }\n",
       "</style>\n",
       "<table border=\"1\" class=\"dataframe\">\n",
       "  <thead>\n",
       "    <tr style=\"text-align: right;\">\n",
       "      <th></th>\n",
       "      <th></th>\n",
       "      <th>Fairness Ratio</th>\n",
       "    </tr>\n",
       "  </thead>\n",
       "  <tbody>\n",
       "    <tr>\n",
       "      <th>Base</th>\n",
       "      <th>LightGBM</th>\n",
       "      <td>0.8865</td>\n",
       "    </tr>\n",
       "  </tbody>\n",
       "</table>\n",
       "</div>"
      ],
      "text/plain": [
       "               Fairness Ratio\n",
       "Base LightGBM          0.8865"
      ]
     },
     "execution_count": 74,
     "metadata": {},
     "output_type": "execute_result"
    }
   ],
   "source": [
    "df_fairness_results = pd.DataFrame(fairness_results).transpose()\n",
    "df_fairness_results"
   ]
  },
  {
   "cell_type": "markdown",
   "id": "4f45b27c",
   "metadata": {},
   "source": [
    "If you want to try more advanced hyperparameter tuning, you can try [Optuna](https://github.com/optuna/optuna).\n",
    "\n",
    "<ul>\n",
    "    <li>Optuna is an open-source hyperparameter optimization framework.</li><br>\n",
    "    <li>It automates hyperparameter search for machine learning models.</li><br>\n",
    "    <li>Optuna effectively explores the hyperparameter space to find the best configuration for model performance.</li><br>\n",
    "    <li>It integrates seamlessly with popular machine learning libraries, including TensorFlow, Keras, PyTorch, Scikit-learn, etc</li><br>\n",
    "</ul>"
   ]
  },
  {
   "cell_type": "markdown",
   "id": "402f22aa",
   "metadata": {},
   "source": [
    "# Fraud Detection on Other Variants of BAF Dataset\n",
    "\n",
    "This code applies LightGBM to other variants (Variant I, Variant II, Variant III, Variant IV, Variant V) of the BAF dataset for anomaly detection.\n",
    "\n",
    "The code performs the following steps for each dataset variant:\n",
    "\n",
    "1. Loads the BAF dataset variant.\n",
    "2. Splits the dataset into training and test sets.\n",
    "3. Performs one-hot encoding of categorical features.\n",
    "4. Trains and evaluates the the model.\n",
    "5. Store the training and inference time in dictionary\n",
    "6. Calculates the TPR@5%FPR (True Positive Rate at 5% False Positive Rate) on the test set.\n",
    "7. Computes fairness metrics based on the test set predictions.\n",
    "8. Stores the results in a dictionary."
   ]
  },
  {
   "cell_type": "code",
   "execution_count": 75,
   "id": "eb374fd9",
   "metadata": {},
   "outputs": [],
   "source": [
    "# Import the necessary packages and libraries\n",
    "import pandas as pd\n",
    "import lightgbm as lgbm\n",
    "from sklearn.ensemble import RandomForestClassifier\n",
    "from sklearn.linear_model import LogisticRegression\n",
    "from sklearn.tree import DecisionTreeClassifier\n",
    "import xgboost as xgb\n",
    "import catboost as cb\n",
    "import matplotlib.pyplot as plt\n",
    "from baf import BAFDataset\n",
    "from metrics import calculate_tpr_at_fpr, calculate_fairness_metrics\n",
    "import os\n",
    "import joblib\n",
    "import time"
   ]
  },
  {
   "cell_type": "code",
   "execution_count": 76,
   "id": "063638d0",
   "metadata": {
    "scrolled": true
   },
   "outputs": [
    {
     "name": "stdout",
     "output_type": "stream",
     "text": [
      "Loading data for Variant I...\n",
      "Training and evaluating LightGBM on Variant I...\n",
      "Training Time: 9.445932626724243 seconds\n",
      "Inference Time: 0.6934473514556885 seconds\n",
      "Model TPR: 0.5038, Model FPR: 0.0499, Model Threshold: 0.0425, Model AUROC: 0.8842\n",
      "Fairness Ratio: 0.9828 \n",
      "\n",
      "\n",
      "\n",
      "\n",
      "Loading data for Variant II...\n",
      "Training and evaluating LightGBM on Variant II...\n",
      "Training Time: 8.872501373291016 seconds\n",
      "Inference Time: 0.7572717666625977 seconds\n",
      "Model TPR: 0.5323, Model FPR: 0.0499, Model Threshold: 0.0408, Model AUROC: 0.8927\n",
      "Fairness Ratio: 0.9108 \n",
      "\n",
      "\n",
      "\n",
      "\n",
      "Loading data for Variant III...\n",
      "Training and evaluating LightGBM on Variant III...\n",
      "Training Time: 8.921825885772705 seconds\n",
      "Inference Time: 0.7963011264801025 seconds\n",
      "Model TPR: 0.7413, Model FPR: 0.0498, Model Threshold: 0.0254, Model AUROC: 0.9513\n",
      "Fairness Ratio: 0.9204 \n",
      "\n",
      "\n",
      "\n",
      "\n",
      "Loading data for Variant IV...\n",
      "Training and evaluating LightGBM on Variant IV...\n",
      "Training Time: 8.512253999710083 seconds\n",
      "Inference Time: 0.8486287593841553 seconds\n",
      "Model TPR: 0.4023, Model FPR: 0.0499, Model Threshold: 0.0431, Model AUROC: 0.8477\n",
      "Fairness Ratio: 0.9136 \n",
      "\n",
      "\n",
      "\n",
      "\n",
      "Loading data for Variant V...\n",
      "Training and evaluating LightGBM on Variant V...\n",
      "Training Time: 8.906421661376953 seconds\n",
      "Inference Time: 0.8328526020050049 seconds\n",
      "Model TPR: 0.3375, Model FPR: 0.0497, Model Threshold: 0.0251, Model AUROC: 0.7824\n",
      "Fairness Ratio: 0.9288 \n",
      "\n",
      "\n",
      "\n",
      "\n"
     ]
    }
   ],
   "source": [
    "# Instantiate the BAF class\n",
    "ds = BAFDataset()\n",
    "\n",
    "# set the path to the dataset and models\n",
    "base_path = \"/ssd003/projects/aieng/public/anomaly_detection_datasets/BAF\"\n",
    "model_path = \"/ssd003/projects/aieng/public/anomaly_detection_models/BAF\"\n",
    "\n",
    "# define these dictionaries for storing the results\n",
    "performance_results = {}\n",
    "fairness_results = {}\n",
    "\n",
    "# Dictionaries to store training and inference times\n",
    "training_times_dict = {}\n",
    "inference_times_dict = {}\n",
    "\n",
    "# List of variants and their corresponding file names\n",
    "variants = {\n",
    "    'Variant I': 'Variant I.csv',\n",
    "    'Variant II': 'Variant II.csv',\n",
    "    'Variant III': 'Variant III.csv',\n",
    "    'Variant IV': 'Variant IV.csv',\n",
    "    'Variant V': 'Variant V.csv',\n",
    "}\n",
    "\n",
    "# List of models to evaluate\n",
    "models = {\n",
    "    \"LightGBM\": lgbm.LGBMClassifier(),\n",
    "}\n",
    "\n",
    "# Loop over variants and models\n",
    "for variant, file_name in variants.items():\n",
    "    print(f\"Loading data for {variant}...\")\n",
    "    \n",
    "    # Load data from CSV file\n",
    "    df = pd.read_csv(os.path.join(base_path, file_name))\n",
    "\n",
    "    # Split the dataset into train and test sets for the current variant\n",
    "    (X_train, y_train), (X_test, y_test) = ds.train_test_split(df, month=6)\n",
    "\n",
    "    # One-hot encode the categorical features in the dataset\n",
    "    X_train, X_test = ds.one_hot_encode_categorical(X_train, X_test)\n",
    "\n",
    "    # Loop over models\n",
    "    for model_name, model in models.items():\n",
    "        print(f\"Training and evaluating {model_name} on {variant}...\")\n",
    "        \n",
    "        # Initialize dictionaries to store results\n",
    "        training_times_dict[(variant, model_name)] = {}\n",
    "        inference_times_dict[(variant, model_name)] = {}\n",
    "        performance_results[(variant, model_name)] = {}\n",
    "        fairness_results[(variant, model_name)] = {}\n",
    "\n",
    "        # Start measuring training time\n",
    "        start_time = time.time()\n",
    "\n",
    "        # Train the model\n",
    "        model.fit(X_train, y_train)\n",
    "\n",
    "        # End measuring training time\n",
    "        end_time = time.time()\n",
    "        training_time = end_time - start_time\n",
    "        print(f\"Training Time: {training_time} seconds\")\n",
    "        training_times_dict[(variant, model_name)][\"Training Time\"] = training_time\n",
    "\n",
    "        # Save the model\n",
    "        path_to_model = os.path.join(model_path, f\"{variant}_{model_name.replace(' ', '_').lower()}_model.joblib\")\n",
    "        joblib.dump(model, path_to_model)\n",
    "\n",
    "        # Start measuring inference time\n",
    "        start_time = time.time()\n",
    "\n",
    "        # Predict on the test set\n",
    "        scored_test = model.predict_proba(X_test)[:, 1]\n",
    "\n",
    "        # End measuring inference time\n",
    "        end_time = time.time()\n",
    "        inference_time = end_time - start_time\n",
    "        print(f\"Inference Time: {inference_time} seconds\")\n",
    "        inference_times_dict[(variant, model_name)][\"Inference Time\"] = inference_time\n",
    "\n",
    "        # Calculate the TPR@5%FPR on the test set\n",
    "        metrics_dict = calculate_tpr_at_fpr(y_test, scored_test, fpr_lim=0.05)\n",
    "        print(f\"Model TPR: {metrics_dict['TPR']}, Model FPR: {metrics_dict['FPR']}, Model Threshold: {metrics_dict['Threshold']}, Model AUROC: {metrics_dict['AUROC']}\")\n",
    "        performance_results[(variant, model_name)] = metrics_dict\n",
    "\n",
    "        # Calculate the fairness metrics on the test set\n",
    "        fairness_ratio = calculate_fairness_metrics(y_test, scored_test, X_test, fpr_lim=0.05)\n",
    "        fairness_results[(variant, model_name)][\"Fairness Ratio\"] = fairness_ratio\n",
    "        print(f\"Fairness Ratio: {fairness_ratio}\", \"\\n\")\n",
    "    print('\\n\\n')"
   ]
  },
  {
   "cell_type": "markdown",
   "id": "7cfca985",
   "metadata": {},
   "source": [
    "## Result\n",
    "\n",
    "The table below shows all results for LightGBM on other variants of BAF dataset:"
   ]
  },
  {
   "cell_type": "code",
   "execution_count": 77,
   "id": "9791a8b1",
   "metadata": {},
   "outputs": [],
   "source": [
    "# Create a DataFrame from all results\n",
    "df_performance_results = pd.DataFrame(performance_results).transpose()\n",
    "df_fairness_results = pd.DataFrame(fairness_results).transpose()\n",
    "df_training_times_dict = pd.DataFrame(training_times_dict).transpose()\n",
    "df_inference_times_dict = pd.DataFrame(inference_times_dict).transpose()"
   ]
  },
  {
   "cell_type": "code",
   "execution_count": 78,
   "id": "2aa08152",
   "metadata": {},
   "outputs": [],
   "source": [
    "# concatenate all results together\n",
    "all_results = pd.concat([df_performance_results, df_fairness_results, df_training_times_dict, df_inference_times_dict], axis=1)"
   ]
  },
  {
   "cell_type": "code",
   "execution_count": 79,
   "id": "24355a09",
   "metadata": {},
   "outputs": [
    {
     "data": {
      "text/html": [
       "<div>\n",
       "<style scoped>\n",
       "    .dataframe tbody tr th:only-of-type {\n",
       "        vertical-align: middle;\n",
       "    }\n",
       "\n",
       "    .dataframe tbody tr th {\n",
       "        vertical-align: top;\n",
       "    }\n",
       "\n",
       "    .dataframe thead th {\n",
       "        text-align: right;\n",
       "    }\n",
       "</style>\n",
       "<table border=\"1\" class=\"dataframe\">\n",
       "  <thead>\n",
       "    <tr style=\"text-align: right;\">\n",
       "      <th></th>\n",
       "      <th></th>\n",
       "      <th>TPR</th>\n",
       "      <th>FPR</th>\n",
       "      <th>Threshold</th>\n",
       "      <th>AUROC</th>\n",
       "      <th>Fairness Ratio</th>\n",
       "      <th>Training Time</th>\n",
       "      <th>Inference Time</th>\n",
       "    </tr>\n",
       "  </thead>\n",
       "  <tbody>\n",
       "    <tr>\n",
       "      <th>Variant I</th>\n",
       "      <th>LightGBM</th>\n",
       "      <td>0.5038</td>\n",
       "      <td>0.0499</td>\n",
       "      <td>0.0425</td>\n",
       "      <td>0.8842</td>\n",
       "      <td>0.9828</td>\n",
       "      <td>9.445933</td>\n",
       "      <td>0.693447</td>\n",
       "    </tr>\n",
       "    <tr>\n",
       "      <th>Variant II</th>\n",
       "      <th>LightGBM</th>\n",
       "      <td>0.5323</td>\n",
       "      <td>0.0499</td>\n",
       "      <td>0.0408</td>\n",
       "      <td>0.8927</td>\n",
       "      <td>0.9108</td>\n",
       "      <td>8.872501</td>\n",
       "      <td>0.757272</td>\n",
       "    </tr>\n",
       "    <tr>\n",
       "      <th>Variant III</th>\n",
       "      <th>LightGBM</th>\n",
       "      <td>0.7413</td>\n",
       "      <td>0.0498</td>\n",
       "      <td>0.0254</td>\n",
       "      <td>0.9513</td>\n",
       "      <td>0.9204</td>\n",
       "      <td>8.921826</td>\n",
       "      <td>0.796301</td>\n",
       "    </tr>\n",
       "    <tr>\n",
       "      <th>Variant IV</th>\n",
       "      <th>LightGBM</th>\n",
       "      <td>0.4023</td>\n",
       "      <td>0.0499</td>\n",
       "      <td>0.0431</td>\n",
       "      <td>0.8477</td>\n",
       "      <td>0.9136</td>\n",
       "      <td>8.512254</td>\n",
       "      <td>0.848629</td>\n",
       "    </tr>\n",
       "    <tr>\n",
       "      <th>Variant V</th>\n",
       "      <th>LightGBM</th>\n",
       "      <td>0.3375</td>\n",
       "      <td>0.0497</td>\n",
       "      <td>0.0251</td>\n",
       "      <td>0.7824</td>\n",
       "      <td>0.9288</td>\n",
       "      <td>8.906422</td>\n",
       "      <td>0.832853</td>\n",
       "    </tr>\n",
       "  </tbody>\n",
       "</table>\n",
       "</div>"
      ],
      "text/plain": [
       "                         TPR     FPR  Threshold   AUROC  Fairness Ratio  \\\n",
       "Variant I   LightGBM  0.5038  0.0499     0.0425  0.8842          0.9828   \n",
       "Variant II  LightGBM  0.5323  0.0499     0.0408  0.8927          0.9108   \n",
       "Variant III LightGBM  0.7413  0.0498     0.0254  0.9513          0.9204   \n",
       "Variant IV  LightGBM  0.4023  0.0499     0.0431  0.8477          0.9136   \n",
       "Variant V   LightGBM  0.3375  0.0497     0.0251  0.7824          0.9288   \n",
       "\n",
       "                      Training Time  Inference Time  \n",
       "Variant I   LightGBM       9.445933        0.693447  \n",
       "Variant II  LightGBM       8.872501        0.757272  \n",
       "Variant III LightGBM       8.921826        0.796301  \n",
       "Variant IV  LightGBM       8.512254        0.848629  \n",
       "Variant V   LightGBM       8.906422        0.832853  "
      ]
     },
     "execution_count": 79,
     "metadata": {},
     "output_type": "execute_result"
    }
   ],
   "source": [
    "all_results"
   ]
  },
  {
   "cell_type": "markdown",
   "id": "85ecfdc1",
   "metadata": {},
   "source": [
    "# References:\n",
    "\n",
    "\n",
    "\n",
    "\n",
    "\n",
    "<ul>\n",
    "    <li>Jesus S, Pombal J, Alves D, Cruz A, Saleiro P, Ribeiro R, Gama J, Bizarro P. Turning the tables: Biased, imbalanced, dynamic tabular datasets for ml evaluation. Advances in Neural Information Processing Systems. 2022 Dec 6;35:33563-75.</li>\n",
    "\n",
    "</ul>"
   ]
  }
 ],
 "metadata": {
  "kernelspec": {
   "display_name": "anomaly_detection_environment",
   "language": "python",
   "name": "anomaly_detection_environment"
  },
  "language_info": {
   "codemirror_mode": {
    "name": "ipython",
    "version": 3
   },
   "file_extension": ".py",
   "mimetype": "text/x-python",
   "name": "python",
   "nbconvert_exporter": "python",
   "pygments_lexer": "ipython3",
   "version": "3.7.9"
  },
  "vscode": {
   "interpreter": {
    "hash": "10259be683146ba0cfb84d8d370984231ebebae69a5ceae05aa739bef317bea6"
   }
  }
 },
 "nbformat": 4,
 "nbformat_minor": 5
}
